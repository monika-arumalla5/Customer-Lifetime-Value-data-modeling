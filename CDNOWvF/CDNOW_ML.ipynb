{
 "cells": [
  {
   "cell_type": "markdown",
   "id": "d12c5839",
   "metadata": {},
   "source": [
    "# Importing the necessary libraries"
   ]
  },
  {
   "cell_type": "code",
   "execution_count": 1,
   "id": "5103eeeb",
   "metadata": {},
   "outputs": [],
   "source": [
    "import warnings\n",
    "warnings.filterwarnings('ignore')\n",
    "import pandas as pd\n",
    "from zipfile import ZipFile\n",
    "# !pip install plotly\n",
    "import plotly.graph_objects as go\n",
    "import numpy as np\n",
    "import matplotlib.pyplot as plt\n",
    "import datetime as dt\n",
    "import seaborn as sns\n",
    "from sklearn.preprocessing import StandardScaler\n",
    "from sklearn.preprocessing import RobustScaler\n",
    "from sklearn.cluster import KMeans\n",
    "import plotnine as pn\n",
    "import plydata.cat_tools as cat\n",
    "# machine learning\n",
    "from xgboost import XGBClassifier, XGBRegressor\n",
    "from sklearn.model_selection import cross_val_score, GridSearchCV\n",
    "from sklearn.linear_model import LinearRegression\n",
    "from sklearn.preprocessing import StandardScaler\n",
    "from sklearn.ensemble import RandomForestRegressor\n",
    "from sklearn.linear_model import LogisticRegression\n",
    "from sklearn.ensemble import RandomForestClassifier\n",
    "# Importing the lifetimes package\n",
    "import lifetimes\n",
    "from sklearn.metrics import mean_absolute_error"
   ]
  },
  {
   "cell_type": "markdown",
   "id": "821eab4a",
   "metadata": {},
   "source": [
    "# Loading the Data"
   ]
  },
  {
   "cell_type": "code",
   "execution_count": 2,
   "id": "cf7e86e2",
   "metadata": {},
   "outputs": [
    {
     "data": {
      "text/plain": [
       "(69658, 4)"
      ]
     },
     "execution_count": 2,
     "metadata": {},
     "output_type": "execute_result"
    }
   ],
   "source": [
    "# Laoding the data into a dataframe.\n",
    "CDNOW_DATA = pd.read_csv(\"Data/CDNOW_master.txt\", sep='\\s+')\n",
    "CDNOW_DATA.shape"
   ]
  },
  {
   "cell_type": "code",
   "execution_count": 3,
   "id": "3c40e999",
   "metadata": {},
   "outputs": [
    {
     "data": {
      "text/html": [
       "<div>\n",
       "<style scoped>\n",
       "    .dataframe tbody tr th:only-of-type {\n",
       "        vertical-align: middle;\n",
       "    }\n",
       "\n",
       "    .dataframe tbody tr th {\n",
       "        vertical-align: top;\n",
       "    }\n",
       "\n",
       "    .dataframe thead th {\n",
       "        text-align: right;\n",
       "    }\n",
       "</style>\n",
       "<table border=\"1\" class=\"dataframe\">\n",
       "  <thead>\n",
       "    <tr style=\"text-align: right;\">\n",
       "      <th></th>\n",
       "      <th>00001</th>\n",
       "      <th>19970101</th>\n",
       "      <th>1</th>\n",
       "      <th>11.77</th>\n",
       "    </tr>\n",
       "  </thead>\n",
       "  <tbody>\n",
       "    <tr>\n",
       "      <th>0</th>\n",
       "      <td>2</td>\n",
       "      <td>19970112</td>\n",
       "      <td>1</td>\n",
       "      <td>12.00</td>\n",
       "    </tr>\n",
       "    <tr>\n",
       "      <th>1</th>\n",
       "      <td>2</td>\n",
       "      <td>19970112</td>\n",
       "      <td>5</td>\n",
       "      <td>77.00</td>\n",
       "    </tr>\n",
       "    <tr>\n",
       "      <th>2</th>\n",
       "      <td>3</td>\n",
       "      <td>19970102</td>\n",
       "      <td>2</td>\n",
       "      <td>20.76</td>\n",
       "    </tr>\n",
       "    <tr>\n",
       "      <th>3</th>\n",
       "      <td>3</td>\n",
       "      <td>19970330</td>\n",
       "      <td>2</td>\n",
       "      <td>20.76</td>\n",
       "    </tr>\n",
       "    <tr>\n",
       "      <th>4</th>\n",
       "      <td>3</td>\n",
       "      <td>19970402</td>\n",
       "      <td>2</td>\n",
       "      <td>19.54</td>\n",
       "    </tr>\n",
       "  </tbody>\n",
       "</table>\n",
       "</div>"
      ],
      "text/plain": [
       "   00001  19970101  1  11.77\n",
       "0      2  19970112  1  12.00\n",
       "1      2  19970112  5  77.00\n",
       "2      3  19970102  2  20.76\n",
       "3      3  19970330  2  20.76\n",
       "4      3  19970402  2  19.54"
      ]
     },
     "execution_count": 3,
     "metadata": {},
     "output_type": "execute_result"
    }
   ],
   "source": [
    "CDNOW_DATA.head() # Looking at the top 5 rows of the dataframe."
   ]
  },
  {
   "cell_type": "markdown",
   "id": "c7ba71a6",
   "metadata": {},
   "source": [
    "# Data Cleaning"
   ]
  },
  {
   "cell_type": "code",
   "execution_count": 4,
   "id": "4e496cdb",
   "metadata": {},
   "outputs": [
    {
     "name": "stdout",
     "output_type": "stream",
     "text": [
      "<class 'pandas.core.frame.DataFrame'>\n",
      "RangeIndex: 69658 entries, 0 to 69657\n",
      "Data columns (total 4 columns):\n",
      " #   Column    Non-Null Count  Dtype  \n",
      "---  ------    --------------  -----  \n",
      " 0   00001     69658 non-null  int64  \n",
      " 1   19970101  69658 non-null  int64  \n",
      " 2   1         69658 non-null  int64  \n",
      " 3   11.77     69658 non-null  float64\n",
      "dtypes: float64(1), int64(3)\n",
      "memory usage: 2.1 MB\n"
     ]
    }
   ],
   "source": [
    "CDNOW_DATA.info() # info() gives us the number of non null values and the data type of each column."
   ]
  },
  {
   "cell_type": "code",
   "execution_count": 5,
   "id": "138c68af",
   "metadata": {},
   "outputs": [],
   "source": [
    "CDNOW_DATA.columns = [\"CustomerID\", \"TransactionDate\", \"UnitsSold\", \"Price\"] # Assigning the column names to the data frame."
   ]
  },
  {
   "cell_type": "code",
   "execution_count": 6,
   "id": "36fd7cb0",
   "metadata": {},
   "outputs": [],
   "source": [
    "CDNOW_DATA[\"CustomerID\"] = CDNOW_DATA[\"CustomerID\"].astype(str) # changing the datatype of the CustomerID to string."
   ]
  },
  {
   "cell_type": "code",
   "execution_count": 7,
   "id": "3ea9335f",
   "metadata": {},
   "outputs": [],
   "source": [
    "# changing the datatye of the TransactionDate column to datetime.\n",
    "CDNOW_DATA['TransactionDate'] = CDNOW_DATA['TransactionDate'].apply(lambda x: pd.to_datetime(str(x), format='%Y-%m-%d'))"
   ]
  },
  {
   "cell_type": "code",
   "execution_count": 8,
   "id": "29eacd85",
   "metadata": {},
   "outputs": [
    {
     "data": {
      "text/html": [
       "<div>\n",
       "<style scoped>\n",
       "    .dataframe tbody tr th:only-of-type {\n",
       "        vertical-align: middle;\n",
       "    }\n",
       "\n",
       "    .dataframe tbody tr th {\n",
       "        vertical-align: top;\n",
       "    }\n",
       "\n",
       "    .dataframe thead th {\n",
       "        text-align: right;\n",
       "    }\n",
       "</style>\n",
       "<table border=\"1\" class=\"dataframe\">\n",
       "  <thead>\n",
       "    <tr style=\"text-align: right;\">\n",
       "      <th></th>\n",
       "      <th>CustomerID</th>\n",
       "      <th>TransactionDate</th>\n",
       "      <th>UnitsSold</th>\n",
       "      <th>Price</th>\n",
       "    </tr>\n",
       "  </thead>\n",
       "  <tbody>\n",
       "    <tr>\n",
       "      <th>0</th>\n",
       "      <td>2</td>\n",
       "      <td>1997-01-12</td>\n",
       "      <td>1</td>\n",
       "      <td>12.00</td>\n",
       "    </tr>\n",
       "    <tr>\n",
       "      <th>1</th>\n",
       "      <td>2</td>\n",
       "      <td>1997-01-12</td>\n",
       "      <td>5</td>\n",
       "      <td>77.00</td>\n",
       "    </tr>\n",
       "    <tr>\n",
       "      <th>2</th>\n",
       "      <td>3</td>\n",
       "      <td>1997-01-02</td>\n",
       "      <td>2</td>\n",
       "      <td>20.76</td>\n",
       "    </tr>\n",
       "    <tr>\n",
       "      <th>3</th>\n",
       "      <td>3</td>\n",
       "      <td>1997-03-30</td>\n",
       "      <td>2</td>\n",
       "      <td>20.76</td>\n",
       "    </tr>\n",
       "    <tr>\n",
       "      <th>4</th>\n",
       "      <td>3</td>\n",
       "      <td>1997-04-02</td>\n",
       "      <td>2</td>\n",
       "      <td>19.54</td>\n",
       "    </tr>\n",
       "  </tbody>\n",
       "</table>\n",
       "</div>"
      ],
      "text/plain": [
       "  CustomerID TransactionDate  UnitsSold  Price\n",
       "0          2      1997-01-12          1  12.00\n",
       "1          2      1997-01-12          5  77.00\n",
       "2          3      1997-01-02          2  20.76\n",
       "3          3      1997-03-30          2  20.76\n",
       "4          3      1997-04-02          2  19.54"
      ]
     },
     "execution_count": 8,
     "metadata": {},
     "output_type": "execute_result"
    }
   ],
   "source": [
    "CDNOW_DATA.head()  # Looking at the top 5 rows of the dataframe."
   ]
  },
  {
   "cell_type": "markdown",
   "id": "6ce43141",
   "metadata": {},
   "source": [
    "# Machine Learning Modelling"
   ]
  },
  {
   "cell_type": "markdown",
   "id": "a36ad7fe",
   "metadata": {},
   "source": [
    "### Feature Engineering"
   ]
  },
  {
   "cell_type": "code",
   "execution_count": 9,
   "id": "ff8782b1",
   "metadata": {},
   "outputs": [],
   "source": [
    "n_days = 90 # The no of days for which we want to predict CLV.\n",
    "max_date = CDNOW_DATA['TransactionDate'].max() # Getting the max transaction date.\n",
    "cutoff = max_date - pd.to_timedelta(n_days, unit = 'd') # Creating a cut off to exclude the last 90 days."
   ]
  },
  {
   "cell_type": "code",
   "execution_count": 10,
   "id": "198f092c",
   "metadata": {},
   "outputs": [],
   "source": [
    "IN_DATA = CDNOW_DATA[CDNOW_DATA['TransactionDate'] <= cutoff] # Excluding the last 90 days.\n",
    "OUT_DATA = CDNOW_DATA[CDNOW_DATA['TransactionDate'] > cutoff] # Just the last 90 days data."
   ]
  },
  {
   "cell_type": "code",
   "execution_count": 11,
   "id": "3a63b111",
   "metadata": {},
   "outputs": [
    {
     "data": {
      "text/html": [
       "<div>\n",
       "<style scoped>\n",
       "    .dataframe tbody tr th:only-of-type {\n",
       "        vertical-align: middle;\n",
       "    }\n",
       "\n",
       "    .dataframe tbody tr th {\n",
       "        vertical-align: top;\n",
       "    }\n",
       "\n",
       "    .dataframe thead th {\n",
       "        text-align: right;\n",
       "    }\n",
       "</style>\n",
       "<table border=\"1\" class=\"dataframe\">\n",
       "  <thead>\n",
       "    <tr style=\"text-align: right;\">\n",
       "      <th></th>\n",
       "      <th>spend_90_total</th>\n",
       "      <th>spend_90_flag</th>\n",
       "    </tr>\n",
       "    <tr>\n",
       "      <th>CustomerID</th>\n",
       "      <th></th>\n",
       "      <th></th>\n",
       "    </tr>\n",
       "  </thead>\n",
       "  <tbody>\n",
       "    <tr>\n",
       "      <th>100</th>\n",
       "      <td>28.98</td>\n",
       "      <td>1</td>\n",
       "    </tr>\n",
       "    <tr>\n",
       "      <th>10018</th>\n",
       "      <td>11.88</td>\n",
       "      <td>1</td>\n",
       "    </tr>\n",
       "    <tr>\n",
       "      <th>1002</th>\n",
       "      <td>15.48</td>\n",
       "      <td>1</td>\n",
       "    </tr>\n",
       "    <tr>\n",
       "      <th>10026</th>\n",
       "      <td>36.48</td>\n",
       "      <td>1</td>\n",
       "    </tr>\n",
       "    <tr>\n",
       "      <th>10027</th>\n",
       "      <td>122.33</td>\n",
       "      <td>1</td>\n",
       "    </tr>\n",
       "  </tbody>\n",
       "</table>\n",
       "</div>"
      ],
      "text/plain": [
       "            spend_90_total  spend_90_flag\n",
       "CustomerID                               \n",
       "100                  28.98              1\n",
       "10018                11.88              1\n",
       "1002                 15.48              1\n",
       "10026                36.48              1\n",
       "10027               122.33              1"
      ]
     },
     "execution_count": 11,
     "metadata": {},
     "output_type": "execute_result"
    }
   ],
   "source": [
    "# making targets from out data\n",
    "TARGET_DATA = OUT_DATA.drop('UnitsSold', axis = 1).groupby('CustomerID').sum().rename({'Price':'spend_90_total'}, axis = 1).assign(spend_90_flag = 1)\n",
    "TARGET_DATA.head()"
   ]
  },
  {
   "cell_type": "code",
   "execution_count": 12,
   "id": "a5631b82",
   "metadata": {},
   "outputs": [],
   "source": [
    "# make recency (date) features from in data\n",
    "max_date = IN_DATA['TransactionDate'].max()"
   ]
  },
  {
   "cell_type": "code",
   "execution_count": 13,
   "id": "4e003aa5",
   "metadata": {},
   "outputs": [
    {
     "data": {
      "text/html": [
       "<div>\n",
       "<style scoped>\n",
       "    .dataframe tbody tr th:only-of-type {\n",
       "        vertical-align: middle;\n",
       "    }\n",
       "\n",
       "    .dataframe tbody tr th {\n",
       "        vertical-align: top;\n",
       "    }\n",
       "\n",
       "    .dataframe thead th {\n",
       "        text-align: right;\n",
       "    }\n",
       "</style>\n",
       "<table border=\"1\" class=\"dataframe\">\n",
       "  <thead>\n",
       "    <tr style=\"text-align: right;\">\n",
       "      <th></th>\n",
       "      <th>recency</th>\n",
       "    </tr>\n",
       "    <tr>\n",
       "      <th>CustomerID</th>\n",
       "      <th></th>\n",
       "    </tr>\n",
       "  </thead>\n",
       "  <tbody>\n",
       "    <tr>\n",
       "      <th>10</th>\n",
       "      <td>-435.0</td>\n",
       "    </tr>\n",
       "    <tr>\n",
       "      <th>100</th>\n",
       "      <td>-111.0</td>\n",
       "    </tr>\n",
       "    <tr>\n",
       "      <th>1000</th>\n",
       "      <td>-436.0</td>\n",
       "    </tr>\n",
       "    <tr>\n",
       "      <th>10000</th>\n",
       "      <td>-244.0</td>\n",
       "    </tr>\n",
       "    <tr>\n",
       "      <th>10001</th>\n",
       "      <td>-174.0</td>\n",
       "    </tr>\n",
       "  </tbody>\n",
       "</table>\n",
       "</div>"
      ],
      "text/plain": [
       "            recency\n",
       "CustomerID         \n",
       "10           -435.0\n",
       "100          -111.0\n",
       "1000         -436.0\n",
       "10000        -244.0\n",
       "10001        -174.0"
      ]
     },
     "execution_count": 13,
     "metadata": {},
     "output_type": "execute_result"
    }
   ],
   "source": [
    "# Getting the recency data to include that as feature for ML modelling\n",
    "recency_features_df = IN_DATA[['CustomerID', 'TransactionDate']].groupby('CustomerID').apply(lambda x: (x['TransactionDate'].max() - max_date)/ pd.to_timedelta(1, 'day')).to_frame().set_axis(['recency'], axis = 1)\n",
    "recency_features_df.head()"
   ]
  },
  {
   "cell_type": "code",
   "execution_count": 14,
   "id": "c93911e0",
   "metadata": {},
   "outputs": [
    {
     "data": {
      "text/html": [
       "<div>\n",
       "<style scoped>\n",
       "    .dataframe tbody tr th:only-of-type {\n",
       "        vertical-align: middle;\n",
       "    }\n",
       "\n",
       "    .dataframe tbody tr th {\n",
       "        vertical-align: top;\n",
       "    }\n",
       "\n",
       "    .dataframe thead th {\n",
       "        text-align: right;\n",
       "    }\n",
       "</style>\n",
       "<table border=\"1\" class=\"dataframe\">\n",
       "  <thead>\n",
       "    <tr style=\"text-align: right;\">\n",
       "      <th></th>\n",
       "      <th>frequency</th>\n",
       "    </tr>\n",
       "    <tr>\n",
       "      <th>CustomerID</th>\n",
       "      <th></th>\n",
       "    </tr>\n",
       "  </thead>\n",
       "  <tbody>\n",
       "    <tr>\n",
       "      <th>10</th>\n",
       "      <td>1</td>\n",
       "    </tr>\n",
       "    <tr>\n",
       "      <th>100</th>\n",
       "      <td>2</td>\n",
       "    </tr>\n",
       "    <tr>\n",
       "      <th>1000</th>\n",
       "      <td>1</td>\n",
       "    </tr>\n",
       "    <tr>\n",
       "      <th>10000</th>\n",
       "      <td>3</td>\n",
       "    </tr>\n",
       "    <tr>\n",
       "      <th>10001</th>\n",
       "      <td>2</td>\n",
       "    </tr>\n",
       "  </tbody>\n",
       "</table>\n",
       "</div>"
      ],
      "text/plain": [
       "            frequency\n",
       "CustomerID           \n",
       "10                  1\n",
       "100                 2\n",
       "1000                1\n",
       "10000               3\n",
       "10001               2"
      ]
     },
     "execution_count": 14,
     "metadata": {},
     "output_type": "execute_result"
    }
   ],
   "source": [
    "# make frequency (count features from in data)\n",
    "frequency_features_df = IN_DATA[['CustomerID', 'TransactionDate']].groupby('CustomerID').count().set_axis(['frequency'], axis = 1)\n",
    "frequency_features_df.head()"
   ]
  },
  {
   "cell_type": "code",
   "execution_count": 15,
   "id": "718923dc",
   "metadata": {},
   "outputs": [
    {
     "data": {
      "text/html": [
       "<div>\n",
       "<style scoped>\n",
       "    .dataframe tbody tr th:only-of-type {\n",
       "        vertical-align: middle;\n",
       "    }\n",
       "\n",
       "    .dataframe tbody tr th {\n",
       "        vertical-align: top;\n",
       "    }\n",
       "\n",
       "    .dataframe thead th {\n",
       "        text-align: right;\n",
       "    }\n",
       "</style>\n",
       "<table border=\"1\" class=\"dataframe\">\n",
       "  <thead>\n",
       "    <tr style=\"text-align: right;\">\n",
       "      <th></th>\n",
       "      <th>price_sum</th>\n",
       "      <th>price_mean</th>\n",
       "    </tr>\n",
       "    <tr>\n",
       "      <th>CustomerID</th>\n",
       "      <th></th>\n",
       "      <th></th>\n",
       "    </tr>\n",
       "  </thead>\n",
       "  <tbody>\n",
       "    <tr>\n",
       "      <th>10</th>\n",
       "      <td>39.31</td>\n",
       "      <td>39.310000</td>\n",
       "    </tr>\n",
       "    <tr>\n",
       "      <th>100</th>\n",
       "      <td>26.26</td>\n",
       "      <td>13.130000</td>\n",
       "    </tr>\n",
       "    <tr>\n",
       "      <th>1000</th>\n",
       "      <td>8.99</td>\n",
       "      <td>8.990000</td>\n",
       "    </tr>\n",
       "    <tr>\n",
       "      <th>10000</th>\n",
       "      <td>77.42</td>\n",
       "      <td>25.806667</td>\n",
       "    </tr>\n",
       "    <tr>\n",
       "      <th>10001</th>\n",
       "      <td>19.78</td>\n",
       "      <td>9.890000</td>\n",
       "    </tr>\n",
       "  </tbody>\n",
       "</table>\n",
       "</div>"
      ],
      "text/plain": [
       "            price_sum  price_mean\n",
       "CustomerID                       \n",
       "10              39.31   39.310000\n",
       "100             26.26   13.130000\n",
       "1000             8.99    8.990000\n",
       "10000           77.42   25.806667\n",
       "10001           19.78    9.890000"
      ]
     },
     "execution_count": 15,
     "metadata": {},
     "output_type": "execute_result"
    }
   ],
   "source": [
    "# make price (monitery features from in data)\n",
    "price_features_df = IN_DATA.groupby('CustomerID').aggregate({'Price':['sum', 'mean']}).set_axis(['price_sum', 'price_mean'], axis = 1)\n",
    "price_features_df.head()"
   ]
  },
  {
   "cell_type": "code",
   "execution_count": 16,
   "id": "bd632e5d",
   "metadata": {},
   "outputs": [
    {
     "data": {
      "text/html": [
       "<div>\n",
       "<style scoped>\n",
       "    .dataframe tbody tr th:only-of-type {\n",
       "        vertical-align: middle;\n",
       "    }\n",
       "\n",
       "    .dataframe tbody tr th {\n",
       "        vertical-align: top;\n",
       "    }\n",
       "\n",
       "    .dataframe thead th {\n",
       "        text-align: right;\n",
       "    }\n",
       "</style>\n",
       "<table border=\"1\" class=\"dataframe\">\n",
       "  <thead>\n",
       "    <tr style=\"text-align: right;\">\n",
       "      <th></th>\n",
       "      <th>recency</th>\n",
       "      <th>frequency</th>\n",
       "      <th>price_sum</th>\n",
       "      <th>price_mean</th>\n",
       "      <th>spend_90_total</th>\n",
       "      <th>spend_90_flag</th>\n",
       "    </tr>\n",
       "    <tr>\n",
       "      <th>CustomerID</th>\n",
       "      <th></th>\n",
       "      <th></th>\n",
       "      <th></th>\n",
       "      <th></th>\n",
       "      <th></th>\n",
       "      <th></th>\n",
       "    </tr>\n",
       "  </thead>\n",
       "  <tbody>\n",
       "    <tr>\n",
       "      <th>10</th>\n",
       "      <td>-435.0</td>\n",
       "      <td>1</td>\n",
       "      <td>39.31</td>\n",
       "      <td>39.310000</td>\n",
       "      <td>0.00</td>\n",
       "      <td>0.0</td>\n",
       "    </tr>\n",
       "    <tr>\n",
       "      <th>100</th>\n",
       "      <td>-111.0</td>\n",
       "      <td>2</td>\n",
       "      <td>26.26</td>\n",
       "      <td>13.130000</td>\n",
       "      <td>28.98</td>\n",
       "      <td>1.0</td>\n",
       "    </tr>\n",
       "    <tr>\n",
       "      <th>1000</th>\n",
       "      <td>-436.0</td>\n",
       "      <td>1</td>\n",
       "      <td>8.99</td>\n",
       "      <td>8.990000</td>\n",
       "      <td>0.00</td>\n",
       "      <td>0.0</td>\n",
       "    </tr>\n",
       "    <tr>\n",
       "      <th>10000</th>\n",
       "      <td>-244.0</td>\n",
       "      <td>3</td>\n",
       "      <td>77.42</td>\n",
       "      <td>25.806667</td>\n",
       "      <td>0.00</td>\n",
       "      <td>0.0</td>\n",
       "    </tr>\n",
       "    <tr>\n",
       "      <th>10001</th>\n",
       "      <td>-174.0</td>\n",
       "      <td>2</td>\n",
       "      <td>19.78</td>\n",
       "      <td>9.890000</td>\n",
       "      <td>0.00</td>\n",
       "      <td>0.0</td>\n",
       "    </tr>\n",
       "  </tbody>\n",
       "</table>\n",
       "</div>"
      ],
      "text/plain": [
       "            recency  frequency  price_sum  price_mean  spend_90_total  \\\n",
       "CustomerID                                                              \n",
       "10           -435.0          1      39.31   39.310000            0.00   \n",
       "100          -111.0          2      26.26   13.130000           28.98   \n",
       "1000         -436.0          1       8.99    8.990000            0.00   \n",
       "10000        -244.0          3      77.42   25.806667            0.00   \n",
       "10001        -174.0          2      19.78    9.890000            0.00   \n",
       "\n",
       "            spend_90_flag  \n",
       "CustomerID                 \n",
       "10                    0.0  \n",
       "100                   1.0  \n",
       "1000                  0.0  \n",
       "10000                 0.0  \n",
       "10001                 0.0  "
      ]
     },
     "execution_count": 16,
     "metadata": {},
     "output_type": "execute_result"
    }
   ],
   "source": [
    "# combine features\n",
    "features_df = pd.concat([recency_features_df, frequency_features_df, price_features_df], axis = 1).merge(TARGET_DATA, left_index = True, right_index = True, how = 'left').fillna(0)\n",
    "features_df.head()"
   ]
  },
  {
   "cell_type": "markdown",
   "id": "60f2aaa3",
   "metadata": {},
   "source": [
    "### Regression\n",
    "> How much will the customers spend in the next 90 days?"
   ]
  },
  {
   "cell_type": "markdown",
   "id": "b8d78f26",
   "metadata": {},
   "source": [
    "### XGBOOST"
   ]
  },
  {
   "cell_type": "code",
   "execution_count": 17,
   "id": "8a4f6fef",
   "metadata": {},
   "outputs": [],
   "source": [
    "X = features_df[['recency', 'frequency', 'price_sum', 'price_mean']]\n",
    "# next 90 days spend prediction\n",
    "y_spend = features_df['spend_90_total']"
   ]
  },
  {
   "cell_type": "code",
   "execution_count": 18,
   "id": "8cbddbf8",
   "metadata": {},
   "outputs": [],
   "source": [
    "# Model\n",
    "xgb_reg_spec = XGBRegressor(objective='reg:squarederror', random_state=123)"
   ]
  },
  {
   "cell_type": "code",
   "execution_count": 19,
   "id": "08f0c3e9",
   "metadata": {},
   "outputs": [],
   "source": [
    "# Creating a GridSearchCV to tune the hyperparameters\n",
    "xgb_reg_model =GridSearchCV(estimator=xgb_reg_spec, param_grid = dict(learning_rate = [0.01, 0.1, 0.3, 0.5]), scoring='neg_mean_absolute_error', cv = 5) "
   ]
  },
  {
   "cell_type": "code",
   "execution_count": 20,
   "id": "b9e336e7",
   "metadata": {},
   "outputs": [
    {
     "data": {
      "text/plain": [
       "GridSearchCV(cv=5,\n",
       "             estimator=XGBRegressor(base_score=None, booster=None,\n",
       "                                    colsample_bylevel=None,\n",
       "                                    colsample_bynode=None,\n",
       "                                    colsample_bytree=None,\n",
       "                                    enable_categorical=False, gamma=None,\n",
       "                                    gpu_id=None, importance_type=None,\n",
       "                                    interaction_constraints=None,\n",
       "                                    learning_rate=None, max_delta_step=None,\n",
       "                                    max_depth=None, min_child_weight=None,\n",
       "                                    missing=nan, monotone_constraints=None,\n",
       "                                    n_estimators=100, n_jobs=None,\n",
       "                                    num_parallel_tree=None, predictor=None,\n",
       "                                    random_state=123, reg_alpha=None,\n",
       "                                    reg_lambda=None, scale_pos_weight=None,\n",
       "                                    subsample=None, tree_method=None,\n",
       "                                    validate_parameters=None, verbosity=None),\n",
       "             param_grid={'learning_rate': [0.01, 0.1, 0.3, 0.5]},\n",
       "             scoring='neg_mean_absolute_error')"
      ]
     },
     "execution_count": 20,
     "metadata": {},
     "output_type": "execute_result"
    }
   ],
   "source": [
    "# Fitting the Model\n",
    "xgb_reg_model.fit(X, y_spend)"
   ]
  },
  {
   "cell_type": "code",
   "execution_count": 21,
   "id": "54ba46ce",
   "metadata": {},
   "outputs": [
    {
     "data": {
      "text/plain": [
       "-9.781133759361964"
      ]
     },
     "execution_count": 21,
     "metadata": {},
     "output_type": "execute_result"
    }
   ],
   "source": [
    "xgb_reg_model.best_score_ # NAE of the best parameters model."
   ]
  },
  {
   "cell_type": "code",
   "execution_count": 22,
   "id": "b8599d8a",
   "metadata": {},
   "outputs": [
    {
     "data": {
      "text/plain": [
       "{'learning_rate': 0.01}"
      ]
     },
     "execution_count": 22,
     "metadata": {},
     "output_type": "execute_result"
    }
   ],
   "source": [
    "xgb_reg_model.best_params_ # best Hyperparameter value"
   ]
  },
  {
   "cell_type": "code",
   "execution_count": 23,
   "id": "6bbae6e9",
   "metadata": {},
   "outputs": [],
   "source": [
    "predictions_xgb_reg_model = xgb_reg_model.predict(X) # Prediction"
   ]
  },
  {
   "cell_type": "code",
   "execution_count": 24,
   "id": "56afb1c6",
   "metadata": {},
   "outputs": [
    {
     "data": {
      "text/html": [
       "<div>\n",
       "<style scoped>\n",
       "    .dataframe tbody tr th:only-of-type {\n",
       "        vertical-align: middle;\n",
       "    }\n",
       "\n",
       "    .dataframe tbody tr th {\n",
       "        vertical-align: top;\n",
       "    }\n",
       "\n",
       "    .dataframe thead th {\n",
       "        text-align: right;\n",
       "    }\n",
       "</style>\n",
       "<table border=\"1\" class=\"dataframe\">\n",
       "  <thead>\n",
       "    <tr style=\"text-align: right;\">\n",
       "      <th></th>\n",
       "      <th>prediction_xgb</th>\n",
       "      <th>CustomerID</th>\n",
       "      <th>recency</th>\n",
       "      <th>frequency</th>\n",
       "      <th>price_sum</th>\n",
       "      <th>price_mean</th>\n",
       "    </tr>\n",
       "  </thead>\n",
       "  <tbody>\n",
       "    <tr>\n",
       "      <th>0</th>\n",
       "      <td>0.849789</td>\n",
       "      <td>10</td>\n",
       "      <td>-435.0</td>\n",
       "      <td>1</td>\n",
       "      <td>39.31</td>\n",
       "      <td>39.310000</td>\n",
       "    </tr>\n",
       "    <tr>\n",
       "      <th>1</th>\n",
       "      <td>3.596536</td>\n",
       "      <td>100</td>\n",
       "      <td>-111.0</td>\n",
       "      <td>2</td>\n",
       "      <td>26.26</td>\n",
       "      <td>13.130000</td>\n",
       "    </tr>\n",
       "    <tr>\n",
       "      <th>2</th>\n",
       "      <td>0.761545</td>\n",
       "      <td>1000</td>\n",
       "      <td>-436.0</td>\n",
       "      <td>1</td>\n",
       "      <td>8.99</td>\n",
       "      <td>8.990000</td>\n",
       "    </tr>\n",
       "    <tr>\n",
       "      <th>3</th>\n",
       "      <td>5.035758</td>\n",
       "      <td>10000</td>\n",
       "      <td>-244.0</td>\n",
       "      <td>3</td>\n",
       "      <td>77.42</td>\n",
       "      <td>25.806667</td>\n",
       "    </tr>\n",
       "    <tr>\n",
       "      <th>4</th>\n",
       "      <td>3.178706</td>\n",
       "      <td>10001</td>\n",
       "      <td>-174.0</td>\n",
       "      <td>2</td>\n",
       "      <td>19.78</td>\n",
       "      <td>9.890000</td>\n",
       "    </tr>\n",
       "  </tbody>\n",
       "</table>\n",
       "</div>"
      ],
      "text/plain": [
       "   prediction_xgb CustomerID  recency  frequency  price_sum  price_mean\n",
       "0        0.849789         10   -435.0          1      39.31   39.310000\n",
       "1        3.596536        100   -111.0          2      26.26   13.130000\n",
       "2        0.761545       1000   -436.0          1       8.99    8.990000\n",
       "3        5.035758      10000   -244.0          3      77.42   25.806667\n",
       "4        3.178706      10001   -174.0          2      19.78    9.890000"
      ]
     },
     "execution_count": 24,
     "metadata": {},
     "output_type": "execute_result"
    }
   ],
   "source": [
    "# Merging the predictions to the data.\n",
    "XGB_PRED_DATA = pd.DataFrame({\"prediction_xgb\" : predictions_xgb_reg_model.tolist()}).merge(X.reset_index(),left_index=True, right_index=True)\n",
    "XGB_PRED_DATA.head()"
   ]
  },
  {
   "cell_type": "code",
   "execution_count": 25,
   "id": "78b00819",
   "metadata": {},
   "outputs": [],
   "source": [
    "XGB_PRED_DATA.to_csv(\"XGB_reg_prediction.csv\") # Writing the predictions to a csv"
   ]
  },
  {
   "cell_type": "markdown",
   "id": "1fb48afb",
   "metadata": {},
   "source": [
    "### Linear Regression"
   ]
  },
  {
   "cell_type": "code",
   "execution_count": 26,
   "id": "64a7afc5",
   "metadata": {},
   "outputs": [],
   "source": [
    "lr = LinearRegression() # Model"
   ]
  },
  {
   "cell_type": "code",
   "execution_count": 27,
   "id": "3aaf4f80",
   "metadata": {},
   "outputs": [
    {
     "data": {
      "text/plain": [
       "GridSearchCV(cv=5, estimator=LinearRegression(),\n",
       "             param_grid={'copy_X': [True, False],\n",
       "                         'fit_intercept': [True, False]},\n",
       "             scoring='neg_mean_absolute_error')"
      ]
     },
     "execution_count": 27,
     "metadata": {},
     "output_type": "execute_result"
    }
   ],
   "source": [
    "parameters = {'fit_intercept':[True,False],  'copy_X':[True, False]} # Hyper parameters.\n",
    "lr_reg_model = GridSearchCV(lr,parameters, cv=5, scoring='neg_mean_absolute_error')\n",
    "lr_reg_model.fit(X, y_spend)"
   ]
  },
  {
   "cell_type": "code",
   "execution_count": 28,
   "id": "ca55c664",
   "metadata": {},
   "outputs": [
    {
     "data": {
      "text/plain": [
       "-11.220285179961735"
      ]
     },
     "execution_count": 28,
     "metadata": {},
     "output_type": "execute_result"
    }
   ],
   "source": [
    "lr_reg_model.best_score_ # NAE of the best parameters model."
   ]
  },
  {
   "cell_type": "code",
   "execution_count": 29,
   "id": "1455bd09",
   "metadata": {},
   "outputs": [
    {
     "data": {
      "text/plain": [
       "{'copy_X': True, 'fit_intercept': True}"
      ]
     },
     "execution_count": 29,
     "metadata": {},
     "output_type": "execute_result"
    }
   ],
   "source": [
    "lr_reg_model.best_params_ # best Hyperparameter value"
   ]
  },
  {
   "cell_type": "code",
   "execution_count": 30,
   "id": "33a64f39",
   "metadata": {},
   "outputs": [],
   "source": [
    "predictions_lr_reg_model = lr_reg_model.predict(X) # Prediction"
   ]
  },
  {
   "cell_type": "code",
   "execution_count": 31,
   "id": "1b1dd6cc",
   "metadata": {},
   "outputs": [],
   "source": [
    "# Merging the prediction to the X data.\n",
    "LINEAR_REGRESSION_PRED_DATA = pd.DataFrame({\"prediction_lr\" : predictions_lr_reg_model.tolist()}).merge(X.reset_index(),left_index=True, right_index=True)"
   ]
  },
  {
   "cell_type": "code",
   "execution_count": 32,
   "id": "819a6d8a",
   "metadata": {},
   "outputs": [],
   "source": [
    "LINEAR_REGRESSION_PRED_DATA.to_csv(\"lr_reg_prediction.csv\") # Predictions to CSV"
   ]
  },
  {
   "cell_type": "markdown",
   "id": "51b7a4ed",
   "metadata": {},
   "source": [
    "# Random Forest Regression"
   ]
  },
  {
   "cell_type": "code",
   "execution_count": 33,
   "id": "7d2cbf20",
   "metadata": {},
   "outputs": [],
   "source": [
    "# Hyper Parameters\n",
    "param_grid = dict(n_estimators = [10, 20, 50, 100, 500, 1000], max_depth = [2, 5], max_features = ['auto', 'sqrt', 'log2'])"
   ]
  },
  {
   "cell_type": "code",
   "execution_count": 34,
   "id": "bc94ec65",
   "metadata": {},
   "outputs": [],
   "source": [
    "rf = RandomForestRegressor() # model\n",
    "rf_regressor =GridSearchCV(estimator=rf, param_grid = param_grid, scoring='neg_mean_absolute_error', refit= True, cv = 5) "
   ]
  },
  {
   "cell_type": "code",
   "execution_count": 35,
   "id": "cf659104",
   "metadata": {},
   "outputs": [
    {
     "data": {
      "text/plain": [
       "GridSearchCV(cv=5, estimator=RandomForestRegressor(),\n",
       "             param_grid={'max_depth': [2, 5],\n",
       "                         'max_features': ['auto', 'sqrt', 'log2'],\n",
       "                         'n_estimators': [10, 20, 50, 100, 500, 1000]},\n",
       "             scoring='neg_mean_absolute_error')"
      ]
     },
     "execution_count": 35,
     "metadata": {},
     "output_type": "execute_result"
    }
   ],
   "source": [
    "rf_regressor.fit(X, y_spend) #fitting the data"
   ]
  },
  {
   "cell_type": "code",
   "execution_count": 36,
   "id": "d12afae2",
   "metadata": {},
   "outputs": [
    {
     "data": {
      "text/plain": [
       "-10.707215661872791"
      ]
     },
     "execution_count": 36,
     "metadata": {},
     "output_type": "execute_result"
    }
   ],
   "source": [
    "rf_regressor.best_score_ # NAE of the best model."
   ]
  },
  {
   "cell_type": "code",
   "execution_count": 37,
   "id": "68be9165",
   "metadata": {},
   "outputs": [
    {
     "data": {
      "text/plain": [
       "{'max_depth': 5, 'max_features': 'auto', 'n_estimators': 10}"
      ]
     },
     "execution_count": 37,
     "metadata": {},
     "output_type": "execute_result"
    }
   ],
   "source": [
    "rf_regressor.best_params_ # Best hyper parameters."
   ]
  },
  {
   "cell_type": "code",
   "execution_count": 38,
   "id": "8d07cec6",
   "metadata": {},
   "outputs": [
    {
     "data": {
      "text/plain": [
       "RandomForestRegressor(max_depth=5, n_estimators=10)"
      ]
     },
     "execution_count": 38,
     "metadata": {},
     "output_type": "execute_result"
    }
   ],
   "source": [
    "rf_regressor.best_estimator_"
   ]
  },
  {
   "cell_type": "code",
   "execution_count": 39,
   "id": "d9089aa4",
   "metadata": {},
   "outputs": [],
   "source": [
    "predictions_rf_reg_model = rf_regressor.predict(X) # Prediction"
   ]
  },
  {
   "cell_type": "code",
   "execution_count": 40,
   "id": "cc27e4b5",
   "metadata": {},
   "outputs": [],
   "source": [
    "# Mergeing the prediction with X data\n",
    "RF_REGRESSION_PRED_DATA = pd.DataFrame({\"prediction_rf\" : predictions_rf_reg_model.tolist()}).merge(X.reset_index(),left_index=True, right_index=True)"
   ]
  },
  {
   "cell_type": "code",
   "execution_count": 41,
   "id": "8898f415",
   "metadata": {},
   "outputs": [],
   "source": [
    "RF_REGRESSION_PRED_DATA.to_csv(\"rf_reg_prediction.csv\") # Storing the Prediction data in a csv."
   ]
  },
  {
   "cell_type": "markdown",
   "id": "371f0d7e",
   "metadata": {},
   "source": [
    "### Classification\n",
    "> Will a customer make a purchase in next 90 days"
   ]
  },
  {
   "cell_type": "code",
   "execution_count": 42,
   "id": "532bd044",
   "metadata": {},
   "outputs": [],
   "source": [
    "# Next 90 days spend probability\n",
    "y_prob = features_df['spend_90_flag']"
   ]
  },
  {
   "cell_type": "code",
   "execution_count": 43,
   "id": "336fd923",
   "metadata": {},
   "outputs": [],
   "source": [
    "xgb_clf_spec = XGBClassifier(objective='binary:logistic', random_state= 123) # model"
   ]
  },
  {
   "cell_type": "code",
   "execution_count": 44,
   "id": "40f4f26c",
   "metadata": {},
   "outputs": [],
   "source": [
    "xgb_clf_model =GridSearchCV(estimator=xgb_clf_spec, param_grid = dict(learning_rate = [0.01, 0.1, 0.3, 0.5]), scoring='roc_auc', refit= True, cv = 5) "
   ]
  },
  {
   "cell_type": "code",
   "execution_count": 45,
   "id": "2607ef9a",
   "metadata": {},
   "outputs": [
    {
     "name": "stdout",
     "output_type": "stream",
     "text": [
      "[12:35:22] WARNING: C:/Users/Administrator/workspace/xgboost-win64_release_1.5.1/src/learner.cc:1115: Starting in XGBoost 1.3.0, the default evaluation metric used with the objective 'binary:logistic' was changed from 'error' to 'logloss'. Explicitly set eval_metric if you'd like to restore the old behavior.\n",
      "[12:35:26] WARNING: C:/Users/Administrator/workspace/xgboost-win64_release_1.5.1/src/learner.cc:1115: Starting in XGBoost 1.3.0, the default evaluation metric used with the objective 'binary:logistic' was changed from 'error' to 'logloss'. Explicitly set eval_metric if you'd like to restore the old behavior.\n",
      "[12:35:28] WARNING: C:/Users/Administrator/workspace/xgboost-win64_release_1.5.1/src/learner.cc:1115: Starting in XGBoost 1.3.0, the default evaluation metric used with the objective 'binary:logistic' was changed from 'error' to 'logloss'. Explicitly set eval_metric if you'd like to restore the old behavior.\n",
      "[12:35:30] WARNING: C:/Users/Administrator/workspace/xgboost-win64_release_1.5.1/src/learner.cc:1115: Starting in XGBoost 1.3.0, the default evaluation metric used with the objective 'binary:logistic' was changed from 'error' to 'logloss'. Explicitly set eval_metric if you'd like to restore the old behavior.\n",
      "[12:35:32] WARNING: C:/Users/Administrator/workspace/xgboost-win64_release_1.5.1/src/learner.cc:1115: Starting in XGBoost 1.3.0, the default evaluation metric used with the objective 'binary:logistic' was changed from 'error' to 'logloss'. Explicitly set eval_metric if you'd like to restore the old behavior.\n",
      "[12:35:36] WARNING: C:/Users/Administrator/workspace/xgboost-win64_release_1.5.1/src/learner.cc:1115: Starting in XGBoost 1.3.0, the default evaluation metric used with the objective 'binary:logistic' was changed from 'error' to 'logloss'. Explicitly set eval_metric if you'd like to restore the old behavior.\n",
      "[12:35:38] WARNING: C:/Users/Administrator/workspace/xgboost-win64_release_1.5.1/src/learner.cc:1115: Starting in XGBoost 1.3.0, the default evaluation metric used with the objective 'binary:logistic' was changed from 'error' to 'logloss'. Explicitly set eval_metric if you'd like to restore the old behavior.\n",
      "[12:35:39] WARNING: C:/Users/Administrator/workspace/xgboost-win64_release_1.5.1/src/learner.cc:1115: Starting in XGBoost 1.3.0, the default evaluation metric used with the objective 'binary:logistic' was changed from 'error' to 'logloss'. Explicitly set eval_metric if you'd like to restore the old behavior.\n",
      "[12:35:41] WARNING: C:/Users/Administrator/workspace/xgboost-win64_release_1.5.1/src/learner.cc:1115: Starting in XGBoost 1.3.0, the default evaluation metric used with the objective 'binary:logistic' was changed from 'error' to 'logloss'. Explicitly set eval_metric if you'd like to restore the old behavior.\n",
      "[12:35:43] WARNING: C:/Users/Administrator/workspace/xgboost-win64_release_1.5.1/src/learner.cc:1115: Starting in XGBoost 1.3.0, the default evaluation metric used with the objective 'binary:logistic' was changed from 'error' to 'logloss'. Explicitly set eval_metric if you'd like to restore the old behavior.\n",
      "[12:35:45] WARNING: C:/Users/Administrator/workspace/xgboost-win64_release_1.5.1/src/learner.cc:1115: Starting in XGBoost 1.3.0, the default evaluation metric used with the objective 'binary:logistic' was changed from 'error' to 'logloss'. Explicitly set eval_metric if you'd like to restore the old behavior.\n",
      "[12:35:46] WARNING: C:/Users/Administrator/workspace/xgboost-win64_release_1.5.1/src/learner.cc:1115: Starting in XGBoost 1.3.0, the default evaluation metric used with the objective 'binary:logistic' was changed from 'error' to 'logloss'. Explicitly set eval_metric if you'd like to restore the old behavior.\n",
      "[12:35:48] WARNING: C:/Users/Administrator/workspace/xgboost-win64_release_1.5.1/src/learner.cc:1115: Starting in XGBoost 1.3.0, the default evaluation metric used with the objective 'binary:logistic' was changed from 'error' to 'logloss'. Explicitly set eval_metric if you'd like to restore the old behavior.\n",
      "[12:35:51] WARNING: C:/Users/Administrator/workspace/xgboost-win64_release_1.5.1/src/learner.cc:1115: Starting in XGBoost 1.3.0, the default evaluation metric used with the objective 'binary:logistic' was changed from 'error' to 'logloss'. Explicitly set eval_metric if you'd like to restore the old behavior.\n",
      "[12:35:53] WARNING: C:/Users/Administrator/workspace/xgboost-win64_release_1.5.1/src/learner.cc:1115: Starting in XGBoost 1.3.0, the default evaluation metric used with the objective 'binary:logistic' was changed from 'error' to 'logloss'. Explicitly set eval_metric if you'd like to restore the old behavior.\n",
      "[12:35:54] WARNING: C:/Users/Administrator/workspace/xgboost-win64_release_1.5.1/src/learner.cc:1115: Starting in XGBoost 1.3.0, the default evaluation metric used with the objective 'binary:logistic' was changed from 'error' to 'logloss'. Explicitly set eval_metric if you'd like to restore the old behavior.\n",
      "[12:35:56] WARNING: C:/Users/Administrator/workspace/xgboost-win64_release_1.5.1/src/learner.cc:1115: Starting in XGBoost 1.3.0, the default evaluation metric used with the objective 'binary:logistic' was changed from 'error' to 'logloss'. Explicitly set eval_metric if you'd like to restore the old behavior.\n",
      "[12:35:57] WARNING: C:/Users/Administrator/workspace/xgboost-win64_release_1.5.1/src/learner.cc:1115: Starting in XGBoost 1.3.0, the default evaluation metric used with the objective 'binary:logistic' was changed from 'error' to 'logloss'. Explicitly set eval_metric if you'd like to restore the old behavior.\n",
      "[12:35:58] WARNING: C:/Users/Administrator/workspace/xgboost-win64_release_1.5.1/src/learner.cc:1115: Starting in XGBoost 1.3.0, the default evaluation metric used with the objective 'binary:logistic' was changed from 'error' to 'logloss'. Explicitly set eval_metric if you'd like to restore the old behavior.\n",
      "[12:36:00] WARNING: C:/Users/Administrator/workspace/xgboost-win64_release_1.5.1/src/learner.cc:1115: Starting in XGBoost 1.3.0, the default evaluation metric used with the objective 'binary:logistic' was changed from 'error' to 'logloss'. Explicitly set eval_metric if you'd like to restore the old behavior.\n",
      "[12:36:01] WARNING: C:/Users/Administrator/workspace/xgboost-win64_release_1.5.1/src/learner.cc:1115: Starting in XGBoost 1.3.0, the default evaluation metric used with the objective 'binary:logistic' was changed from 'error' to 'logloss'. Explicitly set eval_metric if you'd like to restore the old behavior.\n"
     ]
    },
    {
     "data": {
      "text/plain": [
       "GridSearchCV(cv=5,\n",
       "             estimator=XGBClassifier(base_score=None, booster=None,\n",
       "                                     colsample_bylevel=None,\n",
       "                                     colsample_bynode=None,\n",
       "                                     colsample_bytree=None,\n",
       "                                     enable_categorical=False, gamma=None,\n",
       "                                     gpu_id=None, importance_type=None,\n",
       "                                     interaction_constraints=None,\n",
       "                                     learning_rate=None, max_delta_step=None,\n",
       "                                     max_depth=None, min_child_weight=None,\n",
       "                                     missing=nan, monotone_constraints=None,\n",
       "                                     n_estimators=100, n_jobs=None,\n",
       "                                     num_parallel_tree=None, predictor=None,\n",
       "                                     random_state=123, reg_alpha=None,\n",
       "                                     reg_lambda=None, scale_pos_weight=None,\n",
       "                                     subsample=None, tree_method=None,\n",
       "                                     validate_parameters=None, verbosity=None),\n",
       "             param_grid={'learning_rate': [0.01, 0.1, 0.3, 0.5]},\n",
       "             scoring='roc_auc')"
      ]
     },
     "execution_count": 45,
     "metadata": {},
     "output_type": "execute_result"
    }
   ],
   "source": [
    "xgb_clf_model.fit(X, y_prob) # Fitting the data"
   ]
  },
  {
   "cell_type": "code",
   "execution_count": 46,
   "id": "81c86071",
   "metadata": {},
   "outputs": [
    {
     "data": {
      "text/plain": [
       "0.8374299116243062"
      ]
     },
     "execution_count": 46,
     "metadata": {},
     "output_type": "execute_result"
    }
   ],
   "source": [
    "xgb_clf_model.best_score_ # AUC score of the best model"
   ]
  },
  {
   "cell_type": "code",
   "execution_count": 47,
   "id": "eec93069",
   "metadata": {},
   "outputs": [
    {
     "data": {
      "text/plain": [
       "{'learning_rate': 0.01}"
      ]
     },
     "execution_count": 47,
     "metadata": {},
     "output_type": "execute_result"
    }
   ],
   "source": [
    "xgb_clf_model.best_params_ # Best Hyperparameter Values"
   ]
  },
  {
   "cell_type": "code",
   "execution_count": 48,
   "id": "004909b0",
   "metadata": {},
   "outputs": [
    {
     "data": {
      "text/html": [
       "<div>\n",
       "<style scoped>\n",
       "    .dataframe tbody tr th:only-of-type {\n",
       "        vertical-align: middle;\n",
       "    }\n",
       "\n",
       "    .dataframe tbody tr th {\n",
       "        vertical-align: top;\n",
       "    }\n",
       "\n",
       "    .dataframe thead th {\n",
       "        text-align: right;\n",
       "    }\n",
       "</style>\n",
       "<table border=\"1\" class=\"dataframe\">\n",
       "  <thead>\n",
       "    <tr style=\"text-align: right;\">\n",
       "      <th></th>\n",
       "      <th>prediction_xgb_clf_0</th>\n",
       "      <th>prediction_xgb_clf_1</th>\n",
       "      <th>CustomerID</th>\n",
       "      <th>recency</th>\n",
       "      <th>frequency</th>\n",
       "      <th>price_sum</th>\n",
       "      <th>price_mean</th>\n",
       "    </tr>\n",
       "  </thead>\n",
       "  <tbody>\n",
       "    <tr>\n",
       "      <th>0</th>\n",
       "      <td>0.799550</td>\n",
       "      <td>0.200450</td>\n",
       "      <td>10</td>\n",
       "      <td>-435.0</td>\n",
       "      <td>1</td>\n",
       "      <td>39.31</td>\n",
       "      <td>39.310000</td>\n",
       "    </tr>\n",
       "    <tr>\n",
       "      <th>1</th>\n",
       "      <td>0.733550</td>\n",
       "      <td>0.266450</td>\n",
       "      <td>100</td>\n",
       "      <td>-111.0</td>\n",
       "      <td>2</td>\n",
       "      <td>26.26</td>\n",
       "      <td>13.130000</td>\n",
       "    </tr>\n",
       "    <tr>\n",
       "      <th>2</th>\n",
       "      <td>0.799550</td>\n",
       "      <td>0.200450</td>\n",
       "      <td>1000</td>\n",
       "      <td>-436.0</td>\n",
       "      <td>1</td>\n",
       "      <td>8.99</td>\n",
       "      <td>8.990000</td>\n",
       "    </tr>\n",
       "    <tr>\n",
       "      <th>3</th>\n",
       "      <td>0.700524</td>\n",
       "      <td>0.299476</td>\n",
       "      <td>10000</td>\n",
       "      <td>-244.0</td>\n",
       "      <td>3</td>\n",
       "      <td>77.42</td>\n",
       "      <td>25.806667</td>\n",
       "    </tr>\n",
       "    <tr>\n",
       "      <th>4</th>\n",
       "      <td>0.726561</td>\n",
       "      <td>0.273439</td>\n",
       "      <td>10001</td>\n",
       "      <td>-174.0</td>\n",
       "      <td>2</td>\n",
       "      <td>19.78</td>\n",
       "      <td>9.890000</td>\n",
       "    </tr>\n",
       "  </tbody>\n",
       "</table>\n",
       "</div>"
      ],
      "text/plain": [
       "   prediction_xgb_clf_0  prediction_xgb_clf_1 CustomerID  recency  frequency  \\\n",
       "0              0.799550              0.200450         10   -435.0          1   \n",
       "1              0.733550              0.266450        100   -111.0          2   \n",
       "2              0.799550              0.200450       1000   -436.0          1   \n",
       "3              0.700524              0.299476      10000   -244.0          3   \n",
       "4              0.726561              0.273439      10001   -174.0          2   \n",
       "\n",
       "   price_sum  price_mean  \n",
       "0      39.31   39.310000  \n",
       "1      26.26   13.130000  \n",
       "2       8.99    8.990000  \n",
       "3      77.42   25.806667  \n",
       "4      19.78    9.890000  "
      ]
     },
     "execution_count": 48,
     "metadata": {},
     "output_type": "execute_result"
    }
   ],
   "source": [
    "# Storing the prediction values in a dataframe\n",
    "XGB_CLASSIFICATION_PRED_DATA = pd.DataFrame(xgb_clf_model.predict_proba(X),columns=['prediction_xgb_clf_0','prediction_xgb_clf_1']).merge(X.reset_index(),left_index=True, right_index=True)\n",
    "XGB_CLASSIFICATION_PRED_DATA.head()"
   ]
  },
  {
   "cell_type": "code",
   "execution_count": 49,
   "id": "56150c62",
   "metadata": {},
   "outputs": [],
   "source": [
    "XGB_CLASSIFICATION_PRED_DATA.to_csv(\"xgb_clf_prediction.csv\") # Predictions to csv"
   ]
  },
  {
   "cell_type": "markdown",
   "id": "60095800",
   "metadata": {},
   "source": [
    "### Logistic Regression"
   ]
  },
  {
   "cell_type": "code",
   "execution_count": 50,
   "id": "a9ac0b0b",
   "metadata": {},
   "outputs": [
    {
     "data": {
      "text/plain": [
       "GridSearchCV(cv=5, estimator=LogisticRegression(),\n",
       "             param_grid={'penalty': ['l1', 'l2'],\n",
       "                         'solver': ['liblinear', 'saga']},\n",
       "             scoring='accuracy')"
      ]
     },
     "execution_count": 50,
     "metadata": {},
     "output_type": "execute_result"
    }
   ],
   "source": [
    "parameters = {'penalty': [\"l1\", \"l2\"], 'solver': [\"liblinear\",\"saga\"]} # Hyper parameters\n",
    "\n",
    "logr = LogisticRegression() # model\n",
    "logr_clf_model = GridSearchCV(logr,parameters, cv=5, scoring='accuracy')\n",
    "logr_clf_model.fit(X, y_prob) #fitting"
   ]
  },
  {
   "cell_type": "code",
   "execution_count": 51,
   "id": "d31c5018",
   "metadata": {},
   "outputs": [
    {
     "data": {
      "text/plain": [
       "{'penalty': 'l1', 'solver': 'liblinear'}"
      ]
     },
     "execution_count": 51,
     "metadata": {},
     "output_type": "execute_result"
    }
   ],
   "source": [
    "logr_clf_model.best_params_ # Best Hyperparameters"
   ]
  },
  {
   "cell_type": "code",
   "execution_count": 52,
   "id": "0e19ba11",
   "metadata": {},
   "outputs": [
    {
     "data": {
      "text/plain": [
       "0.8804362247031362"
      ]
     },
     "execution_count": 52,
     "metadata": {},
     "output_type": "execute_result"
    }
   ],
   "source": [
    "logr_clf_model.best_score_ # AUC score of the best model"
   ]
  },
  {
   "cell_type": "code",
   "execution_count": 53,
   "id": "9dea94fa",
   "metadata": {},
   "outputs": [
    {
     "data": {
      "text/html": [
       "<div>\n",
       "<style scoped>\n",
       "    .dataframe tbody tr th:only-of-type {\n",
       "        vertical-align: middle;\n",
       "    }\n",
       "\n",
       "    .dataframe tbody tr th {\n",
       "        vertical-align: top;\n",
       "    }\n",
       "\n",
       "    .dataframe thead th {\n",
       "        text-align: right;\n",
       "    }\n",
       "</style>\n",
       "<table border=\"1\" class=\"dataframe\">\n",
       "  <thead>\n",
       "    <tr style=\"text-align: right;\">\n",
       "      <th></th>\n",
       "      <th>prediction_log_clf_0</th>\n",
       "      <th>prediction_log_clf_1</th>\n",
       "      <th>CustomerID</th>\n",
       "      <th>recency</th>\n",
       "      <th>frequency</th>\n",
       "      <th>price_sum</th>\n",
       "      <th>price_mean</th>\n",
       "    </tr>\n",
       "  </thead>\n",
       "  <tbody>\n",
       "    <tr>\n",
       "      <th>0</th>\n",
       "      <td>0.968336</td>\n",
       "      <td>0.031664</td>\n",
       "      <td>10</td>\n",
       "      <td>-435.0</td>\n",
       "      <td>1</td>\n",
       "      <td>39.31</td>\n",
       "      <td>39.310000</td>\n",
       "    </tr>\n",
       "    <tr>\n",
       "      <th>1</th>\n",
       "      <td>0.784891</td>\n",
       "      <td>0.215109</td>\n",
       "      <td>100</td>\n",
       "      <td>-111.0</td>\n",
       "      <td>2</td>\n",
       "      <td>26.26</td>\n",
       "      <td>13.130000</td>\n",
       "    </tr>\n",
       "    <tr>\n",
       "      <th>2</th>\n",
       "      <td>0.969343</td>\n",
       "      <td>0.030657</td>\n",
       "      <td>1000</td>\n",
       "      <td>-436.0</td>\n",
       "      <td>1</td>\n",
       "      <td>8.99</td>\n",
       "      <td>8.990000</td>\n",
       "    </tr>\n",
       "    <tr>\n",
       "      <th>3</th>\n",
       "      <td>0.875837</td>\n",
       "      <td>0.124163</td>\n",
       "      <td>10000</td>\n",
       "      <td>-244.0</td>\n",
       "      <td>3</td>\n",
       "      <td>77.42</td>\n",
       "      <td>25.806667</td>\n",
       "    </tr>\n",
       "    <tr>\n",
       "      <th>4</th>\n",
       "      <td>0.843597</td>\n",
       "      <td>0.156403</td>\n",
       "      <td>10001</td>\n",
       "      <td>-174.0</td>\n",
       "      <td>2</td>\n",
       "      <td>19.78</td>\n",
       "      <td>9.890000</td>\n",
       "    </tr>\n",
       "  </tbody>\n",
       "</table>\n",
       "</div>"
      ],
      "text/plain": [
       "   prediction_log_clf_0  prediction_log_clf_1 CustomerID  recency  frequency  \\\n",
       "0              0.968336              0.031664         10   -435.0          1   \n",
       "1              0.784891              0.215109        100   -111.0          2   \n",
       "2              0.969343              0.030657       1000   -436.0          1   \n",
       "3              0.875837              0.124163      10000   -244.0          3   \n",
       "4              0.843597              0.156403      10001   -174.0          2   \n",
       "\n",
       "   price_sum  price_mean  \n",
       "0      39.31   39.310000  \n",
       "1      26.26   13.130000  \n",
       "2       8.99    8.990000  \n",
       "3      77.42   25.806667  \n",
       "4      19.78    9.890000  "
      ]
     },
     "execution_count": 53,
     "metadata": {},
     "output_type": "execute_result"
    }
   ],
   "source": [
    "# Storing the prediction values in a dataframe with X data\n",
    "LOGISTIC_CLASSIFICATION_PRED_DATA = pd.DataFrame(logr_clf_model.predict_proba(X),columns=['prediction_log_clf_0','prediction_log_clf_1']).merge(X.reset_index(),left_index=True, right_index=True)\n",
    "LOGISTIC_CLASSIFICATION_PRED_DATA.head()"
   ]
  },
  {
   "cell_type": "code",
   "execution_count": 54,
   "id": "aacf76e8",
   "metadata": {},
   "outputs": [],
   "source": [
    "LOGISTIC_CLASSIFICATION_PRED_DATA.to_csv(\"log_clf_prediction.csv\") # Prediction to csv."
   ]
  },
  {
   "cell_type": "markdown",
   "id": "313cc618",
   "metadata": {},
   "source": [
    "### RANDOM FOREST CLASSIFICATION"
   ]
  },
  {
   "cell_type": "code",
   "execution_count": 55,
   "id": "ef2a92d2",
   "metadata": {},
   "outputs": [
    {
     "data": {
      "text/plain": [
       "GridSearchCV(cv=5, estimator=RandomForestClassifier(),\n",
       "             param_grid={'max_depth': [2, 5],\n",
       "                         'max_features': ['auto', 'sqrt', 'log2'],\n",
       "                         'n_estimators': [10, 20, 50, 100, 500, 1000]},\n",
       "             scoring='roc_auc')"
      ]
     },
     "execution_count": 55,
     "metadata": {},
     "output_type": "execute_result"
    }
   ],
   "source": [
    "#Hyper Parameters\n",
    "parameters = { 'max_depth' : [2, 5], 'n_estimators' : [10, 20, 50, 100, 500, 1000],'max_features' : ['auto', 'sqrt', 'log2']}\n",
    "\n",
    "rfc = RandomForestClassifier() # mdoel\n",
    "rfc_clf_model = GridSearchCV(rfc, parameters, cv=5, scoring='roc_auc') \n",
    "rfc_clf_model.fit(X, y_prob) # fitting the data"
   ]
  },
  {
   "cell_type": "code",
   "execution_count": 56,
   "id": "22316aae",
   "metadata": {},
   "outputs": [
    {
     "data": {
      "text/plain": [
       "{'max_depth': 5, 'max_features': 'log2', 'n_estimators': 50}"
      ]
     },
     "execution_count": 56,
     "metadata": {},
     "output_type": "execute_result"
    }
   ],
   "source": [
    "rfc_clf_model.best_params_ # Best parameters"
   ]
  },
  {
   "cell_type": "code",
   "execution_count": 57,
   "id": "a0cbbbe4",
   "metadata": {},
   "outputs": [
    {
     "data": {
      "text/plain": [
       "0.8393891812459564"
      ]
     },
     "execution_count": 57,
     "metadata": {},
     "output_type": "execute_result"
    }
   ],
   "source": [
    "rfc_clf_model.best_score_ # AUC score of the best model."
   ]
  },
  {
   "cell_type": "code",
   "execution_count": 58,
   "id": "bbf35e69",
   "metadata": {},
   "outputs": [
    {
     "data": {
      "text/html": [
       "<div>\n",
       "<style scoped>\n",
       "    .dataframe tbody tr th:only-of-type {\n",
       "        vertical-align: middle;\n",
       "    }\n",
       "\n",
       "    .dataframe tbody tr th {\n",
       "        vertical-align: top;\n",
       "    }\n",
       "\n",
       "    .dataframe thead th {\n",
       "        text-align: right;\n",
       "    }\n",
       "</style>\n",
       "<table border=\"1\" class=\"dataframe\">\n",
       "  <thead>\n",
       "    <tr style=\"text-align: right;\">\n",
       "      <th></th>\n",
       "      <th>prediction_rf_clf_0</th>\n",
       "      <th>prediction_rf_clf_1</th>\n",
       "      <th>CustomerID</th>\n",
       "      <th>recency</th>\n",
       "      <th>frequency</th>\n",
       "      <th>price_sum</th>\n",
       "      <th>price_mean</th>\n",
       "    </tr>\n",
       "  </thead>\n",
       "  <tbody>\n",
       "    <tr>\n",
       "      <th>0</th>\n",
       "      <td>0.973404</td>\n",
       "      <td>0.026596</td>\n",
       "      <td>10</td>\n",
       "      <td>-435.0</td>\n",
       "      <td>1</td>\n",
       "      <td>39.31</td>\n",
       "      <td>39.310000</td>\n",
       "    </tr>\n",
       "    <tr>\n",
       "      <th>1</th>\n",
       "      <td>0.846114</td>\n",
       "      <td>0.153886</td>\n",
       "      <td>100</td>\n",
       "      <td>-111.0</td>\n",
       "      <td>2</td>\n",
       "      <td>26.26</td>\n",
       "      <td>13.130000</td>\n",
       "    </tr>\n",
       "    <tr>\n",
       "      <th>2</th>\n",
       "      <td>0.970509</td>\n",
       "      <td>0.029491</td>\n",
       "      <td>1000</td>\n",
       "      <td>-436.0</td>\n",
       "      <td>1</td>\n",
       "      <td>8.99</td>\n",
       "      <td>8.990000</td>\n",
       "    </tr>\n",
       "    <tr>\n",
       "      <th>3</th>\n",
       "      <td>0.799749</td>\n",
       "      <td>0.200251</td>\n",
       "      <td>10000</td>\n",
       "      <td>-244.0</td>\n",
       "      <td>3</td>\n",
       "      <td>77.42</td>\n",
       "      <td>25.806667</td>\n",
       "    </tr>\n",
       "    <tr>\n",
       "      <th>4</th>\n",
       "      <td>0.863526</td>\n",
       "      <td>0.136474</td>\n",
       "      <td>10001</td>\n",
       "      <td>-174.0</td>\n",
       "      <td>2</td>\n",
       "      <td>19.78</td>\n",
       "      <td>9.890000</td>\n",
       "    </tr>\n",
       "  </tbody>\n",
       "</table>\n",
       "</div>"
      ],
      "text/plain": [
       "   prediction_rf_clf_0  prediction_rf_clf_1 CustomerID  recency  frequency  \\\n",
       "0             0.973404             0.026596         10   -435.0          1   \n",
       "1             0.846114             0.153886        100   -111.0          2   \n",
       "2             0.970509             0.029491       1000   -436.0          1   \n",
       "3             0.799749             0.200251      10000   -244.0          3   \n",
       "4             0.863526             0.136474      10001   -174.0          2   \n",
       "\n",
       "   price_sum  price_mean  \n",
       "0      39.31   39.310000  \n",
       "1      26.26   13.130000  \n",
       "2       8.99    8.990000  \n",
       "3      77.42   25.806667  \n",
       "4      19.78    9.890000  "
      ]
     },
     "execution_count": 58,
     "metadata": {},
     "output_type": "execute_result"
    }
   ],
   "source": [
    "# Storing the prediction values\n",
    "RF_CLASSIFICATION_PRED_DATA = pd.DataFrame(rfc_clf_model.predict_proba(X),columns=['prediction_rf_clf_0','prediction_rf_clf_1']).merge(X.reset_index(),left_index=True, right_index=True)\n",
    "RF_CLASSIFICATION_PRED_DATA.head()"
   ]
  },
  {
   "cell_type": "code",
   "execution_count": 59,
   "id": "6307734d",
   "metadata": {},
   "outputs": [],
   "source": [
    "RF_CLASSIFICATION_PRED_DATA.to_csv(\"rf_clf_prediction.csv\") # Predictions to csv."
   ]
  },
  {
   "cell_type": "markdown",
   "id": "4c136109",
   "metadata": {},
   "source": [
    "### Feature importance"
   ]
  },
  {
   "cell_type": "code",
   "execution_count": 60,
   "id": "685d79fd",
   "metadata": {},
   "outputs": [],
   "source": [
    "#importance | spend amount model\n",
    "\n",
    "imp_spend_amount_dict = xgb_reg_model.best_estimator_.get_booster().get_score(importance_type = 'gain')"
   ]
  },
  {
   "cell_type": "code",
   "execution_count": 61,
   "id": "f8afc2e5",
   "metadata": {},
   "outputs": [],
   "source": [
    "imp_spend_amount_df = pd.DataFrame(data = {'feature': list(imp_spend_amount_dict.keys()), \n",
    "                                  'value': list(imp_spend_amount_dict.values())}).assign(feature = lambda x : cat.cat_reorder(x['feature'], x['value']))"
   ]
  },
  {
   "cell_type": "code",
   "execution_count": 62,
   "id": "5239b8ec",
   "metadata": {},
   "outputs": [
    {
     "data": {
      "text/html": [
       "<div>\n",
       "<style scoped>\n",
       "    .dataframe tbody tr th:only-of-type {\n",
       "        vertical-align: middle;\n",
       "    }\n",
       "\n",
       "    .dataframe tbody tr th {\n",
       "        vertical-align: top;\n",
       "    }\n",
       "\n",
       "    .dataframe thead th {\n",
       "        text-align: right;\n",
       "    }\n",
       "</style>\n",
       "<table border=\"1\" class=\"dataframe\">\n",
       "  <thead>\n",
       "    <tr style=\"text-align: right;\">\n",
       "      <th></th>\n",
       "      <th>feature</th>\n",
       "      <th>value</th>\n",
       "    </tr>\n",
       "  </thead>\n",
       "  <tbody>\n",
       "    <tr>\n",
       "      <th>0</th>\n",
       "      <td>recency</td>\n",
       "      <td>161406.093750</td>\n",
       "    </tr>\n",
       "    <tr>\n",
       "      <th>1</th>\n",
       "      <td>frequency</td>\n",
       "      <td>149993.890625</td>\n",
       "    </tr>\n",
       "    <tr>\n",
       "      <th>2</th>\n",
       "      <td>price_sum</td>\n",
       "      <td>636198.500000</td>\n",
       "    </tr>\n",
       "    <tr>\n",
       "      <th>3</th>\n",
       "      <td>price_mean</td>\n",
       "      <td>34036.613281</td>\n",
       "    </tr>\n",
       "  </tbody>\n",
       "</table>\n",
       "</div>"
      ],
      "text/plain": [
       "      feature          value\n",
       "0     recency  161406.093750\n",
       "1   frequency  149993.890625\n",
       "2   price_sum  636198.500000\n",
       "3  price_mean   34036.613281"
      ]
     },
     "execution_count": 62,
     "metadata": {},
     "output_type": "execute_result"
    }
   ],
   "source": [
    "imp_spend_amount_df"
   ]
  },
  {
   "cell_type": "code",
   "execution_count": 63,
   "id": "e62f1431",
   "metadata": {},
   "outputs": [
    {
     "data": {
      "image/png": "[encoded data removed]",
      "text/plain": [
       "<Figure size 640x480 with 1 Axes>"
      ]
     },
     "metadata": {},
     "output_type": "display_data"
    },
    {
     "data": {
      "text/plain": [
       "<ggplot: (149792172882)>"
      ]
     },
     "execution_count": 63,
     "metadata": {},
     "output_type": "execute_result"
    }
   ],
   "source": [
    "pn.ggplot(pn.aes('feature', 'value'), data = imp_spend_amount_df) + pn.geom_col() + pn.coord_flip() #plot of feature importance."
   ]
  },
  {
   "cell_type": "code",
   "execution_count": 64,
   "id": "7fd9f180",
   "metadata": {},
   "outputs": [],
   "source": [
    "# Importance | Spend probability model\n",
    "imp_spend_prob_dict = xgb_clf_model.best_estimator_.get_booster().get_score(importance_type = 'gain')"
   ]
  },
  {
   "cell_type": "code",
   "execution_count": 65,
   "id": "775260be",
   "metadata": {},
   "outputs": [],
   "source": [
    "imp_spend_prob_df = pd.DataFrame(data = {'feature': list(imp_spend_prob_dict.keys()), \n",
    "                                   'value': list(imp_spend_prob_dict.values())}).assign(feature = lambda x : cat.cat_reorder(x['feature'], x['value']))"
   ]
  },
  {
   "cell_type": "code",
   "execution_count": 66,
   "id": "e89177ba",
   "metadata": {},
   "outputs": [
    {
     "data": {
      "image/png": "[encoded data removed]",
      "text/plain": [
       "<Figure size 640x480 with 1 Axes>"
      ]
     },
     "metadata": {},
     "output_type": "display_data"
    },
    {
     "data": {
      "text/plain": [
       "<ggplot: (149801488933)>"
      ]
     },
     "execution_count": 66,
     "metadata": {},
     "output_type": "execute_result"
    }
   ],
   "source": [
    "pn.ggplot(pn.aes('feature', 'value'), data = imp_spend_prob_df) + pn.geom_col() + pn.coord_flip() #plot of feature importance."
   ]
  },
  {
   "cell_type": "markdown",
   "id": "008a3aaa",
   "metadata": {},
   "source": [
    "# Lifetimes Library"
   ]
  },
  {
   "cell_type": "code",
   "execution_count": 67,
   "id": "fb4e13b2",
   "metadata": {},
   "outputs": [
    {
     "data": {
      "text/plain": [
       "(67467, 4)"
      ]
     },
     "execution_count": 67,
     "metadata": {},
     "output_type": "execute_result"
    }
   ],
   "source": [
    "CDNOW_DATA = CDNOW_DATA[CDNOW_DATA['Price'] > 0]\n",
    "TRAIN = CDNOW_DATA[CDNOW_DATA[\"TransactionDate\"] < CDNOW_DATA[\"TransactionDate\"].max() - dt.timedelta(days = 30)]\n",
    "TRAIN.shape"
   ]
  },
  {
   "cell_type": "code",
   "execution_count": 68,
   "id": "8917ae23",
   "metadata": {},
   "outputs": [
    {
     "data": {
      "text/plain": [
       "(2111, 4)"
      ]
     },
     "execution_count": 68,
     "metadata": {},
     "output_type": "execute_result"
    }
   ],
   "source": [
    "TEST =  CDNOW_DATA[CDNOW_DATA[\"TransactionDate\"] >= CDNOW_DATA[\"TransactionDate\"].max() - dt.timedelta(days = 30)]\n",
    "TEST.shape"
   ]
  },
  {
   "cell_type": "code",
   "execution_count": 69,
   "id": "9a5ca5cc",
   "metadata": {},
   "outputs": [
    {
     "data": {
      "text/html": [
       "<div>\n",
       "<style scoped>\n",
       "    .dataframe tbody tr th:only-of-type {\n",
       "        vertical-align: middle;\n",
       "    }\n",
       "\n",
       "    .dataframe tbody tr th {\n",
       "        vertical-align: top;\n",
       "    }\n",
       "\n",
       "    .dataframe thead th {\n",
       "        text-align: right;\n",
       "    }\n",
       "</style>\n",
       "<table border=\"1\" class=\"dataframe\">\n",
       "  <thead>\n",
       "    <tr style=\"text-align: right;\">\n",
       "      <th></th>\n",
       "      <th>frequency</th>\n",
       "      <th>recency</th>\n",
       "      <th>T</th>\n",
       "      <th>monetary_value</th>\n",
       "    </tr>\n",
       "    <tr>\n",
       "      <th>CustomerID</th>\n",
       "      <th></th>\n",
       "      <th></th>\n",
       "      <th></th>\n",
       "      <th></th>\n",
       "    </tr>\n",
       "  </thead>\n",
       "  <tbody>\n",
       "    <tr>\n",
       "      <th>10</th>\n",
       "      <td>0.0</td>\n",
       "      <td>0.0</td>\n",
       "      <td>494.0</td>\n",
       "      <td>0.000</td>\n",
       "    </tr>\n",
       "    <tr>\n",
       "      <th>100</th>\n",
       "      <td>2.0</td>\n",
       "      <td>474.0</td>\n",
       "      <td>514.0</td>\n",
       "      <td>20.735</td>\n",
       "    </tr>\n",
       "    <tr>\n",
       "      <th>1000</th>\n",
       "      <td>0.0</td>\n",
       "      <td>0.0</td>\n",
       "      <td>495.0</td>\n",
       "      <td>0.000</td>\n",
       "    </tr>\n",
       "    <tr>\n",
       "      <th>10000</th>\n",
       "      <td>2.0</td>\n",
       "      <td>175.0</td>\n",
       "      <td>478.0</td>\n",
       "      <td>31.525</td>\n",
       "    </tr>\n",
       "    <tr>\n",
       "      <th>10001</th>\n",
       "      <td>1.0</td>\n",
       "      <td>245.0</td>\n",
       "      <td>478.0</td>\n",
       "      <td>12.990</td>\n",
       "    </tr>\n",
       "  </tbody>\n",
       "</table>\n",
       "</div>"
      ],
      "text/plain": [
       "            frequency  recency      T  monetary_value\n",
       "CustomerID                                           \n",
       "10                0.0      0.0  494.0           0.000\n",
       "100               2.0    474.0  514.0          20.735\n",
       "1000              0.0      0.0  495.0           0.000\n",
       "10000             2.0    175.0  478.0          31.525\n",
       "10001             1.0    245.0  478.0          12.990"
      ]
     },
     "execution_count": 69,
     "metadata": {},
     "output_type": "execute_result"
    }
   ],
   "source": [
    "CDNOW_data_LT = lifetimes.utils.summary_data_from_transaction_data(TRAIN, 'CustomerID', 'TransactionDate', 'Price' )\n",
    "CDNOW_data_LT.head()\n",
    "\n",
    "# frequency: total number of repeat purchases\n",
    "# recency: the difference between the customer's last purchase and his first purchase\n",
    "# T: the age of the client in the company\n",
    "# monetary_value: average earnings per purchase"
   ]
  },
  {
   "cell_type": "code",
   "execution_count": 70,
   "id": "e47b53d8",
   "metadata": {},
   "outputs": [
    {
     "data": {
      "image/png": "[encoded data removed]",
      "text/plain": [
       "<Figure size 432x288 with 1 Axes>"
      ]
     },
     "metadata": {
      "needs_background": "light"
     },
     "output_type": "display_data"
    },
    {
     "name": "stdout",
     "output_type": "stream",
     "text": [
      "count    23501.000000\n",
      "mean         1.786647\n",
      "std          3.963537\n",
      "min          0.000000\n",
      "25%          0.000000\n",
      "50%          0.000000\n",
      "75%          2.000000\n",
      "max        160.000000\n",
      "Name: frequency, dtype: float64\n",
      "---------------------------------------\n",
      "Percentage of customers that purchased the item only once: 51.42 %\n"
     ]
    }
   ],
   "source": [
    "# Create a distribution of frequency to understand the customer frequency level\n",
    "CDNOW_data_LT['frequency'].plot(kind='hist', bins=50)\n",
    "plt.show()\n",
    "print(CDNOW_data_LT['frequency'].describe())\n",
    "print(\"---------------------------------------\")\n",
    "one_time_buyers = round(sum(CDNOW_data_LT['frequency'] == 0)/float(len(CDNOW_data_LT))*(100),2)\n",
    "print(\"Percentage of customers that purchased the item only once:\", one_time_buyers ,\"%\")"
   ]
  },
  {
   "cell_type": "code",
   "execution_count": 71,
   "id": "6285f9a8",
   "metadata": {},
   "outputs": [
    {
     "data": {
      "text/plain": [
       "<lifetimes.BetaGeoFitter: fitted with 23501 subjects, a: 0.49, alpha: 41.74, b: 2.06, r: 0.27>"
      ]
     },
     "execution_count": 71,
     "metadata": {},
     "output_type": "execute_result"
    }
   ],
   "source": [
    "# Fitting the BG/NBD model\n",
    "bgf = lifetimes.BetaGeoFitter(penalizer_coef=0.0)\n",
    "bgf.fit(CDNOW_data_LT['frequency'], CDNOW_data_LT['recency'], CDNOW_data_LT['T'])"
   ]
  },
  {
   "cell_type": "code",
   "execution_count": 72,
   "id": "a1726a75",
   "metadata": {},
   "outputs": [
    {
     "data": {
      "text/html": [
       "<div>\n",
       "<style scoped>\n",
       "    .dataframe tbody tr th:only-of-type {\n",
       "        vertical-align: middle;\n",
       "    }\n",
       "\n",
       "    .dataframe tbody tr th {\n",
       "        vertical-align: top;\n",
       "    }\n",
       "\n",
       "    .dataframe thead th {\n",
       "        text-align: right;\n",
       "    }\n",
       "</style>\n",
       "<table border=\"1\" class=\"dataframe\">\n",
       "  <thead>\n",
       "    <tr style=\"text-align: right;\">\n",
       "      <th></th>\n",
       "      <th>coef</th>\n",
       "      <th>se(coef)</th>\n",
       "      <th>lower 95% bound</th>\n",
       "      <th>upper 95% bound</th>\n",
       "    </tr>\n",
       "  </thead>\n",
       "  <tbody>\n",
       "    <tr>\n",
       "      <th>r</th>\n",
       "      <td>0.270222</td>\n",
       "      <td>0.003751</td>\n",
       "      <td>0.262870</td>\n",
       "      <td>0.277575</td>\n",
       "    </tr>\n",
       "    <tr>\n",
       "      <th>alpha</th>\n",
       "      <td>41.739415</td>\n",
       "      <td>0.964840</td>\n",
       "      <td>39.848329</td>\n",
       "      <td>43.630501</td>\n",
       "    </tr>\n",
       "    <tr>\n",
       "      <th>a</th>\n",
       "      <td>0.489876</td>\n",
       "      <td>0.027509</td>\n",
       "      <td>0.435958</td>\n",
       "      <td>0.543793</td>\n",
       "    </tr>\n",
       "    <tr>\n",
       "      <th>b</th>\n",
       "      <td>2.055083</td>\n",
       "      <td>0.151340</td>\n",
       "      <td>1.758456</td>\n",
       "      <td>2.351709</td>\n",
       "    </tr>\n",
       "  </tbody>\n",
       "</table>\n",
       "</div>"
      ],
      "text/plain": [
       "            coef  se(coef)  lower 95% bound  upper 95% bound\n",
       "r       0.270222  0.003751         0.262870         0.277575\n",
       "alpha  41.739415  0.964840        39.848329        43.630501\n",
       "a       0.489876  0.027509         0.435958         0.543793\n",
       "b       2.055083  0.151340         1.758456         2.351709"
      ]
     },
     "execution_count": 72,
     "metadata": {},
     "output_type": "execute_result"
    }
   ],
   "source": [
    "# Model summary\n",
    "bgf.summary"
   ]
  },
  {
   "cell_type": "code",
   "execution_count": 73,
   "id": "5f44496c",
   "metadata": {},
   "outputs": [
    {
     "data": {
      "text/html": [
       "<div>\n",
       "<style scoped>\n",
       "    .dataframe tbody tr th:only-of-type {\n",
       "        vertical-align: middle;\n",
       "    }\n",
       "\n",
       "    .dataframe tbody tr th {\n",
       "        vertical-align: top;\n",
       "    }\n",
       "\n",
       "    .dataframe thead th {\n",
       "        text-align: right;\n",
       "    }\n",
       "</style>\n",
       "<table border=\"1\" class=\"dataframe\">\n",
       "  <thead>\n",
       "    <tr style=\"text-align: right;\">\n",
       "      <th></th>\n",
       "      <th>frequency</th>\n",
       "      <th>recency</th>\n",
       "      <th>T</th>\n",
       "      <th>monetary_value</th>\n",
       "      <th>probability_alive</th>\n",
       "    </tr>\n",
       "    <tr>\n",
       "      <th>CustomerID</th>\n",
       "      <th></th>\n",
       "      <th></th>\n",
       "      <th></th>\n",
       "      <th></th>\n",
       "      <th></th>\n",
       "    </tr>\n",
       "  </thead>\n",
       "  <tbody>\n",
       "    <tr>\n",
       "      <th>10</th>\n",
       "      <td>0.0</td>\n",
       "      <td>0.0</td>\n",
       "      <td>494.0</td>\n",
       "      <td>0.000</td>\n",
       "      <td>1.000000</td>\n",
       "    </tr>\n",
       "    <tr>\n",
       "      <th>100</th>\n",
       "      <td>2.0</td>\n",
       "      <td>474.0</td>\n",
       "      <td>514.0</td>\n",
       "      <td>20.735</td>\n",
       "      <td>0.840349</td>\n",
       "    </tr>\n",
       "    <tr>\n",
       "      <th>1000</th>\n",
       "      <td>0.0</td>\n",
       "      <td>0.0</td>\n",
       "      <td>495.0</td>\n",
       "      <td>0.000</td>\n",
       "      <td>1.000000</td>\n",
       "    </tr>\n",
       "    <tr>\n",
       "      <th>10000</th>\n",
       "      <td>2.0</td>\n",
       "      <td>175.0</td>\n",
       "      <td>478.0</td>\n",
       "      <td>31.525</td>\n",
       "      <td>0.461278</td>\n",
       "    </tr>\n",
       "    <tr>\n",
       "      <th>10001</th>\n",
       "      <td>1.0</td>\n",
       "      <td>245.0</td>\n",
       "      <td>478.0</td>\n",
       "      <td>12.990</td>\n",
       "      <td>0.663393</td>\n",
       "    </tr>\n",
       "    <tr>\n",
       "      <th>10002</th>\n",
       "      <td>0.0</td>\n",
       "      <td>0.0</td>\n",
       "      <td>478.0</td>\n",
       "      <td>0.000</td>\n",
       "      <td>1.000000</td>\n",
       "    </tr>\n",
       "    <tr>\n",
       "      <th>10003</th>\n",
       "      <td>0.0</td>\n",
       "      <td>0.0</td>\n",
       "      <td>478.0</td>\n",
       "      <td>0.000</td>\n",
       "      <td>1.000000</td>\n",
       "    </tr>\n",
       "    <tr>\n",
       "      <th>10004</th>\n",
       "      <td>0.0</td>\n",
       "      <td>0.0</td>\n",
       "      <td>478.0</td>\n",
       "      <td>0.000</td>\n",
       "      <td>1.000000</td>\n",
       "    </tr>\n",
       "    <tr>\n",
       "      <th>10005</th>\n",
       "      <td>0.0</td>\n",
       "      <td>0.0</td>\n",
       "      <td>469.0</td>\n",
       "      <td>0.000</td>\n",
       "      <td>1.000000</td>\n",
       "    </tr>\n",
       "    <tr>\n",
       "      <th>10006</th>\n",
       "      <td>0.0</td>\n",
       "      <td>0.0</td>\n",
       "      <td>470.0</td>\n",
       "      <td>0.000</td>\n",
       "      <td>1.000000</td>\n",
       "    </tr>\n",
       "  </tbody>\n",
       "</table>\n",
       "</div>"
      ],
      "text/plain": [
       "            frequency  recency      T  monetary_value  probability_alive\n",
       "CustomerID                                                              \n",
       "10                0.0      0.0  494.0           0.000           1.000000\n",
       "100               2.0    474.0  514.0          20.735           0.840349\n",
       "1000              0.0      0.0  495.0           0.000           1.000000\n",
       "10000             2.0    175.0  478.0          31.525           0.461278\n",
       "10001             1.0    245.0  478.0          12.990           0.663393\n",
       "10002             0.0      0.0  478.0           0.000           1.000000\n",
       "10003             0.0      0.0  478.0           0.000           1.000000\n",
       "10004             0.0      0.0  478.0           0.000           1.000000\n",
       "10005             0.0      0.0  469.0           0.000           1.000000\n",
       "10006             0.0      0.0  470.0           0.000           1.000000"
      ]
     },
     "execution_count": 73,
     "metadata": {},
     "output_type": "execute_result"
    }
   ],
   "source": [
    "# Compute the customer alive probability\n",
    "CDNOW_data_LT['probability_alive'] = bgf.conditional_probability_alive(CDNOW_data_LT['frequency'], CDNOW_data_LT['recency'], CDNOW_data_LT['T'])\n",
    "CDNOW_data_LT.head(10)"
   ]
  },
  {
   "cell_type": "code",
   "execution_count": 74,
   "id": "12a3a593",
   "metadata": {},
   "outputs": [
    {
     "data": {
      "image/png": "[encoded data removed]",
      "text/plain": [
       "<Figure size 864x576 with 2 Axes>"
      ]
     },
     "metadata": {
      "needs_background": "light"
     },
     "output_type": "display_data"
    }
   ],
   "source": [
    "# Visual representation of relationship between recency and frequency\n",
    "import matplotlib.pyplot as plt\n",
    "from lifetimes.plotting import plot_probability_alive_matrix\n",
    "\n",
    "fig = plt.figure(figsize=(12,8))\n",
    "plot_probability_alive_matrix(bgf)\n",
    "plt.show()"
   ]
  },
  {
   "cell_type": "code",
   "execution_count": 75,
   "id": "bb30c97c",
   "metadata": {},
   "outputs": [
    {
     "data": {
      "text/html": [
       "<div>\n",
       "<style scoped>\n",
       "    .dataframe tbody tr th:only-of-type {\n",
       "        vertical-align: middle;\n",
       "    }\n",
       "\n",
       "    .dataframe tbody tr th {\n",
       "        vertical-align: top;\n",
       "    }\n",
       "\n",
       "    .dataframe thead th {\n",
       "        text-align: right;\n",
       "    }\n",
       "</style>\n",
       "<table border=\"1\" class=\"dataframe\">\n",
       "  <thead>\n",
       "    <tr style=\"text-align: right;\">\n",
       "      <th></th>\n",
       "      <th>CustomerID</th>\n",
       "      <th>frequency</th>\n",
       "      <th>recency</th>\n",
       "      <th>T</th>\n",
       "      <th>monetary_value</th>\n",
       "      <th>probability_alive</th>\n",
       "      <th>pred_num_txn</th>\n",
       "    </tr>\n",
       "  </thead>\n",
       "  <tbody>\n",
       "    <tr>\n",
       "      <th>0</th>\n",
       "      <td>14048</td>\n",
       "      <td>160.0</td>\n",
       "      <td>463.0</td>\n",
       "      <td>465.0</td>\n",
       "      <td>52.730062</td>\n",
       "      <td>0.994300</td>\n",
       "      <td>9.30</td>\n",
       "    </tr>\n",
       "    <tr>\n",
       "      <th>1</th>\n",
       "      <td>7592</td>\n",
       "      <td>131.0</td>\n",
       "      <td>483.0</td>\n",
       "      <td>486.0</td>\n",
       "      <td>93.060458</td>\n",
       "      <td>0.992221</td>\n",
       "      <td>7.30</td>\n",
       "    </tr>\n",
       "    <tr>\n",
       "      <th>2</th>\n",
       "      <td>22061</td>\n",
       "      <td>111.0</td>\n",
       "      <td>430.0</td>\n",
       "      <td>436.0</td>\n",
       "      <td>33.009640</td>\n",
       "      <td>0.982472</td>\n",
       "      <td>6.76</td>\n",
       "    </tr>\n",
       "    <tr>\n",
       "      <th>3</th>\n",
       "      <td>7983</td>\n",
       "      <td>112.0</td>\n",
       "      <td>478.0</td>\n",
       "      <td>481.0</td>\n",
       "      <td>58.564018</td>\n",
       "      <td>0.991799</td>\n",
       "      <td>6.30</td>\n",
       "    </tr>\n",
       "    <tr>\n",
       "      <th>4</th>\n",
       "      <td>19597</td>\n",
       "      <td>90.0</td>\n",
       "      <td>444.0</td>\n",
       "      <td>446.0</td>\n",
       "      <td>24.609333</td>\n",
       "      <td>0.992264</td>\n",
       "      <td>5.43</td>\n",
       "    </tr>\n",
       "    <tr>\n",
       "      <th>5</th>\n",
       "      <td>3049</td>\n",
       "      <td>75.0</td>\n",
       "      <td>496.0</td>\n",
       "      <td>502.0</td>\n",
       "      <td>50.740533</td>\n",
       "      <td>0.985369</td>\n",
       "      <td>4.04</td>\n",
       "    </tr>\n",
       "    <tr>\n",
       "      <th>6</th>\n",
       "      <td>2484</td>\n",
       "      <td>62.0</td>\n",
       "      <td>503.0</td>\n",
       "      <td>504.0</td>\n",
       "      <td>25.641613</td>\n",
       "      <td>0.991366</td>\n",
       "      <td>3.35</td>\n",
       "    </tr>\n",
       "    <tr>\n",
       "      <th>7</th>\n",
       "      <td>10079</td>\n",
       "      <td>57.0</td>\n",
       "      <td>463.0</td>\n",
       "      <td>478.0</td>\n",
       "      <td>37.042456</td>\n",
       "      <td>0.956803</td>\n",
       "      <td>3.12</td>\n",
       "    </tr>\n",
       "    <tr>\n",
       "      <th>8</th>\n",
       "      <td>4459</td>\n",
       "      <td>57.0</td>\n",
       "      <td>469.0</td>\n",
       "      <td>491.0</td>\n",
       "      <td>31.856316</td>\n",
       "      <td>0.913706</td>\n",
       "      <td>2.91</td>\n",
       "    </tr>\n",
       "    <tr>\n",
       "      <th>9</th>\n",
       "      <td>17104</td>\n",
       "      <td>50.0</td>\n",
       "      <td>440.0</td>\n",
       "      <td>454.0</td>\n",
       "      <td>29.721000</td>\n",
       "      <td>0.961075</td>\n",
       "      <td>2.88</td>\n",
       "    </tr>\n",
       "  </tbody>\n",
       "</table>\n",
       "</div>"
      ],
      "text/plain": [
       "  CustomerID  frequency  recency      T  monetary_value  probability_alive  \\\n",
       "0      14048      160.0    463.0  465.0       52.730062           0.994300   \n",
       "1       7592      131.0    483.0  486.0       93.060458           0.992221   \n",
       "2      22061      111.0    430.0  436.0       33.009640           0.982472   \n",
       "3       7983      112.0    478.0  481.0       58.564018           0.991799   \n",
       "4      19597       90.0    444.0  446.0       24.609333           0.992264   \n",
       "5       3049       75.0    496.0  502.0       50.740533           0.985369   \n",
       "6       2484       62.0    503.0  504.0       25.641613           0.991366   \n",
       "7      10079       57.0    463.0  478.0       37.042456           0.956803   \n",
       "8       4459       57.0    469.0  491.0       31.856316           0.913706   \n",
       "9      17104       50.0    440.0  454.0       29.721000           0.961075   \n",
       "\n",
       "   pred_num_txn  \n",
       "0          9.30  \n",
       "1          7.30  \n",
       "2          6.76  \n",
       "3          6.30  \n",
       "4          5.43  \n",
       "5          4.04  \n",
       "6          3.35  \n",
       "7          3.12  \n",
       "8          2.91  \n",
       "9          2.88  "
      ]
     },
     "execution_count": 75,
     "metadata": {},
     "output_type": "execute_result"
    }
   ],
   "source": [
    "#Predict future transaction for the next 30 days based on historical dataa\n",
    "t = 30\n",
    "CDNOW_data_LT['pred_num_txn'] = round(bgf.conditional_expected_number_of_purchases_up_to_time(t, CDNOW_data_LT['frequency'], CDNOW_data_LT['recency'], CDNOW_data_LT['T']),2)\n",
    "CDNOW_data_LT.sort_values(by='pred_num_txn', ascending=False).head(10).reset_index()"
   ]
  },
  {
   "cell_type": "code",
   "execution_count": 76,
   "id": "4d3ad54d",
   "metadata": {},
   "outputs": [
    {
     "name": "stdout",
     "output_type": "stream",
     "text": [
      "(11416, 6)\n"
     ]
    },
    {
     "data": {
      "text/html": [
       "<div>\n",
       "<style scoped>\n",
       "    .dataframe tbody tr th:only-of-type {\n",
       "        vertical-align: middle;\n",
       "    }\n",
       "\n",
       "    .dataframe tbody tr th {\n",
       "        vertical-align: top;\n",
       "    }\n",
       "\n",
       "    .dataframe thead th {\n",
       "        text-align: right;\n",
       "    }\n",
       "</style>\n",
       "<table border=\"1\" class=\"dataframe\">\n",
       "  <thead>\n",
       "    <tr style=\"text-align: right;\">\n",
       "      <th></th>\n",
       "      <th>frequency</th>\n",
       "      <th>recency</th>\n",
       "      <th>T</th>\n",
       "      <th>monetary_value</th>\n",
       "      <th>probability_alive</th>\n",
       "      <th>pred_num_txn</th>\n",
       "    </tr>\n",
       "    <tr>\n",
       "      <th>CustomerID</th>\n",
       "      <th></th>\n",
       "      <th></th>\n",
       "      <th></th>\n",
       "      <th></th>\n",
       "      <th></th>\n",
       "      <th></th>\n",
       "    </tr>\n",
       "  </thead>\n",
       "  <tbody>\n",
       "    <tr>\n",
       "      <th>100</th>\n",
       "      <td>2.0</td>\n",
       "      <td>474.0</td>\n",
       "      <td>514.0</td>\n",
       "      <td>20.735000</td>\n",
       "      <td>0.840349</td>\n",
       "      <td>0.10</td>\n",
       "    </tr>\n",
       "    <tr>\n",
       "      <th>10000</th>\n",
       "      <td>2.0</td>\n",
       "      <td>175.0</td>\n",
       "      <td>478.0</td>\n",
       "      <td>31.525000</td>\n",
       "      <td>0.461278</td>\n",
       "      <td>0.06</td>\n",
       "    </tr>\n",
       "    <tr>\n",
       "      <th>10001</th>\n",
       "      <td>1.0</td>\n",
       "      <td>245.0</td>\n",
       "      <td>478.0</td>\n",
       "      <td>12.990000</td>\n",
       "      <td>0.663393</td>\n",
       "      <td>0.05</td>\n",
       "    </tr>\n",
       "    <tr>\n",
       "      <th>10009</th>\n",
       "      <td>3.0</td>\n",
       "      <td>262.0</td>\n",
       "      <td>474.0</td>\n",
       "      <td>100.783333</td>\n",
       "      <td>0.594407</td>\n",
       "      <td>0.11</td>\n",
       "    </tr>\n",
       "    <tr>\n",
       "      <th>1001</th>\n",
       "      <td>2.0</td>\n",
       "      <td>133.0</td>\n",
       "      <td>510.0</td>\n",
       "      <td>28.335000</td>\n",
       "      <td>0.314353</td>\n",
       "      <td>0.04</td>\n",
       "    </tr>\n",
       "  </tbody>\n",
       "</table>\n",
       "</div>"
      ],
      "text/plain": [
       "            frequency  recency      T  monetary_value  probability_alive  \\\n",
       "CustomerID                                                                 \n",
       "100               2.0    474.0  514.0       20.735000           0.840349   \n",
       "10000             2.0    175.0  478.0       31.525000           0.461278   \n",
       "10001             1.0    245.0  478.0       12.990000           0.663393   \n",
       "10009             3.0    262.0  474.0      100.783333           0.594407   \n",
       "1001              2.0    133.0  510.0       28.335000           0.314353   \n",
       "\n",
       "            pred_num_txn  \n",
       "CustomerID                \n",
       "100                 0.10  \n",
       "10000               0.06  \n",
       "10001               0.05  \n",
       "10009               0.11  \n",
       "1001                0.04  "
      ]
     },
     "execution_count": 76,
     "metadata": {},
     "output_type": "execute_result"
    }
   ],
   "source": [
    "# Checking the relationship between frequency and monetary_value\n",
    "CDNOW_return_customers_summary = CDNOW_data_LT[CDNOW_data_LT['frequency']>0]\n",
    "print(CDNOW_return_customers_summary.shape)\n",
    "CDNOW_return_customers_summary.head()"
   ]
  },
  {
   "cell_type": "code",
   "execution_count": 77,
   "id": "912a3ba2",
   "metadata": {},
   "outputs": [
    {
     "data": {
      "text/html": [
       "<div>\n",
       "<style scoped>\n",
       "    .dataframe tbody tr th:only-of-type {\n",
       "        vertical-align: middle;\n",
       "    }\n",
       "\n",
       "    .dataframe tbody tr th {\n",
       "        vertical-align: top;\n",
       "    }\n",
       "\n",
       "    .dataframe thead th {\n",
       "        text-align: right;\n",
       "    }\n",
       "</style>\n",
       "<table border=\"1\" class=\"dataframe\">\n",
       "  <thead>\n",
       "    <tr style=\"text-align: right;\">\n",
       "      <th></th>\n",
       "      <th>frequency</th>\n",
       "      <th>monetary_value</th>\n",
       "    </tr>\n",
       "  </thead>\n",
       "  <tbody>\n",
       "    <tr>\n",
       "      <th>frequency</th>\n",
       "      <td>1.000000</td>\n",
       "      <td>0.069991</td>\n",
       "    </tr>\n",
       "    <tr>\n",
       "      <th>monetary_value</th>\n",
       "      <td>0.069991</td>\n",
       "      <td>1.000000</td>\n",
       "    </tr>\n",
       "  </tbody>\n",
       "</table>\n",
       "</div>"
      ],
      "text/plain": [
       "                frequency  monetary_value\n",
       "frequency        1.000000        0.069991\n",
       "monetary_value   0.069991        1.000000"
      ]
     },
     "execution_count": 77,
     "metadata": {},
     "output_type": "execute_result"
    }
   ],
   "source": [
    "# Checking the relationship between frequency and monetary_value\n",
    "CDNOW_return_customers_summary[['frequency', 'monetary_value']].corr()"
   ]
  },
  {
   "cell_type": "code",
   "execution_count": 78,
   "id": "b28be4f5",
   "metadata": {},
   "outputs": [
    {
     "data": {
      "text/plain": [
       "<lifetimes.GammaGammaFitter: fitted with 11416 subjects, p: 4.11, q: 0.96, v: 3.83>"
      ]
     },
     "execution_count": 78,
     "metadata": {},
     "output_type": "execute_result"
    }
   ],
   "source": [
    "# Modeling the monetary value using Gamma-Gamma Model\n",
    "ggf = lifetimes.GammaGammaFitter(penalizer_coef=0.01)\n",
    "ggf.fit(CDNOW_return_customers_summary['frequency'],\n",
    "       CDNOW_return_customers_summary['monetary_value'])"
   ]
  },
  {
   "cell_type": "code",
   "execution_count": 79,
   "id": "1f1c0a0f",
   "metadata": {},
   "outputs": [
    {
     "data": {
      "text/html": [
       "<div>\n",
       "<style scoped>\n",
       "    .dataframe tbody tr th:only-of-type {\n",
       "        vertical-align: middle;\n",
       "    }\n",
       "\n",
       "    .dataframe tbody tr th {\n",
       "        vertical-align: top;\n",
       "    }\n",
       "\n",
       "    .dataframe thead th {\n",
       "        text-align: right;\n",
       "    }\n",
       "</style>\n",
       "<table border=\"1\" class=\"dataframe\">\n",
       "  <thead>\n",
       "    <tr style=\"text-align: right;\">\n",
       "      <th></th>\n",
       "      <th>coef</th>\n",
       "      <th>se(coef)</th>\n",
       "      <th>lower 95% bound</th>\n",
       "      <th>upper 95% bound</th>\n",
       "    </tr>\n",
       "  </thead>\n",
       "  <tbody>\n",
       "    <tr>\n",
       "      <th>p</th>\n",
       "      <td>4.109405</td>\n",
       "      <td>0.044198</td>\n",
       "      <td>4.022777</td>\n",
       "      <td>4.196034</td>\n",
       "    </tr>\n",
       "    <tr>\n",
       "      <th>q</th>\n",
       "      <td>0.958532</td>\n",
       "      <td>0.011201</td>\n",
       "      <td>0.936577</td>\n",
       "      <td>0.980487</td>\n",
       "    </tr>\n",
       "    <tr>\n",
       "      <th>v</th>\n",
       "      <td>3.831848</td>\n",
       "      <td>0.044178</td>\n",
       "      <td>3.745260</td>\n",
       "      <td>3.918436</td>\n",
       "    </tr>\n",
       "  </tbody>\n",
       "</table>\n",
       "</div>"
      ],
      "text/plain": [
       "       coef  se(coef)  lower 95% bound  upper 95% bound\n",
       "p  4.109405  0.044198         4.022777         4.196034\n",
       "q  0.958532  0.011201         0.936577         0.980487\n",
       "v  3.831848  0.044178         3.745260         3.918436"
      ]
     },
     "execution_count": 79,
     "metadata": {},
     "output_type": "execute_result"
    }
   ],
   "source": [
    "# Summary of the fitted parameters\n",
    "ggf.summary"
   ]
  },
  {
   "cell_type": "code",
   "execution_count": 80,
   "id": "82da327c",
   "metadata": {},
   "outputs": [
    {
     "data": {
      "text/html": [
       "<div>\n",
       "<style scoped>\n",
       "    .dataframe tbody tr th:only-of-type {\n",
       "        vertical-align: middle;\n",
       "    }\n",
       "\n",
       "    .dataframe tbody tr th {\n",
       "        vertical-align: top;\n",
       "    }\n",
       "\n",
       "    .dataframe thead th {\n",
       "        text-align: right;\n",
       "    }\n",
       "</style>\n",
       "<table border=\"1\" class=\"dataframe\">\n",
       "  <thead>\n",
       "    <tr style=\"text-align: right;\">\n",
       "      <th></th>\n",
       "      <th>frequency</th>\n",
       "      <th>recency</th>\n",
       "      <th>T</th>\n",
       "      <th>monetary_value</th>\n",
       "      <th>probability_alive</th>\n",
       "      <th>pred_num_txn</th>\n",
       "      <th>exp_avg_sales</th>\n",
       "    </tr>\n",
       "    <tr>\n",
       "      <th>CustomerID</th>\n",
       "      <th></th>\n",
       "      <th></th>\n",
       "      <th></th>\n",
       "      <th></th>\n",
       "      <th></th>\n",
       "      <th></th>\n",
       "      <th></th>\n",
       "    </tr>\n",
       "  </thead>\n",
       "  <tbody>\n",
       "    <tr>\n",
       "      <th>100</th>\n",
       "      <td>2.0</td>\n",
       "      <td>474.0</td>\n",
       "      <td>514.0</td>\n",
       "      <td>20.735000</td>\n",
       "      <td>0.840349</td>\n",
       "      <td>0.10</td>\n",
       "      <td>22.765789</td>\n",
       "    </tr>\n",
       "    <tr>\n",
       "      <th>10000</th>\n",
       "      <td>2.0</td>\n",
       "      <td>175.0</td>\n",
       "      <td>478.0</td>\n",
       "      <td>31.525000</td>\n",
       "      <td>0.461278</td>\n",
       "      <td>0.06</td>\n",
       "      <td>33.610506</td>\n",
       "    </tr>\n",
       "    <tr>\n",
       "      <th>10001</th>\n",
       "      <td>1.0</td>\n",
       "      <td>245.0</td>\n",
       "      <td>478.0</td>\n",
       "      <td>12.990000</td>\n",
       "      <td>0.663393</td>\n",
       "      <td>0.05</td>\n",
       "      <td>16.993327</td>\n",
       "    </tr>\n",
       "    <tr>\n",
       "      <th>10009</th>\n",
       "      <td>3.0</td>\n",
       "      <td>262.0</td>\n",
       "      <td>474.0</td>\n",
       "      <td>100.783333</td>\n",
       "      <td>0.594407</td>\n",
       "      <td>0.11</td>\n",
       "      <td>102.405072</td>\n",
       "    </tr>\n",
       "    <tr>\n",
       "      <th>1001</th>\n",
       "      <td>2.0</td>\n",
       "      <td>133.0</td>\n",
       "      <td>510.0</td>\n",
       "      <td>28.335000</td>\n",
       "      <td>0.314353</td>\n",
       "      <td>0.04</td>\n",
       "      <td>30.404329</td>\n",
       "    </tr>\n",
       "  </tbody>\n",
       "</table>\n",
       "</div>"
      ],
      "text/plain": [
       "            frequency  recency      T  monetary_value  probability_alive  \\\n",
       "CustomerID                                                                 \n",
       "100               2.0    474.0  514.0       20.735000           0.840349   \n",
       "10000             2.0    175.0  478.0       31.525000           0.461278   \n",
       "10001             1.0    245.0  478.0       12.990000           0.663393   \n",
       "10009             3.0    262.0  474.0      100.783333           0.594407   \n",
       "1001              2.0    133.0  510.0       28.335000           0.314353   \n",
       "\n",
       "            pred_num_txn  exp_avg_sales  \n",
       "CustomerID                               \n",
       "100                 0.10      22.765789  \n",
       "10000               0.06      33.610506  \n",
       "10001               0.05      16.993327  \n",
       "10009               0.11     102.405072  \n",
       "1001                0.04      30.404329  "
      ]
     },
     "execution_count": 80,
     "metadata": {},
     "output_type": "execute_result"
    }
   ],
   "source": [
    "# Calculating the conditional expected average profit for each customer per transaction\n",
    "CDNOW_data_LT_vF = CDNOW_data_LT[CDNOW_data_LT['monetary_value'] >0]\n",
    "CDNOW_data_LT_vF['exp_avg_sales'] = ggf.conditional_expected_average_profit(CDNOW_data_LT['frequency'],\n",
    "                                       CDNOW_data_LT['monetary_value'])\n",
    "CDNOW_data_LT_vF.head()"
   ]
  },
  {
   "cell_type": "code",
   "execution_count": 81,
   "id": "597c6d24",
   "metadata": {},
   "outputs": [
    {
     "name": "stdout",
     "output_type": "stream",
     "text": [
      "Expected Average Sales: 38.33174958021601\n",
      "Actual Average Sales: 35.99568193579705\n"
     ]
    }
   ],
   "source": [
    "# Checking the expected average value and the actual average value in the data to make sure the values are good\n",
    "print(f\"Expected Average Sales: {CDNOW_data_LT_vF['exp_avg_sales'].mean()}\")\n",
    "print(f\"Actual Average Sales: {CDNOW_data_LT_vF['monetary_value'].mean()}\")"
   ]
  },
  {
   "cell_type": "code",
   "execution_count": 82,
   "id": "f83d9eb4",
   "metadata": {},
   "outputs": [
    {
     "data": {
      "text/html": [
       "<div>\n",
       "<style scoped>\n",
       "    .dataframe tbody tr th:only-of-type {\n",
       "        vertical-align: middle;\n",
       "    }\n",
       "\n",
       "    .dataframe tbody tr th {\n",
       "        vertical-align: top;\n",
       "    }\n",
       "\n",
       "    .dataframe thead th {\n",
       "        text-align: right;\n",
       "    }\n",
       "</style>\n",
       "<table border=\"1\" class=\"dataframe\">\n",
       "  <thead>\n",
       "    <tr style=\"text-align: right;\">\n",
       "      <th></th>\n",
       "      <th>frequency</th>\n",
       "      <th>recency</th>\n",
       "      <th>T</th>\n",
       "      <th>monetary_value</th>\n",
       "      <th>probability_alive</th>\n",
       "      <th>pred_num_txn</th>\n",
       "      <th>exp_avg_sales</th>\n",
       "      <th>predicted_clv</th>\n",
       "    </tr>\n",
       "    <tr>\n",
       "      <th>CustomerID</th>\n",
       "      <th></th>\n",
       "      <th></th>\n",
       "      <th></th>\n",
       "      <th></th>\n",
       "      <th></th>\n",
       "      <th></th>\n",
       "      <th></th>\n",
       "      <th></th>\n",
       "    </tr>\n",
       "  </thead>\n",
       "  <tbody>\n",
       "    <tr>\n",
       "      <th>100</th>\n",
       "      <td>2.0</td>\n",
       "      <td>474.0</td>\n",
       "      <td>514.0</td>\n",
       "      <td>20.735000</td>\n",
       "      <td>0.840349</td>\n",
       "      <td>0.10</td>\n",
       "      <td>22.765789</td>\n",
       "      <td>2.299704</td>\n",
       "    </tr>\n",
       "    <tr>\n",
       "      <th>10000</th>\n",
       "      <td>2.0</td>\n",
       "      <td>175.0</td>\n",
       "      <td>478.0</td>\n",
       "      <td>31.525000</td>\n",
       "      <td>0.461278</td>\n",
       "      <td>0.06</td>\n",
       "      <td>33.610506</td>\n",
       "      <td>1.991479</td>\n",
       "    </tr>\n",
       "    <tr>\n",
       "      <th>10001</th>\n",
       "      <td>1.0</td>\n",
       "      <td>245.0</td>\n",
       "      <td>478.0</td>\n",
       "      <td>12.990000</td>\n",
       "      <td>0.663393</td>\n",
       "      <td>0.05</td>\n",
       "      <td>16.993327</td>\n",
       "      <td>0.811097</td>\n",
       "    </tr>\n",
       "    <tr>\n",
       "      <th>10009</th>\n",
       "      <td>3.0</td>\n",
       "      <td>262.0</td>\n",
       "      <td>474.0</td>\n",
       "      <td>100.783333</td>\n",
       "      <td>0.594407</td>\n",
       "      <td>0.11</td>\n",
       "      <td>102.405072</td>\n",
       "      <td>11.341482</td>\n",
       "    </tr>\n",
       "    <tr>\n",
       "      <th>1001</th>\n",
       "      <td>2.0</td>\n",
       "      <td>133.0</td>\n",
       "      <td>510.0</td>\n",
       "      <td>28.335000</td>\n",
       "      <td>0.314353</td>\n",
       "      <td>0.04</td>\n",
       "      <td>30.404329</td>\n",
       "      <td>1.157153</td>\n",
       "    </tr>\n",
       "  </tbody>\n",
       "</table>\n",
       "</div>"
      ],
      "text/plain": [
       "            frequency  recency      T  monetary_value  probability_alive  \\\n",
       "CustomerID                                                                 \n",
       "100               2.0    474.0  514.0       20.735000           0.840349   \n",
       "10000             2.0    175.0  478.0       31.525000           0.461278   \n",
       "10001             1.0    245.0  478.0       12.990000           0.663393   \n",
       "10009             3.0    262.0  474.0      100.783333           0.594407   \n",
       "1001              2.0    133.0  510.0       28.335000           0.314353   \n",
       "\n",
       "            pred_num_txn  exp_avg_sales  predicted_clv  \n",
       "CustomerID                                              \n",
       "100                 0.10      22.765789       2.299704  \n",
       "10000               0.06      33.610506       1.991479  \n",
       "10001               0.05      16.993327       0.811097  \n",
       "10009               0.11     102.405072      11.341482  \n",
       "1001                0.04      30.404329       1.157153  "
      ]
     },
     "execution_count": 82,
     "metadata": {},
     "output_type": "execute_result"
    }
   ],
   "source": [
    "# Predicting Customer Lifetime Value for the next 30 days\n",
    "CDNOW_data_LT_vF['predicted_clv'] =      ggf.customer_lifetime_value(bgf,\n",
    "                                                               CDNOW_data_LT_vF['frequency'],\n",
    "                                                               CDNOW_data_LT_vF['recency'],\n",
    "                                                               CDNOW_data_LT_vF['T'],\n",
    "                                                               CDNOW_data_LT_vF['monetary_value'],\n",
    "                                                               time=1,     # lifetime in months\n",
    "                                                               freq='D',   # frequency in which the data is present(T)      \n",
    "                                                               discount_rate=0.01) # discount rate\n",
    "CDNOW_data_LT_vF.head()"
   ]
  },
  {
   "cell_type": "code",
   "execution_count": 83,
   "id": "dd89ac28",
   "metadata": {},
   "outputs": [
    {
     "data": {
      "text/html": [
       "<div>\n",
       "<style scoped>\n",
       "    .dataframe tbody tr th:only-of-type {\n",
       "        vertical-align: middle;\n",
       "    }\n",
       "\n",
       "    .dataframe tbody tr th {\n",
       "        vertical-align: top;\n",
       "    }\n",
       "\n",
       "    .dataframe thead th {\n",
       "        text-align: right;\n",
       "    }\n",
       "</style>\n",
       "<table border=\"1\" class=\"dataframe\">\n",
       "  <thead>\n",
       "    <tr style=\"text-align: right;\">\n",
       "      <th></th>\n",
       "      <th>frequency</th>\n",
       "      <th>recency</th>\n",
       "      <th>T</th>\n",
       "      <th>monetary_value</th>\n",
       "      <th>probability_alive</th>\n",
       "      <th>pred_num_txn</th>\n",
       "      <th>exp_avg_sales</th>\n",
       "      <th>predicted_clv</th>\n",
       "      <th>manual_predicted_clv</th>\n",
       "    </tr>\n",
       "    <tr>\n",
       "      <th>CustomerID</th>\n",
       "      <th></th>\n",
       "      <th></th>\n",
       "      <th></th>\n",
       "      <th></th>\n",
       "      <th></th>\n",
       "      <th></th>\n",
       "      <th></th>\n",
       "      <th></th>\n",
       "      <th></th>\n",
       "    </tr>\n",
       "  </thead>\n",
       "  <tbody>\n",
       "    <tr>\n",
       "      <th>100</th>\n",
       "      <td>2.0</td>\n",
       "      <td>474.0</td>\n",
       "      <td>514.0</td>\n",
       "      <td>20.735000</td>\n",
       "      <td>0.840349</td>\n",
       "      <td>0.10</td>\n",
       "      <td>22.765789</td>\n",
       "      <td>2.299704</td>\n",
       "      <td>2.276579</td>\n",
       "    </tr>\n",
       "    <tr>\n",
       "      <th>10000</th>\n",
       "      <td>2.0</td>\n",
       "      <td>175.0</td>\n",
       "      <td>478.0</td>\n",
       "      <td>31.525000</td>\n",
       "      <td>0.461278</td>\n",
       "      <td>0.06</td>\n",
       "      <td>33.610506</td>\n",
       "      <td>1.991479</td>\n",
       "      <td>2.016630</td>\n",
       "    </tr>\n",
       "    <tr>\n",
       "      <th>10001</th>\n",
       "      <td>1.0</td>\n",
       "      <td>245.0</td>\n",
       "      <td>478.0</td>\n",
       "      <td>12.990000</td>\n",
       "      <td>0.663393</td>\n",
       "      <td>0.05</td>\n",
       "      <td>16.993327</td>\n",
       "      <td>0.811097</td>\n",
       "      <td>0.849666</td>\n",
       "    </tr>\n",
       "    <tr>\n",
       "      <th>10009</th>\n",
       "      <td>3.0</td>\n",
       "      <td>262.0</td>\n",
       "      <td>474.0</td>\n",
       "      <td>100.783333</td>\n",
       "      <td>0.594407</td>\n",
       "      <td>0.11</td>\n",
       "      <td>102.405072</td>\n",
       "      <td>11.341482</td>\n",
       "      <td>11.264558</td>\n",
       "    </tr>\n",
       "    <tr>\n",
       "      <th>1001</th>\n",
       "      <td>2.0</td>\n",
       "      <td>133.0</td>\n",
       "      <td>510.0</td>\n",
       "      <td>28.335000</td>\n",
       "      <td>0.314353</td>\n",
       "      <td>0.04</td>\n",
       "      <td>30.404329</td>\n",
       "      <td>1.157153</td>\n",
       "      <td>1.216173</td>\n",
       "    </tr>\n",
       "  </tbody>\n",
       "</table>\n",
       "</div>"
      ],
      "text/plain": [
       "            frequency  recency      T  monetary_value  probability_alive  \\\n",
       "CustomerID                                                                 \n",
       "100               2.0    474.0  514.0       20.735000           0.840349   \n",
       "10000             2.0    175.0  478.0       31.525000           0.461278   \n",
       "10001             1.0    245.0  478.0       12.990000           0.663393   \n",
       "10009             3.0    262.0  474.0      100.783333           0.594407   \n",
       "1001              2.0    133.0  510.0       28.335000           0.314353   \n",
       "\n",
       "            pred_num_txn  exp_avg_sales  predicted_clv  manual_predicted_clv  \n",
       "CustomerID                                                                    \n",
       "100                 0.10      22.765789       2.299704              2.276579  \n",
       "10000               0.06      33.610506       1.991479              2.016630  \n",
       "10001               0.05      16.993327       0.811097              0.849666  \n",
       "10009               0.11     102.405072      11.341482             11.264558  \n",
       "1001                0.04      30.404329       1.157153              1.216173  "
      ]
     },
     "execution_count": 83,
     "metadata": {},
     "output_type": "execute_result"
    }
   ],
   "source": [
    "# Manual CLV pridiction\n",
    "CDNOW_data_LT_vF['manual_predicted_clv'] = CDNOW_data_LT_vF['pred_num_txn'] * CDNOW_data_LT_vF['exp_avg_sales']\n",
    "CDNOW_data_LT_vF.head()"
   ]
  },
  {
   "cell_type": "markdown",
   "id": "72376d6e",
   "metadata": {},
   "source": [
    "### TEST"
   ]
  },
  {
   "cell_type": "code",
   "execution_count": 84,
   "id": "1f237e44",
   "metadata": {},
   "outputs": [
    {
     "data": {
      "text/html": [
       "<div>\n",
       "<style scoped>\n",
       "    .dataframe tbody tr th:only-of-type {\n",
       "        vertical-align: middle;\n",
       "    }\n",
       "\n",
       "    .dataframe tbody tr th {\n",
       "        vertical-align: top;\n",
       "    }\n",
       "\n",
       "    .dataframe thead th {\n",
       "        text-align: right;\n",
       "    }\n",
       "</style>\n",
       "<table border=\"1\" class=\"dataframe\">\n",
       "  <thead>\n",
       "    <tr style=\"text-align: right;\">\n",
       "      <th></th>\n",
       "      <th>CustomerID</th>\n",
       "      <th>TransactionDate</th>\n",
       "      <th>UnitsSold</th>\n",
       "      <th>Price</th>\n",
       "    </tr>\n",
       "  </thead>\n",
       "  <tbody>\n",
       "    <tr>\n",
       "      <th>37</th>\n",
       "      <td>9</td>\n",
       "      <td>1998-06-08</td>\n",
       "      <td>2</td>\n",
       "      <td>41.98</td>\n",
       "    </tr>\n",
       "    <tr>\n",
       "      <th>69</th>\n",
       "      <td>25</td>\n",
       "      <td>1998-06-03</td>\n",
       "      <td>3</td>\n",
       "      <td>24.97</td>\n",
       "    </tr>\n",
       "    <tr>\n",
       "      <th>70</th>\n",
       "      <td>25</td>\n",
       "      <td>1998-06-08</td>\n",
       "      <td>2</td>\n",
       "      <td>24.98</td>\n",
       "    </tr>\n",
       "    <tr>\n",
       "      <th>194</th>\n",
       "      <td>47</td>\n",
       "      <td>1998-06-06</td>\n",
       "      <td>1</td>\n",
       "      <td>12.99</td>\n",
       "    </tr>\n",
       "    <tr>\n",
       "      <th>213</th>\n",
       "      <td>48</td>\n",
       "      <td>1998-06-08</td>\n",
       "      <td>1</td>\n",
       "      <td>9.49</td>\n",
       "    </tr>\n",
       "  </tbody>\n",
       "</table>\n",
       "</div>"
      ],
      "text/plain": [
       "    CustomerID TransactionDate  UnitsSold  Price\n",
       "37           9      1998-06-08          2  41.98\n",
       "69          25      1998-06-03          3  24.97\n",
       "70          25      1998-06-08          2  24.98\n",
       "194         47      1998-06-06          1  12.99\n",
       "213         48      1998-06-08          1   9.49"
      ]
     },
     "execution_count": 84,
     "metadata": {},
     "output_type": "execute_result"
    }
   ],
   "source": [
    "TEST.head()"
   ]
  },
  {
   "cell_type": "code",
   "execution_count": 85,
   "id": "a6375465",
   "metadata": {},
   "outputs": [],
   "source": [
    "ACTUAL = TEST.groupby(\"CustomerID\")[\"Price\"].sum().reset_index() # Calculating the Sum of Price"
   ]
  },
  {
   "cell_type": "code",
   "execution_count": 86,
   "id": "f5a96dd2",
   "metadata": {},
   "outputs": [],
   "source": [
    "ACTUAL.rename(columns ={\"Price\":\"actual_amount_spent_in_next_30_days\"}, inplace = True) # renaming the columns"
   ]
  },
  {
   "cell_type": "code",
   "execution_count": 87,
   "id": "f97c6fbc",
   "metadata": {},
   "outputs": [],
   "source": [
    "# Actual vs Predicted Dataframe\n",
    "Pred_vs_Actual = CDNOW_data_LT_vF.merge(ACTUAL, on = \"CustomerID\", how = \"left\")\n",
    "Pred_vs_Actual.fillna(0, inplace = True)"
   ]
  },
  {
   "cell_type": "code",
   "execution_count": 88,
   "id": "62eb27d1",
   "metadata": {},
   "outputs": [
    {
     "data": {
      "text/html": [
       "<div>\n",
       "<style scoped>\n",
       "    .dataframe tbody tr th:only-of-type {\n",
       "        vertical-align: middle;\n",
       "    }\n",
       "\n",
       "    .dataframe tbody tr th {\n",
       "        vertical-align: top;\n",
       "    }\n",
       "\n",
       "    .dataframe thead th {\n",
       "        text-align: right;\n",
       "    }\n",
       "</style>\n",
       "<table border=\"1\" class=\"dataframe\">\n",
       "  <thead>\n",
       "    <tr style=\"text-align: right;\">\n",
       "      <th></th>\n",
       "      <th>CustomerID</th>\n",
       "      <th>frequency</th>\n",
       "      <th>recency</th>\n",
       "      <th>T</th>\n",
       "      <th>monetary_value</th>\n",
       "      <th>probability_alive</th>\n",
       "      <th>pred_num_txn</th>\n",
       "      <th>exp_avg_sales</th>\n",
       "      <th>predicted_clv</th>\n",
       "      <th>manual_predicted_clv</th>\n",
       "      <th>actual_amount_spent_in_next_30_days</th>\n",
       "    </tr>\n",
       "  </thead>\n",
       "  <tbody>\n",
       "    <tr>\n",
       "      <th>0</th>\n",
       "      <td>100</td>\n",
       "      <td>2.0</td>\n",
       "      <td>474.0</td>\n",
       "      <td>514.0</td>\n",
       "      <td>20.735000</td>\n",
       "      <td>0.840349</td>\n",
       "      <td>0.10</td>\n",
       "      <td>22.765789</td>\n",
       "      <td>2.299704</td>\n",
       "      <td>2.276579</td>\n",
       "      <td>0.0</td>\n",
       "    </tr>\n",
       "    <tr>\n",
       "      <th>1</th>\n",
       "      <td>10000</td>\n",
       "      <td>2.0</td>\n",
       "      <td>175.0</td>\n",
       "      <td>478.0</td>\n",
       "      <td>31.525000</td>\n",
       "      <td>0.461278</td>\n",
       "      <td>0.06</td>\n",
       "      <td>33.610506</td>\n",
       "      <td>1.991479</td>\n",
       "      <td>2.016630</td>\n",
       "      <td>0.0</td>\n",
       "    </tr>\n",
       "    <tr>\n",
       "      <th>2</th>\n",
       "      <td>10001</td>\n",
       "      <td>1.0</td>\n",
       "      <td>245.0</td>\n",
       "      <td>478.0</td>\n",
       "      <td>12.990000</td>\n",
       "      <td>0.663393</td>\n",
       "      <td>0.05</td>\n",
       "      <td>16.993327</td>\n",
       "      <td>0.811097</td>\n",
       "      <td>0.849666</td>\n",
       "      <td>0.0</td>\n",
       "    </tr>\n",
       "    <tr>\n",
       "      <th>3</th>\n",
       "      <td>10009</td>\n",
       "      <td>3.0</td>\n",
       "      <td>262.0</td>\n",
       "      <td>474.0</td>\n",
       "      <td>100.783333</td>\n",
       "      <td>0.594407</td>\n",
       "      <td>0.11</td>\n",
       "      <td>102.405072</td>\n",
       "      <td>11.341482</td>\n",
       "      <td>11.264558</td>\n",
       "      <td>0.0</td>\n",
       "    </tr>\n",
       "    <tr>\n",
       "      <th>4</th>\n",
       "      <td>1001</td>\n",
       "      <td>2.0</td>\n",
       "      <td>133.0</td>\n",
       "      <td>510.0</td>\n",
       "      <td>28.335000</td>\n",
       "      <td>0.314353</td>\n",
       "      <td>0.04</td>\n",
       "      <td>30.404329</td>\n",
       "      <td>1.157153</td>\n",
       "      <td>1.216173</td>\n",
       "      <td>0.0</td>\n",
       "    </tr>\n",
       "  </tbody>\n",
       "</table>\n",
       "</div>"
      ],
      "text/plain": [
       "  CustomerID  frequency  recency      T  monetary_value  probability_alive  \\\n",
       "0        100        2.0    474.0  514.0       20.735000           0.840349   \n",
       "1      10000        2.0    175.0  478.0       31.525000           0.461278   \n",
       "2      10001        1.0    245.0  478.0       12.990000           0.663393   \n",
       "3      10009        3.0    262.0  474.0      100.783333           0.594407   \n",
       "4       1001        2.0    133.0  510.0       28.335000           0.314353   \n",
       "\n",
       "   pred_num_txn  exp_avg_sales  predicted_clv  manual_predicted_clv  \\\n",
       "0          0.10      22.765789       2.299704              2.276579   \n",
       "1          0.06      33.610506       1.991479              2.016630   \n",
       "2          0.05      16.993327       0.811097              0.849666   \n",
       "3          0.11     102.405072      11.341482             11.264558   \n",
       "4          0.04      30.404329       1.157153              1.216173   \n",
       "\n",
       "   actual_amount_spent_in_next_30_days  \n",
       "0                                  0.0  \n",
       "1                                  0.0  \n",
       "2                                  0.0  \n",
       "3                                  0.0  \n",
       "4                                  0.0  "
      ]
     },
     "execution_count": 88,
     "metadata": {},
     "output_type": "execute_result"
    }
   ],
   "source": [
    "Pred_vs_Actual.head() # looking at the Actual vs Predicted Dataframe"
   ]
  },
  {
   "cell_type": "code",
   "execution_count": 89,
   "id": "5a5d77e1",
   "metadata": {},
   "outputs": [],
   "source": [
    "# difference between actual and predicted\n",
    "Pred_vs_Actual[\"difference\"] = Pred_vs_Actual[\"manual_predicted_clv\"] - Pred_vs_Actual[\"actual_amount_spent_in_next_30_days\"]"
   ]
  },
  {
   "cell_type": "code",
   "execution_count": 90,
   "id": "7eae16a1",
   "metadata": {},
   "outputs": [
    {
     "data": {
      "text/html": [
       "<div>\n",
       "<style scoped>\n",
       "    .dataframe tbody tr th:only-of-type {\n",
       "        vertical-align: middle;\n",
       "    }\n",
       "\n",
       "    .dataframe tbody tr th {\n",
       "        vertical-align: top;\n",
       "    }\n",
       "\n",
       "    .dataframe thead th {\n",
       "        text-align: right;\n",
       "    }\n",
       "</style>\n",
       "<table border=\"1\" class=\"dataframe\">\n",
       "  <thead>\n",
       "    <tr style=\"text-align: right;\">\n",
       "      <th></th>\n",
       "      <th>CustomerID</th>\n",
       "      <th>frequency</th>\n",
       "      <th>recency</th>\n",
       "      <th>T</th>\n",
       "      <th>monetary_value</th>\n",
       "      <th>probability_alive</th>\n",
       "      <th>pred_num_txn</th>\n",
       "      <th>exp_avg_sales</th>\n",
       "      <th>predicted_clv</th>\n",
       "      <th>manual_predicted_clv</th>\n",
       "      <th>actual_amount_spent_in_next_30_days</th>\n",
       "      <th>difference</th>\n",
       "    </tr>\n",
       "  </thead>\n",
       "  <tbody>\n",
       "    <tr>\n",
       "      <th>0</th>\n",
       "      <td>100</td>\n",
       "      <td>2.0</td>\n",
       "      <td>474.0</td>\n",
       "      <td>514.0</td>\n",
       "      <td>20.735000</td>\n",
       "      <td>0.840349</td>\n",
       "      <td>0.10</td>\n",
       "      <td>22.765789</td>\n",
       "      <td>2.299704</td>\n",
       "      <td>2.276579</td>\n",
       "      <td>0.0</td>\n",
       "      <td>2.276579</td>\n",
       "    </tr>\n",
       "    <tr>\n",
       "      <th>1</th>\n",
       "      <td>10000</td>\n",
       "      <td>2.0</td>\n",
       "      <td>175.0</td>\n",
       "      <td>478.0</td>\n",
       "      <td>31.525000</td>\n",
       "      <td>0.461278</td>\n",
       "      <td>0.06</td>\n",
       "      <td>33.610506</td>\n",
       "      <td>1.991479</td>\n",
       "      <td>2.016630</td>\n",
       "      <td>0.0</td>\n",
       "      <td>2.016630</td>\n",
       "    </tr>\n",
       "    <tr>\n",
       "      <th>2</th>\n",
       "      <td>10001</td>\n",
       "      <td>1.0</td>\n",
       "      <td>245.0</td>\n",
       "      <td>478.0</td>\n",
       "      <td>12.990000</td>\n",
       "      <td>0.663393</td>\n",
       "      <td>0.05</td>\n",
       "      <td>16.993327</td>\n",
       "      <td>0.811097</td>\n",
       "      <td>0.849666</td>\n",
       "      <td>0.0</td>\n",
       "      <td>0.849666</td>\n",
       "    </tr>\n",
       "    <tr>\n",
       "      <th>3</th>\n",
       "      <td>10009</td>\n",
       "      <td>3.0</td>\n",
       "      <td>262.0</td>\n",
       "      <td>474.0</td>\n",
       "      <td>100.783333</td>\n",
       "      <td>0.594407</td>\n",
       "      <td>0.11</td>\n",
       "      <td>102.405072</td>\n",
       "      <td>11.341482</td>\n",
       "      <td>11.264558</td>\n",
       "      <td>0.0</td>\n",
       "      <td>11.264558</td>\n",
       "    </tr>\n",
       "    <tr>\n",
       "      <th>4</th>\n",
       "      <td>1001</td>\n",
       "      <td>2.0</td>\n",
       "      <td>133.0</td>\n",
       "      <td>510.0</td>\n",
       "      <td>28.335000</td>\n",
       "      <td>0.314353</td>\n",
       "      <td>0.04</td>\n",
       "      <td>30.404329</td>\n",
       "      <td>1.157153</td>\n",
       "      <td>1.216173</td>\n",
       "      <td>0.0</td>\n",
       "      <td>1.216173</td>\n",
       "    </tr>\n",
       "  </tbody>\n",
       "</table>\n",
       "</div>"
      ],
      "text/plain": [
       "  CustomerID  frequency  recency      T  monetary_value  probability_alive  \\\n",
       "0        100        2.0    474.0  514.0       20.735000           0.840349   \n",
       "1      10000        2.0    175.0  478.0       31.525000           0.461278   \n",
       "2      10001        1.0    245.0  478.0       12.990000           0.663393   \n",
       "3      10009        3.0    262.0  474.0      100.783333           0.594407   \n",
       "4       1001        2.0    133.0  510.0       28.335000           0.314353   \n",
       "\n",
       "   pred_num_txn  exp_avg_sales  predicted_clv  manual_predicted_clv  \\\n",
       "0          0.10      22.765789       2.299704              2.276579   \n",
       "1          0.06      33.610506       1.991479              2.016630   \n",
       "2          0.05      16.993327       0.811097              0.849666   \n",
       "3          0.11     102.405072      11.341482             11.264558   \n",
       "4          0.04      30.404329       1.157153              1.216173   \n",
       "\n",
       "   actual_amount_spent_in_next_30_days  difference  \n",
       "0                                  0.0    2.276579  \n",
       "1                                  0.0    2.016630  \n",
       "2                                  0.0    0.849666  \n",
       "3                                  0.0   11.264558  \n",
       "4                                  0.0    1.216173  "
      ]
     },
     "execution_count": 90,
     "metadata": {},
     "output_type": "execute_result"
    }
   ],
   "source": [
    "Pred_vs_Actual.head()"
   ]
  },
  {
   "cell_type": "code",
   "execution_count": 91,
   "id": "6a17fc6d",
   "metadata": {},
   "outputs": [
    {
     "data": {
      "text/plain": [
       "<AxesSubplot:>"
      ]
     },
     "execution_count": 91,
     "metadata": {},
     "output_type": "execute_result"
    },
    {
     "data": {
      "image/png": "[encoded data removed]",
      "text/plain": [
       "<Figure size 432x288 with 1 Axes>"
      ]
     },
     "metadata": {
      "needs_background": "light"
     },
     "output_type": "display_data"
    }
   ],
   "source": [
    "Pred_vs_Actual[\"difference\"].hist()"
   ]
  },
  {
   "cell_type": "code",
   "execution_count": 92,
   "id": "d6028d99",
   "metadata": {},
   "outputs": [
    {
     "data": {
      "text/plain": [
       "count    11416.000000\n",
       "mean        -0.341102\n",
       "std         27.547800\n",
       "min      -1262.237702\n",
       "25%          0.472827\n",
       "50%          1.593419\n",
       "75%          4.734611\n",
       "max        218.300867\n",
       "Name: difference, dtype: float64"
      ]
     },
     "execution_count": 92,
     "metadata": {},
     "output_type": "execute_result"
    }
   ],
   "source": [
    "Pred_vs_Actual[\"difference\"].describe()"
   ]
  },
  {
   "cell_type": "code",
   "execution_count": 93,
   "id": "0e7d870e",
   "metadata": {},
   "outputs": [
    {
     "data": {
      "text/html": [
       "<div>\n",
       "<style scoped>\n",
       "    .dataframe tbody tr th:only-of-type {\n",
       "        vertical-align: middle;\n",
       "    }\n",
       "\n",
       "    .dataframe tbody tr th {\n",
       "        vertical-align: top;\n",
       "    }\n",
       "\n",
       "    .dataframe thead th {\n",
       "        text-align: right;\n",
       "    }\n",
       "</style>\n",
       "<table border=\"1\" class=\"dataframe\">\n",
       "  <thead>\n",
       "    <tr style=\"text-align: right;\">\n",
       "      <th></th>\n",
       "      <th>CustomerID</th>\n",
       "      <th>frequency</th>\n",
       "      <th>recency</th>\n",
       "      <th>T</th>\n",
       "      <th>monetary_value</th>\n",
       "      <th>probability_alive</th>\n",
       "      <th>pred_num_txn</th>\n",
       "      <th>exp_avg_sales</th>\n",
       "      <th>predicted_clv</th>\n",
       "      <th>manual_predicted_clv</th>\n",
       "      <th>actual_amount_spent_in_next_30_days</th>\n",
       "      <th>difference</th>\n",
       "    </tr>\n",
       "  </thead>\n",
       "  <tbody>\n",
       "    <tr>\n",
       "      <th>10151</th>\n",
       "      <td>7592</td>\n",
       "      <td>131.0</td>\n",
       "      <td>483.0</td>\n",
       "      <td>486.0</td>\n",
       "      <td>93.060458</td>\n",
       "      <td>0.992221</td>\n",
       "      <td>7.30</td>\n",
       "      <td>93.096880</td>\n",
       "      <td>673.322354</td>\n",
       "      <td>679.607224</td>\n",
       "      <td>1726.80</td>\n",
       "      <td>-1047.192776</td>\n",
       "    </tr>\n",
       "    <tr>\n",
       "      <th>10819</th>\n",
       "      <td>8830</td>\n",
       "      <td>9.0</td>\n",
       "      <td>403.0</td>\n",
       "      <td>482.0</td>\n",
       "      <td>54.796667</td>\n",
       "      <td>0.818460</td>\n",
       "      <td>0.43</td>\n",
       "      <td>55.284414</td>\n",
       "      <td>23.499369</td>\n",
       "      <td>23.772298</td>\n",
       "      <td>1286.01</td>\n",
       "      <td>-1262.237702</td>\n",
       "    </tr>\n",
       "    <tr>\n",
       "      <th>114</th>\n",
       "      <td>10197</td>\n",
       "      <td>1.0</td>\n",
       "      <td>380.0</td>\n",
       "      <td>473.0</td>\n",
       "      <td>308.790000</td>\n",
       "      <td>0.765091</td>\n",
       "      <td>0.06</td>\n",
       "      <td>315.808672</td>\n",
       "      <td>17.551818</td>\n",
       "      <td>18.948520</td>\n",
       "      <td>587.63</td>\n",
       "      <td>-568.681480</td>\n",
       "    </tr>\n",
       "    <tr>\n",
       "      <th>7725</th>\n",
       "      <td>3176</td>\n",
       "      <td>2.0</td>\n",
       "      <td>455.0</td>\n",
       "      <td>502.0</td>\n",
       "      <td>63.745000</td>\n",
       "      <td>0.835507</td>\n",
       "      <td>0.10</td>\n",
       "      <td>65.993896</td>\n",
       "      <td>6.772911</td>\n",
       "      <td>6.599390</td>\n",
       "      <td>563.13</td>\n",
       "      <td>-556.530610</td>\n",
       "    </tr>\n",
       "    <tr>\n",
       "      <th>2147</th>\n",
       "      <td>14048</td>\n",
       "      <td>160.0</td>\n",
       "      <td>463.0</td>\n",
       "      <td>465.0</td>\n",
       "      <td>52.730062</td>\n",
       "      <td>0.994300</td>\n",
       "      <td>9.30</td>\n",
       "      <td>52.757339</td>\n",
       "      <td>485.906899</td>\n",
       "      <td>490.643252</td>\n",
       "      <td>534.73</td>\n",
       "      <td>-44.086748</td>\n",
       "    </tr>\n",
       "    <tr>\n",
       "      <th>...</th>\n",
       "      <td>...</td>\n",
       "      <td>...</td>\n",
       "      <td>...</td>\n",
       "      <td>...</td>\n",
       "      <td>...</td>\n",
       "      <td>...</td>\n",
       "      <td>...</td>\n",
       "      <td>...</td>\n",
       "      <td>...</td>\n",
       "      <td>...</td>\n",
       "      <td>...</td>\n",
       "      <td>...</td>\n",
       "    </tr>\n",
       "    <tr>\n",
       "      <th>4078</th>\n",
       "      <td>17584</td>\n",
       "      <td>1.0</td>\n",
       "      <td>56.0</td>\n",
       "      <td>453.0</td>\n",
       "      <td>21.740000</td>\n",
       "      <td>0.348411</td>\n",
       "      <td>0.03</td>\n",
       "      <td>25.832524</td>\n",
       "      <td>0.679984</td>\n",
       "      <td>0.774976</td>\n",
       "      <td>0.00</td>\n",
       "      <td>0.774976</td>\n",
       "    </tr>\n",
       "    <tr>\n",
       "      <th>4079</th>\n",
       "      <td>17585</td>\n",
       "      <td>7.0</td>\n",
       "      <td>446.0</td>\n",
       "      <td>453.0</td>\n",
       "      <td>22.407143</td>\n",
       "      <td>0.936808</td>\n",
       "      <td>0.41</td>\n",
       "      <td>22.987688</td>\n",
       "      <td>9.281901</td>\n",
       "      <td>9.424952</td>\n",
       "      <td>0.00</td>\n",
       "      <td>9.424952</td>\n",
       "    </tr>\n",
       "    <tr>\n",
       "      <th>4080</th>\n",
       "      <td>17589</td>\n",
       "      <td>2.0</td>\n",
       "      <td>71.0</td>\n",
       "      <td>453.0</td>\n",
       "      <td>26.535000</td>\n",
       "      <td>0.178413</td>\n",
       "      <td>0.02</td>\n",
       "      <td>28.595201</td>\n",
       "      <td>0.688097</td>\n",
       "      <td>0.571904</td>\n",
       "      <td>0.00</td>\n",
       "      <td>0.571904</td>\n",
       "    </tr>\n",
       "    <tr>\n",
       "      <th>4081</th>\n",
       "      <td>1759</td>\n",
       "      <td>4.0</td>\n",
       "      <td>324.0</td>\n",
       "      <td>507.0</td>\n",
       "      <td>47.847500</td>\n",
       "      <td>0.646013</td>\n",
       "      <td>0.15</td>\n",
       "      <td>48.928897</td>\n",
       "      <td>7.229131</td>\n",
       "      <td>7.339335</td>\n",
       "      <td>0.00</td>\n",
       "      <td>7.339335</td>\n",
       "    </tr>\n",
       "    <tr>\n",
       "      <th>11415</th>\n",
       "      <td>9994</td>\n",
       "      <td>1.0</td>\n",
       "      <td>124.0</td>\n",
       "      <td>464.0</td>\n",
       "      <td>36.970000</td>\n",
       "      <td>0.504213</td>\n",
       "      <td>0.04</td>\n",
       "      <td>41.217776</td>\n",
       "      <td>1.536299</td>\n",
       "      <td>1.648711</td>\n",
       "      <td>0.00</td>\n",
       "      <td>1.648711</td>\n",
       "    </tr>\n",
       "  </tbody>\n",
       "</table>\n",
       "<p>11416 rows × 12 columns</p>\n",
       "</div>"
      ],
      "text/plain": [
       "      CustomerID  frequency  recency      T  monetary_value  \\\n",
       "10151       7592      131.0    483.0  486.0       93.060458   \n",
       "10819       8830        9.0    403.0  482.0       54.796667   \n",
       "114        10197        1.0    380.0  473.0      308.790000   \n",
       "7725        3176        2.0    455.0  502.0       63.745000   \n",
       "2147       14048      160.0    463.0  465.0       52.730062   \n",
       "...          ...        ...      ...    ...             ...   \n",
       "4078       17584        1.0     56.0  453.0       21.740000   \n",
       "4079       17585        7.0    446.0  453.0       22.407143   \n",
       "4080       17589        2.0     71.0  453.0       26.535000   \n",
       "4081        1759        4.0    324.0  507.0       47.847500   \n",
       "11415       9994        1.0    124.0  464.0       36.970000   \n",
       "\n",
       "       probability_alive  pred_num_txn  exp_avg_sales  predicted_clv  \\\n",
       "10151           0.992221          7.30      93.096880     673.322354   \n",
       "10819           0.818460          0.43      55.284414      23.499369   \n",
       "114             0.765091          0.06     315.808672      17.551818   \n",
       "7725            0.835507          0.10      65.993896       6.772911   \n",
       "2147            0.994300          9.30      52.757339     485.906899   \n",
       "...                  ...           ...            ...            ...   \n",
       "4078            0.348411          0.03      25.832524       0.679984   \n",
       "4079            0.936808          0.41      22.987688       9.281901   \n",
       "4080            0.178413          0.02      28.595201       0.688097   \n",
       "4081            0.646013          0.15      48.928897       7.229131   \n",
       "11415           0.504213          0.04      41.217776       1.536299   \n",
       "\n",
       "       manual_predicted_clv  actual_amount_spent_in_next_30_days   difference  \n",
       "10151            679.607224                              1726.80 -1047.192776  \n",
       "10819             23.772298                              1286.01 -1262.237702  \n",
       "114               18.948520                               587.63  -568.681480  \n",
       "7725               6.599390                               563.13  -556.530610  \n",
       "2147             490.643252                               534.73   -44.086748  \n",
       "...                     ...                                  ...          ...  \n",
       "4078               0.774976                                 0.00     0.774976  \n",
       "4079               9.424952                                 0.00     9.424952  \n",
       "4080               0.571904                                 0.00     0.571904  \n",
       "4081               7.339335                                 0.00     7.339335  \n",
       "11415              1.648711                                 0.00     1.648711  \n",
       "\n",
       "[11416 rows x 12 columns]"
      ]
     },
     "execution_count": 93,
     "metadata": {},
     "output_type": "execute_result"
    }
   ],
   "source": [
    "Pred_vs_Actual.sort_values('actual_amount_spent_in_next_30_days', ascending = False)"
   ]
  },
  {
   "cell_type": "code",
   "execution_count": 94,
   "id": "a8771ce1",
   "metadata": {},
   "outputs": [
    {
     "data": {
      "text/plain": [
       "9.049336545343836"
      ]
     },
     "execution_count": 94,
     "metadata": {},
     "output_type": "execute_result"
    }
   ],
   "source": [
    "# MAE of the Lifetimes.\n",
    "mean_absolute_error(Pred_vs_Actual[\"actual_amount_spent_in_next_30_days\"], Pred_vs_Actual[\"manual_predicted_clv\"])"
   ]
  },
  {
   "cell_type": "code",
   "execution_count": null,
   "id": "fcae4672",
   "metadata": {},
   "outputs": [],
   "source": []
  }
 ],
 "metadata": {
  "kernelspec": {
   "display_name": "Python 3",
   "language": "python",
   "name": "python3"
  },
  "language_info": {
   "codemirror_mode": {
    "name": "ipython",
    "version": 3
   },
   "file_extension": ".py",
   "mimetype": "text/x-python",
   "name": "python",
   "nbconvert_exporter": "python",
   "pygments_lexer": "ipython3",
   "version": "3.8.8"
  }
 },
 "nbformat": 4,
 "nbformat_minor": 5
}
