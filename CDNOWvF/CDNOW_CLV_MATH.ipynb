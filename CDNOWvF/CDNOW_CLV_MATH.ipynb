{
 "cells": [
  {
   "cell_type": "markdown",
   "id": "d12c5839",
   "metadata": {},
   "source": [
    "# Importing the necessary libraries"
   ]
  },
  {
   "cell_type": "code",
   "execution_count": 1,
   "id": "5103eeeb",
   "metadata": {},
   "outputs": [],
   "source": [
    "import warnings\n",
    "warnings.filterwarnings('ignore')\n",
    "import pandas as pd\n",
    "from zipfile import ZipFile\n",
    "# !pip install plotly\n",
    "import plotly.graph_objects as go\n",
    "import numpy as np\n",
    "import matplotlib.pyplot as plt\n",
    "import datetime as dt\n",
    "import seaborn as sns\n",
    "from sklearn.preprocessing import StandardScaler\n",
    "from sklearn.preprocessing import RobustScaler\n",
    "from sklearn.cluster import KMeans\n",
    "import plotnine as pn\n",
    "import plydata.cat_tools as cat\n",
    "# machine learning\n",
    "from xgboost import XGBClassifier, XGBRegressor\n",
    "from sklearn.model_selection import cross_val_score, GridSearchCV\n",
    "from sklearn.linear_model import LinearRegression\n",
    "from sklearn.preprocessing import StandardScaler\n",
    "from sklearn.ensemble import RandomForestRegressor\n",
    "from sklearn.linear_model import LogisticRegression\n",
    "from sklearn.ensemble import RandomForestClassifier\n",
    "# Importing the lifetimes package\n",
    "import lifetimes\n",
    "from sklearn.metrics import mean_absolute_error"
   ]
  },
  {
   "cell_type": "markdown",
   "id": "821eab4a",
   "metadata": {},
   "source": [
    "# Loading the Data"
   ]
  },
  {
   "cell_type": "code",
   "execution_count": 2,
   "id": "cf7e86e2",
   "metadata": {},
   "outputs": [
    {
     "data": {
      "text/plain": [
       "(69658, 4)"
      ]
     },
     "execution_count": 2,
     "metadata": {},
     "output_type": "execute_result"
    }
   ],
   "source": [
    "# Laoding the data into a dataframe.\n",
    "CDNOW_DATA = pd.read_csv(\"Data/CDNOW_master.txt\", sep='\\s+')\n",
    "CDNOW_DATA.shape"
   ]
  },
  {
   "cell_type": "code",
   "execution_count": 3,
   "id": "3c40e999",
   "metadata": {},
   "outputs": [
    {
     "data": {
      "text/html": [
       "<div>\n",
       "<style scoped>\n",
       "    .dataframe tbody tr th:only-of-type {\n",
       "        vertical-align: middle;\n",
       "    }\n",
       "\n",
       "    .dataframe tbody tr th {\n",
       "        vertical-align: top;\n",
       "    }\n",
       "\n",
       "    .dataframe thead th {\n",
       "        text-align: right;\n",
       "    }\n",
       "</style>\n",
       "<table border=\"1\" class=\"dataframe\">\n",
       "  <thead>\n",
       "    <tr style=\"text-align: right;\">\n",
       "      <th></th>\n",
       "      <th>00001</th>\n",
       "      <th>19970101</th>\n",
       "      <th>1</th>\n",
       "      <th>11.77</th>\n",
       "    </tr>\n",
       "  </thead>\n",
       "  <tbody>\n",
       "    <tr>\n",
       "      <th>0</th>\n",
       "      <td>2</td>\n",
       "      <td>19970112</td>\n",
       "      <td>1</td>\n",
       "      <td>12.00</td>\n",
       "    </tr>\n",
       "    <tr>\n",
       "      <th>1</th>\n",
       "      <td>2</td>\n",
       "      <td>19970112</td>\n",
       "      <td>5</td>\n",
       "      <td>77.00</td>\n",
       "    </tr>\n",
       "    <tr>\n",
       "      <th>2</th>\n",
       "      <td>3</td>\n",
       "      <td>19970102</td>\n",
       "      <td>2</td>\n",
       "      <td>20.76</td>\n",
       "    </tr>\n",
       "    <tr>\n",
       "      <th>3</th>\n",
       "      <td>3</td>\n",
       "      <td>19970330</td>\n",
       "      <td>2</td>\n",
       "      <td>20.76</td>\n",
       "    </tr>\n",
       "    <tr>\n",
       "      <th>4</th>\n",
       "      <td>3</td>\n",
       "      <td>19970402</td>\n",
       "      <td>2</td>\n",
       "      <td>19.54</td>\n",
       "    </tr>\n",
       "  </tbody>\n",
       "</table>\n",
       "</div>"
      ],
      "text/plain": [
       "   00001  19970101  1  11.77\n",
       "0      2  19970112  1  12.00\n",
       "1      2  19970112  5  77.00\n",
       "2      3  19970102  2  20.76\n",
       "3      3  19970330  2  20.76\n",
       "4      3  19970402  2  19.54"
      ]
     },
     "execution_count": 3,
     "metadata": {},
     "output_type": "execute_result"
    }
   ],
   "source": [
    "CDNOW_DATA.head() # Looking at the top 5 rows of the dataframe."
   ]
  },
  {
   "cell_type": "markdown",
   "id": "c7ba71a6",
   "metadata": {},
   "source": [
    "# Data Cleaning"
   ]
  },
  {
   "cell_type": "code",
   "execution_count": 4,
   "id": "4e496cdb",
   "metadata": {},
   "outputs": [
    {
     "name": "stdout",
     "output_type": "stream",
     "text": [
      "<class 'pandas.core.frame.DataFrame'>\n",
      "RangeIndex: 69658 entries, 0 to 69657\n",
      "Data columns (total 4 columns):\n",
      " #   Column    Non-Null Count  Dtype  \n",
      "---  ------    --------------  -----  \n",
      " 0   00001     69658 non-null  int64  \n",
      " 1   19970101  69658 non-null  int64  \n",
      " 2   1         69658 non-null  int64  \n",
      " 3   11.77     69658 non-null  float64\n",
      "dtypes: float64(1), int64(3)\n",
      "memory usage: 2.1 MB\n"
     ]
    }
   ],
   "source": [
    "CDNOW_DATA.info() # info() gives us the number of non null values and the data type of each column."
   ]
  },
  {
   "cell_type": "code",
   "execution_count": 5,
   "id": "138c68af",
   "metadata": {},
   "outputs": [],
   "source": [
    "CDNOW_DATA.columns = [\"CustomerID\", \"TransactionDate\", \"UnitsSold\", \"Price\"] # Assigning the column names to the data frame."
   ]
  },
  {
   "cell_type": "code",
   "execution_count": 6,
   "id": "36fd7cb0",
   "metadata": {},
   "outputs": [],
   "source": [
    "CDNOW_DATA[\"CustomerID\"] = CDNOW_DATA[\"CustomerID\"].astype(str) # changing the datatype of the CustomerID to string."
   ]
  },
  {
   "cell_type": "code",
   "execution_count": 7,
   "id": "3ea9335f",
   "metadata": {},
   "outputs": [],
   "source": [
    "# changing the datatye of the TransactionDate column to datetime.\n",
    "CDNOW_DATA['TransactionDate'] = CDNOW_DATA['TransactionDate'].apply(lambda x: pd.to_datetime(str(x), format='%Y-%m-%d'))"
   ]
  },
  {
   "cell_type": "code",
   "execution_count": 8,
   "id": "29eacd85",
   "metadata": {},
   "outputs": [
    {
     "data": {
      "text/html": [
       "<div>\n",
       "<style scoped>\n",
       "    .dataframe tbody tr th:only-of-type {\n",
       "        vertical-align: middle;\n",
       "    }\n",
       "\n",
       "    .dataframe tbody tr th {\n",
       "        vertical-align: top;\n",
       "    }\n",
       "\n",
       "    .dataframe thead th {\n",
       "        text-align: right;\n",
       "    }\n",
       "</style>\n",
       "<table border=\"1\" class=\"dataframe\">\n",
       "  <thead>\n",
       "    <tr style=\"text-align: right;\">\n",
       "      <th></th>\n",
       "      <th>CustomerID</th>\n",
       "      <th>TransactionDate</th>\n",
       "      <th>UnitsSold</th>\n",
       "      <th>Price</th>\n",
       "    </tr>\n",
       "  </thead>\n",
       "  <tbody>\n",
       "    <tr>\n",
       "      <th>0</th>\n",
       "      <td>2</td>\n",
       "      <td>1997-01-12</td>\n",
       "      <td>1</td>\n",
       "      <td>12.00</td>\n",
       "    </tr>\n",
       "    <tr>\n",
       "      <th>1</th>\n",
       "      <td>2</td>\n",
       "      <td>1997-01-12</td>\n",
       "      <td>5</td>\n",
       "      <td>77.00</td>\n",
       "    </tr>\n",
       "    <tr>\n",
       "      <th>2</th>\n",
       "      <td>3</td>\n",
       "      <td>1997-01-02</td>\n",
       "      <td>2</td>\n",
       "      <td>20.76</td>\n",
       "    </tr>\n",
       "    <tr>\n",
       "      <th>3</th>\n",
       "      <td>3</td>\n",
       "      <td>1997-03-30</td>\n",
       "      <td>2</td>\n",
       "      <td>20.76</td>\n",
       "    </tr>\n",
       "    <tr>\n",
       "      <th>4</th>\n",
       "      <td>3</td>\n",
       "      <td>1997-04-02</td>\n",
       "      <td>2</td>\n",
       "      <td>19.54</td>\n",
       "    </tr>\n",
       "  </tbody>\n",
       "</table>\n",
       "</div>"
      ],
      "text/plain": [
       "  CustomerID TransactionDate  UnitsSold  Price\n",
       "0          2      1997-01-12          1  12.00\n",
       "1          2      1997-01-12          5  77.00\n",
       "2          3      1997-01-02          2  20.76\n",
       "3          3      1997-03-30          2  20.76\n",
       "4          3      1997-04-02          2  19.54"
      ]
     },
     "execution_count": 8,
     "metadata": {},
     "output_type": "execute_result"
    }
   ],
   "source": [
    "CDNOW_DATA.head()  # Looking at the top 5 rows of the dataframe."
   ]
  },
  {
   "cell_type": "code",
   "execution_count": null,
   "id": "c3e0798e",
   "metadata": {},
   "outputs": [],
   "source": []
  },
  {
   "cell_type": "markdown",
   "id": "9ecce502",
   "metadata": {},
   "source": [
    "# CLV Mathematically"
   ]
  },
  {
   "cell_type": "code",
   "execution_count": 9,
   "id": "39f1af42",
   "metadata": {},
   "outputs": [
    {
     "data": {
      "text/html": [
       "<div>\n",
       "<style scoped>\n",
       "    .dataframe tbody tr th:only-of-type {\n",
       "        vertical-align: middle;\n",
       "    }\n",
       "\n",
       "    .dataframe tbody tr th {\n",
       "        vertical-align: top;\n",
       "    }\n",
       "\n",
       "    .dataframe thead th {\n",
       "        text-align: right;\n",
       "    }\n",
       "</style>\n",
       "<table border=\"1\" class=\"dataframe\">\n",
       "  <thead>\n",
       "    <tr style=\"text-align: right;\">\n",
       "      <th></th>\n",
       "      <th>num_days</th>\n",
       "      <th>num_transactions</th>\n",
       "      <th>spent_money</th>\n",
       "    </tr>\n",
       "    <tr>\n",
       "      <th>CustomerID</th>\n",
       "      <th></th>\n",
       "      <th></th>\n",
       "      <th></th>\n",
       "    </tr>\n",
       "  </thead>\n",
       "  <tbody>\n",
       "    <tr>\n",
       "      <th>10</th>\n",
       "      <td>0</td>\n",
       "      <td>1</td>\n",
       "      <td>39.31</td>\n",
       "    </tr>\n",
       "    <tr>\n",
       "      <th>100</th>\n",
       "      <td>474</td>\n",
       "      <td>3</td>\n",
       "      <td>55.24</td>\n",
       "    </tr>\n",
       "    <tr>\n",
       "      <th>1000</th>\n",
       "      <td>0</td>\n",
       "      <td>1</td>\n",
       "      <td>8.99</td>\n",
       "    </tr>\n",
       "    <tr>\n",
       "      <th>10000</th>\n",
       "      <td>175</td>\n",
       "      <td>3</td>\n",
       "      <td>77.42</td>\n",
       "    </tr>\n",
       "    <tr>\n",
       "      <th>10001</th>\n",
       "      <td>245</td>\n",
       "      <td>2</td>\n",
       "      <td>19.78</td>\n",
       "    </tr>\n",
       "  </tbody>\n",
       "</table>\n",
       "</div>"
      ],
      "text/plain": [
       "            num_days  num_transactions  spent_money\n",
       "CustomerID                                         \n",
       "10                 0                 1        39.31\n",
       "100              474                 3        55.24\n",
       "1000               0                 1         8.99\n",
       "10000            175                 3        77.42\n",
       "10001            245                 2        19.78"
      ]
     },
     "execution_count": 9,
     "metadata": {},
     "output_type": "execute_result"
    }
   ],
   "source": [
    "# Creating a customer level dataframe\n",
    "customer_level_data = CDNOW_DATA.groupby(\"CustomerID\").aggregate({\"TransactionDate\": lambda x: (x.max() - x.min()).days,\n",
    "                                                              \"CustomerID\": lambda x: len(x),\n",
    "                                                   \"Price\" : lambda x: x.sum()})\n",
    "customer_level_data.columns = ['num_days', 'num_transactions', 'spent_money']\n",
    "customer_level_data.head()"
   ]
  },
  {
   "cell_type": "markdown",
   "id": "3569d476",
   "metadata": {},
   "source": [
    "### AVG_ORDER_VALUE"
   ]
  },
  {
   "cell_type": "code",
   "execution_count": 10,
   "id": "1f439354",
   "metadata": {},
   "outputs": [
    {
     "data": {
      "text/html": [
       "<div>\n",
       "<style scoped>\n",
       "    .dataframe tbody tr th:only-of-type {\n",
       "        vertical-align: middle;\n",
       "    }\n",
       "\n",
       "    .dataframe tbody tr th {\n",
       "        vertical-align: top;\n",
       "    }\n",
       "\n",
       "    .dataframe thead th {\n",
       "        text-align: right;\n",
       "    }\n",
       "</style>\n",
       "<table border=\"1\" class=\"dataframe\">\n",
       "  <thead>\n",
       "    <tr style=\"text-align: right;\">\n",
       "      <th></th>\n",
       "      <th>num_days</th>\n",
       "      <th>num_transactions</th>\n",
       "      <th>spent_money</th>\n",
       "      <th>avg_order_value</th>\n",
       "    </tr>\n",
       "    <tr>\n",
       "      <th>CustomerID</th>\n",
       "      <th></th>\n",
       "      <th></th>\n",
       "      <th></th>\n",
       "      <th></th>\n",
       "    </tr>\n",
       "  </thead>\n",
       "  <tbody>\n",
       "    <tr>\n",
       "      <th>10</th>\n",
       "      <td>0</td>\n",
       "      <td>1</td>\n",
       "      <td>39.31</td>\n",
       "      <td>39.310000</td>\n",
       "    </tr>\n",
       "    <tr>\n",
       "      <th>100</th>\n",
       "      <td>474</td>\n",
       "      <td>3</td>\n",
       "      <td>55.24</td>\n",
       "      <td>18.413333</td>\n",
       "    </tr>\n",
       "    <tr>\n",
       "      <th>1000</th>\n",
       "      <td>0</td>\n",
       "      <td>1</td>\n",
       "      <td>8.99</td>\n",
       "      <td>8.990000</td>\n",
       "    </tr>\n",
       "    <tr>\n",
       "      <th>10000</th>\n",
       "      <td>175</td>\n",
       "      <td>3</td>\n",
       "      <td>77.42</td>\n",
       "      <td>25.806667</td>\n",
       "    </tr>\n",
       "    <tr>\n",
       "      <th>10001</th>\n",
       "      <td>245</td>\n",
       "      <td>2</td>\n",
       "      <td>19.78</td>\n",
       "      <td>9.890000</td>\n",
       "    </tr>\n",
       "  </tbody>\n",
       "</table>\n",
       "</div>"
      ],
      "text/plain": [
       "            num_days  num_transactions  spent_money  avg_order_value\n",
       "CustomerID                                                          \n",
       "10                 0                 1        39.31        39.310000\n",
       "100              474                 3        55.24        18.413333\n",
       "1000               0                 1         8.99         8.990000\n",
       "10000            175                 3        77.42        25.806667\n",
       "10001            245                 2        19.78         9.890000"
      ]
     },
     "execution_count": 10,
     "metadata": {},
     "output_type": "execute_result"
    }
   ],
   "source": [
    "#Calculating the average order value for each customer\n",
    "customer_level_data['avg_order_value']=customer_level_data['spent_money']/customer_level_data['num_transactions']\n",
    "customer_level_data.head()"
   ]
  },
  {
   "cell_type": "markdown",
   "id": "400f864e",
   "metadata": {},
   "source": [
    "### PURCHASE FREQUNECY\n"
   ]
  },
  {
   "cell_type": "code",
   "execution_count": 11,
   "id": "60a103ff",
   "metadata": {},
   "outputs": [
    {
     "data": {
      "text/plain": [
       "2.9554923840638128"
      ]
     },
     "execution_count": 11,
     "metadata": {},
     "output_type": "execute_result"
    }
   ],
   "source": [
    "purchase_frequency=sum(customer_level_data['num_transactions'])/customer_level_data.shape[0]\n",
    "purchase_frequency"
   ]
  },
  {
   "cell_type": "markdown",
   "id": "72cf2593",
   "metadata": {},
   "source": [
    "### REPEAT RATE"
   ]
  },
  {
   "cell_type": "code",
   "execution_count": 12,
   "id": "82f9826f",
   "metadata": {},
   "outputs": [
    {
     "data": {
      "text/plain": [
       "0.49480249480249483"
      ]
     },
     "execution_count": 12,
     "metadata": {},
     "output_type": "execute_result"
    }
   ],
   "source": [
    "# Repeat Rate\n",
    "repeat_rate=customer_level_data[customer_level_data.num_transactions > 1].shape[0]/customer_level_data.shape[0]\n",
    "repeat_rate"
   ]
  },
  {
   "cell_type": "markdown",
   "id": "8c8cfa38",
   "metadata": {},
   "source": [
    "### CHURN"
   ]
  },
  {
   "cell_type": "code",
   "execution_count": 13,
   "id": "0ca5f955",
   "metadata": {},
   "outputs": [
    {
     "data": {
      "text/plain": [
       "0.5051975051975052"
      ]
     },
     "execution_count": 13,
     "metadata": {},
     "output_type": "execute_result"
    }
   ],
   "source": [
    "#Churn Rate\n",
    "churn_rate=1-repeat_rate\n",
    "churn_rate"
   ]
  },
  {
   "cell_type": "code",
   "execution_count": 14,
   "id": "a736a432",
   "metadata": {},
   "outputs": [
    {
     "data": {
      "text/plain": [
       "(2.9554923840638128, 0.49480249480249483, 0.5051975051975052)"
      ]
     },
     "execution_count": 14,
     "metadata": {},
     "output_type": "execute_result"
    }
   ],
   "source": [
    "purchase_frequency,repeat_rate,churn_rate"
   ]
  },
  {
   "cell_type": "markdown",
   "id": "52931856",
   "metadata": {},
   "source": [
    "### PROFIT"
   ]
  },
  {
   "cell_type": "code",
   "execution_count": 15,
   "id": "92d2ac1b",
   "metadata": {},
   "outputs": [
    {
     "data": {
      "text/html": [
       "<div>\n",
       "<style scoped>\n",
       "    .dataframe tbody tr th:only-of-type {\n",
       "        vertical-align: middle;\n",
       "    }\n",
       "\n",
       "    .dataframe tbody tr th {\n",
       "        vertical-align: top;\n",
       "    }\n",
       "\n",
       "    .dataframe thead th {\n",
       "        text-align: right;\n",
       "    }\n",
       "</style>\n",
       "<table border=\"1\" class=\"dataframe\">\n",
       "  <thead>\n",
       "    <tr style=\"text-align: right;\">\n",
       "      <th></th>\n",
       "      <th>num_days</th>\n",
       "      <th>num_transactions</th>\n",
       "      <th>spent_money</th>\n",
       "      <th>avg_order_value</th>\n",
       "      <th>profit</th>\n",
       "    </tr>\n",
       "    <tr>\n",
       "      <th>CustomerID</th>\n",
       "      <th></th>\n",
       "      <th></th>\n",
       "      <th></th>\n",
       "      <th></th>\n",
       "      <th></th>\n",
       "    </tr>\n",
       "  </thead>\n",
       "  <tbody>\n",
       "    <tr>\n",
       "      <th>10</th>\n",
       "      <td>0</td>\n",
       "      <td>1</td>\n",
       "      <td>39.31</td>\n",
       "      <td>39.310000</td>\n",
       "      <td>1.9655</td>\n",
       "    </tr>\n",
       "    <tr>\n",
       "      <th>100</th>\n",
       "      <td>474</td>\n",
       "      <td>3</td>\n",
       "      <td>55.24</td>\n",
       "      <td>18.413333</td>\n",
       "      <td>2.7620</td>\n",
       "    </tr>\n",
       "    <tr>\n",
       "      <th>1000</th>\n",
       "      <td>0</td>\n",
       "      <td>1</td>\n",
       "      <td>8.99</td>\n",
       "      <td>8.990000</td>\n",
       "      <td>0.4495</td>\n",
       "    </tr>\n",
       "    <tr>\n",
       "      <th>10000</th>\n",
       "      <td>175</td>\n",
       "      <td>3</td>\n",
       "      <td>77.42</td>\n",
       "      <td>25.806667</td>\n",
       "      <td>3.8710</td>\n",
       "    </tr>\n",
       "    <tr>\n",
       "      <th>10001</th>\n",
       "      <td>245</td>\n",
       "      <td>2</td>\n",
       "      <td>19.78</td>\n",
       "      <td>9.890000</td>\n",
       "      <td>0.9890</td>\n",
       "    </tr>\n",
       "  </tbody>\n",
       "</table>\n",
       "</div>"
      ],
      "text/plain": [
       "            num_days  num_transactions  spent_money  avg_order_value  profit\n",
       "CustomerID                                                                  \n",
       "10                 0                 1        39.31        39.310000  1.9655\n",
       "100              474                 3        55.24        18.413333  2.7620\n",
       "1000               0                 1         8.99         8.990000  0.4495\n",
       "10000            175                 3        77.42        25.806667  3.8710\n",
       "10001            245                 2        19.78         9.890000  0.9890"
      ]
     },
     "execution_count": 15,
     "metadata": {},
     "output_type": "execute_result"
    }
   ],
   "source": [
    "# Assuming profit marging to be of 5%\n",
    "customer_level_data[\"profit\"] = customer_level_data[\"spent_money\"]* 0.05\n",
    "customer_level_data.head()"
   ]
  },
  {
   "cell_type": "markdown",
   "id": "11e0c7b5",
   "metadata": {},
   "source": [
    "### CLV"
   ]
  },
  {
   "cell_type": "code",
   "execution_count": 16,
   "id": "3a60938b",
   "metadata": {},
   "outputs": [],
   "source": [
    "# CLV\n",
    "customer_level_data['CLV']=(customer_level_data['avg_order_value']*purchase_frequency)/churn_rate"
   ]
  },
  {
   "cell_type": "markdown",
   "id": "aeaa6cd5",
   "metadata": {},
   "source": [
    "### CLTV"
   ]
  },
  {
   "cell_type": "code",
   "execution_count": 17,
   "id": "279ddb7d",
   "metadata": {},
   "outputs": [
    {
     "data": {
      "text/html": [
       "<div>\n",
       "<style scoped>\n",
       "    .dataframe tbody tr th:only-of-type {\n",
       "        vertical-align: middle;\n",
       "    }\n",
       "\n",
       "    .dataframe tbody tr th {\n",
       "        vertical-align: top;\n",
       "    }\n",
       "\n",
       "    .dataframe thead th {\n",
       "        text-align: right;\n",
       "    }\n",
       "</style>\n",
       "<table border=\"1\" class=\"dataframe\">\n",
       "  <thead>\n",
       "    <tr style=\"text-align: right;\">\n",
       "      <th></th>\n",
       "      <th>num_days</th>\n",
       "      <th>num_transactions</th>\n",
       "      <th>spent_money</th>\n",
       "      <th>avg_order_value</th>\n",
       "      <th>profit</th>\n",
       "      <th>CLV</th>\n",
       "      <th>cust_lifetime_value</th>\n",
       "    </tr>\n",
       "    <tr>\n",
       "      <th>CustomerID</th>\n",
       "      <th></th>\n",
       "      <th></th>\n",
       "      <th></th>\n",
       "      <th></th>\n",
       "      <th></th>\n",
       "      <th></th>\n",
       "      <th></th>\n",
       "    </tr>\n",
       "  </thead>\n",
       "  <tbody>\n",
       "    <tr>\n",
       "      <th>10</th>\n",
       "      <td>0</td>\n",
       "      <td>1</td>\n",
       "      <td>39.31</td>\n",
       "      <td>39.310000</td>\n",
       "      <td>1.9655</td>\n",
       "      <td>229.970268</td>\n",
       "      <td>452.006562</td>\n",
       "    </tr>\n",
       "    <tr>\n",
       "      <th>100</th>\n",
       "      <td>474</td>\n",
       "      <td>3</td>\n",
       "      <td>55.24</td>\n",
       "      <td>18.413333</td>\n",
       "      <td>2.7620</td>\n",
       "      <td>107.721170</td>\n",
       "      <td>297.525872</td>\n",
       "    </tr>\n",
       "    <tr>\n",
       "      <th>1000</th>\n",
       "      <td>0</td>\n",
       "      <td>1</td>\n",
       "      <td>8.99</td>\n",
       "      <td>8.990000</td>\n",
       "      <td>0.4495</td>\n",
       "      <td>52.593048</td>\n",
       "      <td>23.640575</td>\n",
       "    </tr>\n",
       "    <tr>\n",
       "      <th>10000</th>\n",
       "      <td>175</td>\n",
       "      <td>3</td>\n",
       "      <td>77.42</td>\n",
       "      <td>25.806667</td>\n",
       "      <td>3.8710</td>\n",
       "      <td>150.973443</td>\n",
       "      <td>584.418198</td>\n",
       "    </tr>\n",
       "    <tr>\n",
       "      <th>10001</th>\n",
       "      <td>245</td>\n",
       "      <td>2</td>\n",
       "      <td>19.78</td>\n",
       "      <td>9.890000</td>\n",
       "      <td>0.9890</td>\n",
       "      <td>57.858203</td>\n",
       "      <td>57.221763</td>\n",
       "    </tr>\n",
       "  </tbody>\n",
       "</table>\n",
       "</div>"
      ],
      "text/plain": [
       "            num_days  num_transactions  spent_money  avg_order_value  profit  \\\n",
       "CustomerID                                                                     \n",
       "10                 0                 1        39.31        39.310000  1.9655   \n",
       "100              474                 3        55.24        18.413333  2.7620   \n",
       "1000               0                 1         8.99         8.990000  0.4495   \n",
       "10000            175                 3        77.42        25.806667  3.8710   \n",
       "10001            245                 2        19.78         9.890000  0.9890   \n",
       "\n",
       "                   CLV  cust_lifetime_value  \n",
       "CustomerID                                   \n",
       "10          229.970268           452.006562  \n",
       "100         107.721170           297.525872  \n",
       "1000         52.593048            23.640575  \n",
       "10000       150.973443           584.418198  \n",
       "10001        57.858203            57.221763  "
      ]
     },
     "execution_count": 17,
     "metadata": {},
     "output_type": "execute_result"
    }
   ],
   "source": [
    "customer_level_data['cust_lifetime_value']=customer_level_data['CLV']*customer_level_data['profit']\n",
    "customer_level_data.head()"
   ]
  },
  {
   "cell_type": "code",
   "execution_count": 18,
   "id": "82199d01",
   "metadata": {},
   "outputs": [
    {
     "data": {
      "text/html": [
       "<div>\n",
       "<style scoped>\n",
       "    .dataframe tbody tr th:only-of-type {\n",
       "        vertical-align: middle;\n",
       "    }\n",
       "\n",
       "    .dataframe tbody tr th {\n",
       "        vertical-align: top;\n",
       "    }\n",
       "\n",
       "    .dataframe thead th {\n",
       "        text-align: right;\n",
       "    }\n",
       "</style>\n",
       "<table border=\"1\" class=\"dataframe\">\n",
       "  <thead>\n",
       "    <tr style=\"text-align: right;\">\n",
       "      <th></th>\n",
       "      <th>CustomerID</th>\n",
       "      <th>TransactionDate</th>\n",
       "      <th>UnitsSold</th>\n",
       "      <th>Price</th>\n",
       "      <th>month_yr</th>\n",
       "    </tr>\n",
       "  </thead>\n",
       "  <tbody>\n",
       "    <tr>\n",
       "      <th>0</th>\n",
       "      <td>2</td>\n",
       "      <td>1997-01-12</td>\n",
       "      <td>1</td>\n",
       "      <td>12.00</td>\n",
       "      <td>Jan-1997</td>\n",
       "    </tr>\n",
       "    <tr>\n",
       "      <th>1</th>\n",
       "      <td>2</td>\n",
       "      <td>1997-01-12</td>\n",
       "      <td>5</td>\n",
       "      <td>77.00</td>\n",
       "      <td>Jan-1997</td>\n",
       "    </tr>\n",
       "    <tr>\n",
       "      <th>2</th>\n",
       "      <td>3</td>\n",
       "      <td>1997-01-02</td>\n",
       "      <td>2</td>\n",
       "      <td>20.76</td>\n",
       "      <td>Jan-1997</td>\n",
       "    </tr>\n",
       "    <tr>\n",
       "      <th>3</th>\n",
       "      <td>3</td>\n",
       "      <td>1997-03-30</td>\n",
       "      <td>2</td>\n",
       "      <td>20.76</td>\n",
       "      <td>Mar-1997</td>\n",
       "    </tr>\n",
       "    <tr>\n",
       "      <th>4</th>\n",
       "      <td>3</td>\n",
       "      <td>1997-04-02</td>\n",
       "      <td>2</td>\n",
       "      <td>19.54</td>\n",
       "      <td>Apr-1997</td>\n",
       "    </tr>\n",
       "  </tbody>\n",
       "</table>\n",
       "</div>"
      ],
      "text/plain": [
       "  CustomerID TransactionDate  UnitsSold  Price  month_yr\n",
       "0          2      1997-01-12          1  12.00  Jan-1997\n",
       "1          2      1997-01-12          5  77.00  Jan-1997\n",
       "2          3      1997-01-02          2  20.76  Jan-1997\n",
       "3          3      1997-03-30          2  20.76  Mar-1997\n",
       "4          3      1997-04-02          2  19.54  Apr-1997"
      ]
     },
     "execution_count": 18,
     "metadata": {},
     "output_type": "execute_result"
    }
   ],
   "source": [
    "cdnow = CDNOW_DATA.copy()\n",
    "\n",
    "cdnow['month_yr'] = cdnow['TransactionDate'].apply(lambda x: x.strftime('%b-%Y'))\n",
    "cdnow.head()"
   ]
  },
  {
   "cell_type": "code",
   "execution_count": 19,
   "id": "5971b28f",
   "metadata": {
    "scrolled": true
   },
   "outputs": [
    {
     "data": {
      "text/html": [
       "<div>\n",
       "<style scoped>\n",
       "    .dataframe tbody tr th:only-of-type {\n",
       "        vertical-align: middle;\n",
       "    }\n",
       "\n",
       "    .dataframe tbody tr th {\n",
       "        vertical-align: top;\n",
       "    }\n",
       "\n",
       "    .dataframe thead th {\n",
       "        text-align: right;\n",
       "    }\n",
       "</style>\n",
       "<table border=\"1\" class=\"dataframe\">\n",
       "  <thead>\n",
       "    <tr style=\"text-align: right;\">\n",
       "      <th>month_yr</th>\n",
       "      <th>CustomerID</th>\n",
       "      <th>Apr-1997</th>\n",
       "      <th>Apr-1998</th>\n",
       "      <th>Aug-1997</th>\n",
       "      <th>Dec-1997</th>\n",
       "      <th>Feb-1997</th>\n",
       "      <th>Feb-1998</th>\n",
       "      <th>Jan-1997</th>\n",
       "      <th>Jan-1998</th>\n",
       "      <th>Jul-1997</th>\n",
       "      <th>Jun-1997</th>\n",
       "      <th>Jun-1998</th>\n",
       "      <th>Mar-1997</th>\n",
       "      <th>Mar-1998</th>\n",
       "      <th>May-1997</th>\n",
       "      <th>May-1998</th>\n",
       "      <th>Nov-1997</th>\n",
       "      <th>Oct-1997</th>\n",
       "      <th>Sep-1997</th>\n",
       "    </tr>\n",
       "  </thead>\n",
       "  <tbody>\n",
       "    <tr>\n",
       "      <th>0</th>\n",
       "      <td>10</td>\n",
       "      <td>0.0</td>\n",
       "      <td>0.00</td>\n",
       "      <td>0.0</td>\n",
       "      <td>0.00</td>\n",
       "      <td>0.00</td>\n",
       "      <td>0.0</td>\n",
       "      <td>39.31</td>\n",
       "      <td>0.0</td>\n",
       "      <td>0.00</td>\n",
       "      <td>0.00</td>\n",
       "      <td>0.0</td>\n",
       "      <td>0.0</td>\n",
       "      <td>0.0</td>\n",
       "      <td>0.0</td>\n",
       "      <td>0.0</td>\n",
       "      <td>0.0</td>\n",
       "      <td>0.00</td>\n",
       "      <td>0.0</td>\n",
       "    </tr>\n",
       "    <tr>\n",
       "      <th>1</th>\n",
       "      <td>100</td>\n",
       "      <td>0.0</td>\n",
       "      <td>28.98</td>\n",
       "      <td>0.0</td>\n",
       "      <td>12.49</td>\n",
       "      <td>0.00</td>\n",
       "      <td>0.0</td>\n",
       "      <td>13.77</td>\n",
       "      <td>0.0</td>\n",
       "      <td>0.00</td>\n",
       "      <td>0.00</td>\n",
       "      <td>0.0</td>\n",
       "      <td>0.0</td>\n",
       "      <td>0.0</td>\n",
       "      <td>0.0</td>\n",
       "      <td>0.0</td>\n",
       "      <td>0.0</td>\n",
       "      <td>0.00</td>\n",
       "      <td>0.0</td>\n",
       "    </tr>\n",
       "    <tr>\n",
       "      <th>2</th>\n",
       "      <td>1000</td>\n",
       "      <td>0.0</td>\n",
       "      <td>0.00</td>\n",
       "      <td>0.0</td>\n",
       "      <td>0.00</td>\n",
       "      <td>0.00</td>\n",
       "      <td>0.0</td>\n",
       "      <td>8.99</td>\n",
       "      <td>0.0</td>\n",
       "      <td>0.00</td>\n",
       "      <td>0.00</td>\n",
       "      <td>0.0</td>\n",
       "      <td>0.0</td>\n",
       "      <td>0.0</td>\n",
       "      <td>0.0</td>\n",
       "      <td>0.0</td>\n",
       "      <td>0.0</td>\n",
       "      <td>0.00</td>\n",
       "      <td>0.0</td>\n",
       "    </tr>\n",
       "    <tr>\n",
       "      <th>3</th>\n",
       "      <td>10000</td>\n",
       "      <td>0.0</td>\n",
       "      <td>0.00</td>\n",
       "      <td>0.0</td>\n",
       "      <td>0.00</td>\n",
       "      <td>14.37</td>\n",
       "      <td>0.0</td>\n",
       "      <td>0.00</td>\n",
       "      <td>0.0</td>\n",
       "      <td>22.54</td>\n",
       "      <td>40.51</td>\n",
       "      <td>0.0</td>\n",
       "      <td>0.0</td>\n",
       "      <td>0.0</td>\n",
       "      <td>0.0</td>\n",
       "      <td>0.0</td>\n",
       "      <td>0.0</td>\n",
       "      <td>0.00</td>\n",
       "      <td>0.0</td>\n",
       "    </tr>\n",
       "    <tr>\n",
       "      <th>4</th>\n",
       "      <td>10001</td>\n",
       "      <td>0.0</td>\n",
       "      <td>0.00</td>\n",
       "      <td>0.0</td>\n",
       "      <td>0.00</td>\n",
       "      <td>6.79</td>\n",
       "      <td>0.0</td>\n",
       "      <td>0.00</td>\n",
       "      <td>0.0</td>\n",
       "      <td>0.00</td>\n",
       "      <td>0.00</td>\n",
       "      <td>0.0</td>\n",
       "      <td>0.0</td>\n",
       "      <td>0.0</td>\n",
       "      <td>0.0</td>\n",
       "      <td>0.0</td>\n",
       "      <td>0.0</td>\n",
       "      <td>12.99</td>\n",
       "      <td>0.0</td>\n",
       "    </tr>\n",
       "  </tbody>\n",
       "</table>\n",
       "</div>"
      ],
      "text/plain": [
       "month_yr CustomerID  Apr-1997  Apr-1998  Aug-1997  Dec-1997  Feb-1997  \\\n",
       "0                10       0.0      0.00       0.0      0.00      0.00   \n",
       "1               100       0.0     28.98       0.0     12.49      0.00   \n",
       "2              1000       0.0      0.00       0.0      0.00      0.00   \n",
       "3             10000       0.0      0.00       0.0      0.00     14.37   \n",
       "4             10001       0.0      0.00       0.0      0.00      6.79   \n",
       "\n",
       "month_yr  Feb-1998  Jan-1997  Jan-1998  Jul-1997  Jun-1997  Jun-1998  \\\n",
       "0              0.0     39.31       0.0      0.00      0.00       0.0   \n",
       "1              0.0     13.77       0.0      0.00      0.00       0.0   \n",
       "2              0.0      8.99       0.0      0.00      0.00       0.0   \n",
       "3              0.0      0.00       0.0     22.54     40.51       0.0   \n",
       "4              0.0      0.00       0.0      0.00      0.00       0.0   \n",
       "\n",
       "month_yr  Mar-1997  Mar-1998  May-1997  May-1998  Nov-1997  Oct-1997  Sep-1997  \n",
       "0              0.0       0.0       0.0       0.0       0.0      0.00       0.0  \n",
       "1              0.0       0.0       0.0       0.0       0.0      0.00       0.0  \n",
       "2              0.0       0.0       0.0       0.0       0.0      0.00       0.0  \n",
       "3              0.0       0.0       0.0       0.0       0.0      0.00       0.0  \n",
       "4              0.0       0.0       0.0       0.0       0.0     12.99       0.0  "
      ]
     },
     "execution_count": 19,
     "metadata": {},
     "output_type": "execute_result"
    }
   ],
   "source": [
    "sale=cdnow.pivot_table(index=['CustomerID'],columns=['month_yr'],values='Price',aggfunc='sum',fill_value=0).reset_index()\n",
    "sale.head()\n"
   ]
  },
  {
   "cell_type": "code",
   "execution_count": 20,
   "id": "13e3bdb9",
   "metadata": {},
   "outputs": [
    {
     "data": {
      "text/html": [
       "<div>\n",
       "<style scoped>\n",
       "    .dataframe tbody tr th:only-of-type {\n",
       "        vertical-align: middle;\n",
       "    }\n",
       "\n",
       "    .dataframe tbody tr th {\n",
       "        vertical-align: top;\n",
       "    }\n",
       "\n",
       "    .dataframe thead th {\n",
       "        text-align: right;\n",
       "    }\n",
       "</style>\n",
       "<table border=\"1\" class=\"dataframe\">\n",
       "  <thead>\n",
       "    <tr style=\"text-align: right;\">\n",
       "      <th>month_yr</th>\n",
       "      <th>CustomerID</th>\n",
       "      <th>Apr-1997</th>\n",
       "      <th>Apr-1998</th>\n",
       "      <th>Aug-1997</th>\n",
       "      <th>Dec-1997</th>\n",
       "      <th>Feb-1997</th>\n",
       "      <th>Feb-1998</th>\n",
       "      <th>Jan-1997</th>\n",
       "      <th>Jan-1998</th>\n",
       "      <th>Jul-1997</th>\n",
       "      <th>Jun-1997</th>\n",
       "      <th>Jun-1998</th>\n",
       "      <th>Mar-1997</th>\n",
       "      <th>Mar-1998</th>\n",
       "      <th>May-1997</th>\n",
       "      <th>May-1998</th>\n",
       "      <th>Nov-1997</th>\n",
       "      <th>Oct-1997</th>\n",
       "      <th>Sep-1997</th>\n",
       "      <th>CLV</th>\n",
       "    </tr>\n",
       "  </thead>\n",
       "  <tbody>\n",
       "    <tr>\n",
       "      <th>0</th>\n",
       "      <td>10</td>\n",
       "      <td>0.0</td>\n",
       "      <td>0.00</td>\n",
       "      <td>0.0</td>\n",
       "      <td>0.00</td>\n",
       "      <td>0.00</td>\n",
       "      <td>0.0</td>\n",
       "      <td>39.31</td>\n",
       "      <td>0.0</td>\n",
       "      <td>0.00</td>\n",
       "      <td>0.00</td>\n",
       "      <td>0.0</td>\n",
       "      <td>0.0</td>\n",
       "      <td>0.0</td>\n",
       "      <td>0.0</td>\n",
       "      <td>0.0</td>\n",
       "      <td>0.0</td>\n",
       "      <td>0.00</td>\n",
       "      <td>0.0</td>\n",
       "      <td>39.31</td>\n",
       "    </tr>\n",
       "    <tr>\n",
       "      <th>1</th>\n",
       "      <td>100</td>\n",
       "      <td>0.0</td>\n",
       "      <td>28.98</td>\n",
       "      <td>0.0</td>\n",
       "      <td>12.49</td>\n",
       "      <td>0.00</td>\n",
       "      <td>0.0</td>\n",
       "      <td>13.77</td>\n",
       "      <td>0.0</td>\n",
       "      <td>0.00</td>\n",
       "      <td>0.00</td>\n",
       "      <td>0.0</td>\n",
       "      <td>0.0</td>\n",
       "      <td>0.0</td>\n",
       "      <td>0.0</td>\n",
       "      <td>0.0</td>\n",
       "      <td>0.0</td>\n",
       "      <td>0.00</td>\n",
       "      <td>0.0</td>\n",
       "      <td>55.24</td>\n",
       "    </tr>\n",
       "    <tr>\n",
       "      <th>2</th>\n",
       "      <td>1000</td>\n",
       "      <td>0.0</td>\n",
       "      <td>0.00</td>\n",
       "      <td>0.0</td>\n",
       "      <td>0.00</td>\n",
       "      <td>0.00</td>\n",
       "      <td>0.0</td>\n",
       "      <td>8.99</td>\n",
       "      <td>0.0</td>\n",
       "      <td>0.00</td>\n",
       "      <td>0.00</td>\n",
       "      <td>0.0</td>\n",
       "      <td>0.0</td>\n",
       "      <td>0.0</td>\n",
       "      <td>0.0</td>\n",
       "      <td>0.0</td>\n",
       "      <td>0.0</td>\n",
       "      <td>0.00</td>\n",
       "      <td>0.0</td>\n",
       "      <td>8.99</td>\n",
       "    </tr>\n",
       "    <tr>\n",
       "      <th>3</th>\n",
       "      <td>10000</td>\n",
       "      <td>0.0</td>\n",
       "      <td>0.00</td>\n",
       "      <td>0.0</td>\n",
       "      <td>0.00</td>\n",
       "      <td>14.37</td>\n",
       "      <td>0.0</td>\n",
       "      <td>0.00</td>\n",
       "      <td>0.0</td>\n",
       "      <td>22.54</td>\n",
       "      <td>40.51</td>\n",
       "      <td>0.0</td>\n",
       "      <td>0.0</td>\n",
       "      <td>0.0</td>\n",
       "      <td>0.0</td>\n",
       "      <td>0.0</td>\n",
       "      <td>0.0</td>\n",
       "      <td>0.00</td>\n",
       "      <td>0.0</td>\n",
       "      <td>77.42</td>\n",
       "    </tr>\n",
       "    <tr>\n",
       "      <th>4</th>\n",
       "      <td>10001</td>\n",
       "      <td>0.0</td>\n",
       "      <td>0.00</td>\n",
       "      <td>0.0</td>\n",
       "      <td>0.00</td>\n",
       "      <td>6.79</td>\n",
       "      <td>0.0</td>\n",
       "      <td>0.00</td>\n",
       "      <td>0.0</td>\n",
       "      <td>0.00</td>\n",
       "      <td>0.00</td>\n",
       "      <td>0.0</td>\n",
       "      <td>0.0</td>\n",
       "      <td>0.0</td>\n",
       "      <td>0.0</td>\n",
       "      <td>0.0</td>\n",
       "      <td>0.0</td>\n",
       "      <td>12.99</td>\n",
       "      <td>0.0</td>\n",
       "      <td>19.78</td>\n",
       "    </tr>\n",
       "  </tbody>\n",
       "</table>\n",
       "</div>"
      ],
      "text/plain": [
       "month_yr CustomerID  Apr-1997  Apr-1998  Aug-1997  Dec-1997  Feb-1997  \\\n",
       "0                10       0.0      0.00       0.0      0.00      0.00   \n",
       "1               100       0.0     28.98       0.0     12.49      0.00   \n",
       "2              1000       0.0      0.00       0.0      0.00      0.00   \n",
       "3             10000       0.0      0.00       0.0      0.00     14.37   \n",
       "4             10001       0.0      0.00       0.0      0.00      6.79   \n",
       "\n",
       "month_yr  Feb-1998  Jan-1997  Jan-1998  Jul-1997  Jun-1997  Jun-1998  \\\n",
       "0              0.0     39.31       0.0      0.00      0.00       0.0   \n",
       "1              0.0     13.77       0.0      0.00      0.00       0.0   \n",
       "2              0.0      8.99       0.0      0.00      0.00       0.0   \n",
       "3              0.0      0.00       0.0     22.54     40.51       0.0   \n",
       "4              0.0      0.00       0.0      0.00      0.00       0.0   \n",
       "\n",
       "month_yr  Mar-1997  Mar-1998  May-1997  May-1998  Nov-1997  Oct-1997  \\\n",
       "0              0.0       0.0       0.0       0.0       0.0      0.00   \n",
       "1              0.0       0.0       0.0       0.0       0.0      0.00   \n",
       "2              0.0       0.0       0.0       0.0       0.0      0.00   \n",
       "3              0.0       0.0       0.0       0.0       0.0      0.00   \n",
       "4              0.0       0.0       0.0       0.0       0.0     12.99   \n",
       "\n",
       "month_yr  Sep-1997    CLV  \n",
       "0              0.0  39.31  \n",
       "1              0.0  55.24  \n",
       "2              0.0   8.99  \n",
       "3              0.0  77.42  \n",
       "4              0.0  19.78  "
      ]
     },
     "execution_count": 20,
     "metadata": {},
     "output_type": "execute_result"
    }
   ],
   "source": [
    "sale['CLV']=sale.iloc[:,2:].sum(axis=1)\n",
    "sale.head()"
   ]
  },
  {
   "cell_type": "code",
   "execution_count": 21,
   "id": "74635eac",
   "metadata": {},
   "outputs": [
    {
     "data": {
      "text/plain": [
       "Timestamp('1998-06-30 00:00:00')"
      ]
     },
     "execution_count": 21,
     "metadata": {},
     "output_type": "execute_result"
    }
   ],
   "source": [
    "cdnow[\"TransactionDate\"].max()"
   ]
  },
  {
   "cell_type": "markdown",
   "id": "0e0643c6",
   "metadata": {},
   "source": [
    "# CLV prediction based on the latest 6 month sales data:\n",
    "\n",
    ">Predictive modeling on the customer lifetime value instead of the sales expected in next 90 days"
   ]
  },
  {
   "cell_type": "code",
   "execution_count": 22,
   "id": "be75b7b5",
   "metadata": {},
   "outputs": [],
   "source": [
    "# Selecting features as the latest 6 month data\n",
    "\n",
    "X2=sale[['Jan-1998','Feb-1998', 'Mar-1998','Apr-1998','May-1998','Jun-1998']]\n",
    "y=sale[['CLV']]"
   ]
  },
  {
   "cell_type": "markdown",
   "id": "5a0b4bff",
   "metadata": {},
   "source": [
    "### XGBOOST"
   ]
  },
  {
   "cell_type": "code",
   "execution_count": 23,
   "id": "cdc3f239",
   "metadata": {},
   "outputs": [],
   "source": [
    "xgb = XGBRegressor(objective='reg:squarederror', random_state = 123) #model"
   ]
  },
  {
   "cell_type": "code",
   "execution_count": 24,
   "id": "8983d650",
   "metadata": {},
   "outputs": [],
   "source": [
    "# GridSearch with all the hyperparameters\n",
    "xgb =GridSearchCV(estimator=xgb, param_grid = dict(learning_rate = [0.01, 0.1, 0.3, 0.5]), scoring='neg_mean_absolute_error', refit= True, cv = 5)"
   ]
  },
  {
   "cell_type": "code",
   "execution_count": 25,
   "id": "026d92d7",
   "metadata": {},
   "outputs": [
    {
     "data": {
      "text/plain": [
       "GridSearchCV(cv=5,\n",
       "             estimator=XGBRegressor(base_score=None, booster=None,\n",
       "                                    colsample_bylevel=None,\n",
       "                                    colsample_bynode=None,\n",
       "                                    colsample_bytree=None,\n",
       "                                    enable_categorical=False, gamma=None,\n",
       "                                    gpu_id=None, importance_type=None,\n",
       "                                    interaction_constraints=None,\n",
       "                                    learning_rate=None, max_delta_step=None,\n",
       "                                    max_depth=None, min_child_weight=None,\n",
       "                                    missing=nan, monotone_constraints=None,\n",
       "                                    n_estimators=100, n_jobs=None,\n",
       "                                    num_parallel_tree=None, predictor=None,\n",
       "                                    random_state=123, reg_alpha=None,\n",
       "                                    reg_lambda=None, scale_pos_weight=None,\n",
       "                                    subsample=None, tree_method=None,\n",
       "                                    validate_parameters=None, verbosity=None),\n",
       "             param_grid={'learning_rate': [0.01, 0.1, 0.3, 0.5]},\n",
       "             scoring='neg_mean_absolute_error')"
      ]
     },
     "execution_count": 25,
     "metadata": {},
     "output_type": "execute_result"
    }
   ],
   "source": [
    "xgb.fit(X2, y) # Fitting the data"
   ]
  },
  {
   "cell_type": "code",
   "execution_count": 26,
   "id": "7bc61565",
   "metadata": {},
   "outputs": [
    {
     "data": {
      "text/plain": [
       "-57.91302282560919"
      ]
     },
     "execution_count": 26,
     "metadata": {},
     "output_type": "execute_result"
    }
   ],
   "source": [
    "xgb.best_score_ # NAE for the best model"
   ]
  },
  {
   "cell_type": "code",
   "execution_count": 27,
   "id": "1351fa1a",
   "metadata": {},
   "outputs": [
    {
     "data": {
      "text/plain": [
       "{'learning_rate': 0.01}"
      ]
     },
     "execution_count": 27,
     "metadata": {},
     "output_type": "execute_result"
    }
   ],
   "source": [
    "xgb.best_params_ # Hyper parameters for the best model"
   ]
  },
  {
   "cell_type": "code",
   "execution_count": 28,
   "id": "1f86173f",
   "metadata": {},
   "outputs": [],
   "source": [
    "predictions_xgb_reg_6model = xgb.predict(X2) # prediction"
   ]
  },
  {
   "cell_type": "code",
   "execution_count": 29,
   "id": "2b33b677",
   "metadata": {},
   "outputs": [],
   "source": [
    "XGBOOST_6M_REG = pd.DataFrame({\"prediction_xgb_6m\" : predictions_xgb_reg_6model.tolist()}).merge(X2,left_index=True, right_index=True).merge(sale[\"CustomerID\"],left_index=True, right_index=True)"
   ]
  },
  {
   "cell_type": "code",
   "execution_count": 30,
   "id": "cf0fa7cb",
   "metadata": {},
   "outputs": [],
   "source": [
    "XGBOOST_6M_REG.to_csv(\"XGB_reg_6m_prediction.csv\") # Prediction to csv."
   ]
  },
  {
   "cell_type": "markdown",
   "id": "94859916",
   "metadata": {},
   "source": [
    "### Linear Regression"
   ]
  },
  {
   "cell_type": "code",
   "execution_count": 31,
   "id": "b36f4c5b",
   "metadata": {},
   "outputs": [],
   "source": [
    "lr = LinearRegression()"
   ]
  },
  {
   "cell_type": "code",
   "execution_count": 32,
   "id": "f6f3f8df",
   "metadata": {},
   "outputs": [
    {
     "data": {
      "text/plain": [
       "GridSearchCV(cv=5, estimator=LinearRegression(),\n",
       "             param_grid={'copy_X': [True, False],\n",
       "                         'fit_intercept': [True, False]},\n",
       "             scoring='neg_mean_absolute_error')"
      ]
     },
     "execution_count": 32,
     "metadata": {},
     "output_type": "execute_result"
    }
   ],
   "source": [
    "parameters = {'fit_intercept':[True,False],  'copy_X':[True, False]} # Hyperparameters\n",
    "lr_reg_model = GridSearchCV(lr,parameters, cv=5, scoring='neg_mean_absolute_error')\n",
    "lr_reg_model.fit(X2, y) #fittig the data"
   ]
  },
  {
   "cell_type": "code",
   "execution_count": 33,
   "id": "ac8b54c6",
   "metadata": {},
   "outputs": [
    {
     "data": {
      "text/plain": [
       "-57.00890695623277"
      ]
     },
     "execution_count": 33,
     "metadata": {},
     "output_type": "execute_result"
    }
   ],
   "source": [
    "lr_reg_model.best_score_ # NAE for the best model"
   ]
  },
  {
   "cell_type": "code",
   "execution_count": 34,
   "id": "1ea6282d",
   "metadata": {},
   "outputs": [
    {
     "data": {
      "text/plain": [
       "{'copy_X': True, 'fit_intercept': True}"
      ]
     },
     "execution_count": 34,
     "metadata": {},
     "output_type": "execute_result"
    }
   ],
   "source": [
    "lr_reg_model.best_params_ # Hyperparameters for the best model."
   ]
  },
  {
   "cell_type": "code",
   "execution_count": 35,
   "id": "f437a382",
   "metadata": {},
   "outputs": [
    {
     "data": {
      "text/plain": [
       "array([ 53.33973479, 117.48789003,  53.33973479, ...,  53.33973479,\n",
       "        53.33973479,  53.33973479])"
      ]
     },
     "execution_count": 35,
     "metadata": {},
     "output_type": "execute_result"
    }
   ],
   "source": [
    "predictions_lr_reg_6model = lr_reg_model.predict(X2).reshape(-1)\n",
    "predictions_lr_reg_6model"
   ]
  },
  {
   "cell_type": "code",
   "execution_count": 36,
   "id": "90e4cc1c",
   "metadata": {},
   "outputs": [],
   "source": [
    "# Storing the prediction in a dataframe.\n",
    "LinearReg_6M_REG = pd.DataFrame({\"prediction_lr_6m\" : predictions_lr_reg_6model.tolist()}).merge(X2,left_index=True, right_index=True).merge(sale[\"CustomerID\"],left_index=True, right_index=True)"
   ]
  },
  {
   "cell_type": "code",
   "execution_count": 37,
   "id": "8941a34e",
   "metadata": {},
   "outputs": [],
   "source": [
    "LinearReg_6M_REG.to_csv(\"lr_reg_6m_prediction.csv\")# Prediction to csv."
   ]
  },
  {
   "cell_type": "markdown",
   "id": "eccf3a07",
   "metadata": {},
   "source": [
    "### Random Forest Regression"
   ]
  },
  {
   "cell_type": "code",
   "execution_count": 38,
   "id": "6794f317",
   "metadata": {},
   "outputs": [],
   "source": [
    "# Hyper Parameters\n",
    "param_grid = dict(n_estimators = [10, 20, 50, 100, 500, 1000], max_depth = [2, 5], max_features = ['auto', 'sqrt', 'log2'])\n",
    "rf = RandomForestRegressor() # Model\n",
    "rf_regressor =GridSearchCV(estimator=rf, param_grid = param_grid, scoring='neg_mean_absolute_error', refit= True, cv = 5) "
   ]
  },
  {
   "cell_type": "code",
   "execution_count": 39,
   "id": "775c879a",
   "metadata": {},
   "outputs": [
    {
     "data": {
      "text/plain": [
       "GridSearchCV(cv=5, estimator=RandomForestRegressor(),\n",
       "             param_grid={'max_depth': [2, 5],\n",
       "                         'max_features': ['auto', 'sqrt', 'log2'],\n",
       "                         'n_estimators': [10, 20, 50, 100, 500, 1000]},\n",
       "             scoring='neg_mean_absolute_error')"
      ]
     },
     "execution_count": 39,
     "metadata": {},
     "output_type": "execute_result"
    }
   ],
   "source": [
    "rf_regressor.fit(X2, y.values.ravel()) # fitting the data"
   ]
  },
  {
   "cell_type": "code",
   "execution_count": 40,
   "id": "14ce3c65",
   "metadata": {},
   "outputs": [
    {
     "data": {
      "text/plain": [
       "-61.98302547573312"
      ]
     },
     "execution_count": 40,
     "metadata": {},
     "output_type": "execute_result"
    }
   ],
   "source": [
    "rf_regressor.best_score_ # NAE for the best model"
   ]
  },
  {
   "cell_type": "code",
   "execution_count": 41,
   "id": "8240410a",
   "metadata": {},
   "outputs": [],
   "source": [
    "predictions_rf_reg_6model = rf_regressor.predict(X2) # Prediction"
   ]
  },
  {
   "cell_type": "code",
   "execution_count": 42,
   "id": "d73b82ad",
   "metadata": {},
   "outputs": [],
   "source": [
    "RFReg_6M_REG = pd.DataFrame({\"prediction_rf_6m\" : predictions_rf_reg_6model.tolist()}).merge(X2,left_index=True, right_index=True).merge(sale[\"CustomerID\"],left_index=True, right_index=True)"
   ]
  },
  {
   "cell_type": "code",
   "execution_count": 43,
   "id": "a9f80dcb",
   "metadata": {},
   "outputs": [],
   "source": [
    "RFReg_6M_REG.to_csv(\"rf_reg_6m_prediction.csv\")# Prediction to csv."
   ]
  }
 ],
 "metadata": {
  "kernelspec": {
   "display_name": "Python 3",
   "language": "python",
   "name": "python3"
  },
  "language_info": {
   "codemirror_mode": {
    "name": "ipython",
    "version": 3
   },
   "file_extension": ".py",
   "mimetype": "text/x-python",
   "name": "python",
   "nbconvert_exporter": "python",
   "pygments_lexer": "ipython3",
   "version": "3.8.8"
  }
 },
 "nbformat": 4,
 "nbformat_minor": 5
}
