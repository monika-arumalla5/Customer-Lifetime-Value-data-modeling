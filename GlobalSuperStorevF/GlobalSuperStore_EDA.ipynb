{
 "cells": [
  {
   "cell_type": "markdown",
   "metadata": {
    "id": "yyUCwz6g640v"
   },
   "source": [
    "# Global SuperStore Data\n",
    "\n",
    "\n",
    "\n",
    "*   The Global Super Store data set is a customer centric dataset, which has the data of all the orders that have been place through different vendors and markets.​\n",
    "\n",
    "*   The dataset set has around 50000 rows and 24 columns.​\n",
    "\n"
   ]
  },
  {
   "cell_type": "markdown",
   "metadata": {
    "id": "ra00_TjQMK14"
   },
   "source": [
    "## Importing the necessary libraries"
   ]
  },
  {
   "cell_type": "code",
   "execution_count": 1,
   "metadata": {
    "id": "sb0mM7LJMK16"
   },
   "outputs": [],
   "source": [
    "import warnings\n",
    "warnings.filterwarnings('ignore')\n",
    "import pandas as pd\n",
    "\n",
    "import numpy as np\n",
    "import matplotlib.pyplot as plt\n",
    "import datetime as dt\n",
    "import seaborn as sns\n",
    "from sklearn.preprocessing import StandardScaler\n",
    "from sklearn.preprocessing import RobustScaler\n",
    "from sklearn.cluster import KMeans\n",
    "\n",
    "# machine learning\n",
    "from xgboost import XGBClassifier, XGBRegressor\n",
    "from sklearn.model_selection import cross_val_score, GridSearchCV\n",
    "from sklearn.linear_model import LinearRegression\n",
    "from sklearn.preprocessing import StandardScaler\n",
    "from sklearn.ensemble import RandomForestRegressor\n",
    "from sklearn.linear_model import LogisticRegression\n",
    "from sklearn.ensemble import RandomForestClassifier\n",
    "from sklearn.metrics import mean_absolute_error"
   ]
  },
  {
   "cell_type": "markdown",
   "metadata": {
    "id": "FjSlSP7xMK17"
   },
   "source": [
    "## Loading the SuperStore data"
   ]
  },
  {
   "cell_type": "code",
   "execution_count": 2,
   "metadata": {
    "id": "yGXSuKGMMK17"
   },
   "outputs": [],
   "source": [
    "# Laoding the data into a dataframe.\n",
    "super_store_data = pd.read_excel(\"Data/Global_superstore_2016.xlsx\")"
   ]
  },
  {
   "cell_type": "code",
   "execution_count": 3,
   "metadata": {
    "colab": {
     "base_uri": "https://localhost:8080/"
    },
    "id": "xOCoHbNqMK17",
    "outputId": "f5230408-18dd-4369-ddb0-1e331a97af50"
   },
   "outputs": [
    {
     "data": {
      "text/plain": [
       "(51290, 24)"
      ]
     },
     "execution_count": 3,
     "metadata": {},
     "output_type": "execute_result"
    }
   ],
   "source": [
    "super_store_data.shape"
   ]
  },
  {
   "cell_type": "code",
   "execution_count": 4,
   "metadata": {
    "colab": {
     "base_uri": "https://localhost:8080/"
    },
    "id": "ELZtgF5EMK18",
    "outputId": "e92458be-7b16-45fd-cebd-fde8452b9e0a"
   },
   "outputs": [
    {
     "name": "stdout",
     "output_type": "stream",
     "text": [
      "<class 'pandas.core.frame.DataFrame'>\n",
      "RangeIndex: 51290 entries, 0 to 51289\n",
      "Data columns (total 24 columns):\n",
      " #   Column          Non-Null Count  Dtype         \n",
      "---  ------          --------------  -----         \n",
      " 0   Row ID          51290 non-null  int64         \n",
      " 1   Order ID        51290 non-null  object        \n",
      " 2   Order Date      51290 non-null  datetime64[ns]\n",
      " 3   Ship Date       51290 non-null  datetime64[ns]\n",
      " 4   Ship Mode       51290 non-null  object        \n",
      " 5   Customer ID     51290 non-null  object        \n",
      " 6   Customer Name   51290 non-null  object        \n",
      " 7   Segment         51290 non-null  object        \n",
      " 8   Postal Code     9994 non-null   float64       \n",
      " 9   City            51290 non-null  object        \n",
      " 10  State           51290 non-null  object        \n",
      " 11  Country         51290 non-null  object        \n",
      " 12  Region          51290 non-null  object        \n",
      " 13  Market          51290 non-null  object        \n",
      " 14  Product ID      51290 non-null  object        \n",
      " 15  Category        51290 non-null  object        \n",
      " 16  Sub-Category    51290 non-null  object        \n",
      " 17  Product Name    51290 non-null  object        \n",
      " 18  Sales           51290 non-null  float64       \n",
      " 19  Quantity        51290 non-null  int64         \n",
      " 20  Discount        51290 non-null  float64       \n",
      " 21  Profit          51290 non-null  float64       \n",
      " 22  Shipping Cost   51290 non-null  float64       \n",
      " 23  Order Priority  51290 non-null  object        \n",
      "dtypes: datetime64[ns](2), float64(5), int64(2), object(15)\n",
      "memory usage: 9.4+ MB\n"
     ]
    }
   ],
   "source": [
    "super_store_data.info() \n",
    "# info() gives us the number of non null values and the data type of each column."
   ]
  },
  {
   "cell_type": "markdown",
   "metadata": {
    "id": "9T9f8W7-MK18"
   },
   "source": [
    "Dropping the Customer Name column, as it contains personally identifiable information."
   ]
  },
  {
   "cell_type": "code",
   "execution_count": 5,
   "metadata": {
    "colab": {
     "base_uri": "https://localhost:8080/",
     "height": 574
    },
    "id": "1LexTgirMK18",
    "outputId": "16550ae2-2397-47c3-a3c8-3d50a111d054"
   },
   "outputs": [
    {
     "data": {
      "text/html": [
       "<div>\n",
       "<style scoped>\n",
       "    .dataframe tbody tr th:only-of-type {\n",
       "        vertical-align: middle;\n",
       "    }\n",
       "\n",
       "    .dataframe tbody tr th {\n",
       "        vertical-align: top;\n",
       "    }\n",
       "\n",
       "    .dataframe thead th {\n",
       "        text-align: right;\n",
       "    }\n",
       "</style>\n",
       "<table border=\"1\" class=\"dataframe\">\n",
       "  <thead>\n",
       "    <tr style=\"text-align: right;\">\n",
       "      <th></th>\n",
       "      <th>Row ID</th>\n",
       "      <th>Order ID</th>\n",
       "      <th>Order Date</th>\n",
       "      <th>Ship Date</th>\n",
       "      <th>Ship Mode</th>\n",
       "      <th>Customer ID</th>\n",
       "      <th>Segment</th>\n",
       "      <th>Postal Code</th>\n",
       "      <th>City</th>\n",
       "      <th>State</th>\n",
       "      <th>...</th>\n",
       "      <th>Product ID</th>\n",
       "      <th>Category</th>\n",
       "      <th>Sub-Category</th>\n",
       "      <th>Product Name</th>\n",
       "      <th>Sales</th>\n",
       "      <th>Quantity</th>\n",
       "      <th>Discount</th>\n",
       "      <th>Profit</th>\n",
       "      <th>Shipping Cost</th>\n",
       "      <th>Order Priority</th>\n",
       "    </tr>\n",
       "  </thead>\n",
       "  <tbody>\n",
       "    <tr>\n",
       "      <th>0</th>\n",
       "      <td>40098</td>\n",
       "      <td>CA-2014-AB10015140-41954</td>\n",
       "      <td>2014-11-11</td>\n",
       "      <td>2014-11-13</td>\n",
       "      <td>First Class</td>\n",
       "      <td>AB-100151402</td>\n",
       "      <td>Consumer</td>\n",
       "      <td>73120.0</td>\n",
       "      <td>Oklahoma City</td>\n",
       "      <td>Oklahoma</td>\n",
       "      <td>...</td>\n",
       "      <td>TEC-PH-5816</td>\n",
       "      <td>Technology</td>\n",
       "      <td>Phones</td>\n",
       "      <td>Samsung Convoy 3</td>\n",
       "      <td>221.980</td>\n",
       "      <td>2</td>\n",
       "      <td>0.0</td>\n",
       "      <td>62.1544</td>\n",
       "      <td>40.77</td>\n",
       "      <td>High</td>\n",
       "    </tr>\n",
       "    <tr>\n",
       "      <th>1</th>\n",
       "      <td>26341</td>\n",
       "      <td>IN-2014-JR162107-41675</td>\n",
       "      <td>2014-02-05</td>\n",
       "      <td>2014-02-07</td>\n",
       "      <td>Second Class</td>\n",
       "      <td>JR-162107</td>\n",
       "      <td>Corporate</td>\n",
       "      <td>NaN</td>\n",
       "      <td>Wollongong</td>\n",
       "      <td>New South Wales</td>\n",
       "      <td>...</td>\n",
       "      <td>FUR-CH-5379</td>\n",
       "      <td>Furniture</td>\n",
       "      <td>Chairs</td>\n",
       "      <td>Novimex Executive Leather Armchair, Black</td>\n",
       "      <td>3709.395</td>\n",
       "      <td>9</td>\n",
       "      <td>0.1</td>\n",
       "      <td>-288.7650</td>\n",
       "      <td>923.63</td>\n",
       "      <td>Critical</td>\n",
       "    </tr>\n",
       "    <tr>\n",
       "      <th>2</th>\n",
       "      <td>25330</td>\n",
       "      <td>IN-2014-CR127307-41929</td>\n",
       "      <td>2014-10-17</td>\n",
       "      <td>2014-10-18</td>\n",
       "      <td>First Class</td>\n",
       "      <td>CR-127307</td>\n",
       "      <td>Consumer</td>\n",
       "      <td>NaN</td>\n",
       "      <td>Brisbane</td>\n",
       "      <td>Queensland</td>\n",
       "      <td>...</td>\n",
       "      <td>TEC-PH-5356</td>\n",
       "      <td>Technology</td>\n",
       "      <td>Phones</td>\n",
       "      <td>Nokia Smart Phone, with Caller ID</td>\n",
       "      <td>5175.171</td>\n",
       "      <td>9</td>\n",
       "      <td>0.1</td>\n",
       "      <td>919.9710</td>\n",
       "      <td>915.49</td>\n",
       "      <td>Medium</td>\n",
       "    </tr>\n",
       "    <tr>\n",
       "      <th>3</th>\n",
       "      <td>13524</td>\n",
       "      <td>ES-2014-KM1637548-41667</td>\n",
       "      <td>2014-01-28</td>\n",
       "      <td>2014-01-30</td>\n",
       "      <td>First Class</td>\n",
       "      <td>KM-1637548</td>\n",
       "      <td>Home Office</td>\n",
       "      <td>NaN</td>\n",
       "      <td>Berlin</td>\n",
       "      <td>Berlin</td>\n",
       "      <td>...</td>\n",
       "      <td>TEC-PH-5267</td>\n",
       "      <td>Technology</td>\n",
       "      <td>Phones</td>\n",
       "      <td>Motorola Smart Phone, Cordless</td>\n",
       "      <td>2892.510</td>\n",
       "      <td>5</td>\n",
       "      <td>0.1</td>\n",
       "      <td>-96.5400</td>\n",
       "      <td>910.16</td>\n",
       "      <td>Medium</td>\n",
       "    </tr>\n",
       "    <tr>\n",
       "      <th>4</th>\n",
       "      <td>47221</td>\n",
       "      <td>SG-2014-RH9495111-41948</td>\n",
       "      <td>2014-11-05</td>\n",
       "      <td>2014-11-06</td>\n",
       "      <td>Same Day</td>\n",
       "      <td>RH-9495111</td>\n",
       "      <td>Consumer</td>\n",
       "      <td>NaN</td>\n",
       "      <td>Dakar</td>\n",
       "      <td>Dakar</td>\n",
       "      <td>...</td>\n",
       "      <td>TEC-CO-6011</td>\n",
       "      <td>Technology</td>\n",
       "      <td>Copiers</td>\n",
       "      <td>Sharp Wireless Fax, High-Speed</td>\n",
       "      <td>2832.960</td>\n",
       "      <td>8</td>\n",
       "      <td>0.0</td>\n",
       "      <td>311.5200</td>\n",
       "      <td>903.04</td>\n",
       "      <td>Critical</td>\n",
       "    </tr>\n",
       "  </tbody>\n",
       "</table>\n",
       "<p>5 rows × 23 columns</p>\n",
       "</div>"
      ],
      "text/plain": [
       "   Row ID                  Order ID Order Date  Ship Date     Ship Mode  \\\n",
       "0   40098  CA-2014-AB10015140-41954 2014-11-11 2014-11-13   First Class   \n",
       "1   26341    IN-2014-JR162107-41675 2014-02-05 2014-02-07  Second Class   \n",
       "2   25330    IN-2014-CR127307-41929 2014-10-17 2014-10-18   First Class   \n",
       "3   13524   ES-2014-KM1637548-41667 2014-01-28 2014-01-30   First Class   \n",
       "4   47221   SG-2014-RH9495111-41948 2014-11-05 2014-11-06      Same Day   \n",
       "\n",
       "    Customer ID      Segment  Postal Code           City            State  \\\n",
       "0  AB-100151402     Consumer      73120.0  Oklahoma City         Oklahoma   \n",
       "1     JR-162107    Corporate          NaN     Wollongong  New South Wales   \n",
       "2     CR-127307     Consumer          NaN       Brisbane       Queensland   \n",
       "3    KM-1637548  Home Office          NaN         Berlin           Berlin   \n",
       "4    RH-9495111     Consumer          NaN          Dakar            Dakar   \n",
       "\n",
       "   ...   Product ID    Category Sub-Category  \\\n",
       "0  ...  TEC-PH-5816  Technology       Phones   \n",
       "1  ...  FUR-CH-5379   Furniture       Chairs   \n",
       "2  ...  TEC-PH-5356  Technology       Phones   \n",
       "3  ...  TEC-PH-5267  Technology       Phones   \n",
       "4  ...  TEC-CO-6011  Technology      Copiers   \n",
       "\n",
       "                                Product Name     Sales Quantity Discount  \\\n",
       "0                           Samsung Convoy 3   221.980        2      0.0   \n",
       "1  Novimex Executive Leather Armchair, Black  3709.395        9      0.1   \n",
       "2          Nokia Smart Phone, with Caller ID  5175.171        9      0.1   \n",
       "3             Motorola Smart Phone, Cordless  2892.510        5      0.1   \n",
       "4             Sharp Wireless Fax, High-Speed  2832.960        8      0.0   \n",
       "\n",
       "     Profit  Shipping Cost  Order Priority  \n",
       "0   62.1544          40.77            High  \n",
       "1 -288.7650         923.63        Critical  \n",
       "2  919.9710         915.49          Medium  \n",
       "3  -96.5400         910.16          Medium  \n",
       "4  311.5200         903.04        Critical  \n",
       "\n",
       "[5 rows x 23 columns]"
      ]
     },
     "execution_count": 5,
     "metadata": {},
     "output_type": "execute_result"
    }
   ],
   "source": [
    "super_store_data = super_store_data.drop(\"Customer Name\",axis=1)\n",
    "# Looking at the top 5 rows of the dataframe.\n",
    "super_store_data.head()"
   ]
  },
  {
   "cell_type": "markdown",
   "metadata": {
    "id": "THCtYAShMK19"
   },
   "source": [
    "## Exploratory Data Analysis"
   ]
  },
  {
   "cell_type": "markdown",
   "metadata": {
    "id": "UAgMbAMX7vGy"
   },
   "source": [
    "Verifying if the data contains null values:"
   ]
  },
  {
   "cell_type": "code",
   "execution_count": 6,
   "metadata": {
    "colab": {
     "base_uri": "https://localhost:8080/"
    },
    "id": "RYt0jZOkMK19",
    "outputId": "0f1edeca-5406-402c-b3af-f7dc61239d93"
   },
   "outputs": [
    {
     "data": {
      "text/plain": [
       "Row ID                0\n",
       "Order ID              0\n",
       "Order Date            0\n",
       "Ship Date             0\n",
       "Ship Mode             0\n",
       "Customer ID           0\n",
       "Segment               0\n",
       "Postal Code       41296\n",
       "City                  0\n",
       "State                 0\n",
       "Country               0\n",
       "Region                0\n",
       "Market                0\n",
       "Product ID            0\n",
       "Category              0\n",
       "Sub-Category          0\n",
       "Product Name          0\n",
       "Sales                 0\n",
       "Quantity              0\n",
       "Discount              0\n",
       "Profit                0\n",
       "Shipping Cost         0\n",
       "Order Priority        0\n",
       "dtype: int64"
      ]
     },
     "execution_count": 6,
     "metadata": {},
     "output_type": "execute_result"
    }
   ],
   "source": [
    "super_store_data.isnull().sum()"
   ]
  },
  {
   "cell_type": "markdown",
   "metadata": {
    "id": "g1p99RNPMK19"
   },
   "source": [
    "As postal code doesn't play a key role for CLV analysis, we are ignoring the missing postal codes.\n",
    "\n",
    "Performing statistical analysis on the applicable features:"
   ]
  },
  {
   "cell_type": "code",
   "execution_count": 7,
   "metadata": {
    "colab": {
     "base_uri": "https://localhost:8080/",
     "height": 297
    },
    "id": "sg0MZkgeMK19",
    "outputId": "e2708fb3-ad71-461c-9a02-ca83960720b6"
   },
   "outputs": [
    {
     "data": {
      "text/html": [
       "<div>\n",
       "<style scoped>\n",
       "    .dataframe tbody tr th:only-of-type {\n",
       "        vertical-align: middle;\n",
       "    }\n",
       "\n",
       "    .dataframe tbody tr th {\n",
       "        vertical-align: top;\n",
       "    }\n",
       "\n",
       "    .dataframe thead th {\n",
       "        text-align: right;\n",
       "    }\n",
       "</style>\n",
       "<table border=\"1\" class=\"dataframe\">\n",
       "  <thead>\n",
       "    <tr style=\"text-align: right;\">\n",
       "      <th></th>\n",
       "      <th>Sales</th>\n",
       "      <th>Quantity</th>\n",
       "      <th>Discount</th>\n",
       "      <th>Profit</th>\n",
       "      <th>Shipping Cost</th>\n",
       "    </tr>\n",
       "  </thead>\n",
       "  <tbody>\n",
       "    <tr>\n",
       "      <th>count</th>\n",
       "      <td>51290.000000</td>\n",
       "      <td>51290.000000</td>\n",
       "      <td>51290.000000</td>\n",
       "      <td>51290.000000</td>\n",
       "      <td>51290.000000</td>\n",
       "    </tr>\n",
       "    <tr>\n",
       "      <th>mean</th>\n",
       "      <td>246.490581</td>\n",
       "      <td>3.476545</td>\n",
       "      <td>0.142908</td>\n",
       "      <td>28.610982</td>\n",
       "      <td>26.478567</td>\n",
       "    </tr>\n",
       "    <tr>\n",
       "      <th>std</th>\n",
       "      <td>487.565361</td>\n",
       "      <td>2.278766</td>\n",
       "      <td>0.212280</td>\n",
       "      <td>174.340972</td>\n",
       "      <td>57.251373</td>\n",
       "    </tr>\n",
       "    <tr>\n",
       "      <th>min</th>\n",
       "      <td>0.444000</td>\n",
       "      <td>1.000000</td>\n",
       "      <td>0.000000</td>\n",
       "      <td>-6599.978000</td>\n",
       "      <td>1.002000</td>\n",
       "    </tr>\n",
       "    <tr>\n",
       "      <th>25%</th>\n",
       "      <td>30.758625</td>\n",
       "      <td>2.000000</td>\n",
       "      <td>0.000000</td>\n",
       "      <td>0.000000</td>\n",
       "      <td>2.610000</td>\n",
       "    </tr>\n",
       "    <tr>\n",
       "      <th>50%</th>\n",
       "      <td>85.053000</td>\n",
       "      <td>3.000000</td>\n",
       "      <td>0.000000</td>\n",
       "      <td>9.240000</td>\n",
       "      <td>7.790000</td>\n",
       "    </tr>\n",
       "    <tr>\n",
       "      <th>75%</th>\n",
       "      <td>251.053200</td>\n",
       "      <td>5.000000</td>\n",
       "      <td>0.200000</td>\n",
       "      <td>36.810000</td>\n",
       "      <td>24.450000</td>\n",
       "    </tr>\n",
       "    <tr>\n",
       "      <th>max</th>\n",
       "      <td>22638.480000</td>\n",
       "      <td>14.000000</td>\n",
       "      <td>0.850000</td>\n",
       "      <td>8399.976000</td>\n",
       "      <td>933.570000</td>\n",
       "    </tr>\n",
       "  </tbody>\n",
       "</table>\n",
       "</div>"
      ],
      "text/plain": [
       "              Sales      Quantity      Discount        Profit  Shipping Cost\n",
       "count  51290.000000  51290.000000  51290.000000  51290.000000   51290.000000\n",
       "mean     246.490581      3.476545      0.142908     28.610982      26.478567\n",
       "std      487.565361      2.278766      0.212280    174.340972      57.251373\n",
       "min        0.444000      1.000000      0.000000  -6599.978000       1.002000\n",
       "25%       30.758625      2.000000      0.000000      0.000000       2.610000\n",
       "50%       85.053000      3.000000      0.000000      9.240000       7.790000\n",
       "75%      251.053200      5.000000      0.200000     36.810000      24.450000\n",
       "max    22638.480000     14.000000      0.850000   8399.976000     933.570000"
      ]
     },
     "execution_count": 7,
     "metadata": {},
     "output_type": "execute_result"
    }
   ],
   "source": [
    "# looking at the min, max, mean, standard deviation and quartile values of the numerical values.\n",
    "super_store_data[[\"Sales\", \"Quantity\", \"Discount\", \"Profit\", \"Shipping Cost\"]].describe()"
   ]
  },
  {
   "cell_type": "code",
   "execution_count": 8,
   "metadata": {
    "colab": {
     "base_uri": "https://localhost:8080/"
    },
    "id": "hyE3uPkugkkJ",
    "outputId": "6bc9bfc3-359c-4746-9630-6750b009959b"
   },
   "outputs": [
    {
     "data": {
      "text/plain": [
       "Timestamp('2012-01-01 00:00:00')"
      ]
     },
     "execution_count": 8,
     "metadata": {},
     "output_type": "execute_result"
    }
   ],
   "source": [
    "# First Transaction Date\n",
    "super_store_data[\"Order Date\"].min()"
   ]
  },
  {
   "cell_type": "code",
   "execution_count": 9,
   "metadata": {
    "colab": {
     "base_uri": "https://localhost:8080/"
    },
    "id": "qRlKVwAzgnw7",
    "outputId": "f626616f-a26a-4b57-be48-fd613ea09ebe"
   },
   "outputs": [
    {
     "data": {
      "text/plain": [
       "Timestamp('2015-12-31 00:00:00')"
      ]
     },
     "execution_count": 9,
     "metadata": {},
     "output_type": "execute_result"
    }
   ],
   "source": [
    "# Last Transaction Date\n",
    "super_store_data[\"Order Date\"].max()"
   ]
  },
  {
   "cell_type": "code",
   "execution_count": 10,
   "metadata": {
    "colab": {
     "base_uri": "https://localhost:8080/"
    },
    "id": "mELyPPm9gwAV",
    "outputId": "cf559d8a-251c-4275-b162-787ebed1608c"
   },
   "outputs": [
    {
     "data": {
      "text/plain": [
       "17415"
      ]
     },
     "execution_count": 10,
     "metadata": {},
     "output_type": "execute_result"
    }
   ],
   "source": [
    "# NUmber of Unique Customers\n",
    "super_store_data[\"Customer ID\"].nunique()"
   ]
  },
  {
   "cell_type": "code",
   "execution_count": 11,
   "metadata": {
    "colab": {
     "base_uri": "https://localhost:8080/"
    },
    "id": "8B6N4nwUg3Az",
    "outputId": "646c07d4-a759-44b1-877f-09b8a50f3205"
   },
   "outputs": [
    {
     "data": {
      "text/plain": [
       "12642501.90988"
      ]
     },
     "execution_count": 11,
     "metadata": {},
     "output_type": "execute_result"
    }
   ],
   "source": [
    "# Total Revenue.\n",
    "super_store_data[\"Sales\"].sum()"
   ]
  },
  {
   "cell_type": "code",
   "execution_count": 12,
   "metadata": {
    "colab": {
     "base_uri": "https://localhost:8080/"
    },
    "id": "mnnH-9sqhEMr",
    "outputId": "f8b84034-f92c-4652-9d8b-10eeb0f29693"
   },
   "outputs": [
    {
     "data": {
      "text/plain": [
       "246.4905812025821"
      ]
     },
     "execution_count": 12,
     "metadata": {},
     "output_type": "execute_result"
    }
   ],
   "source": [
    "#Mean Sales value per transaction\n",
    "super_store_data[\"Sales\"].mean()"
   ]
  },
  {
   "cell_type": "code",
   "execution_count": 13,
   "metadata": {
    "colab": {
     "base_uri": "https://localhost:8080/"
    },
    "id": "sfpNEb7juPY4",
    "outputId": "c75cc74b-ca97-482d-f314-c143e3840245"
   },
   "outputs": [
    {
     "data": {
      "text/plain": [
       "85.053"
      ]
     },
     "execution_count": 13,
     "metadata": {},
     "output_type": "execute_result"
    }
   ],
   "source": [
    "super_store_data[\"Sales\"].median()"
   ]
  },
  {
   "cell_type": "code",
   "execution_count": 14,
   "metadata": {
    "id": "cYAwrVAuuhCo"
   },
   "outputs": [],
   "source": [
    "order_count = pd.DataFrame((super_store_data.groupby(\"Customer ID\")[\"Order Date\"].count()).sort_values(ascending=False))\n"
   ]
  },
  {
   "cell_type": "code",
   "execution_count": 15,
   "metadata": {
    "colab": {
     "base_uri": "https://localhost:8080/"
    },
    "id": "LFIkKe-2wGTt",
    "outputId": "b83ade71-b2fd-490f-db20-d2e8649b62e4"
   },
   "outputs": [
    {
     "data": {
      "text/plain": [
       "(11350, 1)"
      ]
     },
     "execution_count": 15,
     "metadata": {},
     "output_type": "execute_result"
    }
   ],
   "source": [
    "order_count[order_count[\"Order Date\"]>1].shape"
   ]
  },
  {
   "cell_type": "code",
   "execution_count": 16,
   "metadata": {
    "colab": {
     "base_uri": "https://localhost:8080/"
    },
    "id": "C_eiraBSg9ES",
    "outputId": "862da4e4-2213-4425-b50b-b3a7d8991103"
   },
   "outputs": [
    {
     "data": {
      "text/plain": [
       "241.38291683146747"
      ]
     },
     "execution_count": 16,
     "metadata": {},
     "output_type": "execute_result"
    }
   ],
   "source": [
    "#Average of mean sales per customer\n",
    "super_store_data.groupby(\"Customer ID\")[\"Sales\"].mean().mean()"
   ]
  },
  {
   "cell_type": "markdown",
   "metadata": {
    "id": "Zsq3Zwj48IeG"
   },
   "source": [
    "Analysing the Profit feature, as above noticed transactions with negative profit"
   ]
  },
  {
   "cell_type": "code",
   "execution_count": 17,
   "metadata": {
    "colab": {
     "base_uri": "https://localhost:8080/",
     "height": 1000
    },
    "id": "2BIUkT7tMK1-",
    "outputId": "fc8d9d04-7726-41b0-f2bb-a60783728ee8"
   },
   "outputs": [
    {
     "data": {
      "text/html": [
       "<div>\n",
       "<style scoped>\n",
       "    .dataframe tbody tr th:only-of-type {\n",
       "        vertical-align: middle;\n",
       "    }\n",
       "\n",
       "    .dataframe tbody tr th {\n",
       "        vertical-align: top;\n",
       "    }\n",
       "\n",
       "    .dataframe thead th {\n",
       "        text-align: right;\n",
       "    }\n",
       "</style>\n",
       "<table border=\"1\" class=\"dataframe\">\n",
       "  <thead>\n",
       "    <tr style=\"text-align: right;\">\n",
       "      <th></th>\n",
       "      <th>1</th>\n",
       "      <th>3</th>\n",
       "      <th>16</th>\n",
       "      <th>30</th>\n",
       "      <th>40</th>\n",
       "      <th>65</th>\n",
       "      <th>73</th>\n",
       "      <th>76</th>\n",
       "      <th>83</th>\n",
       "      <th>85</th>\n",
       "      <th>...</th>\n",
       "      <th>51246</th>\n",
       "      <th>51252</th>\n",
       "      <th>51256</th>\n",
       "      <th>51257</th>\n",
       "      <th>51259</th>\n",
       "      <th>51260</th>\n",
       "      <th>51266</th>\n",
       "      <th>51275</th>\n",
       "      <th>51277</th>\n",
       "      <th>51279</th>\n",
       "    </tr>\n",
       "  </thead>\n",
       "  <tbody>\n",
       "    <tr>\n",
       "      <th>Row ID</th>\n",
       "      <td>26341</td>\n",
       "      <td>13524</td>\n",
       "      <td>39519</td>\n",
       "      <td>220</td>\n",
       "      <td>21316</td>\n",
       "      <td>32637</td>\n",
       "      <td>21209</td>\n",
       "      <td>33130</td>\n",
       "      <td>40425</td>\n",
       "      <td>23013</td>\n",
       "      <td>...</td>\n",
       "      <td>31887</td>\n",
       "      <td>40220</td>\n",
       "      <td>29192</td>\n",
       "      <td>35397</td>\n",
       "      <td>36230</td>\n",
       "      <td>35398</td>\n",
       "      <td>27081</td>\n",
       "      <td>46231</td>\n",
       "      <td>46582</td>\n",
       "      <td>43818</td>\n",
       "    </tr>\n",
       "    <tr>\n",
       "      <th>Order ID</th>\n",
       "      <td>IN-2014-JR162107-41675</td>\n",
       "      <td>ES-2014-KM1637548-41667</td>\n",
       "      <td>CA-2012-AB10015140-40958</td>\n",
       "      <td>US-2012-RR1952536-41270</td>\n",
       "      <td>ID-2014-JB1600059-41873</td>\n",
       "      <td>CA-2015-AS10045140-42007</td>\n",
       "      <td>IN-2015-LA1678059-42242</td>\n",
       "      <td>CA-2015-AS10045140-42218</td>\n",
       "      <td>US-2015-AS10045140-42252</td>\n",
       "      <td>ID-2013-AM1070559-41535</td>\n",
       "      <td>...</td>\n",
       "      <td>US-2014-ZC21910140-41719</td>\n",
       "      <td>CA-2015-ZC21910140-42167</td>\n",
       "      <td>ID-2015-JE1561097-42193</td>\n",
       "      <td>US-2015-ZC21910140-42175</td>\n",
       "      <td>CA-2013-ZC21910140-41545</td>\n",
       "      <td>US-2015-ZC21910140-42175</td>\n",
       "      <td>ID-2013-EK13795102-41496</td>\n",
       "      <td>ZA-2012-AS285147-40988</td>\n",
       "      <td>TU-2015-KF6285134-42337</td>\n",
       "      <td>NI-2012-PO886595-41159</td>\n",
       "    </tr>\n",
       "    <tr>\n",
       "      <th>Order Date</th>\n",
       "      <td>2014-02-05 00:00:00</td>\n",
       "      <td>2014-01-28 00:00:00</td>\n",
       "      <td>2012-02-19 00:00:00</td>\n",
       "      <td>2012-12-27 00:00:00</td>\n",
       "      <td>2014-08-22 00:00:00</td>\n",
       "      <td>2015-01-03 00:00:00</td>\n",
       "      <td>2015-08-26 00:00:00</td>\n",
       "      <td>2015-08-02 00:00:00</td>\n",
       "      <td>2015-09-05 00:00:00</td>\n",
       "      <td>2013-09-18 00:00:00</td>\n",
       "      <td>...</td>\n",
       "      <td>2014-03-21 00:00:00</td>\n",
       "      <td>2015-06-12 00:00:00</td>\n",
       "      <td>2015-07-08 00:00:00</td>\n",
       "      <td>2015-06-20 00:00:00</td>\n",
       "      <td>2013-09-28 00:00:00</td>\n",
       "      <td>2015-06-20 00:00:00</td>\n",
       "      <td>2013-08-10 00:00:00</td>\n",
       "      <td>2012-03-20 00:00:00</td>\n",
       "      <td>2015-11-29 00:00:00</td>\n",
       "      <td>2012-09-07 00:00:00</td>\n",
       "    </tr>\n",
       "    <tr>\n",
       "      <th>Ship Date</th>\n",
       "      <td>2014-02-07 00:00:00</td>\n",
       "      <td>2014-01-30 00:00:00</td>\n",
       "      <td>2012-02-25 00:00:00</td>\n",
       "      <td>2012-12-29 00:00:00</td>\n",
       "      <td>2014-08-26 00:00:00</td>\n",
       "      <td>2015-01-05 00:00:00</td>\n",
       "      <td>2015-08-27 00:00:00</td>\n",
       "      <td>2015-08-08 00:00:00</td>\n",
       "      <td>2015-09-06 00:00:00</td>\n",
       "      <td>2013-09-21 00:00:00</td>\n",
       "      <td>...</td>\n",
       "      <td>2014-03-25 00:00:00</td>\n",
       "      <td>2015-06-18 00:00:00</td>\n",
       "      <td>2015-07-13 00:00:00</td>\n",
       "      <td>2015-06-24 00:00:00</td>\n",
       "      <td>2013-10-04 00:00:00</td>\n",
       "      <td>2015-06-24 00:00:00</td>\n",
       "      <td>2013-08-11 00:00:00</td>\n",
       "      <td>2012-03-25 00:00:00</td>\n",
       "      <td>2015-11-30 00:00:00</td>\n",
       "      <td>2012-09-09 00:00:00</td>\n",
       "    </tr>\n",
       "    <tr>\n",
       "      <th>Ship Mode</th>\n",
       "      <td>Second Class</td>\n",
       "      <td>First Class</td>\n",
       "      <td>Standard Class</td>\n",
       "      <td>Second Class</td>\n",
       "      <td>Standard Class</td>\n",
       "      <td>First Class</td>\n",
       "      <td>First Class</td>\n",
       "      <td>Standard Class</td>\n",
       "      <td>First Class</td>\n",
       "      <td>Second Class</td>\n",
       "      <td>...</td>\n",
       "      <td>Standard Class</td>\n",
       "      <td>Standard Class</td>\n",
       "      <td>Standard Class</td>\n",
       "      <td>Standard Class</td>\n",
       "      <td>Standard Class</td>\n",
       "      <td>Standard Class</td>\n",
       "      <td>First Class</td>\n",
       "      <td>Standard Class</td>\n",
       "      <td>First Class</td>\n",
       "      <td>Second Class</td>\n",
       "    </tr>\n",
       "    <tr>\n",
       "      <th>Customer ID</th>\n",
       "      <td>JR-162107</td>\n",
       "      <td>KM-1637548</td>\n",
       "      <td>AB-100151402</td>\n",
       "      <td>RR-1952536</td>\n",
       "      <td>JB-1600059</td>\n",
       "      <td>AS-100451408</td>\n",
       "      <td>LA-1678059</td>\n",
       "      <td>AS-100451402</td>\n",
       "      <td>AS-100451404</td>\n",
       "      <td>AM-1070559</td>\n",
       "      <td>...</td>\n",
       "      <td>ZC-219101404</td>\n",
       "      <td>ZC-219101408</td>\n",
       "      <td>JE-1561097</td>\n",
       "      <td>ZC-219101402</td>\n",
       "      <td>ZC-219101404</td>\n",
       "      <td>ZC-219101402</td>\n",
       "      <td>EK-13795102</td>\n",
       "      <td>AS-285147</td>\n",
       "      <td>KF-6285134</td>\n",
       "      <td>PO-886595</td>\n",
       "    </tr>\n",
       "    <tr>\n",
       "      <th>Segment</th>\n",
       "      <td>Corporate</td>\n",
       "      <td>Home Office</td>\n",
       "      <td>Consumer</td>\n",
       "      <td>Corporate</td>\n",
       "      <td>Consumer</td>\n",
       "      <td>Corporate</td>\n",
       "      <td>Corporate</td>\n",
       "      <td>Corporate</td>\n",
       "      <td>Corporate</td>\n",
       "      <td>Consumer</td>\n",
       "      <td>...</td>\n",
       "      <td>Consumer</td>\n",
       "      <td>Consumer</td>\n",
       "      <td>Corporate</td>\n",
       "      <td>Consumer</td>\n",
       "      <td>Consumer</td>\n",
       "      <td>Consumer</td>\n",
       "      <td>Home Office</td>\n",
       "      <td>Corporate</td>\n",
       "      <td>Home Office</td>\n",
       "      <td>Consumer</td>\n",
       "    </tr>\n",
       "    <tr>\n",
       "      <th>Postal Code</th>\n",
       "      <td>NaN</td>\n",
       "      <td>NaN</td>\n",
       "      <td>76017.0</td>\n",
       "      <td>NaN</td>\n",
       "      <td>NaN</td>\n",
       "      <td>28540.0</td>\n",
       "      <td>NaN</td>\n",
       "      <td>78745.0</td>\n",
       "      <td>97756.0</td>\n",
       "      <td>NaN</td>\n",
       "      <td>...</td>\n",
       "      <td>97301.0</td>\n",
       "      <td>28601.0</td>\n",
       "      <td>NaN</td>\n",
       "      <td>77095.0</td>\n",
       "      <td>80013.0</td>\n",
       "      <td>77095.0</td>\n",
       "      <td>NaN</td>\n",
       "      <td>NaN</td>\n",
       "      <td>NaN</td>\n",
       "      <td>NaN</td>\n",
       "    </tr>\n",
       "    <tr>\n",
       "      <th>City</th>\n",
       "      <td>Wollongong</td>\n",
       "      <td>Berlin</td>\n",
       "      <td>Arlington</td>\n",
       "      <td>Santo Domingo</td>\n",
       "      <td>Mataram</td>\n",
       "      <td>Jacksonville</td>\n",
       "      <td>Palembang</td>\n",
       "      <td>Austin</td>\n",
       "      <td>Redmond</td>\n",
       "      <td>Bandung</td>\n",
       "      <td>...</td>\n",
       "      <td>Salem</td>\n",
       "      <td>Hickory</td>\n",
       "      <td>Lahore</td>\n",
       "      <td>Houston</td>\n",
       "      <td>Aurora</td>\n",
       "      <td>Houston</td>\n",
       "      <td>Pasig</td>\n",
       "      <td>Harare</td>\n",
       "      <td>Midyat</td>\n",
       "      <td>Lagos</td>\n",
       "    </tr>\n",
       "    <tr>\n",
       "      <th>State</th>\n",
       "      <td>New South Wales</td>\n",
       "      <td>Berlin</td>\n",
       "      <td>Texas</td>\n",
       "      <td>Santo Domingo</td>\n",
       "      <td>Nusa Tenggara Barat</td>\n",
       "      <td>North Carolina</td>\n",
       "      <td>Sumatera Selatan</td>\n",
       "      <td>Texas</td>\n",
       "      <td>Oregon</td>\n",
       "      <td>Jawa Barat</td>\n",
       "      <td>...</td>\n",
       "      <td>Oregon</td>\n",
       "      <td>North Carolina</td>\n",
       "      <td>Punjab</td>\n",
       "      <td>Texas</td>\n",
       "      <td>Colorado</td>\n",
       "      <td>Texas</td>\n",
       "      <td>National Capital</td>\n",
       "      <td>Harare</td>\n",
       "      <td>Mardin</td>\n",
       "      <td>Lagos</td>\n",
       "    </tr>\n",
       "    <tr>\n",
       "      <th>Country</th>\n",
       "      <td>Australia</td>\n",
       "      <td>Germany</td>\n",
       "      <td>United States</td>\n",
       "      <td>Dominican Republic</td>\n",
       "      <td>Indonesia</td>\n",
       "      <td>United States</td>\n",
       "      <td>Indonesia</td>\n",
       "      <td>United States</td>\n",
       "      <td>United States</td>\n",
       "      <td>Indonesia</td>\n",
       "      <td>...</td>\n",
       "      <td>United States</td>\n",
       "      <td>United States</td>\n",
       "      <td>Pakistan</td>\n",
       "      <td>United States</td>\n",
       "      <td>United States</td>\n",
       "      <td>United States</td>\n",
       "      <td>Philippines</td>\n",
       "      <td>Zimbabwe</td>\n",
       "      <td>Turkey</td>\n",
       "      <td>Nigeria</td>\n",
       "    </tr>\n",
       "    <tr>\n",
       "      <th>Region</th>\n",
       "      <td>Oceania</td>\n",
       "      <td>Western Europe</td>\n",
       "      <td>Central US</td>\n",
       "      <td>Caribbean</td>\n",
       "      <td>Southeastern Asia</td>\n",
       "      <td>Southern US</td>\n",
       "      <td>Southeastern Asia</td>\n",
       "      <td>Central US</td>\n",
       "      <td>Western US</td>\n",
       "      <td>Southeastern Asia</td>\n",
       "      <td>...</td>\n",
       "      <td>Western US</td>\n",
       "      <td>Southern US</td>\n",
       "      <td>Southern Asia</td>\n",
       "      <td>Central US</td>\n",
       "      <td>Western US</td>\n",
       "      <td>Central US</td>\n",
       "      <td>Southeastern Asia</td>\n",
       "      <td>Eastern Africa</td>\n",
       "      <td>Western Asia</td>\n",
       "      <td>Western Africa</td>\n",
       "    </tr>\n",
       "    <tr>\n",
       "      <th>Market</th>\n",
       "      <td>Asia Pacific</td>\n",
       "      <td>Europe</td>\n",
       "      <td>USCA</td>\n",
       "      <td>LATAM</td>\n",
       "      <td>Asia Pacific</td>\n",
       "      <td>USCA</td>\n",
       "      <td>Asia Pacific</td>\n",
       "      <td>USCA</td>\n",
       "      <td>USCA</td>\n",
       "      <td>Asia Pacific</td>\n",
       "      <td>...</td>\n",
       "      <td>USCA</td>\n",
       "      <td>USCA</td>\n",
       "      <td>Asia Pacific</td>\n",
       "      <td>USCA</td>\n",
       "      <td>USCA</td>\n",
       "      <td>USCA</td>\n",
       "      <td>Asia Pacific</td>\n",
       "      <td>Africa</td>\n",
       "      <td>Asia Pacific</td>\n",
       "      <td>Africa</td>\n",
       "    </tr>\n",
       "    <tr>\n",
       "      <th>Product ID</th>\n",
       "      <td>FUR-CH-5379</td>\n",
       "      <td>TEC-PH-5267</td>\n",
       "      <td>OFF-ST-3078</td>\n",
       "      <td>TEC-PH-5841</td>\n",
       "      <td>TEC-PH-5268</td>\n",
       "      <td>TEC-MA-3788</td>\n",
       "      <td>FUR-TA-3422</td>\n",
       "      <td>TEC-MA-3329</td>\n",
       "      <td>OFF-BI-3324</td>\n",
       "      <td>OFF-AP-4501</td>\n",
       "      <td>...</td>\n",
       "      <td>OFF-BI-3823</td>\n",
       "      <td>OFF-BI-2924</td>\n",
       "      <td>OFF-PA-4471</td>\n",
       "      <td>OFF-AP-4611</td>\n",
       "      <td>OFF-BI-6391</td>\n",
       "      <td>OFF-AP-4739</td>\n",
       "      <td>OFF-PA-4148</td>\n",
       "      <td>OFF-AR-5911</td>\n",
       "      <td>OFF-AR-3546</td>\n",
       "      <td>OFF-AR-6113</td>\n",
       "    </tr>\n",
       "    <tr>\n",
       "      <th>Category</th>\n",
       "      <td>Furniture</td>\n",
       "      <td>Technology</td>\n",
       "      <td>Office Supplies</td>\n",
       "      <td>Technology</td>\n",
       "      <td>Technology</td>\n",
       "      <td>Technology</td>\n",
       "      <td>Furniture</td>\n",
       "      <td>Technology</td>\n",
       "      <td>Office Supplies</td>\n",
       "      <td>Office Supplies</td>\n",
       "      <td>...</td>\n",
       "      <td>Office Supplies</td>\n",
       "      <td>Office Supplies</td>\n",
       "      <td>Office Supplies</td>\n",
       "      <td>Office Supplies</td>\n",
       "      <td>Office Supplies</td>\n",
       "      <td>Office Supplies</td>\n",
       "      <td>Office Supplies</td>\n",
       "      <td>Office Supplies</td>\n",
       "      <td>Office Supplies</td>\n",
       "      <td>Office Supplies</td>\n",
       "    </tr>\n",
       "    <tr>\n",
       "      <th>Sub-Category</th>\n",
       "      <td>Chairs</td>\n",
       "      <td>Phones</td>\n",
       "      <td>Storage</td>\n",
       "      <td>Phones</td>\n",
       "      <td>Phones</td>\n",
       "      <td>Machines</td>\n",
       "      <td>Tables</td>\n",
       "      <td>Machines</td>\n",
       "      <td>Binders</td>\n",
       "      <td>Appliances</td>\n",
       "      <td>...</td>\n",
       "      <td>Binders</td>\n",
       "      <td>Binders</td>\n",
       "      <td>Paper</td>\n",
       "      <td>Appliances</td>\n",
       "      <td>Binders</td>\n",
       "      <td>Appliances</td>\n",
       "      <td>Paper</td>\n",
       "      <td>Art</td>\n",
       "      <td>Art</td>\n",
       "      <td>Art</td>\n",
       "    </tr>\n",
       "    <tr>\n",
       "      <th>Product Name</th>\n",
       "      <td>Novimex Executive Leather Armchair, Black</td>\n",
       "      <td>Motorola Smart Phone, Cordless</td>\n",
       "      <td>Akro Stacking Bins</td>\n",
       "      <td>Samsung Smart Phone, VoIP</td>\n",
       "      <td>Motorola Smart Phone, Full Size</td>\n",
       "      <td>Cisco CP-7937G Unified IP Conference Station P...</td>\n",
       "      <td>Bevis Conference Table, with Bottom Storage</td>\n",
       "      <td>Bady BDG101FRU Card Printer</td>\n",
       "      <td>Avery Trapezoid Extra Heavy Duty 4\" Binders</td>\n",
       "      <td>Hamilton Beach Refrigerator, Black</td>\n",
       "      <td>...</td>\n",
       "      <td>Clear Mylar Reinforcing Strips</td>\n",
       "      <td>Acco Pressboard Covers with Storage Hooks, 14 ...</td>\n",
       "      <td>Green Bar Memo Slips, Multicolor</td>\n",
       "      <td>Holmes Visible Mist Ultrasonic Humidifier with...</td>\n",
       "      <td>Wilson Jones Easy Flow II Sheet Lifters</td>\n",
       "      <td>Hoover Replacement Belt for Commercial Guardsm...</td>\n",
       "      <td>Enermax Computer Printout Paper, Multicolor</td>\n",
       "      <td>Sanford Highlighters, Easy-Erase</td>\n",
       "      <td>Boston Pens, Blue</td>\n",
       "      <td>Stanley Highlighters, Water Color</td>\n",
       "    </tr>\n",
       "    <tr>\n",
       "      <th>Sales</th>\n",
       "      <td>3709.395</td>\n",
       "      <td>2892.51</td>\n",
       "      <td>12.624</td>\n",
       "      <td>1696.64</td>\n",
       "      <td>3200.5962</td>\n",
       "      <td>695.7</td>\n",
       "      <td>3427.1496</td>\n",
       "      <td>1439.982</td>\n",
       "      <td>88.074</td>\n",
       "      <td>2487.8088</td>\n",
       "      <td>...</td>\n",
       "      <td>16.821</td>\n",
       "      <td>4.572</td>\n",
       "      <td>18.36</td>\n",
       "      <td>2.264</td>\n",
       "      <td>1.08</td>\n",
       "      <td>0.444</td>\n",
       "      <td>49.302</td>\n",
       "      <td>9.612</td>\n",
       "      <td>34.128</td>\n",
       "      <td>5.364</td>\n",
       "    </tr>\n",
       "    <tr>\n",
       "      <th>Quantity</th>\n",
       "      <td>9</td>\n",
       "      <td>5</td>\n",
       "      <td>2</td>\n",
       "      <td>5</td>\n",
       "      <td>6</td>\n",
       "      <td>2</td>\n",
       "      <td>7</td>\n",
       "      <td>3</td>\n",
       "      <td>7</td>\n",
       "      <td>6</td>\n",
       "      <td>...</td>\n",
       "      <td>3</td>\n",
       "      <td>4</td>\n",
       "      <td>2</td>\n",
       "      <td>1</td>\n",
       "      <td>2</td>\n",
       "      <td>1</td>\n",
       "      <td>3</td>\n",
       "      <td>2</td>\n",
       "      <td>6</td>\n",
       "      <td>1</td>\n",
       "    </tr>\n",
       "    <tr>\n",
       "      <th>Discount</th>\n",
       "      <td>0.1</td>\n",
       "      <td>0.1</td>\n",
       "      <td>0.2</td>\n",
       "      <td>0.2</td>\n",
       "      <td>0.17</td>\n",
       "      <td>0.5</td>\n",
       "      <td>0.47</td>\n",
       "      <td>0.4</td>\n",
       "      <td>0.7</td>\n",
       "      <td>0.17</td>\n",
       "      <td>...</td>\n",
       "      <td>0.7</td>\n",
       "      <td>0.7</td>\n",
       "      <td>0.5</td>\n",
       "      <td>0.8</td>\n",
       "      <td>0.7</td>\n",
       "      <td>0.8</td>\n",
       "      <td>0.45</td>\n",
       "      <td>0.7</td>\n",
       "      <td>0.6</td>\n",
       "      <td>0.7</td>\n",
       "    </tr>\n",
       "    <tr>\n",
       "      <th>Profit</th>\n",
       "      <td>-288.765</td>\n",
       "      <td>-96.54</td>\n",
       "      <td>-2.5248</td>\n",
       "      <td>-148.46</td>\n",
       "      <td>-77.2038</td>\n",
       "      <td>-27.828</td>\n",
       "      <td>-452.8104</td>\n",
       "      <td>-263.9967</td>\n",
       "      <td>-58.716</td>\n",
       "      <td>-269.7912</td>\n",
       "      <td>...</td>\n",
       "      <td>-12.8961</td>\n",
       "      <td>-3.81</td>\n",
       "      <td>-13.26</td>\n",
       "      <td>-5.2072</td>\n",
       "      <td>-0.792</td>\n",
       "      <td>-1.11</td>\n",
       "      <td>-18.828</td>\n",
       "      <td>-21.168</td>\n",
       "      <td>-49.572</td>\n",
       "      <td>-6.456</td>\n",
       "    </tr>\n",
       "    <tr>\n",
       "      <th>Shipping Cost</th>\n",
       "      <td>923.63</td>\n",
       "      <td>910.16</td>\n",
       "      <td>1.97</td>\n",
       "      <td>704.056</td>\n",
       "      <td>660.87</td>\n",
       "      <td>160.19</td>\n",
       "      <td>586.57</td>\n",
       "      <td>103.62</td>\n",
       "      <td>23.88</td>\n",
       "      <td>562.14</td>\n",
       "      <td>...</td>\n",
       "      <td>1.44</td>\n",
       "      <td>1.28</td>\n",
       "      <td>1.04</td>\n",
       "      <td>1.07</td>\n",
       "      <td>1.06</td>\n",
       "      <td>1.01</td>\n",
       "      <td>1.03</td>\n",
       "      <td>1.02</td>\n",
       "      <td>1.02</td>\n",
       "      <td>1.02</td>\n",
       "    </tr>\n",
       "    <tr>\n",
       "      <th>Order Priority</th>\n",
       "      <td>Critical</td>\n",
       "      <td>Medium</td>\n",
       "      <td>Low</td>\n",
       "      <td>Critical</td>\n",
       "      <td>High</td>\n",
       "      <td>High</td>\n",
       "      <td>High</td>\n",
       "      <td>Medium</td>\n",
       "      <td>High</td>\n",
       "      <td>Critical</td>\n",
       "      <td>...</td>\n",
       "      <td>High</td>\n",
       "      <td>Medium</td>\n",
       "      <td>Medium</td>\n",
       "      <td>Medium</td>\n",
       "      <td>Medium</td>\n",
       "      <td>Medium</td>\n",
       "      <td>Medium</td>\n",
       "      <td>Medium</td>\n",
       "      <td>Medium</td>\n",
       "      <td>High</td>\n",
       "    </tr>\n",
       "  </tbody>\n",
       "</table>\n",
       "<p>23 rows × 12544 columns</p>\n",
       "</div>"
      ],
      "text/plain": [
       "                                                    1      \\\n",
       "Row ID                                              26341   \n",
       "Order ID                           IN-2014-JR162107-41675   \n",
       "Order Date                            2014-02-05 00:00:00   \n",
       "Ship Date                             2014-02-07 00:00:00   \n",
       "Ship Mode                                    Second Class   \n",
       "Customer ID                                     JR-162107   \n",
       "Segment                                         Corporate   \n",
       "Postal Code                                           NaN   \n",
       "City                                           Wollongong   \n",
       "State                                     New South Wales   \n",
       "Country                                         Australia   \n",
       "Region                                            Oceania   \n",
       "Market                                       Asia Pacific   \n",
       "Product ID                                    FUR-CH-5379   \n",
       "Category                                        Furniture   \n",
       "Sub-Category                                       Chairs   \n",
       "Product Name    Novimex Executive Leather Armchair, Black   \n",
       "Sales                                            3709.395   \n",
       "Quantity                                                9   \n",
       "Discount                                              0.1   \n",
       "Profit                                           -288.765   \n",
       "Shipping Cost                                      923.63   \n",
       "Order Priority                                   Critical   \n",
       "\n",
       "                                         3                         16     \\\n",
       "Row ID                                   13524                     39519   \n",
       "Order ID               ES-2014-KM1637548-41667  CA-2012-AB10015140-40958   \n",
       "Order Date                 2014-01-28 00:00:00       2012-02-19 00:00:00   \n",
       "Ship Date                  2014-01-30 00:00:00       2012-02-25 00:00:00   \n",
       "Ship Mode                          First Class            Standard Class   \n",
       "Customer ID                         KM-1637548              AB-100151402   \n",
       "Segment                            Home Office                  Consumer   \n",
       "Postal Code                                NaN                   76017.0   \n",
       "City                                    Berlin                 Arlington   \n",
       "State                                   Berlin                     Texas   \n",
       "Country                                Germany             United States   \n",
       "Region                          Western Europe                Central US   \n",
       "Market                                  Europe                      USCA   \n",
       "Product ID                         TEC-PH-5267               OFF-ST-3078   \n",
       "Category                            Technology           Office Supplies   \n",
       "Sub-Category                            Phones                   Storage   \n",
       "Product Name    Motorola Smart Phone, Cordless        Akro Stacking Bins   \n",
       "Sales                                  2892.51                    12.624   \n",
       "Quantity                                     5                         2   \n",
       "Discount                                   0.1                       0.2   \n",
       "Profit                                  -96.54                   -2.5248   \n",
       "Shipping Cost                           910.16                      1.97   \n",
       "Order Priority                          Medium                       Low   \n",
       "\n",
       "                                    30                               40     \\\n",
       "Row ID                                220                            21316   \n",
       "Order ID          US-2012-RR1952536-41270          ID-2014-JB1600059-41873   \n",
       "Order Date            2012-12-27 00:00:00              2014-08-22 00:00:00   \n",
       "Ship Date             2012-12-29 00:00:00              2014-08-26 00:00:00   \n",
       "Ship Mode                    Second Class                   Standard Class   \n",
       "Customer ID                    RR-1952536                       JB-1600059   \n",
       "Segment                         Corporate                         Consumer   \n",
       "Postal Code                           NaN                              NaN   \n",
       "City                        Santo Domingo                          Mataram   \n",
       "State                       Santo Domingo              Nusa Tenggara Barat   \n",
       "Country                Dominican Republic                        Indonesia   \n",
       "Region                          Caribbean                Southeastern Asia   \n",
       "Market                              LATAM                     Asia Pacific   \n",
       "Product ID                    TEC-PH-5841                      TEC-PH-5268   \n",
       "Category                       Technology                       Technology   \n",
       "Sub-Category                       Phones                           Phones   \n",
       "Product Name    Samsung Smart Phone, VoIP  Motorola Smart Phone, Full Size   \n",
       "Sales                             1696.64                        3200.5962   \n",
       "Quantity                                5                                6   \n",
       "Discount                              0.2                             0.17   \n",
       "Profit                            -148.46                         -77.2038   \n",
       "Shipping Cost                     704.056                           660.87   \n",
       "Order Priority                   Critical                             High   \n",
       "\n",
       "                                                            65     \\\n",
       "Row ID                                                      32637   \n",
       "Order ID                                 CA-2015-AS10045140-42007   \n",
       "Order Date                                    2015-01-03 00:00:00   \n",
       "Ship Date                                     2015-01-05 00:00:00   \n",
       "Ship Mode                                             First Class   \n",
       "Customer ID                                          AS-100451408   \n",
       "Segment                                                 Corporate   \n",
       "Postal Code                                               28540.0   \n",
       "City                                                 Jacksonville   \n",
       "State                                              North Carolina   \n",
       "Country                                             United States   \n",
       "Region                                                Southern US   \n",
       "Market                                                       USCA   \n",
       "Product ID                                            TEC-MA-3788   \n",
       "Category                                               Technology   \n",
       "Sub-Category                                             Machines   \n",
       "Product Name    Cisco CP-7937G Unified IP Conference Station P...   \n",
       "Sales                                                       695.7   \n",
       "Quantity                                                        2   \n",
       "Discount                                                      0.5   \n",
       "Profit                                                    -27.828   \n",
       "Shipping Cost                                              160.19   \n",
       "Order Priority                                               High   \n",
       "\n",
       "                                                      73     \\\n",
       "Row ID                                                21209   \n",
       "Order ID                            IN-2015-LA1678059-42242   \n",
       "Order Date                              2015-08-26 00:00:00   \n",
       "Ship Date                               2015-08-27 00:00:00   \n",
       "Ship Mode                                       First Class   \n",
       "Customer ID                                      LA-1678059   \n",
       "Segment                                           Corporate   \n",
       "Postal Code                                             NaN   \n",
       "City                                              Palembang   \n",
       "State                                      Sumatera Selatan   \n",
       "Country                                           Indonesia   \n",
       "Region                                    Southeastern Asia   \n",
       "Market                                         Asia Pacific   \n",
       "Product ID                                      FUR-TA-3422   \n",
       "Category                                          Furniture   \n",
       "Sub-Category                                         Tables   \n",
       "Product Name    Bevis Conference Table, with Bottom Storage   \n",
       "Sales                                             3427.1496   \n",
       "Quantity                                                  7   \n",
       "Discount                                               0.47   \n",
       "Profit                                            -452.8104   \n",
       "Shipping Cost                                        586.57   \n",
       "Order Priority                                         High   \n",
       "\n",
       "                                      76     \\\n",
       "Row ID                                33130   \n",
       "Order ID           CA-2015-AS10045140-42218   \n",
       "Order Date              2015-08-02 00:00:00   \n",
       "Ship Date               2015-08-08 00:00:00   \n",
       "Ship Mode                    Standard Class   \n",
       "Customer ID                    AS-100451402   \n",
       "Segment                           Corporate   \n",
       "Postal Code                         78745.0   \n",
       "City                                 Austin   \n",
       "State                                 Texas   \n",
       "Country                       United States   \n",
       "Region                           Central US   \n",
       "Market                                 USCA   \n",
       "Product ID                      TEC-MA-3329   \n",
       "Category                         Technology   \n",
       "Sub-Category                       Machines   \n",
       "Product Name    Bady BDG101FRU Card Printer   \n",
       "Sales                              1439.982   \n",
       "Quantity                                  3   \n",
       "Discount                                0.4   \n",
       "Profit                            -263.9967   \n",
       "Shipping Cost                        103.62   \n",
       "Order Priority                       Medium   \n",
       "\n",
       "                                                      83     \\\n",
       "Row ID                                                40425   \n",
       "Order ID                           US-2015-AS10045140-42252   \n",
       "Order Date                              2015-09-05 00:00:00   \n",
       "Ship Date                               2015-09-06 00:00:00   \n",
       "Ship Mode                                       First Class   \n",
       "Customer ID                                    AS-100451404   \n",
       "Segment                                           Corporate   \n",
       "Postal Code                                         97756.0   \n",
       "City                                                Redmond   \n",
       "State                                                Oregon   \n",
       "Country                                       United States   \n",
       "Region                                           Western US   \n",
       "Market                                                 USCA   \n",
       "Product ID                                      OFF-BI-3324   \n",
       "Category                                    Office Supplies   \n",
       "Sub-Category                                        Binders   \n",
       "Product Name    Avery Trapezoid Extra Heavy Duty 4\" Binders   \n",
       "Sales                                                88.074   \n",
       "Quantity                                                  7   \n",
       "Discount                                                0.7   \n",
       "Profit                                              -58.716   \n",
       "Shipping Cost                                         23.88   \n",
       "Order Priority                                         High   \n",
       "\n",
       "                                             85     ...  \\\n",
       "Row ID                                       23013  ...   \n",
       "Order ID                   ID-2013-AM1070559-41535  ...   \n",
       "Order Date                     2013-09-18 00:00:00  ...   \n",
       "Ship Date                      2013-09-21 00:00:00  ...   \n",
       "Ship Mode                             Second Class  ...   \n",
       "Customer ID                             AM-1070559  ...   \n",
       "Segment                                   Consumer  ...   \n",
       "Postal Code                                    NaN  ...   \n",
       "City                                       Bandung  ...   \n",
       "State                                   Jawa Barat  ...   \n",
       "Country                                  Indonesia  ...   \n",
       "Region                           Southeastern Asia  ...   \n",
       "Market                                Asia Pacific  ...   \n",
       "Product ID                             OFF-AP-4501  ...   \n",
       "Category                           Office Supplies  ...   \n",
       "Sub-Category                            Appliances  ...   \n",
       "Product Name    Hamilton Beach Refrigerator, Black  ...   \n",
       "Sales                                    2487.8088  ...   \n",
       "Quantity                                         6  ...   \n",
       "Discount                                      0.17  ...   \n",
       "Profit                                   -269.7912  ...   \n",
       "Shipping Cost                               562.14  ...   \n",
       "Order Priority                            Critical  ...   \n",
       "\n",
       "                                         51246  \\\n",
       "Row ID                                   31887   \n",
       "Order ID              US-2014-ZC21910140-41719   \n",
       "Order Date                 2014-03-21 00:00:00   \n",
       "Ship Date                  2014-03-25 00:00:00   \n",
       "Ship Mode                       Standard Class   \n",
       "Customer ID                       ZC-219101404   \n",
       "Segment                               Consumer   \n",
       "Postal Code                            97301.0   \n",
       "City                                     Salem   \n",
       "State                                   Oregon   \n",
       "Country                          United States   \n",
       "Region                              Western US   \n",
       "Market                                    USCA   \n",
       "Product ID                         OFF-BI-3823   \n",
       "Category                       Office Supplies   \n",
       "Sub-Category                           Binders   \n",
       "Product Name    Clear Mylar Reinforcing Strips   \n",
       "Sales                                   16.821   \n",
       "Quantity                                     3   \n",
       "Discount                                   0.7   \n",
       "Profit                                -12.8961   \n",
       "Shipping Cost                             1.44   \n",
       "Order Priority                            High   \n",
       "\n",
       "                                                            51252  \\\n",
       "Row ID                                                      40220   \n",
       "Order ID                                 CA-2015-ZC21910140-42167   \n",
       "Order Date                                    2015-06-12 00:00:00   \n",
       "Ship Date                                     2015-06-18 00:00:00   \n",
       "Ship Mode                                          Standard Class   \n",
       "Customer ID                                          ZC-219101408   \n",
       "Segment                                                  Consumer   \n",
       "Postal Code                                               28601.0   \n",
       "City                                                      Hickory   \n",
       "State                                              North Carolina   \n",
       "Country                                             United States   \n",
       "Region                                                Southern US   \n",
       "Market                                                       USCA   \n",
       "Product ID                                            OFF-BI-2924   \n",
       "Category                                          Office Supplies   \n",
       "Sub-Category                                              Binders   \n",
       "Product Name    Acco Pressboard Covers with Storage Hooks, 14 ...   \n",
       "Sales                                                       4.572   \n",
       "Quantity                                                        4   \n",
       "Discount                                                      0.7   \n",
       "Profit                                                      -3.81   \n",
       "Shipping Cost                                                1.28   \n",
       "Order Priority                                             Medium   \n",
       "\n",
       "                                           51256  \\\n",
       "Row ID                                     29192   \n",
       "Order ID                 ID-2015-JE1561097-42193   \n",
       "Order Date                   2015-07-08 00:00:00   \n",
       "Ship Date                    2015-07-13 00:00:00   \n",
       "Ship Mode                         Standard Class   \n",
       "Customer ID                           JE-1561097   \n",
       "Segment                                Corporate   \n",
       "Postal Code                                  NaN   \n",
       "City                                      Lahore   \n",
       "State                                     Punjab   \n",
       "Country                                 Pakistan   \n",
       "Region                             Southern Asia   \n",
       "Market                              Asia Pacific   \n",
       "Product ID                           OFF-PA-4471   \n",
       "Category                         Office Supplies   \n",
       "Sub-Category                               Paper   \n",
       "Product Name    Green Bar Memo Slips, Multicolor   \n",
       "Sales                                      18.36   \n",
       "Quantity                                       2   \n",
       "Discount                                     0.5   \n",
       "Profit                                    -13.26   \n",
       "Shipping Cost                               1.04   \n",
       "Order Priority                            Medium   \n",
       "\n",
       "                                                            51257  \\\n",
       "Row ID                                                      35397   \n",
       "Order ID                                 US-2015-ZC21910140-42175   \n",
       "Order Date                                    2015-06-20 00:00:00   \n",
       "Ship Date                                     2015-06-24 00:00:00   \n",
       "Ship Mode                                          Standard Class   \n",
       "Customer ID                                          ZC-219101402   \n",
       "Segment                                                  Consumer   \n",
       "Postal Code                                               77095.0   \n",
       "City                                                      Houston   \n",
       "State                                                       Texas   \n",
       "Country                                             United States   \n",
       "Region                                                 Central US   \n",
       "Market                                                       USCA   \n",
       "Product ID                                            OFF-AP-4611   \n",
       "Category                                          Office Supplies   \n",
       "Sub-Category                                           Appliances   \n",
       "Product Name    Holmes Visible Mist Ultrasonic Humidifier with...   \n",
       "Sales                                                       2.264   \n",
       "Quantity                                                        1   \n",
       "Discount                                                      0.8   \n",
       "Profit                                                    -5.2072   \n",
       "Shipping Cost                                                1.07   \n",
       "Order Priority                                             Medium   \n",
       "\n",
       "                                                  51259  \\\n",
       "Row ID                                            36230   \n",
       "Order ID                       CA-2013-ZC21910140-41545   \n",
       "Order Date                          2013-09-28 00:00:00   \n",
       "Ship Date                           2013-10-04 00:00:00   \n",
       "Ship Mode                                Standard Class   \n",
       "Customer ID                                ZC-219101404   \n",
       "Segment                                        Consumer   \n",
       "Postal Code                                     80013.0   \n",
       "City                                             Aurora   \n",
       "State                                          Colorado   \n",
       "Country                                   United States   \n",
       "Region                                       Western US   \n",
       "Market                                             USCA   \n",
       "Product ID                                  OFF-BI-6391   \n",
       "Category                                Office Supplies   \n",
       "Sub-Category                                    Binders   \n",
       "Product Name    Wilson Jones Easy Flow II Sheet Lifters   \n",
       "Sales                                              1.08   \n",
       "Quantity                                              2   \n",
       "Discount                                            0.7   \n",
       "Profit                                           -0.792   \n",
       "Shipping Cost                                      1.06   \n",
       "Order Priority                                   Medium   \n",
       "\n",
       "                                                            51260  \\\n",
       "Row ID                                                      35398   \n",
       "Order ID                                 US-2015-ZC21910140-42175   \n",
       "Order Date                                    2015-06-20 00:00:00   \n",
       "Ship Date                                     2015-06-24 00:00:00   \n",
       "Ship Mode                                          Standard Class   \n",
       "Customer ID                                          ZC-219101402   \n",
       "Segment                                                  Consumer   \n",
       "Postal Code                                               77095.0   \n",
       "City                                                      Houston   \n",
       "State                                                       Texas   \n",
       "Country                                             United States   \n",
       "Region                                                 Central US   \n",
       "Market                                                       USCA   \n",
       "Product ID                                            OFF-AP-4739   \n",
       "Category                                          Office Supplies   \n",
       "Sub-Category                                           Appliances   \n",
       "Product Name    Hoover Replacement Belt for Commercial Guardsm...   \n",
       "Sales                                                       0.444   \n",
       "Quantity                                                        1   \n",
       "Discount                                                      0.8   \n",
       "Profit                                                      -1.11   \n",
       "Shipping Cost                                                1.01   \n",
       "Order Priority                                             Medium   \n",
       "\n",
       "                                                      51266  \\\n",
       "Row ID                                                27081   \n",
       "Order ID                           ID-2013-EK13795102-41496   \n",
       "Order Date                              2013-08-10 00:00:00   \n",
       "Ship Date                               2013-08-11 00:00:00   \n",
       "Ship Mode                                       First Class   \n",
       "Customer ID                                     EK-13795102   \n",
       "Segment                                         Home Office   \n",
       "Postal Code                                             NaN   \n",
       "City                                                  Pasig   \n",
       "State                                      National Capital   \n",
       "Country                                         Philippines   \n",
       "Region                                    Southeastern Asia   \n",
       "Market                                         Asia Pacific   \n",
       "Product ID                                      OFF-PA-4148   \n",
       "Category                                    Office Supplies   \n",
       "Sub-Category                                          Paper   \n",
       "Product Name    Enermax Computer Printout Paper, Multicolor   \n",
       "Sales                                                49.302   \n",
       "Quantity                                                  3   \n",
       "Discount                                               0.45   \n",
       "Profit                                              -18.828   \n",
       "Shipping Cost                                          1.03   \n",
       "Order Priority                                       Medium   \n",
       "\n",
       "                                           51275                    51277  \\\n",
       "Row ID                                     46231                    46582   \n",
       "Order ID                  ZA-2012-AS285147-40988  TU-2015-KF6285134-42337   \n",
       "Order Date                   2012-03-20 00:00:00      2015-11-29 00:00:00   \n",
       "Ship Date                    2012-03-25 00:00:00      2015-11-30 00:00:00   \n",
       "Ship Mode                         Standard Class              First Class   \n",
       "Customer ID                            AS-285147               KF-6285134   \n",
       "Segment                                Corporate              Home Office   \n",
       "Postal Code                                  NaN                      NaN   \n",
       "City                                      Harare                   Midyat   \n",
       "State                                     Harare                   Mardin   \n",
       "Country                                 Zimbabwe                   Turkey   \n",
       "Region                            Eastern Africa             Western Asia   \n",
       "Market                                    Africa             Asia Pacific   \n",
       "Product ID                           OFF-AR-5911              OFF-AR-3546   \n",
       "Category                         Office Supplies          Office Supplies   \n",
       "Sub-Category                                 Art                      Art   \n",
       "Product Name    Sanford Highlighters, Easy-Erase        Boston Pens, Blue   \n",
       "Sales                                      9.612                   34.128   \n",
       "Quantity                                       2                        6   \n",
       "Discount                                     0.7                      0.6   \n",
       "Profit                                   -21.168                  -49.572   \n",
       "Shipping Cost                               1.02                     1.02   \n",
       "Order Priority                            Medium                   Medium   \n",
       "\n",
       "                                            51279  \n",
       "Row ID                                      43818  \n",
       "Order ID                   NI-2012-PO886595-41159  \n",
       "Order Date                    2012-09-07 00:00:00  \n",
       "Ship Date                     2012-09-09 00:00:00  \n",
       "Ship Mode                            Second Class  \n",
       "Customer ID                             PO-886595  \n",
       "Segment                                  Consumer  \n",
       "Postal Code                                   NaN  \n",
       "City                                        Lagos  \n",
       "State                                       Lagos  \n",
       "Country                                   Nigeria  \n",
       "Region                             Western Africa  \n",
       "Market                                     Africa  \n",
       "Product ID                            OFF-AR-6113  \n",
       "Category                          Office Supplies  \n",
       "Sub-Category                                  Art  \n",
       "Product Name    Stanley Highlighters, Water Color  \n",
       "Sales                                       5.364  \n",
       "Quantity                                        1  \n",
       "Discount                                      0.7  \n",
       "Profit                                     -6.456  \n",
       "Shipping Cost                                1.02  \n",
       "Order Priority                               High  \n",
       "\n",
       "[23 rows x 12544 columns]"
      ]
     },
     "execution_count": 17,
     "metadata": {},
     "output_type": "execute_result"
    }
   ],
   "source": [
    "super_store_data[super_store_data[\"Profit\"]<0].transpose()"
   ]
  },
  {
   "cell_type": "markdown",
   "metadata": {
    "id": "WfDDBF7qMK1-"
   },
   "source": [
    "Observed that there are 12544 transations with negative profit. As not every transaction is profitable, considering the negative profit transactions as correct data"
   ]
  },
  {
   "cell_type": "code",
   "execution_count": 18,
   "metadata": {
    "colab": {
     "base_uri": "https://localhost:8080/",
     "height": 436
    },
    "id": "D7baUXYBMK1-",
    "outputId": "4aebb021-7366-4740-ce3a-27323fc65846"
   },
   "outputs": [
    {
     "name": "stdout",
     "output_type": "stream",
     "text": [
      "Count of orders per customer:\n"
     ]
    },
    {
     "data": {
      "text/html": [
       "<div>\n",
       "<style scoped>\n",
       "    .dataframe tbody tr th:only-of-type {\n",
       "        vertical-align: middle;\n",
       "    }\n",
       "\n",
       "    .dataframe tbody tr th {\n",
       "        vertical-align: top;\n",
       "    }\n",
       "\n",
       "    .dataframe thead th {\n",
       "        text-align: right;\n",
       "    }\n",
       "</style>\n",
       "<table border=\"1\" class=\"dataframe\">\n",
       "  <thead>\n",
       "    <tr style=\"text-align: right;\">\n",
       "      <th></th>\n",
       "      <th>Customer ID</th>\n",
       "    </tr>\n",
       "  </thead>\n",
       "  <tbody>\n",
       "    <tr>\n",
       "      <th>SV-203651406</th>\n",
       "      <td>26</td>\n",
       "    </tr>\n",
       "    <tr>\n",
       "      <th>WB-218501404</th>\n",
       "      <td>24</td>\n",
       "    </tr>\n",
       "    <tr>\n",
       "      <th>AP-109151404</th>\n",
       "      <td>23</td>\n",
       "    </tr>\n",
       "    <tr>\n",
       "      <th>EM-1396082</th>\n",
       "      <td>21</td>\n",
       "    </tr>\n",
       "    <tr>\n",
       "      <th>CS-121757</th>\n",
       "      <td>20</td>\n",
       "    </tr>\n",
       "    <tr>\n",
       "      <th>...</th>\n",
       "      <td>...</td>\n",
       "    </tr>\n",
       "    <tr>\n",
       "      <th>LW-7125137</th>\n",
       "      <td>1</td>\n",
       "    </tr>\n",
       "    <tr>\n",
       "      <th>EM-1420011</th>\n",
       "      <td>1</td>\n",
       "    </tr>\n",
       "    <tr>\n",
       "      <th>RB-193601402</th>\n",
       "      <td>1</td>\n",
       "    </tr>\n",
       "    <tr>\n",
       "      <th>NC-1862558</th>\n",
       "      <td>1</td>\n",
       "    </tr>\n",
       "    <tr>\n",
       "      <th>JK-5205110</th>\n",
       "      <td>1</td>\n",
       "    </tr>\n",
       "  </tbody>\n",
       "</table>\n",
       "<p>17415 rows × 1 columns</p>\n",
       "</div>"
      ],
      "text/plain": [
       "              Customer ID\n",
       "SV-203651406           26\n",
       "WB-218501404           24\n",
       "AP-109151404           23\n",
       "EM-1396082             21\n",
       "CS-121757              20\n",
       "...                   ...\n",
       "LW-7125137              1\n",
       "EM-1420011              1\n",
       "RB-193601402            1\n",
       "NC-1862558              1\n",
       "JK-5205110              1\n",
       "\n",
       "[17415 rows x 1 columns]"
      ]
     },
     "execution_count": 18,
     "metadata": {},
     "output_type": "execute_result"
    }
   ],
   "source": [
    "print(\"Count of orders per customer:\")\n",
    "pd.DataFrame(super_store_data[\"Customer ID\"].value_counts())"
   ]
  },
  {
   "cell_type": "code",
   "execution_count": 19,
   "metadata": {
    "colab": {
     "base_uri": "https://localhost:8080/"
    },
    "id": "xKro5fL0MK1-",
    "outputId": "d799870e-43f0-4f9d-b60a-5b30f48ea048"
   },
   "outputs": [
    {
     "name": "stdout",
     "output_type": "stream",
     "text": [
      "Total unique customers:\n"
     ]
    },
    {
     "data": {
      "text/plain": [
       "17415"
      ]
     },
     "execution_count": 19,
     "metadata": {},
     "output_type": "execute_result"
    }
   ],
   "source": [
    "print(\"Total unique customers:\")\n",
    "super_store_data[\"Customer ID\"].nunique()"
   ]
  },
  {
   "cell_type": "markdown",
   "metadata": {
    "id": "Iytotc9iMK1_"
   },
   "source": [
    "### How many orders are placed by most customers?"
   ]
  },
  {
   "cell_type": "code",
   "execution_count": 20,
   "metadata": {
    "colab": {
     "base_uri": "https://localhost:8080/"
    },
    "id": "wrmKq1QH8sYF",
    "outputId": "8c004f19-e685-4714-91d0-1e408165a682"
   },
   "outputs": [
    {
     "data": {
      "text/plain": [
       "SV-203651406    26\n",
       "WB-218501404    24\n",
       "AP-109151404    23\n",
       "EM-1396082      21\n",
       "CS-121757       20\n",
       "                ..\n",
       "LW-7125137       1\n",
       "EM-1420011       1\n",
       "RB-193601402     1\n",
       "NC-1862558       1\n",
       "JK-5205110       1\n",
       "Name: Customer ID, Length: 17415, dtype: int64"
      ]
     },
     "execution_count": 20,
     "metadata": {},
     "output_type": "execute_result"
    }
   ],
   "source": [
    "super_store_data[\"Customer ID\"].value_counts()"
   ]
  },
  {
   "cell_type": "code",
   "execution_count": 21,
   "metadata": {
    "colab": {
     "base_uri": "https://localhost:8080/",
     "height": 390
    },
    "id": "2r5o4unnMK1_",
    "outputId": "fcbe9bfe-bd50-418c-bd42-a766ad2cf2e8"
   },
   "outputs": [
    {
     "data": {
      "image/png": "[encoded data removed]",
      "text/plain": [
       "<Figure size 576x432 with 1 Axes>"
      ]
     },
     "metadata": {
      "needs_background": "light"
     },
     "output_type": "display_data"
    }
   ],
   "source": [
    "plt.figure(figsize=(8,6))\n",
    "sns.countplot(x=super_store_data[\"Customer ID\"].value_counts().values)\n",
    "plt.title(\"Customers order count\")\n",
    "plt.show()"
   ]
  },
  {
   "cell_type": "markdown",
   "metadata": {
    "id": "L7EWXFcH8--Y"
   },
   "source": [
    "From the above visual, I conclude that majority of the customers placed 1- 2 orders during the period of study"
   ]
  },
  {
   "cell_type": "markdown",
   "metadata": {
    "id": "xqbykX4iMK1_"
   },
   "source": [
    "### How has the order count been over the time period?"
   ]
  },
  {
   "cell_type": "code",
   "execution_count": 22,
   "metadata": {
    "colab": {
     "base_uri": "https://localhost:8080/",
     "height": 417
    },
    "id": "jxTjLf3aMK1_",
    "outputId": "4c6e44e3-10e1-4046-86d8-40e27995b15a"
   },
   "outputs": [
    {
     "data": {
      "image/png": "[encoded data removed]",
      "text/plain": [
       "<Figure size 576x432 with 1 Axes>"
      ]
     },
     "metadata": {
      "needs_background": "light"
     },
     "output_type": "display_data"
    }
   ],
   "source": [
    "plt.figure(figsize=(8,6))\n",
    "plt.hist(super_store_data[\"Order Date\"])\n",
    "plt.title(\"Order count during the period  2012-2015\")\n",
    "plt.xticks(rotation=45)\n",
    "plt.show()"
   ]
  },
  {
   "cell_type": "markdown",
   "metadata": {
    "id": "4I89_GnO9KkZ"
   },
   "source": [
    "Noticed that the orders count increased as the time progressed"
   ]
  },
  {
   "cell_type": "markdown",
   "metadata": {
    "id": "IFnINcNTMK2A"
   },
   "source": [
    "### What's the customer segment that's placing most orders?"
   ]
  },
  {
   "cell_type": "code",
   "execution_count": 23,
   "metadata": {
    "colab": {
     "base_uri": "https://localhost:8080/",
     "height": 404
    },
    "id": "pOM47r8TMK2A",
    "outputId": "7387cd31-4115-4866-d3dc-781211618777"
   },
   "outputs": [
    {
     "data": {
      "image/png": "[encoded data removed]",
      "text/plain": [
       "<Figure size 576x432 with 1 Axes>"
      ]
     },
     "metadata": {
      "needs_background": "light"
     },
     "output_type": "display_data"
    }
   ],
   "source": [
    "plt.figure(figsize=(8,6))\n",
    "sns.countplot(data=super_store_data, x= \"Segment\")\n",
    "plt.title(\"Customer segmentation\")\n",
    "plt.show()"
   ]
  },
  {
   "cell_type": "markdown",
   "metadata": {
    "id": "g8MkajW69WDQ"
   },
   "source": [
    "Consumers segment is placing the most orders followed by corporate"
   ]
  },
  {
   "cell_type": "code",
   "execution_count": 24,
   "metadata": {
    "colab": {
     "base_uri": "https://localhost:8080/"
    },
    "id": "JUM3AkcvMK2A",
    "outputId": "df785c85-de1a-464f-f858-7bee9a4de25f"
   },
   "outputs": [
    {
     "data": {
      "text/plain": [
       "New York City    915\n",
       "Los Angeles      747\n",
       "Philadelphia     537\n",
       "San Francisco    510\n",
       "Santo Domingo    443\n",
       "                ... \n",
       "Vacaville          1\n",
       "Yuanjiang          1\n",
       "Abreu e Lima       1\n",
       "Annemasse          1\n",
       "Krasnyy Luch       1\n",
       "Name: City, Length: 3650, dtype: int64"
      ]
     },
     "execution_count": 24,
     "metadata": {},
     "output_type": "execute_result"
    }
   ],
   "source": [
    "super_store_data[\"City\"].value_counts()"
   ]
  },
  {
   "cell_type": "code",
   "execution_count": 25,
   "metadata": {
    "colab": {
     "base_uri": "https://localhost:8080/"
    },
    "id": "srNOeEPTMK2B",
    "outputId": "6847975d-b1e7-478d-e33a-58f2293c8b5d"
   },
   "outputs": [
    {
     "name": "stdout",
     "output_type": "stream",
     "text": [
      "Orders have been shipped to 3650 cities\n"
     ]
    }
   ],
   "source": [
    "print(\"Orders have been shipped to {} cities\".format(super_store_data[\"City\"].nunique()))"
   ]
  },
  {
   "cell_type": "code",
   "execution_count": 26,
   "metadata": {
    "colab": {
     "base_uri": "https://localhost:8080/"
    },
    "id": "GFr_zq0XMK2B",
    "outputId": "d4a627ad-a555-49b1-ba2a-e7d0f88c2371"
   },
   "outputs": [
    {
     "data": {
      "text/plain": [
       "United States    9994\n",
       "Australia        2837\n",
       "France           2827\n",
       "Mexico           2635\n",
       "Germany          2063\n",
       "                 ... \n",
       "Malawi              1\n",
       "Bhutan              1\n",
       "Suriname            1\n",
       "Kuwait              1\n",
       "The Gambia          1\n",
       "Name: Country, Length: 165, dtype: int64"
      ]
     },
     "execution_count": 26,
     "metadata": {},
     "output_type": "execute_result"
    }
   ],
   "source": [
    "super_store_data[\"Country\"].value_counts()"
   ]
  },
  {
   "cell_type": "code",
   "execution_count": 27,
   "metadata": {
    "colab": {
     "base_uri": "https://localhost:8080/"
    },
    "id": "06iINyzzMK2B",
    "outputId": "64552f7d-a4ab-4559-c6f6-17e0b9816dce"
   },
   "outputs": [
    {
     "name": "stdout",
     "output_type": "stream",
     "text": [
      "Orders have been shipped to 165 countries\n"
     ]
    }
   ],
   "source": [
    "print(\"Orders have been shipped to {} countries\".format(super_store_data[\"Country\"].nunique()))"
   ]
  },
  {
   "cell_type": "markdown",
   "metadata": {
    "id": "iMlwggBVMK2D"
   },
   "source": [
    "### What's the customer base in each region?"
   ]
  },
  {
   "cell_type": "code",
   "execution_count": 28,
   "metadata": {
    "colab": {
     "base_uri": "https://localhost:8080/"
    },
    "id": "FADHCr6gMK2D",
    "outputId": "a73cf413-ed97-4de5-eca0-1dd806bd7bdd"
   },
   "outputs": [
    {
     "data": {
      "text/plain": [
       "Western Europe       5883\n",
       "Central America      5616\n",
       "Oceania              3487\n",
       "Western US           3203\n",
       "Southeastern Asia    3129\n",
       "South America        2988\n",
       "Eastern US           2848\n",
       "Southern Asia        2655\n",
       "Western Asia         2440\n",
       "Eastern Asia         2374\n",
       "Central US           2323\n",
       "Northern Europe      2204\n",
       "Southern Europe      2113\n",
       "Caribbean            1690\n",
       "Southern US          1620\n",
       "Eastern Europe       1529\n",
       "Western Africa       1460\n",
       "North Africa         1278\n",
       "Eastern Africa        728\n",
       "Central Africa        643\n",
       "Southern Africa       478\n",
       "Canada                384\n",
       "Central Asia          217\n",
       "Name: Region, dtype: int64"
      ]
     },
     "execution_count": 28,
     "metadata": {},
     "output_type": "execute_result"
    }
   ],
   "source": [
    "super_store_data[\"Region\"].value_counts()"
   ]
  },
  {
   "cell_type": "code",
   "execution_count": 29,
   "metadata": {
    "colab": {
     "base_uri": "https://localhost:8080/",
     "height": 485
    },
    "id": "G4r_MyArMK2E",
    "outputId": "67c2f2cb-e372-4e2b-fa74-a19f4e8c7038"
   },
   "outputs": [
    {
     "data": {
      "image/png": "[encoded data removed]",
      "text/plain": [
       "<Figure size 864x432 with 1 Axes>"
      ]
     },
     "metadata": {
      "needs_background": "light"
     },
     "output_type": "display_data"
    }
   ],
   "source": [
    "plt.figure(figsize=(12,6))\n",
    "sns.countplot(data=super_store_data, x= \"Region\")\n",
    "plt.title(\"Region wise orders\")\n",
    "plt.xticks(rotation=90)\n",
    "plt.show()"
   ]
  },
  {
   "cell_type": "markdown",
   "metadata": {
    "id": "JwGPG24BMK2E"
   },
   "source": [
    "### What's the orders share from each region?"
   ]
  },
  {
   "cell_type": "code",
   "execution_count": 30,
   "metadata": {
    "colab": {
     "base_uri": "https://localhost:8080/"
    },
    "id": "a2yFoVbwMK2E",
    "outputId": "48774493-991d-4c72-a3d4-946620f86356"
   },
   "outputs": [
    {
     "data": {
      "text/plain": [
       "Asia Pacific    14302\n",
       "Europe          11729\n",
       "USCA            10378\n",
       "LATAM           10294\n",
       "Africa           4587\n",
       "Name: Market, dtype: int64"
      ]
     },
     "execution_count": 30,
     "metadata": {},
     "output_type": "execute_result"
    }
   ],
   "source": [
    "super_store_data[\"Market\"].value_counts()"
   ]
  },
  {
   "cell_type": "code",
   "execution_count": 31,
   "metadata": {
    "colab": {
     "base_uri": "https://localhost:8080/",
     "height": 450
    },
    "id": "xv60XAHOMK2E",
    "outputId": "ded7e5f0-eef4-42cb-8a0c-f6912a52e521"
   },
   "outputs": [
    {
     "data": {
      "image/png": "[encoded data removed]",
      "text/plain": [
       "<Figure size 864x432 with 1 Axes>"
      ]
     },
     "metadata": {
      "needs_background": "light"
     },
     "output_type": "display_data"
    }
   ],
   "source": [
    "plt.figure(figsize=(12,6))\n",
    "sns.countplot(data=super_store_data, x= \"Market\")\n",
    "plt.title(\"Market wise orders\")\n",
    "plt.xticks(rotation=90)\n",
    "plt.show()"
   ]
  },
  {
   "cell_type": "markdown",
   "metadata": {
    "id": "mP7W9eM9MK2F"
   },
   "source": [
    "### What category of products are most sold?"
   ]
  },
  {
   "cell_type": "code",
   "execution_count": 32,
   "metadata": {
    "colab": {
     "base_uri": "https://localhost:8080/"
    },
    "id": "JaDN7oZ3MK2F",
    "outputId": "0202fa10-126d-41f0-9df7-7cab76142543"
   },
   "outputs": [
    {
     "data": {
      "text/plain": [
       "Office Supplies    31289\n",
       "Technology         10141\n",
       "Furniture           9860\n",
       "Name: Category, dtype: int64"
      ]
     },
     "execution_count": 32,
     "metadata": {},
     "output_type": "execute_result"
    }
   ],
   "source": [
    "super_store_data[\"Category\"].value_counts()"
   ]
  },
  {
   "cell_type": "code",
   "execution_count": 33,
   "metadata": {
    "colab": {
     "base_uri": "https://localhost:8080/",
     "height": 404
    },
    "id": "suO4GQEtMK2F",
    "outputId": "0f9f495b-cbd5-4d70-ab79-e8c49ca183b8"
   },
   "outputs": [
    {
     "data": {
      "image/png": "[encoded data removed]",
      "text/plain": [
       "<Figure size 576x432 with 1 Axes>"
      ]
     },
     "metadata": {
      "needs_background": "light"
     },
     "output_type": "display_data"
    }
   ],
   "source": [
    "plt.figure(figsize=(8,6))\n",
    "sns.countplot(data=super_store_data,x=\"Category\")\n",
    "plt.title(\"Category segmentation of orders\")\n",
    "plt.show()"
   ]
  },
  {
   "cell_type": "markdown",
   "metadata": {
    "id": "MbYJSGb89oN_"
   },
   "source": [
    "From the above visual, it is clear that the Global superstore dataset consists of maily office supplies related orders during the period of study"
   ]
  },
  {
   "cell_type": "code",
   "execution_count": 34,
   "metadata": {
    "colab": {
     "base_uri": "https://localhost:8080/"
    },
    "id": "qGDkGD-eMK2F",
    "outputId": "da8b7180-8b86-4934-d508-ed29127e4f6e"
   },
   "outputs": [
    {
     "data": {
      "text/plain": [
       "Binders        6146\n",
       "Storage        5049\n",
       "Art            4864\n",
       "Paper          3492\n",
       "Chairs         3434\n",
       "Phones         3357\n",
       "Furnishings    3154\n",
       "Accessories    3075\n",
       "Fasteners      2601\n",
       "Labels         2601\n",
       "Bookcases      2411\n",
       "Supplies       2407\n",
       "Envelopes      2387\n",
       "Copiers        2223\n",
       "Appliances     1742\n",
       "Machines       1486\n",
       "Tables          861\n",
       "Name: Sub-Category, dtype: int64"
      ]
     },
     "execution_count": 34,
     "metadata": {},
     "output_type": "execute_result"
    }
   ],
   "source": [
    "super_store_data[\"Sub-Category\"].value_counts()"
   ]
  },
  {
   "cell_type": "code",
   "execution_count": 35,
   "metadata": {
    "colab": {
     "base_uri": "https://localhost:8080/",
     "height": 453
    },
    "id": "7_BwLpQbMK2G",
    "outputId": "6e2cbfb8-4dfb-470c-ebe2-22dad144a122"
   },
   "outputs": [
    {
     "data": {
      "image/png": "[encoded data removed]",
      "text/plain": [
       "<Figure size 864x432 with 1 Axes>"
      ]
     },
     "metadata": {
      "needs_background": "light"
     },
     "output_type": "display_data"
    }
   ],
   "source": [
    "plt.figure(figsize=(12,6))\n",
    "sns.countplot(data=super_store_data, x=\"Sub-Category\")\n",
    "plt.xticks(rotation=90)\n",
    "plt.title(\"Orders per sub category\")\n",
    "plt.show()"
   ]
  },
  {
   "cell_type": "markdown",
   "metadata": {
    "id": "cwn6Rw4LMK2G"
   },
   "source": [
    "### Customers generating the most sales?"
   ]
  },
  {
   "cell_type": "code",
   "execution_count": 36,
   "metadata": {
    "colab": {
     "base_uri": "https://localhost:8080/"
    },
    "id": "5OFyLUn0MK2G",
    "outputId": "c5497bb5-4da1-4a62-f834-33942c300738"
   },
   "outputs": [
    {
     "data": {
      "text/plain": [
       "Customer ID\n",
       "SM-203201408    23669.196\n",
       "TC-209801402    18437.138\n",
       "RB-193601404    14345.276\n",
       "TA-213851406    13723.498\n",
       "AB-101051402    12181.594\n",
       "                  ...    \n",
       "CC-123701402        1.248\n",
       "KN-164501408        1.167\n",
       "TS-213401402        1.112\n",
       "JO-152801406        0.852\n",
       "RS-197651402        0.556\n",
       "Name: Sales, Length: 17415, dtype: float64"
      ]
     },
     "execution_count": 36,
     "metadata": {},
     "output_type": "execute_result"
    }
   ],
   "source": [
    "super_store_data.groupby(\"Customer ID\")[\"Sales\"].sum().sort_values(ascending=False)"
   ]
  },
  {
   "cell_type": "code",
   "execution_count": 37,
   "metadata": {
    "colab": {
     "base_uri": "https://localhost:8080/",
     "height": 390
    },
    "id": "9C7aS_6bMK2H",
    "outputId": "841adb85-276d-4c86-f1da-3327ed699783"
   },
   "outputs": [
    {
     "data": {
      "image/png": "[encoded data removed]",
      "text/plain": [
       "<Figure size 576x432 with 1 Axes>"
      ]
     },
     "metadata": {
      "needs_background": "light"
     },
     "output_type": "display_data"
    }
   ],
   "source": [
    "plt.figure(figsize=(8,6))\n",
    "plt.hist(super_store_data.groupby(\"Customer ID\")[\"Sales\"].sum().values)\n",
    "plt.title(\"Total sale distribution per customer\")\n",
    "plt.show()"
   ]
  },
  {
   "cell_type": "markdown",
   "metadata": {
    "id": "y1Ox3xMfMK2H"
   },
   "source": [
    "### Customers placing the most orders?"
   ]
  },
  {
   "cell_type": "code",
   "execution_count": 38,
   "metadata": {
    "colab": {
     "base_uri": "https://localhost:8080/"
    },
    "id": "lKrq9y3ZMK2H",
    "outputId": "0e2ba33a-c345-451a-8ccc-961ba91f5b4a"
   },
   "outputs": [
    {
     "data": {
      "text/plain": [
       "Customer ID\n",
       "SV-203651406    26\n",
       "WB-218501404    24\n",
       "AP-109151404    23\n",
       "EM-1396082      21\n",
       "CS-121757       20\n",
       "                ..\n",
       "NG-835595        1\n",
       "EJ-137201406     1\n",
       "EJ-1372039       1\n",
       "EJ-1372045       1\n",
       "DK-1309051       1\n",
       "Name: Order ID, Length: 17415, dtype: int64"
      ]
     },
     "execution_count": 38,
     "metadata": {},
     "output_type": "execute_result"
    }
   ],
   "source": [
    "super_store_data.groupby(\"Customer ID\")[\"Order ID\"].count().sort_values(ascending=False)"
   ]
  },
  {
   "cell_type": "markdown",
   "metadata": {
    "id": "elLbWcx_iCoE"
   },
   "source": [
    "## Cohort Analysis"
   ]
  },
  {
   "cell_type": "code",
   "execution_count": 39,
   "metadata": {
    "colab": {
     "base_uri": "https://localhost:8080/"
    },
    "id": "rVNq6_0eiCTY",
    "outputId": "c8033aa8-43c0-49d3-dc0e-850e9bc130ac"
   },
   "outputs": [
    {
     "data": {
      "text/plain": [
       "(17415, 22)"
      ]
     },
     "execution_count": 39,
     "metadata": {},
     "output_type": "execute_result"
    }
   ],
   "source": [
    "# Customers first transaction. Considering the first transaction of the customers as a subset to perfrom our analysis.\n",
    "GD_FIRST_TRANSACTION = super_store_data.sort_values([\"Customer ID\", \"Order Date\"]) \\\n",
    "                               .groupby(\"Customer ID\").first()\n",
    "GD_FIRST_TRANSACTION.shape"
   ]
  },
  {
   "cell_type": "code",
   "execution_count": 40,
   "metadata": {
    "colab": {
     "base_uri": "https://localhost:8080/"
    },
    "id": "H6jelHdFiMn9",
    "outputId": "1c01fbb3-3515-45f9-b79d-73e22ca52513"
   },
   "outputs": [
    {
     "data": {
      "text/plain": [
       "Timestamp('2012-01-01 00:00:00')"
      ]
     },
     "execution_count": 40,
     "metadata": {},
     "output_type": "execute_result"
    }
   ],
   "source": [
    "# first new customer.\n",
    "GD_FIRST_TRANSACTION[\"Order Date\"].min()"
   ]
  },
  {
   "cell_type": "code",
   "execution_count": 41,
   "metadata": {
    "colab": {
     "base_uri": "https://localhost:8080/"
    },
    "id": "oLxuzgtiiRFW",
    "outputId": "46ff8a41-aad9-4a89-df1a-26c6bdfa0fca"
   },
   "outputs": [
    {
     "data": {
      "text/plain": [
       "Timestamp('2015-12-31 00:00:00')"
      ]
     },
     "execution_count": 41,
     "metadata": {},
     "output_type": "execute_result"
    }
   ],
   "source": [
    "# last new customer\n",
    "GD_FIRST_TRANSACTION[\"Order Date\"].max()"
   ]
  },
  {
   "cell_type": "code",
   "execution_count": 42,
   "metadata": {
    "id": "cJvfNwILiCEI"
   },
   "outputs": [],
   "source": [
    "# GETTING THE UNIQUE CUSTOMERS ID's\n",
    "IDs = super_store_data['Customer ID'].unique()\n",
    "IDs_SAMPLE = IDs[0:10]"
   ]
  },
  {
   "cell_type": "code",
   "execution_count": 43,
   "metadata": {
    "colab": {
     "base_uri": "https://localhost:8080/",
     "height": 350
    },
    "id": "Mf6qy11didEG",
    "outputId": "1da8f510-459b-4db9-d59a-bd3ce7b8046c"
   },
   "outputs": [
    {
     "data": {
      "text/html": [
       "<div>\n",
       "<style scoped>\n",
       "    .dataframe tbody tr th:only-of-type {\n",
       "        vertical-align: middle;\n",
       "    }\n",
       "\n",
       "    .dataframe tbody tr th {\n",
       "        vertical-align: top;\n",
       "    }\n",
       "\n",
       "    .dataframe thead th {\n",
       "        text-align: right;\n",
       "    }\n",
       "</style>\n",
       "<table border=\"1\" class=\"dataframe\">\n",
       "  <thead>\n",
       "    <tr style=\"text-align: right;\">\n",
       "      <th></th>\n",
       "      <th>Customer ID</th>\n",
       "      <th>Order Date</th>\n",
       "      <th>Row ID</th>\n",
       "      <th>Postal Code</th>\n",
       "      <th>Sales</th>\n",
       "      <th>Quantity</th>\n",
       "      <th>Discount</th>\n",
       "      <th>Profit</th>\n",
       "      <th>Shipping Cost</th>\n",
       "    </tr>\n",
       "  </thead>\n",
       "  <tbody>\n",
       "    <tr>\n",
       "      <th>0</th>\n",
       "      <td>AB-100151402</td>\n",
       "      <td>2012-02-19</td>\n",
       "      <td>39519</td>\n",
       "      <td>76017.0</td>\n",
       "      <td>12.624</td>\n",
       "      <td>2</td>\n",
       "      <td>0.2</td>\n",
       "      <td>-2.5248</td>\n",
       "      <td>1.97</td>\n",
       "    </tr>\n",
       "    <tr>\n",
       "      <th>1</th>\n",
       "      <td>AB-100151402</td>\n",
       "      <td>2014-11-11</td>\n",
       "      <td>80197</td>\n",
       "      <td>146240.0</td>\n",
       "      <td>563.940</td>\n",
       "      <td>4</td>\n",
       "      <td>0.0</td>\n",
       "      <td>116.8680</td>\n",
       "      <td>66.04</td>\n",
       "    </tr>\n",
       "    <tr>\n",
       "      <th>2</th>\n",
       "      <td>AB-100151404</td>\n",
       "      <td>2012-03-06</td>\n",
       "      <td>108777</td>\n",
       "      <td>294309.0</td>\n",
       "      <td>309.592</td>\n",
       "      <td>7</td>\n",
       "      <td>0.2</td>\n",
       "      <td>15.0033</td>\n",
       "      <td>16.70</td>\n",
       "    </tr>\n",
       "    <tr>\n",
       "      <th>3</th>\n",
       "      <td>AJ-107801</td>\n",
       "      <td>2013-04-19</td>\n",
       "      <td>28879</td>\n",
       "      <td>0.0</td>\n",
       "      <td>4626.150</td>\n",
       "      <td>5</td>\n",
       "      <td>0.0</td>\n",
       "      <td>647.5500</td>\n",
       "      <td>835.57</td>\n",
       "    </tr>\n",
       "    <tr>\n",
       "      <th>4</th>\n",
       "      <td>CR-127307</td>\n",
       "      <td>2014-05-01</td>\n",
       "      <td>63942</td>\n",
       "      <td>0.0</td>\n",
       "      <td>292.167</td>\n",
       "      <td>12</td>\n",
       "      <td>0.3</td>\n",
       "      <td>58.5870</td>\n",
       "      <td>30.69</td>\n",
       "    </tr>\n",
       "  </tbody>\n",
       "</table>\n",
       "</div>"
      ],
      "text/plain": [
       "    Customer ID Order Date  Row ID  Postal Code     Sales  Quantity  Discount  \\\n",
       "0  AB-100151402 2012-02-19   39519      76017.0    12.624         2       0.2   \n",
       "1  AB-100151402 2014-11-11   80197     146240.0   563.940         4       0.0   \n",
       "2  AB-100151404 2012-03-06  108777     294309.0   309.592         7       0.2   \n",
       "3     AJ-107801 2013-04-19   28879          0.0  4626.150         5       0.0   \n",
       "4     CR-127307 2014-05-01   63942          0.0   292.167        12       0.3   \n",
       "\n",
       "     Profit  Shipping Cost  \n",
       "0   -2.5248           1.97  \n",
       "1  116.8680          66.04  \n",
       "2   15.0033          16.70  \n",
       "3  647.5500         835.57  \n",
       "4   58.5870          30.69  "
      ]
     },
     "execution_count": 43,
     "metadata": {},
     "output_type": "execute_result"
    }
   ],
   "source": [
    "# Creating a subset of the dataset with ten unique customer IDs\n",
    "GD_SUBSET = super_store_data[super_store_data['Customer ID'].isin(IDs_SAMPLE)].groupby(['Customer ID', 'Order Date']).sum().reset_index()\n",
    "GD_SUBSET.head()"
   ]
  },
  {
   "cell_type": "code",
   "execution_count": 44,
   "metadata": {
    "colab": {
     "base_uri": "https://localhost:8080/"
    },
    "id": "wKseEkBpGl_9",
    "outputId": "06a5cbe9-7283-481b-8ac8-5d8d2d224e7c"
   },
   "outputs": [
    {
     "name": "stdout",
     "output_type": "stream",
     "text": [
      "Requirement already satisfied: plydata in c:\\users\\nabhi\\anaconda3\\lib\\site-packages (0.4.3)\n",
      "Requirement already satisfied: pandas>=1.1.5 in c:\\users\\nabhi\\anaconda3\\lib\\site-packages (from plydata) (1.2.4)\n",
      "Requirement already satisfied: numpy>=1.16.5 in c:\\users\\nabhi\\anaconda3\\lib\\site-packages (from pandas>=1.1.5->plydata) (1.20.1)\n",
      "Requirement already satisfied: python-dateutil>=2.7.3 in c:\\users\\nabhi\\anaconda3\\lib\\site-packages (from pandas>=1.1.5->plydata) (2.8.1)\n",
      "Note: you may need to restart the kernel to use updated packages.Requirement already satisfied: pytz>=2017.3 in c:\\users\\nabhi\\anaconda3\\lib\\site-packages (from pandas>=1.1.5->plydata) (2021.1)\n",
      "Requirement already satisfied: six>=1.5 in c:\\users\\nabhi\\anaconda3\\lib\\site-packages (from python-dateutil>=2.7.3->pandas>=1.1.5->plydata) (1.15.0)\n",
      "\n"
     ]
    }
   ],
   "source": [
    "pip install plydata"
   ]
  },
  {
   "cell_type": "code",
   "execution_count": 45,
   "metadata": {
    "id": "vmcm255KiqOx"
   },
   "outputs": [],
   "source": [
    "import plotnine as pn\n",
    "import plydata.cat_tools as cat"
   ]
  },
  {
   "cell_type": "code",
   "execution_count": 46,
   "metadata": {
    "colab": {
     "base_uri": "https://localhost:8080/",
     "height": 484
    },
    "id": "k0XvUPknioAV",
    "outputId": "d3bf3cdd-71ea-4e2c-c9ad-29ce11f3f8f3"
   },
   "outputs": [
    {
     "data": {
      "image/png": "[encoded data removed]",
      "text/plain": [
       "<Figure size 640x480 with 10 Axes>"
      ]
     },
     "metadata": {},
     "output_type": "display_data"
    },
    {
     "data": {
      "text/plain": [
       "<ggplot: (108818521561)>"
      ]
     },
     "execution_count": 46,
     "metadata": {},
     "output_type": "execute_result"
    }
   ],
   "source": [
    "# Frequency plot of the ten unique customers, with the price and date of each transaction.\n",
    "pn.ggplot(pn.aes('Order Date', 'Sales', group = 'Customer ID'), data = GD_SUBSET) + pn.geom_line() +pn.geom_point() +pn.facet_wrap('Customer ID') +pn.scale_x_date(date_breaks = '1 year', date_lables = '%Y')"
   ]
  },
  {
   "cell_type": "markdown",
   "metadata": {
    "id": "5UDYzsJdMK2H"
   },
   "source": [
    "## Recency-Frequency-Monetary (RFM) analysis:"
   ]
  },
  {
   "cell_type": "markdown",
   "metadata": {
    "id": "UI8FA1fqMK2H"
   },
   "source": [
    "For Recency, calculating the number of days between present date and date of last purchase for each customer.\n",
    "\n",
    "For Frequency, calculating the number of orders for each customer.\n",
    "\n",
    "For Monetary, calculating the sum of purchase price for each customer."
   ]
  },
  {
   "cell_type": "code",
   "execution_count": 47,
   "metadata": {
    "colab": {
     "base_uri": "https://localhost:8080/",
     "height": 419
    },
    "id": "bx3kJ7AJMK2I",
    "outputId": "2981621c-3a7c-4d67-854e-c74e716ae084"
   },
   "outputs": [
    {
     "data": {
      "text/html": [
       "<div>\n",
       "<style scoped>\n",
       "    .dataframe tbody tr th:only-of-type {\n",
       "        vertical-align: middle;\n",
       "    }\n",
       "\n",
       "    .dataframe tbody tr th {\n",
       "        vertical-align: top;\n",
       "    }\n",
       "\n",
       "    .dataframe thead th {\n",
       "        text-align: right;\n",
       "    }\n",
       "</style>\n",
       "<table border=\"1\" class=\"dataframe\">\n",
       "  <thead>\n",
       "    <tr style=\"text-align: right;\">\n",
       "      <th></th>\n",
       "      <th>Customer ID</th>\n",
       "      <th>Order ID</th>\n",
       "      <th>Order Date</th>\n",
       "      <th>Sales</th>\n",
       "      <th>Quantity</th>\n",
       "      <th>Discount</th>\n",
       "    </tr>\n",
       "  </thead>\n",
       "  <tbody>\n",
       "    <tr>\n",
       "      <th>0</th>\n",
       "      <td>AB-100151402</td>\n",
       "      <td>CA-2014-AB10015140-41954</td>\n",
       "      <td>2014-11-11</td>\n",
       "      <td>221.980</td>\n",
       "      <td>2</td>\n",
       "      <td>0.0</td>\n",
       "    </tr>\n",
       "    <tr>\n",
       "      <th>1</th>\n",
       "      <td>JR-162107</td>\n",
       "      <td>IN-2014-JR162107-41675</td>\n",
       "      <td>2014-02-05</td>\n",
       "      <td>3709.395</td>\n",
       "      <td>9</td>\n",
       "      <td>0.1</td>\n",
       "    </tr>\n",
       "    <tr>\n",
       "      <th>2</th>\n",
       "      <td>CR-127307</td>\n",
       "      <td>IN-2014-CR127307-41929</td>\n",
       "      <td>2014-10-17</td>\n",
       "      <td>5175.171</td>\n",
       "      <td>9</td>\n",
       "      <td>0.1</td>\n",
       "    </tr>\n",
       "    <tr>\n",
       "      <th>3</th>\n",
       "      <td>KM-1637548</td>\n",
       "      <td>ES-2014-KM1637548-41667</td>\n",
       "      <td>2014-01-28</td>\n",
       "      <td>2892.510</td>\n",
       "      <td>5</td>\n",
       "      <td>0.1</td>\n",
       "    </tr>\n",
       "    <tr>\n",
       "      <th>4</th>\n",
       "      <td>RH-9495111</td>\n",
       "      <td>SG-2014-RH9495111-41948</td>\n",
       "      <td>2014-11-05</td>\n",
       "      <td>2832.960</td>\n",
       "      <td>8</td>\n",
       "      <td>0.0</td>\n",
       "    </tr>\n",
       "    <tr>\n",
       "      <th>...</th>\n",
       "      <td>...</td>\n",
       "      <td>...</td>\n",
       "      <td>...</td>\n",
       "      <td>...</td>\n",
       "      <td>...</td>\n",
       "      <td>...</td>\n",
       "    </tr>\n",
       "    <tr>\n",
       "      <th>51285</th>\n",
       "      <td>KE-1642066</td>\n",
       "      <td>IN-2015-KE1642066-42174</td>\n",
       "      <td>2015-06-19</td>\n",
       "      <td>65.100</td>\n",
       "      <td>5</td>\n",
       "      <td>0.0</td>\n",
       "    </tr>\n",
       "    <tr>\n",
       "      <th>51286</th>\n",
       "      <td>ZD-219251408</td>\n",
       "      <td>US-2014-ZD21925140-41765</td>\n",
       "      <td>2014-05-06</td>\n",
       "      <td>16.720</td>\n",
       "      <td>5</td>\n",
       "      <td>0.2</td>\n",
       "    </tr>\n",
       "    <tr>\n",
       "      <th>51287</th>\n",
       "      <td>ZD-219251404</td>\n",
       "      <td>CA-2012-ZD21925140-41147</td>\n",
       "      <td>2012-08-26</td>\n",
       "      <td>8.560</td>\n",
       "      <td>2</td>\n",
       "      <td>0.0</td>\n",
       "    </tr>\n",
       "    <tr>\n",
       "      <th>51288</th>\n",
       "      <td>RB-1979518</td>\n",
       "      <td>MX-2013-RB1979518-41322</td>\n",
       "      <td>2013-02-17</td>\n",
       "      <td>13.440</td>\n",
       "      <td>2</td>\n",
       "      <td>0.0</td>\n",
       "    </tr>\n",
       "    <tr>\n",
       "      <th>51289</th>\n",
       "      <td>MC-1810093</td>\n",
       "      <td>MX-2013-MC1810093-41416</td>\n",
       "      <td>2013-05-22</td>\n",
       "      <td>61.380</td>\n",
       "      <td>3</td>\n",
       "      <td>0.0</td>\n",
       "    </tr>\n",
       "  </tbody>\n",
       "</table>\n",
       "<p>51290 rows × 6 columns</p>\n",
       "</div>"
      ],
      "text/plain": [
       "        Customer ID                  Order ID Order Date     Sales  Quantity  \\\n",
       "0      AB-100151402  CA-2014-AB10015140-41954 2014-11-11   221.980         2   \n",
       "1         JR-162107    IN-2014-JR162107-41675 2014-02-05  3709.395         9   \n",
       "2         CR-127307    IN-2014-CR127307-41929 2014-10-17  5175.171         9   \n",
       "3        KM-1637548   ES-2014-KM1637548-41667 2014-01-28  2892.510         5   \n",
       "4        RH-9495111   SG-2014-RH9495111-41948 2014-11-05  2832.960         8   \n",
       "...             ...                       ...        ...       ...       ...   \n",
       "51285    KE-1642066   IN-2015-KE1642066-42174 2015-06-19    65.100         5   \n",
       "51286  ZD-219251408  US-2014-ZD21925140-41765 2014-05-06    16.720         5   \n",
       "51287  ZD-219251404  CA-2012-ZD21925140-41147 2012-08-26     8.560         2   \n",
       "51288    RB-1979518   MX-2013-RB1979518-41322 2013-02-17    13.440         2   \n",
       "51289    MC-1810093   MX-2013-MC1810093-41416 2013-05-22    61.380         3   \n",
       "\n",
       "       Discount  \n",
       "0           0.0  \n",
       "1           0.1  \n",
       "2           0.1  \n",
       "3           0.1  \n",
       "4           0.0  \n",
       "...         ...  \n",
       "51285       0.0  \n",
       "51286       0.2  \n",
       "51287       0.0  \n",
       "51288       0.0  \n",
       "51289       0.0  \n",
       "\n",
       "[51290 rows x 6 columns]"
      ]
     },
     "execution_count": 47,
     "metadata": {},
     "output_type": "execute_result"
    }
   ],
   "source": [
    "transaction_data = super_store_data[['Customer ID','Order ID','Order Date','Sales', 'Quantity','Discount']].copy()\n",
    "transaction_data"
   ]
  },
  {
   "cell_type": "code",
   "execution_count": 48,
   "metadata": {
    "colab": {
     "base_uri": "https://localhost:8080/"
    },
    "id": "jdJsBj10MK2I",
    "outputId": "4f374c96-09eb-46a6-924b-b1937440cb6b"
   },
   "outputs": [
    {
     "name": "stdout",
     "output_type": "stream",
     "text": [
      "Date considered for calculating the recency:  12-31-2015\n"
     ]
    }
   ],
   "source": [
    "max_date_considered = transaction_data['Order Date'].max().date()\n",
    "print(\"Date considered for calculating the recency: \", max_date_considered.strftime(\"%m-%d-%Y\"))"
   ]
  },
  {
   "cell_type": "code",
   "execution_count": 49,
   "metadata": {
    "colab": {
     "base_uri": "https://localhost:8080/",
     "height": 450
    },
    "id": "AgNCtEUGMK2I",
    "outputId": "7a76b0fb-ba48-40cd-89f6-50e18e8d036b"
   },
   "outputs": [
    {
     "data": {
      "text/html": [
       "<div>\n",
       "<style scoped>\n",
       "    .dataframe tbody tr th:only-of-type {\n",
       "        vertical-align: middle;\n",
       "    }\n",
       "\n",
       "    .dataframe tbody tr th {\n",
       "        vertical-align: top;\n",
       "    }\n",
       "\n",
       "    .dataframe thead th {\n",
       "        text-align: right;\n",
       "    }\n",
       "</style>\n",
       "<table border=\"1\" class=\"dataframe\">\n",
       "  <thead>\n",
       "    <tr style=\"text-align: right;\">\n",
       "      <th></th>\n",
       "      <th>Order Date</th>\n",
       "    </tr>\n",
       "    <tr>\n",
       "      <th>Customer ID</th>\n",
       "      <th></th>\n",
       "    </tr>\n",
       "  </thead>\n",
       "  <tbody>\n",
       "    <tr>\n",
       "      <th>AA-10315102</th>\n",
       "      <td>358</td>\n",
       "    </tr>\n",
       "    <tr>\n",
       "      <th>AA-10315120</th>\n",
       "      <td>959</td>\n",
       "    </tr>\n",
       "    <tr>\n",
       "      <th>AA-10315139</th>\n",
       "      <td>149</td>\n",
       "    </tr>\n",
       "    <tr>\n",
       "      <th>AA-103151402</th>\n",
       "      <td>184</td>\n",
       "    </tr>\n",
       "    <tr>\n",
       "      <th>AA-103151404</th>\n",
       "      <td>818</td>\n",
       "    </tr>\n",
       "    <tr>\n",
       "      <th>...</th>\n",
       "      <td>...</td>\n",
       "    </tr>\n",
       "    <tr>\n",
       "      <th>ZD-2192548</th>\n",
       "      <td>750</td>\n",
       "    </tr>\n",
       "    <tr>\n",
       "      <th>ZD-2192564</th>\n",
       "      <td>1409</td>\n",
       "    </tr>\n",
       "    <tr>\n",
       "      <th>ZD-219257</th>\n",
       "      <td>1198</td>\n",
       "    </tr>\n",
       "    <tr>\n",
       "      <th>ZD-2192582</th>\n",
       "      <td>196</td>\n",
       "    </tr>\n",
       "    <tr>\n",
       "      <th>ZD-2192596</th>\n",
       "      <td>749</td>\n",
       "    </tr>\n",
       "  </tbody>\n",
       "</table>\n",
       "<p>17415 rows × 1 columns</p>\n",
       "</div>"
      ],
      "text/plain": [
       "              Order Date\n",
       "Customer ID             \n",
       "AA-10315102          358\n",
       "AA-10315120          959\n",
       "AA-10315139          149\n",
       "AA-103151402         184\n",
       "AA-103151404         818\n",
       "...                  ...\n",
       "ZD-2192548           750\n",
       "ZD-2192564          1409\n",
       "ZD-219257           1198\n",
       "ZD-2192582           196\n",
       "ZD-2192596           749\n",
       "\n",
       "[17415 rows x 1 columns]"
      ]
     },
     "execution_count": 49,
     "metadata": {},
     "output_type": "execute_result"
    }
   ],
   "source": [
    "# Count of days since their last purchase until current date\n",
    "rfm = pd.DataFrame((max_date_considered - transaction_data.groupby(\"Customer ID\")[\"Order Date\"].max().apply(lambda x: x.date())).dt.days)\n",
    "rfm"
   ]
  },
  {
   "cell_type": "code",
   "execution_count": 50,
   "metadata": {
    "colab": {
     "base_uri": "https://localhost:8080/",
     "height": 235
    },
    "id": "8fR6BlYCMK2I",
    "outputId": "e4a88f5a-75ae-48f6-9daa-20817d7eb653"
   },
   "outputs": [
    {
     "data": {
      "text/html": [
       "<div>\n",
       "<style scoped>\n",
       "    .dataframe tbody tr th:only-of-type {\n",
       "        vertical-align: middle;\n",
       "    }\n",
       "\n",
       "    .dataframe tbody tr th {\n",
       "        vertical-align: top;\n",
       "    }\n",
       "\n",
       "    .dataframe thead th {\n",
       "        text-align: right;\n",
       "    }\n",
       "</style>\n",
       "<table border=\"1\" class=\"dataframe\">\n",
       "  <thead>\n",
       "    <tr style=\"text-align: right;\">\n",
       "      <th></th>\n",
       "      <th>Recency</th>\n",
       "    </tr>\n",
       "    <tr>\n",
       "      <th>Customer ID</th>\n",
       "      <th></th>\n",
       "    </tr>\n",
       "  </thead>\n",
       "  <tbody>\n",
       "    <tr>\n",
       "      <th>AA-10315102</th>\n",
       "      <td>358</td>\n",
       "    </tr>\n",
       "    <tr>\n",
       "      <th>AA-10315120</th>\n",
       "      <td>959</td>\n",
       "    </tr>\n",
       "    <tr>\n",
       "      <th>AA-10315139</th>\n",
       "      <td>149</td>\n",
       "    </tr>\n",
       "    <tr>\n",
       "      <th>AA-103151402</th>\n",
       "      <td>184</td>\n",
       "    </tr>\n",
       "    <tr>\n",
       "      <th>AA-103151404</th>\n",
       "      <td>818</td>\n",
       "    </tr>\n",
       "  </tbody>\n",
       "</table>\n",
       "</div>"
      ],
      "text/plain": [
       "              Recency\n",
       "Customer ID          \n",
       "AA-10315102       358\n",
       "AA-10315120       959\n",
       "AA-10315139       149\n",
       "AA-103151402      184\n",
       "AA-103151404      818"
      ]
     },
     "execution_count": 50,
     "metadata": {},
     "output_type": "execute_result"
    }
   ],
   "source": [
    "rfm.columns = [\"Recency\"]\n",
    "rfm.head()"
   ]
  },
  {
   "cell_type": "code",
   "execution_count": 51,
   "metadata": {
    "colab": {
     "base_uri": "https://localhost:8080/"
    },
    "id": "Z4KTKp1lMK2I",
    "outputId": "18d34f14-443b-40d0-b5a6-a74f648af694"
   },
   "outputs": [
    {
     "data": {
      "text/plain": [
       "Customer ID\n",
       "AA-10315102    918 days\n",
       "AA-10315120      0 days\n",
       "AA-10315139    319 days\n",
       "AA-103151402   483 days\n",
       "AA-103151404   553 days\n",
       "                 ...   \n",
       "ZD-2192548     385 days\n",
       "ZD-2192564       0 days\n",
       "ZD-219257        0 days\n",
       "ZD-2192582     569 days\n",
       "ZD-2192596       0 days\n",
       "Name: Order Date, Length: 17415, dtype: timedelta64[ns]"
      ]
     },
     "execution_count": 51,
     "metadata": {},
     "output_type": "execute_result"
    }
   ],
   "source": [
    "# Count of days between their last purchase and first purchase\n",
    "transaction_data.groupby(\"Customer ID\")[\"Order Date\"].max().apply(lambda x: x.date()) - transaction_data.groupby(\"Customer ID\")[\"Order Date\"].min().apply(lambda x: x.date())"
   ]
  },
  {
   "cell_type": "code",
   "execution_count": 52,
   "metadata": {
    "colab": {
     "base_uri": "https://localhost:8080/"
    },
    "id": "oFraM1GtMK2J",
    "outputId": "34a4f946-aa9e-4b7a-9164-af71bfa3e79c"
   },
   "outputs": [
    {
     "data": {
      "text/plain": [
       "Customer ID\n",
       "AA-10315102      6\n",
       "AA-10315120      1\n",
       "AA-10315139     13\n",
       "AA-103151402     6\n",
       "AA-103151404     3\n",
       "                ..\n",
       "ZD-2192548       4\n",
       "ZD-2192564       4\n",
       "ZD-219257        1\n",
       "ZD-2192582       2\n",
       "ZD-2192596       2\n",
       "Name: Order ID, Length: 17415, dtype: int64"
      ]
     },
     "execution_count": 52,
     "metadata": {},
     "output_type": "execute_result"
    }
   ],
   "source": [
    "# Orders per customer\n",
    "frequency_orders = transaction_data.groupby(\"Customer ID\")[\"Order ID\"].count()\n",
    "frequency_orders"
   ]
  },
  {
   "cell_type": "code",
   "execution_count": 53,
   "metadata": {
    "colab": {
     "base_uri": "https://localhost:8080/",
     "height": 204
    },
    "id": "jE2OKInrMK2J",
    "outputId": "2f14b9bd-d739-4891-8cbf-51f5bdc4172b"
   },
   "outputs": [
    {
     "data": {
      "text/html": [
       "<div>\n",
       "<style scoped>\n",
       "    .dataframe tbody tr th:only-of-type {\n",
       "        vertical-align: middle;\n",
       "    }\n",
       "\n",
       "    .dataframe tbody tr th {\n",
       "        vertical-align: top;\n",
       "    }\n",
       "\n",
       "    .dataframe thead th {\n",
       "        text-align: right;\n",
       "    }\n",
       "</style>\n",
       "<table border=\"1\" class=\"dataframe\">\n",
       "  <thead>\n",
       "    <tr style=\"text-align: right;\">\n",
       "      <th></th>\n",
       "      <th>Customer ID</th>\n",
       "      <th>Recency</th>\n",
       "      <th>Order ID</th>\n",
       "    </tr>\n",
       "  </thead>\n",
       "  <tbody>\n",
       "    <tr>\n",
       "      <th>0</th>\n",
       "      <td>AA-10315102</td>\n",
       "      <td>358</td>\n",
       "      <td>6</td>\n",
       "    </tr>\n",
       "    <tr>\n",
       "      <th>1</th>\n",
       "      <td>AA-10315120</td>\n",
       "      <td>959</td>\n",
       "      <td>1</td>\n",
       "    </tr>\n",
       "    <tr>\n",
       "      <th>2</th>\n",
       "      <td>AA-10315139</td>\n",
       "      <td>149</td>\n",
       "      <td>13</td>\n",
       "    </tr>\n",
       "    <tr>\n",
       "      <th>3</th>\n",
       "      <td>AA-103151402</td>\n",
       "      <td>184</td>\n",
       "      <td>6</td>\n",
       "    </tr>\n",
       "    <tr>\n",
       "      <th>4</th>\n",
       "      <td>AA-103151404</td>\n",
       "      <td>818</td>\n",
       "      <td>3</td>\n",
       "    </tr>\n",
       "  </tbody>\n",
       "</table>\n",
       "</div>"
      ],
      "text/plain": [
       "    Customer ID  Recency  Order ID\n",
       "0   AA-10315102      358         6\n",
       "1   AA-10315120      959         1\n",
       "2   AA-10315139      149        13\n",
       "3  AA-103151402      184         6\n",
       "4  AA-103151404      818         3"
      ]
     },
     "execution_count": 53,
     "metadata": {},
     "output_type": "execute_result"
    }
   ],
   "source": [
    "rfm = rfm.merge(frequency_orders.reset_index(), left_on = \"Customer ID\", right_on= \"Customer ID\")\n",
    "rfm.head()"
   ]
  },
  {
   "cell_type": "code",
   "execution_count": 54,
   "metadata": {
    "colab": {
     "base_uri": "https://localhost:8080/",
     "height": 204
    },
    "id": "FyofWEdlMK2J",
    "outputId": "d6e5fb01-e388-4529-d349-a8f6c0895d53"
   },
   "outputs": [
    {
     "data": {
      "text/html": [
       "<div>\n",
       "<style scoped>\n",
       "    .dataframe tbody tr th:only-of-type {\n",
       "        vertical-align: middle;\n",
       "    }\n",
       "\n",
       "    .dataframe tbody tr th {\n",
       "        vertical-align: top;\n",
       "    }\n",
       "\n",
       "    .dataframe thead th {\n",
       "        text-align: right;\n",
       "    }\n",
       "</style>\n",
       "<table border=\"1\" class=\"dataframe\">\n",
       "  <thead>\n",
       "    <tr style=\"text-align: right;\">\n",
       "      <th></th>\n",
       "      <th>Customer ID</th>\n",
       "      <th>Recency</th>\n",
       "      <th>Frequency</th>\n",
       "    </tr>\n",
       "  </thead>\n",
       "  <tbody>\n",
       "    <tr>\n",
       "      <th>0</th>\n",
       "      <td>AA-10315102</td>\n",
       "      <td>358</td>\n",
       "      <td>6</td>\n",
       "    </tr>\n",
       "    <tr>\n",
       "      <th>1</th>\n",
       "      <td>AA-10315120</td>\n",
       "      <td>959</td>\n",
       "      <td>1</td>\n",
       "    </tr>\n",
       "    <tr>\n",
       "      <th>2</th>\n",
       "      <td>AA-10315139</td>\n",
       "      <td>149</td>\n",
       "      <td>13</td>\n",
       "    </tr>\n",
       "    <tr>\n",
       "      <th>3</th>\n",
       "      <td>AA-103151402</td>\n",
       "      <td>184</td>\n",
       "      <td>6</td>\n",
       "    </tr>\n",
       "    <tr>\n",
       "      <th>4</th>\n",
       "      <td>AA-103151404</td>\n",
       "      <td>818</td>\n",
       "      <td>3</td>\n",
       "    </tr>\n",
       "  </tbody>\n",
       "</table>\n",
       "</div>"
      ],
      "text/plain": [
       "    Customer ID  Recency  Frequency\n",
       "0   AA-10315102      358          6\n",
       "1   AA-10315120      959          1\n",
       "2   AA-10315139      149         13\n",
       "3  AA-103151402      184          6\n",
       "4  AA-103151404      818          3"
      ]
     },
     "execution_count": 54,
     "metadata": {},
     "output_type": "execute_result"
    }
   ],
   "source": [
    "rfm.columns = ['Customer ID', 'Recency', 'Frequency']\n",
    "rfm.head()"
   ]
  },
  {
   "cell_type": "code",
   "execution_count": null,
   "metadata": {
    "id": "9cYWsjfmMK2J"
   },
   "outputs": [],
   "source": []
  },
  {
   "cell_type": "code",
   "execution_count": 55,
   "metadata": {
    "colab": {
     "base_uri": "https://localhost:8080/",
     "height": 419
    },
    "id": "6IC1_I7KMK2J",
    "outputId": "a8577a05-8b9b-48fe-e0d0-0ca2f5209cd1"
   },
   "outputs": [
    {
     "data": {
      "text/html": [
       "<div>\n",
       "<style scoped>\n",
       "    .dataframe tbody tr th:only-of-type {\n",
       "        vertical-align: middle;\n",
       "    }\n",
       "\n",
       "    .dataframe tbody tr th {\n",
       "        vertical-align: top;\n",
       "    }\n",
       "\n",
       "    .dataframe thead th {\n",
       "        text-align: right;\n",
       "    }\n",
       "</style>\n",
       "<table border=\"1\" class=\"dataframe\">\n",
       "  <thead>\n",
       "    <tr style=\"text-align: right;\">\n",
       "      <th></th>\n",
       "      <th>Customer ID</th>\n",
       "      <th>Sales</th>\n",
       "    </tr>\n",
       "  </thead>\n",
       "  <tbody>\n",
       "    <tr>\n",
       "      <th>0</th>\n",
       "      <td>AA-10315102</td>\n",
       "      <td>544.6560</td>\n",
       "    </tr>\n",
       "    <tr>\n",
       "      <th>1</th>\n",
       "      <td>AA-10315120</td>\n",
       "      <td>2713.4100</td>\n",
       "    </tr>\n",
       "    <tr>\n",
       "      <th>2</th>\n",
       "      <td>AA-10315139</td>\n",
       "      <td>2955.7980</td>\n",
       "    </tr>\n",
       "    <tr>\n",
       "      <th>3</th>\n",
       "      <td>AA-103151402</td>\n",
       "      <td>4780.5520</td>\n",
       "    </tr>\n",
       "    <tr>\n",
       "      <th>4</th>\n",
       "      <td>AA-103151404</td>\n",
       "      <td>753.5080</td>\n",
       "    </tr>\n",
       "    <tr>\n",
       "      <th>...</th>\n",
       "      <td>...</td>\n",
       "      <td>...</td>\n",
       "    </tr>\n",
       "    <tr>\n",
       "      <th>17410</th>\n",
       "      <td>ZD-2192548</td>\n",
       "      <td>1302.1680</td>\n",
       "    </tr>\n",
       "    <tr>\n",
       "      <th>17411</th>\n",
       "      <td>ZD-2192564</td>\n",
       "      <td>1225.3920</td>\n",
       "    </tr>\n",
       "    <tr>\n",
       "      <th>17412</th>\n",
       "      <td>ZD-219257</td>\n",
       "      <td>59.9400</td>\n",
       "    </tr>\n",
       "    <tr>\n",
       "      <th>17413</th>\n",
       "      <td>ZD-2192582</td>\n",
       "      <td>678.1014</td>\n",
       "    </tr>\n",
       "    <tr>\n",
       "      <th>17414</th>\n",
       "      <td>ZD-2192596</td>\n",
       "      <td>269.3100</td>\n",
       "    </tr>\n",
       "  </tbody>\n",
       "</table>\n",
       "<p>17415 rows × 2 columns</p>\n",
       "</div>"
      ],
      "text/plain": [
       "        Customer ID      Sales\n",
       "0       AA-10315102   544.6560\n",
       "1       AA-10315120  2713.4100\n",
       "2       AA-10315139  2955.7980\n",
       "3      AA-103151402  4780.5520\n",
       "4      AA-103151404   753.5080\n",
       "...             ...        ...\n",
       "17410    ZD-2192548  1302.1680\n",
       "17411    ZD-2192564  1225.3920\n",
       "17412     ZD-219257    59.9400\n",
       "17413    ZD-2192582   678.1014\n",
       "17414    ZD-2192596   269.3100\n",
       "\n",
       "[17415 rows x 2 columns]"
      ]
     },
     "execution_count": 55,
     "metadata": {},
     "output_type": "execute_result"
    }
   ],
   "source": [
    "# Sales per customer\n",
    "sales_per_customer = transaction_data.groupby(\"Customer ID\")[\"Sales\"].sum()\n",
    "sales_per_customer.reset_index()"
   ]
  },
  {
   "cell_type": "code",
   "execution_count": 56,
   "metadata": {
    "colab": {
     "base_uri": "https://localhost:8080/",
     "height": 204
    },
    "id": "ziml4_YXMK2J",
    "outputId": "2730d4ec-8986-4ad0-ae23-816a6b481272"
   },
   "outputs": [
    {
     "data": {
      "text/html": [
       "<div>\n",
       "<style scoped>\n",
       "    .dataframe tbody tr th:only-of-type {\n",
       "        vertical-align: middle;\n",
       "    }\n",
       "\n",
       "    .dataframe tbody tr th {\n",
       "        vertical-align: top;\n",
       "    }\n",
       "\n",
       "    .dataframe thead th {\n",
       "        text-align: right;\n",
       "    }\n",
       "</style>\n",
       "<table border=\"1\" class=\"dataframe\">\n",
       "  <thead>\n",
       "    <tr style=\"text-align: right;\">\n",
       "      <th></th>\n",
       "      <th>Customer ID</th>\n",
       "      <th>Recency</th>\n",
       "      <th>Frequency</th>\n",
       "      <th>Sales</th>\n",
       "    </tr>\n",
       "  </thead>\n",
       "  <tbody>\n",
       "    <tr>\n",
       "      <th>0</th>\n",
       "      <td>AA-10315102</td>\n",
       "      <td>358</td>\n",
       "      <td>6</td>\n",
       "      <td>544.656</td>\n",
       "    </tr>\n",
       "    <tr>\n",
       "      <th>1</th>\n",
       "      <td>AA-10315120</td>\n",
       "      <td>959</td>\n",
       "      <td>1</td>\n",
       "      <td>2713.410</td>\n",
       "    </tr>\n",
       "    <tr>\n",
       "      <th>2</th>\n",
       "      <td>AA-10315139</td>\n",
       "      <td>149</td>\n",
       "      <td>13</td>\n",
       "      <td>2955.798</td>\n",
       "    </tr>\n",
       "    <tr>\n",
       "      <th>3</th>\n",
       "      <td>AA-103151402</td>\n",
       "      <td>184</td>\n",
       "      <td>6</td>\n",
       "      <td>4780.552</td>\n",
       "    </tr>\n",
       "    <tr>\n",
       "      <th>4</th>\n",
       "      <td>AA-103151404</td>\n",
       "      <td>818</td>\n",
       "      <td>3</td>\n",
       "      <td>753.508</td>\n",
       "    </tr>\n",
       "  </tbody>\n",
       "</table>\n",
       "</div>"
      ],
      "text/plain": [
       "    Customer ID  Recency  Frequency     Sales\n",
       "0   AA-10315102      358          6   544.656\n",
       "1   AA-10315120      959          1  2713.410\n",
       "2   AA-10315139      149         13  2955.798\n",
       "3  AA-103151402      184          6  4780.552\n",
       "4  AA-103151404      818          3   753.508"
      ]
     },
     "execution_count": 56,
     "metadata": {},
     "output_type": "execute_result"
    }
   ],
   "source": [
    "rfm = rfm.merge(sales_per_customer.reset_index(),left_on = \"Customer ID\", right_on=\"Customer ID\")\n",
    "rfm.head()"
   ]
  },
  {
   "cell_type": "code",
   "execution_count": 57,
   "metadata": {
    "colab": {
     "base_uri": "https://localhost:8080/",
     "height": 235
    },
    "id": "HUY010b_MK2K",
    "outputId": "3c3538b5-0cbe-4bca-fbec-6749e3098586"
   },
   "outputs": [
    {
     "data": {
      "text/html": [
       "<div>\n",
       "<style scoped>\n",
       "    .dataframe tbody tr th:only-of-type {\n",
       "        vertical-align: middle;\n",
       "    }\n",
       "\n",
       "    .dataframe tbody tr th {\n",
       "        vertical-align: top;\n",
       "    }\n",
       "\n",
       "    .dataframe thead th {\n",
       "        text-align: right;\n",
       "    }\n",
       "</style>\n",
       "<table border=\"1\" class=\"dataframe\">\n",
       "  <thead>\n",
       "    <tr style=\"text-align: right;\">\n",
       "      <th></th>\n",
       "      <th>Recency</th>\n",
       "      <th>Frequency</th>\n",
       "      <th>Monetary</th>\n",
       "    </tr>\n",
       "    <tr>\n",
       "      <th>Customer ID</th>\n",
       "      <th></th>\n",
       "      <th></th>\n",
       "      <th></th>\n",
       "    </tr>\n",
       "  </thead>\n",
       "  <tbody>\n",
       "    <tr>\n",
       "      <th>AA-10315102</th>\n",
       "      <td>358</td>\n",
       "      <td>6</td>\n",
       "      <td>544.656</td>\n",
       "    </tr>\n",
       "    <tr>\n",
       "      <th>AA-10315120</th>\n",
       "      <td>959</td>\n",
       "      <td>1</td>\n",
       "      <td>2713.410</td>\n",
       "    </tr>\n",
       "    <tr>\n",
       "      <th>AA-10315139</th>\n",
       "      <td>149</td>\n",
       "      <td>13</td>\n",
       "      <td>2955.798</td>\n",
       "    </tr>\n",
       "    <tr>\n",
       "      <th>AA-103151402</th>\n",
       "      <td>184</td>\n",
       "      <td>6</td>\n",
       "      <td>4780.552</td>\n",
       "    </tr>\n",
       "    <tr>\n",
       "      <th>AA-103151404</th>\n",
       "      <td>818</td>\n",
       "      <td>3</td>\n",
       "      <td>753.508</td>\n",
       "    </tr>\n",
       "  </tbody>\n",
       "</table>\n",
       "</div>"
      ],
      "text/plain": [
       "              Recency  Frequency  Monetary\n",
       "Customer ID                               \n",
       "AA-10315102       358          6   544.656\n",
       "AA-10315120       959          1  2713.410\n",
       "AA-10315139       149         13  2955.798\n",
       "AA-103151402      184          6  4780.552\n",
       "AA-103151404      818          3   753.508"
      ]
     },
     "execution_count": 57,
     "metadata": {},
     "output_type": "execute_result"
    }
   ],
   "source": [
    "# Renaming the column names\n",
    "\n",
    "rfm = rfm.set_index(\"Customer ID\") #Setting customer ID as the index for rfm dataframe\n",
    "rfm.columns = [\"Recency\", \"Frequency\", \"Monetary\"]\n",
    "rfm.head()"
   ]
  },
  {
   "cell_type": "code",
   "execution_count": null,
   "metadata": {
    "id": "ONojg28lMK2K"
   },
   "outputs": [],
   "source": []
  },
  {
   "cell_type": "code",
   "execution_count": 58,
   "metadata": {
    "colab": {
     "base_uri": "https://localhost:8080/",
     "height": 295
    },
    "id": "T91vlbX5MK2K",
    "outputId": "c062a46f-c2da-4b2a-b857-8d6ff561585c"
   },
   "outputs": [
    {
     "data": {
      "image/png": "[encoded data removed]",
      "text/plain": [
       "<Figure size 432x288 with 1 Axes>"
      ]
     },
     "metadata": {
      "needs_background": "light"
     },
     "output_type": "display_data"
    }
   ],
   "source": [
    "sns.histplot(rfm[\"Recency\"])\n",
    "plt.title(\"Recency distribution of superstore data\")\n",
    "plt.show()"
   ]
  },
  {
   "cell_type": "code",
   "execution_count": 59,
   "metadata": {
    "colab": {
     "base_uri": "https://localhost:8080/",
     "height": 295
    },
    "id": "iHx1Ge2sMK2K",
    "outputId": "f7267532-4322-4a1d-b29c-7af9eba8b448"
   },
   "outputs": [
    {
     "data": {
      "image/png": "[encoded data removed]",
      "text/plain": [
       "<Figure size 432x288 with 1 Axes>"
      ]
     },
     "metadata": {
      "needs_background": "light"
     },
     "output_type": "display_data"
    }
   ],
   "source": [
    "sns.histplot(rfm[\"Frequency\"])\n",
    "plt.title(\"Frequency distribution of superstore data\")\n",
    "plt.show()"
   ]
  },
  {
   "cell_type": "code",
   "execution_count": 60,
   "metadata": {
    "colab": {
     "base_uri": "https://localhost:8080/",
     "height": 295
    },
    "id": "tHg4_jFiMK2K",
    "outputId": "28486aba-e51d-4a63-87db-6a48a9623cba"
   },
   "outputs": [
    {
     "data": {
      "image/png": "[encoded data removed]",
      "text/plain": [
       "<Figure size 432x288 with 1 Axes>"
      ]
     },
     "metadata": {
      "needs_background": "light"
     },
     "output_type": "display_data"
    }
   ],
   "source": [
    "sns.histplot(rfm[rfm[\"Frequency\"]<15][\"Frequency\"])\n",
    "plt.title(\"Frequency distribution(<15) of superstore data\")\n",
    "plt.show()"
   ]
  },
  {
   "cell_type": "code",
   "execution_count": 61,
   "metadata": {
    "colab": {
     "base_uri": "https://localhost:8080/",
     "height": 295
    },
    "id": "3MvLZKqHMK2K",
    "outputId": "c2950b81-0baf-4307-9aa8-cd649c0b3c30"
   },
   "outputs": [
    {
     "data": {
      "image/png": "[encoded data removed]",
      "text/plain": [
       "<Figure size 432x288 with 1 Axes>"
      ]
     },
     "metadata": {
      "needs_background": "light"
     },
     "output_type": "display_data"
    }
   ],
   "source": [
    "sns.histplot(rfm[\"Monetary\"])\n",
    "plt.title(\"Monetary distribution of superstore data\")\n",
    "plt.show()"
   ]
  },
  {
   "cell_type": "code",
   "execution_count": 62,
   "metadata": {
    "colab": {
     "base_uri": "https://localhost:8080/",
     "height": 295
    },
    "id": "jTjdJLr5MK2L",
    "outputId": "cb0bb26d-ce00-4881-e3a0-49481ba0b699"
   },
   "outputs": [
    {
     "data": {
      "image/png": "[encoded data removed]",
      "text/plain": [
       "<Figure size 432x288 with 1 Axes>"
      ]
     },
     "metadata": {
      "needs_background": "light"
     },
     "output_type": "display_data"
    }
   ],
   "source": [
    "sns.histplot(rfm[rfm[\"Monetary\"]<5000][\"Monetary\"])\n",
    "plt.title(\"Monetary distribution (< 5000) of superstore data\")\n",
    "plt.show()"
   ]
  },
  {
   "cell_type": "markdown",
   "metadata": {
    "id": "MisAdkQyMK2L"
   },
   "source": [
    "### Computing Quantile of RFM values\n",
    "Customers with the lowest recency, highest frequency and monetary amounts considered as top customers."
   ]
  },
  {
   "cell_type": "code",
   "execution_count": 63,
   "metadata": {
    "colab": {
     "base_uri": "https://localhost:8080/",
     "height": 381
    },
    "id": "Uwuaqpi_MK2L",
    "outputId": "aa1569a4-03a7-4f64-938b-f3d13067ca4e"
   },
   "outputs": [
    {
     "data": {
      "text/html": [
       "<div>\n",
       "<style scoped>\n",
       "    .dataframe tbody tr th:only-of-type {\n",
       "        vertical-align: middle;\n",
       "    }\n",
       "\n",
       "    .dataframe tbody tr th {\n",
       "        vertical-align: top;\n",
       "    }\n",
       "\n",
       "    .dataframe thead th {\n",
       "        text-align: right;\n",
       "    }\n",
       "</style>\n",
       "<table border=\"1\" class=\"dataframe\">\n",
       "  <thead>\n",
       "    <tr style=\"text-align: right;\">\n",
       "      <th></th>\n",
       "      <th>Recency</th>\n",
       "      <th>Frequency</th>\n",
       "      <th>Monetary</th>\n",
       "      <th>Recency_quatile</th>\n",
       "      <th>Frequency_quatile</th>\n",
       "      <th>Monetary_quantile</th>\n",
       "    </tr>\n",
       "    <tr>\n",
       "      <th>Customer ID</th>\n",
       "      <th></th>\n",
       "      <th></th>\n",
       "      <th></th>\n",
       "      <th></th>\n",
       "      <th></th>\n",
       "      <th></th>\n",
       "    </tr>\n",
       "  </thead>\n",
       "  <tbody>\n",
       "    <tr>\n",
       "      <th>AA-10315102</th>\n",
       "      <td>358</td>\n",
       "      <td>6</td>\n",
       "      <td>544.656</td>\n",
       "      <td>2</td>\n",
       "      <td>1</td>\n",
       "      <td>2</td>\n",
       "    </tr>\n",
       "    <tr>\n",
       "      <th>AA-10315120</th>\n",
       "      <td>959</td>\n",
       "      <td>1</td>\n",
       "      <td>2713.410</td>\n",
       "      <td>4</td>\n",
       "      <td>4</td>\n",
       "      <td>1</td>\n",
       "    </tr>\n",
       "    <tr>\n",
       "      <th>AA-10315139</th>\n",
       "      <td>149</td>\n",
       "      <td>13</td>\n",
       "      <td>2955.798</td>\n",
       "      <td>2</td>\n",
       "      <td>1</td>\n",
       "      <td>1</td>\n",
       "    </tr>\n",
       "    <tr>\n",
       "      <th>AA-103151402</th>\n",
       "      <td>184</td>\n",
       "      <td>6</td>\n",
       "      <td>4780.552</td>\n",
       "      <td>2</td>\n",
       "      <td>1</td>\n",
       "      <td>1</td>\n",
       "    </tr>\n",
       "    <tr>\n",
       "      <th>AA-103151404</th>\n",
       "      <td>818</td>\n",
       "      <td>3</td>\n",
       "      <td>753.508</td>\n",
       "      <td>4</td>\n",
       "      <td>2</td>\n",
       "      <td>2</td>\n",
       "    </tr>\n",
       "  </tbody>\n",
       "</table>\n",
       "</div>"
      ],
      "text/plain": [
       "              Recency  Frequency  Monetary Recency_quatile Frequency_quatile  \\\n",
       "Customer ID                                                                    \n",
       "AA-10315102       358          6   544.656               2                 1   \n",
       "AA-10315120       959          1  2713.410               4                 4   \n",
       "AA-10315139       149         13  2955.798               2                 1   \n",
       "AA-103151402      184          6  4780.552               2                 1   \n",
       "AA-103151404      818          3   753.508               4                 2   \n",
       "\n",
       "             Monetary_quantile  \n",
       "Customer ID                     \n",
       "AA-10315102                  2  \n",
       "AA-10315120                  1  \n",
       "AA-10315139                  1  \n",
       "AA-103151402                 1  \n",
       "AA-103151404                 2  "
      ]
     },
     "execution_count": 63,
     "metadata": {},
     "output_type": "execute_result"
    }
   ],
   "source": [
    "rfm[\"Recency_quatile\"] = pd.qcut(rfm[\"Recency\"].rank(method=\"first\"),4,['1','2','3','4']) \n",
    "# Using rank method to handle bins with duplicate edges\n",
    "rfm[\"Frequency_quatile\"] = pd.qcut(rfm[\"Frequency\"].rank(method=\"first\"), 4, ['4','3','2','1'])\n",
    "rfm[\"Monetary_quantile\"] = pd.qcut(rfm[\"Monetary\"].rank(method=\"first\"), 4, ['4','3','2','1'])\n",
    "rfm.head()"
   ]
  },
  {
   "cell_type": "markdown",
   "metadata": {
    "id": "0JqtBpbUMK2L"
   },
   "source": [
    "RFM Result Calculation:\n",
    "\n",
    "Combining all three quartiles(r_quartile,f_quartile,m_quartile) to a single column, to segment the customers"
   ]
  },
  {
   "cell_type": "code",
   "execution_count": 64,
   "metadata": {
    "id": "TFnNwaM9MK2L"
   },
   "outputs": [],
   "source": [
    "rfm[\"RFM score\"] = rfm[['Recency_quatile', 'Frequency_quatile', 'Monetary_quantile']].\\\n",
    "                    apply(lambda x: str(x[0])+str(x[1])+str(x[2]),axis=1)"
   ]
  },
  {
   "cell_type": "code",
   "execution_count": 65,
   "metadata": {
    "colab": {
     "base_uri": "https://localhost:8080/",
     "height": 418
    },
    "id": "DlyWbvYtMK2L",
    "outputId": "9388bef4-dd12-4d6b-cf60-ad0ff84f9268"
   },
   "outputs": [
    {
     "data": {
      "text/html": [
       "<div>\n",
       "<style scoped>\n",
       "    .dataframe tbody tr th:only-of-type {\n",
       "        vertical-align: middle;\n",
       "    }\n",
       "\n",
       "    .dataframe tbody tr th {\n",
       "        vertical-align: top;\n",
       "    }\n",
       "\n",
       "    .dataframe thead th {\n",
       "        text-align: right;\n",
       "    }\n",
       "</style>\n",
       "<table border=\"1\" class=\"dataframe\">\n",
       "  <thead>\n",
       "    <tr style=\"text-align: right;\">\n",
       "      <th></th>\n",
       "      <th>Recency</th>\n",
       "      <th>Frequency</th>\n",
       "      <th>Monetary</th>\n",
       "      <th>Recency_quatile</th>\n",
       "      <th>Frequency_quatile</th>\n",
       "      <th>Monetary_quantile</th>\n",
       "      <th>RFM score</th>\n",
       "    </tr>\n",
       "    <tr>\n",
       "      <th>Customer ID</th>\n",
       "      <th></th>\n",
       "      <th></th>\n",
       "      <th></th>\n",
       "      <th></th>\n",
       "      <th></th>\n",
       "      <th></th>\n",
       "      <th></th>\n",
       "    </tr>\n",
       "  </thead>\n",
       "  <tbody>\n",
       "    <tr>\n",
       "      <th>AA-10315102</th>\n",
       "      <td>358</td>\n",
       "      <td>6</td>\n",
       "      <td>544.656</td>\n",
       "      <td>2</td>\n",
       "      <td>1</td>\n",
       "      <td>2</td>\n",
       "      <td>212</td>\n",
       "    </tr>\n",
       "    <tr>\n",
       "      <th>AA-10315120</th>\n",
       "      <td>959</td>\n",
       "      <td>1</td>\n",
       "      <td>2713.410</td>\n",
       "      <td>4</td>\n",
       "      <td>4</td>\n",
       "      <td>1</td>\n",
       "      <td>441</td>\n",
       "    </tr>\n",
       "    <tr>\n",
       "      <th>AA-10315139</th>\n",
       "      <td>149</td>\n",
       "      <td>13</td>\n",
       "      <td>2955.798</td>\n",
       "      <td>2</td>\n",
       "      <td>1</td>\n",
       "      <td>1</td>\n",
       "      <td>211</td>\n",
       "    </tr>\n",
       "    <tr>\n",
       "      <th>AA-103151402</th>\n",
       "      <td>184</td>\n",
       "      <td>6</td>\n",
       "      <td>4780.552</td>\n",
       "      <td>2</td>\n",
       "      <td>1</td>\n",
       "      <td>1</td>\n",
       "      <td>211</td>\n",
       "    </tr>\n",
       "    <tr>\n",
       "      <th>AA-103151404</th>\n",
       "      <td>818</td>\n",
       "      <td>3</td>\n",
       "      <td>753.508</td>\n",
       "      <td>4</td>\n",
       "      <td>2</td>\n",
       "      <td>2</td>\n",
       "      <td>422</td>\n",
       "    </tr>\n",
       "  </tbody>\n",
       "</table>\n",
       "</div>"
      ],
      "text/plain": [
       "              Recency  Frequency  Monetary Recency_quatile Frequency_quatile  \\\n",
       "Customer ID                                                                    \n",
       "AA-10315102       358          6   544.656               2                 1   \n",
       "AA-10315120       959          1  2713.410               4                 4   \n",
       "AA-10315139       149         13  2955.798               2                 1   \n",
       "AA-103151402      184          6  4780.552               2                 1   \n",
       "AA-103151404      818          3   753.508               4                 2   \n",
       "\n",
       "             Monetary_quantile RFM score  \n",
       "Customer ID                               \n",
       "AA-10315102                  2       212  \n",
       "AA-10315120                  1       441  \n",
       "AA-10315139                  1       211  \n",
       "AA-103151402                 1       211  \n",
       "AA-103151404                 2       422  "
      ]
     },
     "execution_count": 65,
     "metadata": {},
     "output_type": "execute_result"
    }
   ],
   "source": [
    "rfm.head()"
   ]
  },
  {
   "cell_type": "code",
   "execution_count": 66,
   "metadata": {
    "colab": {
     "base_uri": "https://localhost:8080/",
     "height": 718
    },
    "id": "mOwyFwsOMK2M",
    "outputId": "bdc3d415-c07c-4cca-bac6-be1a7e65b70f"
   },
   "outputs": [
    {
     "data": {
      "text/html": [
       "<div>\n",
       "<style scoped>\n",
       "    .dataframe tbody tr th:only-of-type {\n",
       "        vertical-align: middle;\n",
       "    }\n",
       "\n",
       "    .dataframe tbody tr th {\n",
       "        vertical-align: top;\n",
       "    }\n",
       "\n",
       "    .dataframe thead th {\n",
       "        text-align: right;\n",
       "    }\n",
       "</style>\n",
       "<table border=\"1\" class=\"dataframe\">\n",
       "  <thead>\n",
       "    <tr style=\"text-align: right;\">\n",
       "      <th></th>\n",
       "      <th>Recency</th>\n",
       "      <th>Frequency</th>\n",
       "      <th>Monetary</th>\n",
       "      <th>Recency_quatile</th>\n",
       "      <th>Frequency_quatile</th>\n",
       "      <th>Monetary_quantile</th>\n",
       "      <th>RFM score</th>\n",
       "    </tr>\n",
       "    <tr>\n",
       "      <th>Customer ID</th>\n",
       "      <th></th>\n",
       "      <th></th>\n",
       "      <th></th>\n",
       "      <th></th>\n",
       "      <th></th>\n",
       "      <th></th>\n",
       "      <th></th>\n",
       "    </tr>\n",
       "  </thead>\n",
       "  <tbody>\n",
       "    <tr>\n",
       "      <th>SM-203201408</th>\n",
       "      <td>79</td>\n",
       "      <td>8</td>\n",
       "      <td>23669.196</td>\n",
       "      <td>1</td>\n",
       "      <td>1</td>\n",
       "      <td>1</td>\n",
       "      <td>111</td>\n",
       "    </tr>\n",
       "    <tr>\n",
       "      <th>TA-213851406</th>\n",
       "      <td>69</td>\n",
       "      <td>5</td>\n",
       "      <td>13723.498</td>\n",
       "      <td>1</td>\n",
       "      <td>1</td>\n",
       "      <td>1</td>\n",
       "      <td>111</td>\n",
       "    </tr>\n",
       "    <tr>\n",
       "      <th>DP-131057</th>\n",
       "      <td>98</td>\n",
       "      <td>15</td>\n",
       "      <td>11864.139</td>\n",
       "      <td>1</td>\n",
       "      <td>1</td>\n",
       "      <td>1</td>\n",
       "      <td>111</td>\n",
       "    </tr>\n",
       "    <tr>\n",
       "      <th>FH-1436582</th>\n",
       "      <td>42</td>\n",
       "      <td>13</td>\n",
       "      <td>10880.180</td>\n",
       "      <td>1</td>\n",
       "      <td>1</td>\n",
       "      <td>1</td>\n",
       "      <td>111</td>\n",
       "    </tr>\n",
       "    <tr>\n",
       "      <th>VG-2180558</th>\n",
       "      <td>96</td>\n",
       "      <td>7</td>\n",
       "      <td>10058.040</td>\n",
       "      <td>1</td>\n",
       "      <td>1</td>\n",
       "      <td>1</td>\n",
       "      <td>111</td>\n",
       "    </tr>\n",
       "    <tr>\n",
       "      <th>...</th>\n",
       "      <td>...</td>\n",
       "      <td>...</td>\n",
       "      <td>...</td>\n",
       "      <td>...</td>\n",
       "      <td>...</td>\n",
       "      <td>...</td>\n",
       "      <td>...</td>\n",
       "    </tr>\n",
       "    <tr>\n",
       "      <th>TH-211151406</th>\n",
       "      <td>58</td>\n",
       "      <td>6</td>\n",
       "      <td>915.584</td>\n",
       "      <td>1</td>\n",
       "      <td>1</td>\n",
       "      <td>1</td>\n",
       "      <td>111</td>\n",
       "    </tr>\n",
       "    <tr>\n",
       "      <th>KA-165251406</th>\n",
       "      <td>36</td>\n",
       "      <td>6</td>\n",
       "      <td>914.578</td>\n",
       "      <td>1</td>\n",
       "      <td>1</td>\n",
       "      <td>1</td>\n",
       "      <td>111</td>\n",
       "    </tr>\n",
       "    <tr>\n",
       "      <th>GM-1468054</th>\n",
       "      <td>127</td>\n",
       "      <td>5</td>\n",
       "      <td>914.052</td>\n",
       "      <td>1</td>\n",
       "      <td>1</td>\n",
       "      <td>1</td>\n",
       "      <td>111</td>\n",
       "    </tr>\n",
       "    <tr>\n",
       "      <th>CS-12460139</th>\n",
       "      <td>121</td>\n",
       "      <td>5</td>\n",
       "      <td>913.398</td>\n",
       "      <td>1</td>\n",
       "      <td>1</td>\n",
       "      <td>1</td>\n",
       "      <td>111</td>\n",
       "    </tr>\n",
       "    <tr>\n",
       "      <th>CS-124001404</th>\n",
       "      <td>106</td>\n",
       "      <td>5</td>\n",
       "      <td>913.264</td>\n",
       "      <td>1</td>\n",
       "      <td>1</td>\n",
       "      <td>1</td>\n",
       "      <td>111</td>\n",
       "    </tr>\n",
       "  </tbody>\n",
       "</table>\n",
       "<p>1012 rows × 7 columns</p>\n",
       "</div>"
      ],
      "text/plain": [
       "              Recency  Frequency   Monetary Recency_quatile Frequency_quatile  \\\n",
       "Customer ID                                                                     \n",
       "SM-203201408       79          8  23669.196               1                 1   \n",
       "TA-213851406       69          5  13723.498               1                 1   \n",
       "DP-131057          98         15  11864.139               1                 1   \n",
       "FH-1436582         42         13  10880.180               1                 1   \n",
       "VG-2180558         96          7  10058.040               1                 1   \n",
       "...               ...        ...        ...             ...               ...   \n",
       "TH-211151406       58          6    915.584               1                 1   \n",
       "KA-165251406       36          6    914.578               1                 1   \n",
       "GM-1468054        127          5    914.052               1                 1   \n",
       "CS-12460139       121          5    913.398               1                 1   \n",
       "CS-124001404      106          5    913.264               1                 1   \n",
       "\n",
       "             Monetary_quantile RFM score  \n",
       "Customer ID                               \n",
       "SM-203201408                 1       111  \n",
       "TA-213851406                 1       111  \n",
       "DP-131057                    1       111  \n",
       "FH-1436582                   1       111  \n",
       "VG-2180558                   1       111  \n",
       "...                        ...       ...  \n",
       "TH-211151406                 1       111  \n",
       "KA-165251406                 1       111  \n",
       "GM-1468054                   1       111  \n",
       "CS-12460139                  1       111  \n",
       "CS-124001404                 1       111  \n",
       "\n",
       "[1012 rows x 7 columns]"
      ]
     },
     "execution_count": 66,
     "metadata": {},
     "output_type": "execute_result"
    }
   ],
   "source": [
    "# Identifing the top customers\n",
    "\n",
    "rfm[rfm[\"RFM score\"] == '111'].sort_values(\"Monetary\",ascending=False)"
   ]
  },
  {
   "cell_type": "markdown",
   "metadata": {
    "id": "y7J2z6wtMK2M"
   },
   "source": [
    "The top customer based on RFM analysis is 'SM-203201408'"
   ]
  },
  {
   "cell_type": "code",
   "execution_count": null,
   "metadata": {
    "id": "5RwCURT7MK2M"
   },
   "outputs": [],
   "source": []
  },
  {
   "cell_type": "markdown",
   "metadata": {
    "id": "pPGleR6FMK2M"
   },
   "source": [
    "### Using unsupervised learning - clustering based on each of RFM values\n"
   ]
  },
  {
   "cell_type": "code",
   "execution_count": 67,
   "metadata": {
    "colab": {
     "base_uri": "https://localhost:8080/",
     "height": 235
    },
    "id": "C-1GEPonMK2M",
    "outputId": "0c651194-d67b-4c32-a21a-7fdce9e8eec1"
   },
   "outputs": [
    {
     "data": {
      "text/html": [
       "<div>\n",
       "<style scoped>\n",
       "    .dataframe tbody tr th:only-of-type {\n",
       "        vertical-align: middle;\n",
       "    }\n",
       "\n",
       "    .dataframe tbody tr th {\n",
       "        vertical-align: top;\n",
       "    }\n",
       "\n",
       "    .dataframe thead th {\n",
       "        text-align: right;\n",
       "    }\n",
       "</style>\n",
       "<table border=\"1\" class=\"dataframe\">\n",
       "  <thead>\n",
       "    <tr style=\"text-align: right;\">\n",
       "      <th></th>\n",
       "      <th>Recency</th>\n",
       "      <th>Frequency</th>\n",
       "      <th>Monetary</th>\n",
       "    </tr>\n",
       "    <tr>\n",
       "      <th>Customer ID</th>\n",
       "      <th></th>\n",
       "      <th></th>\n",
       "      <th></th>\n",
       "    </tr>\n",
       "  </thead>\n",
       "  <tbody>\n",
       "    <tr>\n",
       "      <th>AA-10315102</th>\n",
       "      <td>358</td>\n",
       "      <td>6</td>\n",
       "      <td>544.656</td>\n",
       "    </tr>\n",
       "    <tr>\n",
       "      <th>AA-10315120</th>\n",
       "      <td>959</td>\n",
       "      <td>1</td>\n",
       "      <td>2713.410</td>\n",
       "    </tr>\n",
       "    <tr>\n",
       "      <th>AA-10315139</th>\n",
       "      <td>149</td>\n",
       "      <td>13</td>\n",
       "      <td>2955.798</td>\n",
       "    </tr>\n",
       "    <tr>\n",
       "      <th>AA-103151402</th>\n",
       "      <td>184</td>\n",
       "      <td>6</td>\n",
       "      <td>4780.552</td>\n",
       "    </tr>\n",
       "    <tr>\n",
       "      <th>AA-103151404</th>\n",
       "      <td>818</td>\n",
       "      <td>3</td>\n",
       "      <td>753.508</td>\n",
       "    </tr>\n",
       "  </tbody>\n",
       "</table>\n",
       "</div>"
      ],
      "text/plain": [
       "              Recency  Frequency  Monetary\n",
       "Customer ID                               \n",
       "AA-10315102       358          6   544.656\n",
       "AA-10315120       959          1  2713.410\n",
       "AA-10315139       149         13  2955.798\n",
       "AA-103151402      184          6  4780.552\n",
       "AA-103151404      818          3   753.508"
      ]
     },
     "execution_count": 67,
     "metadata": {},
     "output_type": "execute_result"
    }
   ],
   "source": [
    "rfm_clustering = rfm[['Recency','Frequency', 'Monetary']].copy()\n",
    "rfm_clustering.head()"
   ]
  },
  {
   "cell_type": "code",
   "execution_count": 68,
   "metadata": {
    "colab": {
     "base_uri": "https://localhost:8080/",
     "height": 419
    },
    "id": "DcJ7UQ6zMK2M",
    "outputId": "373d96f0-46ab-436a-ae5a-2f02c7e50ab6"
   },
   "outputs": [
    {
     "data": {
      "text/html": [
       "<div>\n",
       "<style scoped>\n",
       "    .dataframe tbody tr th:only-of-type {\n",
       "        vertical-align: middle;\n",
       "    }\n",
       "\n",
       "    .dataframe tbody tr th {\n",
       "        vertical-align: top;\n",
       "    }\n",
       "\n",
       "    .dataframe thead th {\n",
       "        text-align: right;\n",
       "    }\n",
       "</style>\n",
       "<table border=\"1\" class=\"dataframe\">\n",
       "  <thead>\n",
       "    <tr style=\"text-align: right;\">\n",
       "      <th></th>\n",
       "      <th>Customer ID</th>\n",
       "      <th>Recency</th>\n",
       "      <th>Frequency</th>\n",
       "      <th>Monetary</th>\n",
       "    </tr>\n",
       "  </thead>\n",
       "  <tbody>\n",
       "    <tr>\n",
       "      <th>0</th>\n",
       "      <td>AA-10315102</td>\n",
       "      <td>358</td>\n",
       "      <td>6</td>\n",
       "      <td>544.6560</td>\n",
       "    </tr>\n",
       "    <tr>\n",
       "      <th>1</th>\n",
       "      <td>AA-10315120</td>\n",
       "      <td>959</td>\n",
       "      <td>1</td>\n",
       "      <td>2713.4100</td>\n",
       "    </tr>\n",
       "    <tr>\n",
       "      <th>2</th>\n",
       "      <td>AA-10315139</td>\n",
       "      <td>149</td>\n",
       "      <td>13</td>\n",
       "      <td>2955.7980</td>\n",
       "    </tr>\n",
       "    <tr>\n",
       "      <th>3</th>\n",
       "      <td>AA-103151402</td>\n",
       "      <td>184</td>\n",
       "      <td>6</td>\n",
       "      <td>4780.5520</td>\n",
       "    </tr>\n",
       "    <tr>\n",
       "      <th>4</th>\n",
       "      <td>AA-103151404</td>\n",
       "      <td>818</td>\n",
       "      <td>3</td>\n",
       "      <td>753.5080</td>\n",
       "    </tr>\n",
       "    <tr>\n",
       "      <th>...</th>\n",
       "      <td>...</td>\n",
       "      <td>...</td>\n",
       "      <td>...</td>\n",
       "      <td>...</td>\n",
       "    </tr>\n",
       "    <tr>\n",
       "      <th>17410</th>\n",
       "      <td>ZD-2192548</td>\n",
       "      <td>750</td>\n",
       "      <td>4</td>\n",
       "      <td>1302.1680</td>\n",
       "    </tr>\n",
       "    <tr>\n",
       "      <th>17411</th>\n",
       "      <td>ZD-2192564</td>\n",
       "      <td>1409</td>\n",
       "      <td>4</td>\n",
       "      <td>1225.3920</td>\n",
       "    </tr>\n",
       "    <tr>\n",
       "      <th>17412</th>\n",
       "      <td>ZD-219257</td>\n",
       "      <td>1198</td>\n",
       "      <td>1</td>\n",
       "      <td>59.9400</td>\n",
       "    </tr>\n",
       "    <tr>\n",
       "      <th>17413</th>\n",
       "      <td>ZD-2192582</td>\n",
       "      <td>196</td>\n",
       "      <td>2</td>\n",
       "      <td>678.1014</td>\n",
       "    </tr>\n",
       "    <tr>\n",
       "      <th>17414</th>\n",
       "      <td>ZD-2192596</td>\n",
       "      <td>749</td>\n",
       "      <td>2</td>\n",
       "      <td>269.3100</td>\n",
       "    </tr>\n",
       "  </tbody>\n",
       "</table>\n",
       "<p>17415 rows × 4 columns</p>\n",
       "</div>"
      ],
      "text/plain": [
       "        Customer ID  Recency  Frequency   Monetary\n",
       "0       AA-10315102      358          6   544.6560\n",
       "1       AA-10315120      959          1  2713.4100\n",
       "2       AA-10315139      149         13  2955.7980\n",
       "3      AA-103151402      184          6  4780.5520\n",
       "4      AA-103151404      818          3   753.5080\n",
       "...             ...      ...        ...        ...\n",
       "17410    ZD-2192548      750          4  1302.1680\n",
       "17411    ZD-2192564     1409          4  1225.3920\n",
       "17412     ZD-219257     1198          1    59.9400\n",
       "17413    ZD-2192582      196          2   678.1014\n",
       "17414    ZD-2192596      749          2   269.3100\n",
       "\n",
       "[17415 rows x 4 columns]"
      ]
     },
     "execution_count": 68,
     "metadata": {},
     "output_type": "execute_result"
    }
   ],
   "source": [
    "rfm_clustering = rfm_clustering.reset_index()\n",
    "rfm_clustering"
   ]
  },
  {
   "cell_type": "markdown",
   "metadata": {
    "id": "6ol4w3ErMK2N"
   },
   "source": [
    "In order to perform k means clustering, scaling the data to avoid influence of scale during cluster identification"
   ]
  },
  {
   "cell_type": "code",
   "execution_count": null,
   "metadata": {
    "id": "mHu1u6J_MK2N"
   },
   "outputs": [],
   "source": []
  },
  {
   "cell_type": "code",
   "execution_count": 69,
   "metadata": {
    "colab": {
     "base_uri": "https://localhost:8080/",
     "height": 295
    },
    "id": "u0HnNXQNMK2N",
    "outputId": "982ae651-9fcc-4624-946b-49183b8a8fe9"
   },
   "outputs": [
    {
     "data": {
      "image/png": "[encoded data removed]",
      "text/plain": [
       "<Figure size 432x288 with 1 Axes>"
      ]
     },
     "metadata": {
      "needs_background": "light"
     },
     "output_type": "display_data"
    }
   ],
   "source": [
    "sns.boxplot(x = rfm_clustering[\"Recency\"])\n",
    "plt.title(\"Box plot of Recency\")\n",
    "plt.show()"
   ]
  },
  {
   "cell_type": "code",
   "execution_count": 70,
   "metadata": {
    "colab": {
     "base_uri": "https://localhost:8080/",
     "height": 295
    },
    "id": "u-3g_RycMK2N",
    "outputId": "55538245-5b7d-41ff-8773-3cd1e179ee40"
   },
   "outputs": [
    {
     "data": {
      "image/png": "[encoded data removed]",
      "text/plain": [
       "<Figure size 432x288 with 1 Axes>"
      ]
     },
     "metadata": {
      "needs_background": "light"
     },
     "output_type": "display_data"
    }
   ],
   "source": [
    "sns.boxplot(x = rfm_clustering[\"Frequency\"])\n",
    "plt.title(\"Box plot of Frequency\")\n",
    "plt.show()"
   ]
  },
  {
   "cell_type": "code",
   "execution_count": 71,
   "metadata": {
    "colab": {
     "base_uri": "https://localhost:8080/"
    },
    "id": "m_3Q7RZrMK2N",
    "outputId": "681cbfda-527f-4580-e9de-14a2c14fd743"
   },
   "outputs": [
    {
     "data": {
      "text/plain": [
       "(971, 4)"
      ]
     },
     "execution_count": 71,
     "metadata": {},
     "output_type": "execute_result"
    }
   ],
   "source": [
    "rfm_clustering[rfm_clustering[\"Frequency\"]>7].shape"
   ]
  },
  {
   "cell_type": "code",
   "execution_count": 72,
   "metadata": {
    "colab": {
     "base_uri": "https://localhost:8080/",
     "height": 295
    },
    "id": "b_onEgFvMK2N",
    "outputId": "ff1f61c8-c17d-44de-977f-e8e4553ff612"
   },
   "outputs": [
    {
     "data": {
      "image/png": "[encoded data removed]",
      "text/plain": [
       "<Figure size 432x288 with 1 Axes>"
      ]
     },
     "metadata": {
      "needs_background": "light"
     },
     "output_type": "display_data"
    }
   ],
   "source": [
    "sns.boxplot(x = rfm_clustering[\"Monetary\"])\n",
    "plt.title(\"Box plot of Monetary value\")\n",
    "plt.show()"
   ]
  },
  {
   "cell_type": "code",
   "execution_count": 73,
   "metadata": {
    "colab": {
     "base_uri": "https://localhost:8080/"
    },
    "id": "3YZBvn3NMK2O",
    "outputId": "ecdf7cef-7dab-4ba5-fb38-6f70ca18d9a7"
   },
   "outputs": [
    {
     "data": {
      "text/plain": [
       "(1088, 4)"
      ]
     },
     "execution_count": 73,
     "metadata": {},
     "output_type": "execute_result"
    }
   ],
   "source": [
    "rfm_clustering[rfm_clustering[\"Monetary\"]>2500].shape"
   ]
  },
  {
   "cell_type": "markdown",
   "metadata": {
    "id": "MPbLJ96BMK2O"
   },
   "source": [
    "As the box plot indicates, outliers in Frequency and Monetary values, of all the available scaling techniques, using the RobustScalar as the scaling happens based on percentiles and is not influenced by the few marginal outleirs in the data."
   ]
  },
  {
   "cell_type": "code",
   "execution_count": 74,
   "metadata": {
    "id": "5sH7daM2MK2O"
   },
   "outputs": [],
   "source": [
    "from sklearn.preprocessing import RobustScaler"
   ]
  },
  {
   "cell_type": "code",
   "execution_count": 75,
   "metadata": {
    "id": "F6i_4EiMMK2O"
   },
   "outputs": [],
   "source": [
    "rscaler = RobustScaler()"
   ]
  },
  {
   "cell_type": "code",
   "execution_count": 76,
   "metadata": {
    "id": "tHOiFY2zMK2O"
   },
   "outputs": [],
   "source": [
    "rfm_clustering[\"Recency_norm\"] = rscaler.fit_transform(rfm_clustering[[\"Recency\"]])"
   ]
  },
  {
   "cell_type": "code",
   "execution_count": 77,
   "metadata": {
    "id": "o8wEF879MK2P"
   },
   "outputs": [],
   "source": [
    "rfm_clustering[\"Frequency_norm\"] = rscaler.fit_transform(rfm_clustering[[\"Frequency\"]])\n",
    "rfm_clustering[\"Monetary_norm\"] = rscaler.fit_transform(rfm_clustering[[\"Monetary\"]])"
   ]
  },
  {
   "cell_type": "code",
   "execution_count": 78,
   "metadata": {
    "colab": {
     "base_uri": "https://localhost:8080/",
     "height": 248
    },
    "id": "tgwpWSkVMK2P",
    "outputId": "85ca6e26-1199-4f32-f1e0-e45d13038e7a"
   },
   "outputs": [
    {
     "data": {
      "text/html": [
       "<div>\n",
       "<style scoped>\n",
       "    .dataframe tbody tr th:only-of-type {\n",
       "        vertical-align: middle;\n",
       "    }\n",
       "\n",
       "    .dataframe tbody tr th {\n",
       "        vertical-align: top;\n",
       "    }\n",
       "\n",
       "    .dataframe thead th {\n",
       "        text-align: right;\n",
       "    }\n",
       "</style>\n",
       "<table border=\"1\" class=\"dataframe\">\n",
       "  <thead>\n",
       "    <tr style=\"text-align: right;\">\n",
       "      <th></th>\n",
       "      <th>Customer ID</th>\n",
       "      <th>Recency</th>\n",
       "      <th>Frequency</th>\n",
       "      <th>Monetary</th>\n",
       "      <th>Recency_norm</th>\n",
       "      <th>Frequency_norm</th>\n",
       "      <th>Monetary_norm</th>\n",
       "    </tr>\n",
       "  </thead>\n",
       "  <tbody>\n",
       "    <tr>\n",
       "      <th>0</th>\n",
       "      <td>AA-10315102</td>\n",
       "      <td>358</td>\n",
       "      <td>6</td>\n",
       "      <td>544.656</td>\n",
       "      <td>-0.096183</td>\n",
       "      <td>1.333333</td>\n",
       "      <td>0.267231</td>\n",
       "    </tr>\n",
       "    <tr>\n",
       "      <th>1</th>\n",
       "      <td>AA-10315120</td>\n",
       "      <td>959</td>\n",
       "      <td>1</td>\n",
       "      <td>2713.410</td>\n",
       "      <td>0.821374</td>\n",
       "      <td>-0.333333</td>\n",
       "      <td>2.929883</td>\n",
       "    </tr>\n",
       "    <tr>\n",
       "      <th>2</th>\n",
       "      <td>AA-10315139</td>\n",
       "      <td>149</td>\n",
       "      <td>13</td>\n",
       "      <td>2955.798</td>\n",
       "      <td>-0.415267</td>\n",
       "      <td>3.666667</td>\n",
       "      <td>3.227471</td>\n",
       "    </tr>\n",
       "    <tr>\n",
       "      <th>3</th>\n",
       "      <td>AA-103151402</td>\n",
       "      <td>184</td>\n",
       "      <td>6</td>\n",
       "      <td>4780.552</td>\n",
       "      <td>-0.361832</td>\n",
       "      <td>1.333333</td>\n",
       "      <td>5.467782</td>\n",
       "    </tr>\n",
       "    <tr>\n",
       "      <th>4</th>\n",
       "      <td>AA-103151404</td>\n",
       "      <td>818</td>\n",
       "      <td>3</td>\n",
       "      <td>753.508</td>\n",
       "      <td>0.606107</td>\n",
       "      <td>0.333333</td>\n",
       "      <td>0.523646</td>\n",
       "    </tr>\n",
       "  </tbody>\n",
       "</table>\n",
       "</div>"
      ],
      "text/plain": [
       "    Customer ID  Recency  Frequency  Monetary  Recency_norm  Frequency_norm  \\\n",
       "0   AA-10315102      358          6   544.656     -0.096183        1.333333   \n",
       "1   AA-10315120      959          1  2713.410      0.821374       -0.333333   \n",
       "2   AA-10315139      149         13  2955.798     -0.415267        3.666667   \n",
       "3  AA-103151402      184          6  4780.552     -0.361832        1.333333   \n",
       "4  AA-103151404      818          3   753.508      0.606107        0.333333   \n",
       "\n",
       "   Monetary_norm  \n",
       "0       0.267231  \n",
       "1       2.929883  \n",
       "2       3.227471  \n",
       "3       5.467782  \n",
       "4       0.523646  "
      ]
     },
     "execution_count": 78,
     "metadata": {},
     "output_type": "execute_result"
    }
   ],
   "source": [
    "rfm_clustering.head()"
   ]
  },
  {
   "cell_type": "code",
   "execution_count": 79,
   "metadata": {
    "colab": {
     "base_uri": "https://localhost:8080/",
     "height": 297
    },
    "id": "1JTAVdufMK2P",
    "outputId": "da4916a6-421c-490c-d9eb-cc0f98088687"
   },
   "outputs": [
    {
     "data": {
      "text/html": [
       "<div>\n",
       "<style scoped>\n",
       "    .dataframe tbody tr th:only-of-type {\n",
       "        vertical-align: middle;\n",
       "    }\n",
       "\n",
       "    .dataframe tbody tr th {\n",
       "        vertical-align: top;\n",
       "    }\n",
       "\n",
       "    .dataframe thead th {\n",
       "        text-align: right;\n",
       "    }\n",
       "</style>\n",
       "<table border=\"1\" class=\"dataframe\">\n",
       "  <thead>\n",
       "    <tr style=\"text-align: right;\">\n",
       "      <th></th>\n",
       "      <th>Recency_norm</th>\n",
       "      <th>Frequency_norm</th>\n",
       "      <th>Monetary_norm</th>\n",
       "    </tr>\n",
       "  </thead>\n",
       "  <tbody>\n",
       "    <tr>\n",
       "      <th>count</th>\n",
       "      <td>17415.000000</td>\n",
       "      <td>17415.000000</td>\n",
       "      <td>17415.000000</td>\n",
       "    </tr>\n",
       "    <tr>\n",
       "      <th>mean</th>\n",
       "      <td>0.131432</td>\n",
       "      <td>0.315054</td>\n",
       "      <td>0.489817</td>\n",
       "    </tr>\n",
       "    <tr>\n",
       "      <th>std</th>\n",
       "      <td>0.611632</td>\n",
       "      <td>0.799824</td>\n",
       "      <td>1.307231</td>\n",
       "    </tr>\n",
       "    <tr>\n",
       "      <th>min</th>\n",
       "      <td>-0.642748</td>\n",
       "      <td>-0.333333</td>\n",
       "      <td>-0.400779</td>\n",
       "    </tr>\n",
       "    <tr>\n",
       "      <th>25%</th>\n",
       "      <td>-0.416794</td>\n",
       "      <td>-0.333333</td>\n",
       "      <td>-0.280720</td>\n",
       "    </tr>\n",
       "    <tr>\n",
       "      <th>50%</th>\n",
       "      <td>0.000000</td>\n",
       "      <td>0.000000</td>\n",
       "      <td>0.000000</td>\n",
       "    </tr>\n",
       "    <tr>\n",
       "      <th>75%</th>\n",
       "      <td>0.583206</td>\n",
       "      <td>0.666667</td>\n",
       "      <td>0.719280</td>\n",
       "    </tr>\n",
       "    <tr>\n",
       "      <th>max</th>\n",
       "      <td>1.586260</td>\n",
       "      <td>8.000000</td>\n",
       "      <td>28.658004</td>\n",
       "    </tr>\n",
       "  </tbody>\n",
       "</table>\n",
       "</div>"
      ],
      "text/plain": [
       "       Recency_norm  Frequency_norm  Monetary_norm\n",
       "count  17415.000000    17415.000000   17415.000000\n",
       "mean       0.131432        0.315054       0.489817\n",
       "std        0.611632        0.799824       1.307231\n",
       "min       -0.642748       -0.333333      -0.400779\n",
       "25%       -0.416794       -0.333333      -0.280720\n",
       "50%        0.000000        0.000000       0.000000\n",
       "75%        0.583206        0.666667       0.719280\n",
       "max        1.586260        8.000000      28.658004"
      ]
     },
     "execution_count": 79,
     "metadata": {},
     "output_type": "execute_result"
    }
   ],
   "source": [
    "rfm_clustering[['Recency_norm', 'Frequency_norm', 'Monetary_norm']].describe()"
   ]
  },
  {
   "cell_type": "code",
   "execution_count": 80,
   "metadata": {
    "id": "tXt_eIZYMK2P"
   },
   "outputs": [],
   "source": [
    "from sklearn.cluster import KMeans"
   ]
  },
  {
   "cell_type": "code",
   "execution_count": 81,
   "metadata": {
    "colab": {
     "base_uri": "https://localhost:8080/",
     "height": 295
    },
    "id": "3IG90CwPMK2P",
    "outputId": "f8d989d0-3c2d-456b-bde4-43ca55d12c8c"
   },
   "outputs": [
    {
     "data": {
      "image/png": "[encoded data removed]",
      "text/plain": [
       "<Figure size 432x288 with 1 Axes>"
      ]
     },
     "metadata": {
      "needs_background": "light"
     },
     "output_type": "display_data"
    }
   ],
   "source": [
    "sse={}\n",
    "recency = rfm_clustering[['Recency_norm']].copy()\n",
    "for k in range(1, 10):\n",
    "    kmeans = KMeans(n_clusters=k, max_iter=1000).fit(recency)\n",
    "    recency[\"clusters\"] = kmeans.labels_\n",
    "    sse[k] = kmeans.inertia_ \n",
    "plt.figure()\n",
    "plt.plot(list(sse.keys()), list(sse.values()))\n",
    "plt.title(\"Elbow plot of recency KMeans clustering\")\n",
    "plt.xlabel(\"Number of cluster\")\n",
    "plt.show()"
   ]
  },
  {
   "cell_type": "code",
   "execution_count": 82,
   "metadata": {
    "id": "2MYcZmYGMK2Q"
   },
   "outputs": [],
   "source": [
    "kmeans = KMeans(n_clusters=4)\n",
    "kmeans.fit(recency[['Recency_norm']])\n",
    "rfm_clustering['RecencyCluster'] = kmeans.predict(rfm_clustering[['Recency_norm']])"
   ]
  },
  {
   "cell_type": "code",
   "execution_count": 83,
   "metadata": {
    "colab": {
     "base_uri": "https://localhost:8080/",
     "height": 653
    },
    "id": "Pk9msm1WMK2Q",
    "outputId": "53a75b99-65d0-4ac2-a88c-e372a1e57a31"
   },
   "outputs": [
    {
     "data": {
      "text/html": [
       "<div>\n",
       "<style scoped>\n",
       "    .dataframe tbody tr th:only-of-type {\n",
       "        vertical-align: middle;\n",
       "    }\n",
       "\n",
       "    .dataframe tbody tr th {\n",
       "        vertical-align: top;\n",
       "    }\n",
       "\n",
       "    .dataframe thead th {\n",
       "        text-align: right;\n",
       "    }\n",
       "</style>\n",
       "<table border=\"1\" class=\"dataframe\">\n",
       "  <thead>\n",
       "    <tr style=\"text-align: right;\">\n",
       "      <th></th>\n",
       "      <th>Customer ID</th>\n",
       "      <th>Recency</th>\n",
       "      <th>Frequency</th>\n",
       "      <th>Monetary</th>\n",
       "      <th>Recency_norm</th>\n",
       "      <th>Frequency_norm</th>\n",
       "      <th>Monetary_norm</th>\n",
       "      <th>RecencyCluster</th>\n",
       "    </tr>\n",
       "  </thead>\n",
       "  <tbody>\n",
       "    <tr>\n",
       "      <th>0</th>\n",
       "      <td>AA-10315102</td>\n",
       "      <td>358</td>\n",
       "      <td>6</td>\n",
       "      <td>544.6560</td>\n",
       "      <td>-0.096183</td>\n",
       "      <td>1.333333</td>\n",
       "      <td>0.267231</td>\n",
       "      <td>2</td>\n",
       "    </tr>\n",
       "    <tr>\n",
       "      <th>1</th>\n",
       "      <td>AA-10315120</td>\n",
       "      <td>959</td>\n",
       "      <td>1</td>\n",
       "      <td>2713.4100</td>\n",
       "      <td>0.821374</td>\n",
       "      <td>-0.333333</td>\n",
       "      <td>2.929883</td>\n",
       "      <td>3</td>\n",
       "    </tr>\n",
       "    <tr>\n",
       "      <th>2</th>\n",
       "      <td>AA-10315139</td>\n",
       "      <td>149</td>\n",
       "      <td>13</td>\n",
       "      <td>2955.7980</td>\n",
       "      <td>-0.415267</td>\n",
       "      <td>3.666667</td>\n",
       "      <td>3.227471</td>\n",
       "      <td>1</td>\n",
       "    </tr>\n",
       "    <tr>\n",
       "      <th>3</th>\n",
       "      <td>AA-103151402</td>\n",
       "      <td>184</td>\n",
       "      <td>6</td>\n",
       "      <td>4780.5520</td>\n",
       "      <td>-0.361832</td>\n",
       "      <td>1.333333</td>\n",
       "      <td>5.467782</td>\n",
       "      <td>1</td>\n",
       "    </tr>\n",
       "    <tr>\n",
       "      <th>4</th>\n",
       "      <td>AA-103151404</td>\n",
       "      <td>818</td>\n",
       "      <td>3</td>\n",
       "      <td>753.5080</td>\n",
       "      <td>0.606107</td>\n",
       "      <td>0.333333</td>\n",
       "      <td>0.523646</td>\n",
       "      <td>3</td>\n",
       "    </tr>\n",
       "    <tr>\n",
       "      <th>...</th>\n",
       "      <td>...</td>\n",
       "      <td>...</td>\n",
       "      <td>...</td>\n",
       "      <td>...</td>\n",
       "      <td>...</td>\n",
       "      <td>...</td>\n",
       "      <td>...</td>\n",
       "      <td>...</td>\n",
       "    </tr>\n",
       "    <tr>\n",
       "      <th>17410</th>\n",
       "      <td>ZD-2192548</td>\n",
       "      <td>750</td>\n",
       "      <td>4</td>\n",
       "      <td>1302.1680</td>\n",
       "      <td>0.502290</td>\n",
       "      <td>0.666667</td>\n",
       "      <td>1.197254</td>\n",
       "      <td>3</td>\n",
       "    </tr>\n",
       "    <tr>\n",
       "      <th>17411</th>\n",
       "      <td>ZD-2192564</td>\n",
       "      <td>1409</td>\n",
       "      <td>4</td>\n",
       "      <td>1225.3920</td>\n",
       "      <td>1.508397</td>\n",
       "      <td>0.666667</td>\n",
       "      <td>1.102993</td>\n",
       "      <td>0</td>\n",
       "    </tr>\n",
       "    <tr>\n",
       "      <th>17412</th>\n",
       "      <td>ZD-219257</td>\n",
       "      <td>1198</td>\n",
       "      <td>1</td>\n",
       "      <td>59.9400</td>\n",
       "      <td>1.186260</td>\n",
       "      <td>-0.333333</td>\n",
       "      <td>-0.327871</td>\n",
       "      <td>0</td>\n",
       "    </tr>\n",
       "    <tr>\n",
       "      <th>17413</th>\n",
       "      <td>ZD-2192582</td>\n",
       "      <td>196</td>\n",
       "      <td>2</td>\n",
       "      <td>678.1014</td>\n",
       "      <td>-0.343511</td>\n",
       "      <td>0.000000</td>\n",
       "      <td>0.431066</td>\n",
       "      <td>1</td>\n",
       "    </tr>\n",
       "    <tr>\n",
       "      <th>17414</th>\n",
       "      <td>ZD-2192596</td>\n",
       "      <td>749</td>\n",
       "      <td>2</td>\n",
       "      <td>269.3100</td>\n",
       "      <td>0.500763</td>\n",
       "      <td>0.000000</td>\n",
       "      <td>-0.070821</td>\n",
       "      <td>3</td>\n",
       "    </tr>\n",
       "  </tbody>\n",
       "</table>\n",
       "<p>17415 rows × 8 columns</p>\n",
       "</div>"
      ],
      "text/plain": [
       "        Customer ID  Recency  Frequency   Monetary  Recency_norm  \\\n",
       "0       AA-10315102      358          6   544.6560     -0.096183   \n",
       "1       AA-10315120      959          1  2713.4100      0.821374   \n",
       "2       AA-10315139      149         13  2955.7980     -0.415267   \n",
       "3      AA-103151402      184          6  4780.5520     -0.361832   \n",
       "4      AA-103151404      818          3   753.5080      0.606107   \n",
       "...             ...      ...        ...        ...           ...   \n",
       "17410    ZD-2192548      750          4  1302.1680      0.502290   \n",
       "17411    ZD-2192564     1409          4  1225.3920      1.508397   \n",
       "17412     ZD-219257     1198          1    59.9400      1.186260   \n",
       "17413    ZD-2192582      196          2   678.1014     -0.343511   \n",
       "17414    ZD-2192596      749          2   269.3100      0.500763   \n",
       "\n",
       "       Frequency_norm  Monetary_norm  RecencyCluster  \n",
       "0            1.333333       0.267231               2  \n",
       "1           -0.333333       2.929883               3  \n",
       "2            3.666667       3.227471               1  \n",
       "3            1.333333       5.467782               1  \n",
       "4            0.333333       0.523646               3  \n",
       "...               ...            ...             ...  \n",
       "17410        0.666667       1.197254               3  \n",
       "17411        0.666667       1.102993               0  \n",
       "17412       -0.333333      -0.327871               0  \n",
       "17413        0.000000       0.431066               1  \n",
       "17414        0.000000      -0.070821               3  \n",
       "\n",
       "[17415 rows x 8 columns]"
      ]
     },
     "execution_count": 83,
     "metadata": {},
     "output_type": "execute_result"
    }
   ],
   "source": [
    "rfm_clustering"
   ]
  },
  {
   "cell_type": "code",
   "execution_count": 84,
   "metadata": {
    "id": "gPXvRHpuMK2Q"
   },
   "outputs": [],
   "source": [
    "def order_cluster(cluster_field, target_field,df,ascending):\n",
    "    \"\"\"\n",
    "    function to assign the label values based on a particular sorting order defined as a parameter\n",
    "    \n",
    "    cluster_field: Field/column name storing the cluster\n",
    "    target_field: Field storing the respective rfm actual values\n",
    "    df: dataframe\n",
    "    ascending: True/False\n",
    "    \n",
    "    \"\"\"\n",
    "    \n",
    "    df_new = df.groupby(cluster_field)[target_field].mean().reset_index()\n",
    "    df_new = df_new.sort_values(by=target_field,ascending=ascending).reset_index(drop=True)\n",
    "    df_new['index'] = df_new.index\n",
    "    df_final = pd.merge(df,df_new[[cluster_field,'index']], on=cluster_field)\n",
    "    df_final = df_final.drop([cluster_field],axis=1)\n",
    "    df_final = df_final.rename(columns={\"index\":cluster_field})\n",
    "    return df_final"
   ]
  },
  {
   "cell_type": "code",
   "execution_count": 85,
   "metadata": {
    "colab": {
     "base_uri": "https://localhost:8080/",
     "height": 653
    },
    "id": "LIhlS4qqMK2Q",
    "outputId": "f4ea65ed-6d8f-4c7b-9d85-55958c93fdf5"
   },
   "outputs": [
    {
     "data": {
      "text/html": [
       "<div>\n",
       "<style scoped>\n",
       "    .dataframe tbody tr th:only-of-type {\n",
       "        vertical-align: middle;\n",
       "    }\n",
       "\n",
       "    .dataframe tbody tr th {\n",
       "        vertical-align: top;\n",
       "    }\n",
       "\n",
       "    .dataframe thead th {\n",
       "        text-align: right;\n",
       "    }\n",
       "</style>\n",
       "<table border=\"1\" class=\"dataframe\">\n",
       "  <thead>\n",
       "    <tr style=\"text-align: right;\">\n",
       "      <th></th>\n",
       "      <th>Customer ID</th>\n",
       "      <th>Recency</th>\n",
       "      <th>Frequency</th>\n",
       "      <th>Monetary</th>\n",
       "      <th>Recency_norm</th>\n",
       "      <th>Frequency_norm</th>\n",
       "      <th>Monetary_norm</th>\n",
       "      <th>RecencyCluster</th>\n",
       "    </tr>\n",
       "  </thead>\n",
       "  <tbody>\n",
       "    <tr>\n",
       "      <th>0</th>\n",
       "      <td>AA-10315102</td>\n",
       "      <td>358</td>\n",
       "      <td>6</td>\n",
       "      <td>544.656</td>\n",
       "      <td>-0.096183</td>\n",
       "      <td>1.333333</td>\n",
       "      <td>0.267231</td>\n",
       "      <td>2</td>\n",
       "    </tr>\n",
       "    <tr>\n",
       "      <th>1</th>\n",
       "      <td>AA-1031548</td>\n",
       "      <td>511</td>\n",
       "      <td>1</td>\n",
       "      <td>68.148</td>\n",
       "      <td>0.137405</td>\n",
       "      <td>-0.333333</td>\n",
       "      <td>-0.317794</td>\n",
       "      <td>2</td>\n",
       "    </tr>\n",
       "    <tr>\n",
       "      <th>2</th>\n",
       "      <td>AA-10375101</td>\n",
       "      <td>551</td>\n",
       "      <td>4</td>\n",
       "      <td>243.486</td>\n",
       "      <td>0.198473</td>\n",
       "      <td>0.666667</td>\n",
       "      <td>-0.102526</td>\n",
       "      <td>2</td>\n",
       "    </tr>\n",
       "    <tr>\n",
       "      <th>3</th>\n",
       "      <td>AA-103751404</td>\n",
       "      <td>538</td>\n",
       "      <td>4</td>\n",
       "      <td>72.808</td>\n",
       "      <td>0.178626</td>\n",
       "      <td>0.666667</td>\n",
       "      <td>-0.312073</td>\n",
       "      <td>2</td>\n",
       "    </tr>\n",
       "    <tr>\n",
       "      <th>4</th>\n",
       "      <td>AA-103751408</td>\n",
       "      <td>411</td>\n",
       "      <td>4</td>\n",
       "      <td>598.480</td>\n",
       "      <td>-0.015267</td>\n",
       "      <td>0.666667</td>\n",
       "      <td>0.333312</td>\n",
       "      <td>2</td>\n",
       "    </tr>\n",
       "    <tr>\n",
       "      <th>...</th>\n",
       "      <td>...</td>\n",
       "      <td>...</td>\n",
       "      <td>...</td>\n",
       "      <td>...</td>\n",
       "      <td>...</td>\n",
       "      <td>...</td>\n",
       "      <td>...</td>\n",
       "      <td>...</td>\n",
       "    </tr>\n",
       "    <tr>\n",
       "      <th>17410</th>\n",
       "      <td>YS-2188044</td>\n",
       "      <td>1167</td>\n",
       "      <td>3</td>\n",
       "      <td>657.360</td>\n",
       "      <td>1.138931</td>\n",
       "      <td>0.333333</td>\n",
       "      <td>0.405601</td>\n",
       "      <td>0</td>\n",
       "    </tr>\n",
       "    <tr>\n",
       "      <th>17411</th>\n",
       "      <td>ZD-11925134</td>\n",
       "      <td>1028</td>\n",
       "      <td>1</td>\n",
       "      <td>13.560</td>\n",
       "      <td>0.926718</td>\n",
       "      <td>-0.333333</td>\n",
       "      <td>-0.384813</td>\n",
       "      <td>0</td>\n",
       "    </tr>\n",
       "    <tr>\n",
       "      <th>17412</th>\n",
       "      <td>ZD-1192583</td>\n",
       "      <td>1120</td>\n",
       "      <td>1</td>\n",
       "      <td>241.800</td>\n",
       "      <td>1.067176</td>\n",
       "      <td>-0.333333</td>\n",
       "      <td>-0.104596</td>\n",
       "      <td>0</td>\n",
       "    </tr>\n",
       "    <tr>\n",
       "      <th>17413</th>\n",
       "      <td>ZD-2192564</td>\n",
       "      <td>1409</td>\n",
       "      <td>4</td>\n",
       "      <td>1225.392</td>\n",
       "      <td>1.508397</td>\n",
       "      <td>0.666667</td>\n",
       "      <td>1.102993</td>\n",
       "      <td>0</td>\n",
       "    </tr>\n",
       "    <tr>\n",
       "      <th>17414</th>\n",
       "      <td>ZD-219257</td>\n",
       "      <td>1198</td>\n",
       "      <td>1</td>\n",
       "      <td>59.940</td>\n",
       "      <td>1.186260</td>\n",
       "      <td>-0.333333</td>\n",
       "      <td>-0.327871</td>\n",
       "      <td>0</td>\n",
       "    </tr>\n",
       "  </tbody>\n",
       "</table>\n",
       "<p>17415 rows × 8 columns</p>\n",
       "</div>"
      ],
      "text/plain": [
       "        Customer ID  Recency  Frequency  Monetary  Recency_norm  \\\n",
       "0       AA-10315102      358          6   544.656     -0.096183   \n",
       "1        AA-1031548      511          1    68.148      0.137405   \n",
       "2       AA-10375101      551          4   243.486      0.198473   \n",
       "3      AA-103751404      538          4    72.808      0.178626   \n",
       "4      AA-103751408      411          4   598.480     -0.015267   \n",
       "...             ...      ...        ...       ...           ...   \n",
       "17410    YS-2188044     1167          3   657.360      1.138931   \n",
       "17411   ZD-11925134     1028          1    13.560      0.926718   \n",
       "17412    ZD-1192583     1120          1   241.800      1.067176   \n",
       "17413    ZD-2192564     1409          4  1225.392      1.508397   \n",
       "17414     ZD-219257     1198          1    59.940      1.186260   \n",
       "\n",
       "       Frequency_norm  Monetary_norm  RecencyCluster  \n",
       "0            1.333333       0.267231               2  \n",
       "1           -0.333333      -0.317794               2  \n",
       "2            0.666667      -0.102526               2  \n",
       "3            0.666667      -0.312073               2  \n",
       "4            0.666667       0.333312               2  \n",
       "...               ...            ...             ...  \n",
       "17410        0.333333       0.405601               0  \n",
       "17411       -0.333333      -0.384813               0  \n",
       "17412       -0.333333      -0.104596               0  \n",
       "17413        0.666667       1.102993               0  \n",
       "17414       -0.333333      -0.327871               0  \n",
       "\n",
       "[17415 rows x 8 columns]"
      ]
     },
     "execution_count": 85,
     "metadata": {},
     "output_type": "execute_result"
    }
   ],
   "source": [
    "rfm_clustering = order_cluster(\"RecencyCluster\", \"Recency\", rfm_clustering,False)\n",
    "rfm_clustering"
   ]
  },
  {
   "cell_type": "code",
   "execution_count": 86,
   "metadata": {
    "colab": {
     "base_uri": "https://localhost:8080/"
    },
    "id": "dH5QAHX4MK2Q",
    "outputId": "0a2ad933-1314-458b-e168-59f2bd784ad2"
   },
   "outputs": [
    {
     "data": {
      "text/plain": [
       "3    6794\n",
       "2    4757\n",
       "1    3354\n",
       "0    2510\n",
       "Name: RecencyCluster, dtype: int64"
      ]
     },
     "execution_count": 86,
     "metadata": {},
     "output_type": "execute_result"
    }
   ],
   "source": [
    "rfm_clustering[\"RecencyCluster\"].value_counts()"
   ]
  },
  {
   "cell_type": "code",
   "execution_count": 87,
   "metadata": {
    "colab": {
     "base_uri": "https://localhost:8080/",
     "height": 295
    },
    "id": "BDkkFcdkMK2R",
    "outputId": "25cb0eb6-0ae3-488a-9acf-a5fed260141d"
   },
   "outputs": [
    {
     "data": {
      "image/png": "[encoded data removed]",
      "text/plain": [
       "<Figure size 432x288 with 1 Axes>"
      ]
     },
     "metadata": {
      "needs_background": "light"
     },
     "output_type": "display_data"
    }
   ],
   "source": [
    "sse={}\n",
    "frequency = rfm_clustering[['Frequency_norm']].copy()\n",
    "for k in range(1, 10):\n",
    "    kmeans = KMeans(n_clusters=k, max_iter=1000).fit(frequency)\n",
    "    frequency[\"clusters\"] = kmeans.labels_\n",
    "    sse[k] = kmeans.inertia_ \n",
    "plt.figure()\n",
    "plt.plot(list(sse.keys()), list(sse.values()))\n",
    "plt.title(\"Elbow plot of frequency KMeans clustering\")\n",
    "plt.xlabel(\"Number of cluster\")\n",
    "plt.show()"
   ]
  },
  {
   "cell_type": "code",
   "execution_count": 88,
   "metadata": {
    "id": "hJ7fhudRMK2R"
   },
   "outputs": [],
   "source": [
    "kmeans = KMeans(n_clusters=4)\n",
    "kmeans.fit(rfm_clustering[['Frequency_norm']])\n",
    "rfm_clustering['FrequencyCluster'] = kmeans.predict(rfm_clustering[['Frequency_norm']])"
   ]
  },
  {
   "cell_type": "code",
   "execution_count": 89,
   "metadata": {
    "colab": {
     "base_uri": "https://localhost:8080/",
     "height": 670
    },
    "id": "Ymi90O5KMK2R",
    "outputId": "14d1944d-06c6-4ad6-a86f-45552ac19ca6"
   },
   "outputs": [
    {
     "data": {
      "text/html": [
       "<div>\n",
       "<style scoped>\n",
       "    .dataframe tbody tr th:only-of-type {\n",
       "        vertical-align: middle;\n",
       "    }\n",
       "\n",
       "    .dataframe tbody tr th {\n",
       "        vertical-align: top;\n",
       "    }\n",
       "\n",
       "    .dataframe thead th {\n",
       "        text-align: right;\n",
       "    }\n",
       "</style>\n",
       "<table border=\"1\" class=\"dataframe\">\n",
       "  <thead>\n",
       "    <tr style=\"text-align: right;\">\n",
       "      <th></th>\n",
       "      <th>Customer ID</th>\n",
       "      <th>Recency</th>\n",
       "      <th>Frequency</th>\n",
       "      <th>Monetary</th>\n",
       "      <th>Recency_norm</th>\n",
       "      <th>Frequency_norm</th>\n",
       "      <th>Monetary_norm</th>\n",
       "      <th>RecencyCluster</th>\n",
       "      <th>FrequencyCluster</th>\n",
       "    </tr>\n",
       "  </thead>\n",
       "  <tbody>\n",
       "    <tr>\n",
       "      <th>0</th>\n",
       "      <td>AA-10315102</td>\n",
       "      <td>358</td>\n",
       "      <td>6</td>\n",
       "      <td>544.6560</td>\n",
       "      <td>-0.096183</td>\n",
       "      <td>1.333333</td>\n",
       "      <td>0.267231</td>\n",
       "      <td>2</td>\n",
       "      <td>2</td>\n",
       "    </tr>\n",
       "    <tr>\n",
       "      <th>1</th>\n",
       "      <td>AA-1037564</td>\n",
       "      <td>366</td>\n",
       "      <td>6</td>\n",
       "      <td>469.6020</td>\n",
       "      <td>-0.083969</td>\n",
       "      <td>1.333333</td>\n",
       "      <td>0.175085</td>\n",
       "      <td>2</td>\n",
       "      <td>2</td>\n",
       "    </tr>\n",
       "    <tr>\n",
       "      <th>2</th>\n",
       "      <td>AA-1064564</td>\n",
       "      <td>355</td>\n",
       "      <td>5</td>\n",
       "      <td>439.5000</td>\n",
       "      <td>-0.100763</td>\n",
       "      <td>1.000000</td>\n",
       "      <td>0.138127</td>\n",
       "      <td>2</td>\n",
       "      <td>2</td>\n",
       "    </tr>\n",
       "    <tr>\n",
       "      <th>3</th>\n",
       "      <td>AB-1001545</td>\n",
       "      <td>322</td>\n",
       "      <td>5</td>\n",
       "      <td>2822.7270</td>\n",
       "      <td>-0.151145</td>\n",
       "      <td>1.000000</td>\n",
       "      <td>3.064095</td>\n",
       "      <td>2</td>\n",
       "      <td>2</td>\n",
       "    </tr>\n",
       "    <tr>\n",
       "      <th>4</th>\n",
       "      <td>AB-1001548</td>\n",
       "      <td>295</td>\n",
       "      <td>6</td>\n",
       "      <td>733.1760</td>\n",
       "      <td>-0.192366</td>\n",
       "      <td>1.333333</td>\n",
       "      <td>0.498683</td>\n",
       "      <td>2</td>\n",
       "      <td>2</td>\n",
       "    </tr>\n",
       "    <tr>\n",
       "      <th>...</th>\n",
       "      <td>...</td>\n",
       "      <td>...</td>\n",
       "      <td>...</td>\n",
       "      <td>...</td>\n",
       "      <td>...</td>\n",
       "      <td>...</td>\n",
       "      <td>...</td>\n",
       "      <td>...</td>\n",
       "      <td>...</td>\n",
       "    </tr>\n",
       "    <tr>\n",
       "      <th>17410</th>\n",
       "      <td>MY-1829527</td>\n",
       "      <td>1055</td>\n",
       "      <td>12</td>\n",
       "      <td>4634.3100</td>\n",
       "      <td>0.967939</td>\n",
       "      <td>3.333333</td>\n",
       "      <td>5.288236</td>\n",
       "      <td>0</td>\n",
       "      <td>3</td>\n",
       "    </tr>\n",
       "    <tr>\n",
       "      <th>17411</th>\n",
       "      <td>RH-9555110</td>\n",
       "      <td>1245</td>\n",
       "      <td>9</td>\n",
       "      <td>4055.6100</td>\n",
       "      <td>1.258015</td>\n",
       "      <td>2.333333</td>\n",
       "      <td>4.577747</td>\n",
       "      <td>0</td>\n",
       "      <td>3</td>\n",
       "    </tr>\n",
       "    <tr>\n",
       "      <th>17412</th>\n",
       "      <td>SB-2017027</td>\n",
       "      <td>1161</td>\n",
       "      <td>12</td>\n",
       "      <td>6577.6500</td>\n",
       "      <td>1.129771</td>\n",
       "      <td>3.333333</td>\n",
       "      <td>7.674140</td>\n",
       "      <td>0</td>\n",
       "      <td>3</td>\n",
       "    </tr>\n",
       "    <tr>\n",
       "      <th>17413</th>\n",
       "      <td>SC-200201402</td>\n",
       "      <td>1147</td>\n",
       "      <td>16</td>\n",
       "      <td>2785.3796</td>\n",
       "      <td>1.108397</td>\n",
       "      <td>4.666667</td>\n",
       "      <td>3.018242</td>\n",
       "      <td>0</td>\n",
       "      <td>3</td>\n",
       "    </tr>\n",
       "    <tr>\n",
       "      <th>17414</th>\n",
       "      <td>TB-1162533</td>\n",
       "      <td>1415</td>\n",
       "      <td>9</td>\n",
       "      <td>945.8700</td>\n",
       "      <td>1.517557</td>\n",
       "      <td>2.333333</td>\n",
       "      <td>0.759815</td>\n",
       "      <td>0</td>\n",
       "      <td>3</td>\n",
       "    </tr>\n",
       "  </tbody>\n",
       "</table>\n",
       "<p>17415 rows × 9 columns</p>\n",
       "</div>"
      ],
      "text/plain": [
       "        Customer ID  Recency  Frequency   Monetary  Recency_norm  \\\n",
       "0       AA-10315102      358          6   544.6560     -0.096183   \n",
       "1        AA-1037564      366          6   469.6020     -0.083969   \n",
       "2        AA-1064564      355          5   439.5000     -0.100763   \n",
       "3        AB-1001545      322          5  2822.7270     -0.151145   \n",
       "4        AB-1001548      295          6   733.1760     -0.192366   \n",
       "...             ...      ...        ...        ...           ...   \n",
       "17410    MY-1829527     1055         12  4634.3100      0.967939   \n",
       "17411    RH-9555110     1245          9  4055.6100      1.258015   \n",
       "17412    SB-2017027     1161         12  6577.6500      1.129771   \n",
       "17413  SC-200201402     1147         16  2785.3796      1.108397   \n",
       "17414    TB-1162533     1415          9   945.8700      1.517557   \n",
       "\n",
       "       Frequency_norm  Monetary_norm  RecencyCluster  FrequencyCluster  \n",
       "0            1.333333       0.267231               2                 2  \n",
       "1            1.333333       0.175085               2                 2  \n",
       "2            1.000000       0.138127               2                 2  \n",
       "3            1.000000       3.064095               2                 2  \n",
       "4            1.333333       0.498683               2                 2  \n",
       "...               ...            ...             ...               ...  \n",
       "17410        3.333333       5.288236               0                 3  \n",
       "17411        2.333333       4.577747               0                 3  \n",
       "17412        3.333333       7.674140               0                 3  \n",
       "17413        4.666667       3.018242               0                 3  \n",
       "17414        2.333333       0.759815               0                 3  \n",
       "\n",
       "[17415 rows x 9 columns]"
      ]
     },
     "execution_count": 89,
     "metadata": {},
     "output_type": "execute_result"
    }
   ],
   "source": [
    "rfm_clustering = order_cluster(\"FrequencyCluster\", \"Frequency\", rfm_clustering,True)\n",
    "rfm_clustering"
   ]
  },
  {
   "cell_type": "code",
   "execution_count": null,
   "metadata": {
    "id": "ShN06nBqMK2R"
   },
   "outputs": [],
   "source": []
  },
  {
   "cell_type": "code",
   "execution_count": 90,
   "metadata": {
    "colab": {
     "base_uri": "https://localhost:8080/",
     "height": 295
    },
    "id": "vM3UF8TtMK2R",
    "outputId": "1906f5e9-f8ab-4f5a-ea41-f021a533dfb8"
   },
   "outputs": [
    {
     "data": {
      "image/png": "[encoded data removed]",
      "text/plain": [
       "<Figure size 432x288 with 1 Axes>"
      ]
     },
     "metadata": {
      "needs_background": "light"
     },
     "output_type": "display_data"
    }
   ],
   "source": [
    "sse={}\n",
    "monetary = rfm_clustering[['Monetary_norm']].copy()\n",
    "for k in range(1, 10):\n",
    "    kmeans = KMeans(n_clusters=k, max_iter=1000).fit(monetary)\n",
    "    monetary[\"clusters\"] = kmeans.labels_\n",
    "    sse[k] = kmeans.inertia_ \n",
    "plt.figure()\n",
    "plt.plot(list(sse.keys()), list(sse.values()))\n",
    "plt.title(\"Elbow plot of frequency KMeans clustering\")\n",
    "plt.xlabel(\"Number of cluster\")\n",
    "plt.show()"
   ]
  },
  {
   "cell_type": "code",
   "execution_count": 91,
   "metadata": {
    "id": "nAfp9s5DMK2S"
   },
   "outputs": [],
   "source": [
    "kmeans = KMeans(n_clusters=3)\n",
    "kmeans.fit(rfm_clustering[['Monetary_norm']])\n",
    "rfm_clustering['MonetaryCluster'] = kmeans.predict(rfm_clustering[['Monetary']])"
   ]
  },
  {
   "cell_type": "code",
   "execution_count": 92,
   "metadata": {
    "colab": {
     "base_uri": "https://localhost:8080/",
     "height": 670
    },
    "id": "GQkhAYieMK2S",
    "outputId": "bbffd008-53c2-4e8e-ed8f-7b83259b8e62"
   },
   "outputs": [
    {
     "data": {
      "text/html": [
       "<div>\n",
       "<style scoped>\n",
       "    .dataframe tbody tr th:only-of-type {\n",
       "        vertical-align: middle;\n",
       "    }\n",
       "\n",
       "    .dataframe tbody tr th {\n",
       "        vertical-align: top;\n",
       "    }\n",
       "\n",
       "    .dataframe thead th {\n",
       "        text-align: right;\n",
       "    }\n",
       "</style>\n",
       "<table border=\"1\" class=\"dataframe\">\n",
       "  <thead>\n",
       "    <tr style=\"text-align: right;\">\n",
       "      <th></th>\n",
       "      <th>Customer ID</th>\n",
       "      <th>Recency</th>\n",
       "      <th>Frequency</th>\n",
       "      <th>Monetary</th>\n",
       "      <th>Recency_norm</th>\n",
       "      <th>Frequency_norm</th>\n",
       "      <th>Monetary_norm</th>\n",
       "      <th>RecencyCluster</th>\n",
       "      <th>FrequencyCluster</th>\n",
       "      <th>MonetaryCluster</th>\n",
       "    </tr>\n",
       "  </thead>\n",
       "  <tbody>\n",
       "    <tr>\n",
       "      <th>0</th>\n",
       "      <td>AA-10315102</td>\n",
       "      <td>358</td>\n",
       "      <td>6</td>\n",
       "      <td>544.656</td>\n",
       "      <td>-0.096183</td>\n",
       "      <td>1.333333</td>\n",
       "      <td>0.267231</td>\n",
       "      <td>2</td>\n",
       "      <td>2</td>\n",
       "      <td>2</td>\n",
       "    </tr>\n",
       "    <tr>\n",
       "      <th>1</th>\n",
       "      <td>AA-1037564</td>\n",
       "      <td>366</td>\n",
       "      <td>6</td>\n",
       "      <td>469.602</td>\n",
       "      <td>-0.083969</td>\n",
       "      <td>1.333333</td>\n",
       "      <td>0.175085</td>\n",
       "      <td>2</td>\n",
       "      <td>2</td>\n",
       "      <td>2</td>\n",
       "    </tr>\n",
       "    <tr>\n",
       "      <th>2</th>\n",
       "      <td>AA-1064564</td>\n",
       "      <td>355</td>\n",
       "      <td>5</td>\n",
       "      <td>439.500</td>\n",
       "      <td>-0.100763</td>\n",
       "      <td>1.000000</td>\n",
       "      <td>0.138127</td>\n",
       "      <td>2</td>\n",
       "      <td>2</td>\n",
       "      <td>2</td>\n",
       "    </tr>\n",
       "    <tr>\n",
       "      <th>3</th>\n",
       "      <td>AB-1001545</td>\n",
       "      <td>322</td>\n",
       "      <td>5</td>\n",
       "      <td>2822.727</td>\n",
       "      <td>-0.151145</td>\n",
       "      <td>1.000000</td>\n",
       "      <td>3.064095</td>\n",
       "      <td>2</td>\n",
       "      <td>2</td>\n",
       "      <td>2</td>\n",
       "    </tr>\n",
       "    <tr>\n",
       "      <th>4</th>\n",
       "      <td>AB-1001548</td>\n",
       "      <td>295</td>\n",
       "      <td>6</td>\n",
       "      <td>733.176</td>\n",
       "      <td>-0.192366</td>\n",
       "      <td>1.333333</td>\n",
       "      <td>0.498683</td>\n",
       "      <td>2</td>\n",
       "      <td>2</td>\n",
       "      <td>2</td>\n",
       "    </tr>\n",
       "    <tr>\n",
       "      <th>...</th>\n",
       "      <td>...</td>\n",
       "      <td>...</td>\n",
       "      <td>...</td>\n",
       "      <td>...</td>\n",
       "      <td>...</td>\n",
       "      <td>...</td>\n",
       "      <td>...</td>\n",
       "      <td>...</td>\n",
       "      <td>...</td>\n",
       "      <td>...</td>\n",
       "    </tr>\n",
       "    <tr>\n",
       "      <th>17410</th>\n",
       "      <td>PF-9165134</td>\n",
       "      <td>1295</td>\n",
       "      <td>1</td>\n",
       "      <td>2.652</td>\n",
       "      <td>1.334351</td>\n",
       "      <td>-0.333333</td>\n",
       "      <td>-0.398206</td>\n",
       "      <td>0</td>\n",
       "      <td>0</td>\n",
       "      <td>1</td>\n",
       "    </tr>\n",
       "    <tr>\n",
       "      <th>17411</th>\n",
       "      <td>TS-1137095</td>\n",
       "      <td>1182</td>\n",
       "      <td>1</td>\n",
       "      <td>2.286</td>\n",
       "      <td>1.161832</td>\n",
       "      <td>-0.333333</td>\n",
       "      <td>-0.398655</td>\n",
       "      <td>0</td>\n",
       "      <td>0</td>\n",
       "      <td>1</td>\n",
       "    </tr>\n",
       "    <tr>\n",
       "      <th>17412</th>\n",
       "      <td>TS-213401402</td>\n",
       "      <td>1026</td>\n",
       "      <td>1</td>\n",
       "      <td>1.112</td>\n",
       "      <td>0.923664</td>\n",
       "      <td>-0.333333</td>\n",
       "      <td>-0.400096</td>\n",
       "      <td>0</td>\n",
       "      <td>0</td>\n",
       "      <td>1</td>\n",
       "    </tr>\n",
       "    <tr>\n",
       "      <th>17413</th>\n",
       "      <td>RS-197651402</td>\n",
       "      <td>303</td>\n",
       "      <td>1</td>\n",
       "      <td>0.556</td>\n",
       "      <td>-0.180153</td>\n",
       "      <td>-0.333333</td>\n",
       "      <td>-0.400779</td>\n",
       "      <td>2</td>\n",
       "      <td>0</td>\n",
       "      <td>0</td>\n",
       "    </tr>\n",
       "    <tr>\n",
       "      <th>17414</th>\n",
       "      <td>JO-152801406</td>\n",
       "      <td>1371</td>\n",
       "      <td>1</td>\n",
       "      <td>0.852</td>\n",
       "      <td>1.450382</td>\n",
       "      <td>-0.333333</td>\n",
       "      <td>-0.400415</td>\n",
       "      <td>0</td>\n",
       "      <td>0</td>\n",
       "      <td>0</td>\n",
       "    </tr>\n",
       "  </tbody>\n",
       "</table>\n",
       "<p>17415 rows × 10 columns</p>\n",
       "</div>"
      ],
      "text/plain": [
       "        Customer ID  Recency  Frequency  Monetary  Recency_norm  \\\n",
       "0       AA-10315102      358          6   544.656     -0.096183   \n",
       "1        AA-1037564      366          6   469.602     -0.083969   \n",
       "2        AA-1064564      355          5   439.500     -0.100763   \n",
       "3        AB-1001545      322          5  2822.727     -0.151145   \n",
       "4        AB-1001548      295          6   733.176     -0.192366   \n",
       "...             ...      ...        ...       ...           ...   \n",
       "17410    PF-9165134     1295          1     2.652      1.334351   \n",
       "17411    TS-1137095     1182          1     2.286      1.161832   \n",
       "17412  TS-213401402     1026          1     1.112      0.923664   \n",
       "17413  RS-197651402      303          1     0.556     -0.180153   \n",
       "17414  JO-152801406     1371          1     0.852      1.450382   \n",
       "\n",
       "       Frequency_norm  Monetary_norm  RecencyCluster  FrequencyCluster  \\\n",
       "0            1.333333       0.267231               2                 2   \n",
       "1            1.333333       0.175085               2                 2   \n",
       "2            1.000000       0.138127               2                 2   \n",
       "3            1.000000       3.064095               2                 2   \n",
       "4            1.333333       0.498683               2                 2   \n",
       "...               ...            ...             ...               ...   \n",
       "17410       -0.333333      -0.398206               0                 0   \n",
       "17411       -0.333333      -0.398655               0                 0   \n",
       "17412       -0.333333      -0.400096               0                 0   \n",
       "17413       -0.333333      -0.400779               2                 0   \n",
       "17414       -0.333333      -0.400415               0                 0   \n",
       "\n",
       "       MonetaryCluster  \n",
       "0                    2  \n",
       "1                    2  \n",
       "2                    2  \n",
       "3                    2  \n",
       "4                    2  \n",
       "...                ...  \n",
       "17410                1  \n",
       "17411                1  \n",
       "17412                1  \n",
       "17413                0  \n",
       "17414                0  \n",
       "\n",
       "[17415 rows x 10 columns]"
      ]
     },
     "execution_count": 92,
     "metadata": {},
     "output_type": "execute_result"
    }
   ],
   "source": [
    "rfm_clustering = order_cluster(\"MonetaryCluster\", \"Monetary\", rfm_clustering,True)\n",
    "rfm_clustering"
   ]
  },
  {
   "cell_type": "code",
   "execution_count": 93,
   "metadata": {
    "id": "g3an3gVrMK2S"
   },
   "outputs": [],
   "source": [
    "rfm_clustering['OverallScore'] = rfm_clustering['RecencyCluster'] + rfm_clustering['FrequencyCluster'] + rfm_clustering['MonetaryCluster']"
   ]
  },
  {
   "cell_type": "code",
   "execution_count": 94,
   "metadata": {
    "colab": {
     "base_uri": "https://localhost:8080/"
    },
    "id": "BowatjXXMK2S",
    "outputId": "523dbc7e-74ab-4544-df8f-c8e7971780f0"
   },
   "outputs": [
    {
     "data": {
      "text/plain": [
       "5    4792\n",
       "4    3592\n",
       "3    2711\n",
       "6    2510\n",
       "2    1783\n",
       "7    1575\n",
       "8     442\n",
       "1       9\n",
       "0       1\n",
       "Name: OverallScore, dtype: int64"
      ]
     },
     "execution_count": 94,
     "metadata": {},
     "output_type": "execute_result"
    }
   ],
   "source": [
    "rfm_clustering[\"OverallScore\"].value_counts()"
   ]
  },
  {
   "cell_type": "code",
   "execution_count": 95,
   "metadata": {
    "colab": {
     "base_uri": "https://localhost:8080/",
     "height": 328
    },
    "id": "XvjS2xL2MK2S",
    "outputId": "849ae64f-99a6-4d8b-91a2-b663598b36cf"
   },
   "outputs": [
    {
     "data": {
      "text/html": [
       "<div>\n",
       "<style scoped>\n",
       "    .dataframe tbody tr th:only-of-type {\n",
       "        vertical-align: middle;\n",
       "    }\n",
       "\n",
       "    .dataframe tbody tr th {\n",
       "        vertical-align: top;\n",
       "    }\n",
       "\n",
       "    .dataframe thead th {\n",
       "        text-align: right;\n",
       "    }\n",
       "</style>\n",
       "<table border=\"1\" class=\"dataframe\">\n",
       "  <thead>\n",
       "    <tr style=\"text-align: right;\">\n",
       "      <th></th>\n",
       "      <th>Recency</th>\n",
       "      <th>Frequency</th>\n",
       "      <th>Monetary</th>\n",
       "    </tr>\n",
       "    <tr>\n",
       "      <th>OverallScore</th>\n",
       "      <th></th>\n",
       "      <th></th>\n",
       "      <th></th>\n",
       "    </tr>\n",
       "  </thead>\n",
       "  <tbody>\n",
       "    <tr>\n",
       "      <th>0</th>\n",
       "      <td>1371.000000</td>\n",
       "      <td>1.000000</td>\n",
       "      <td>0.852000</td>\n",
       "    </tr>\n",
       "    <tr>\n",
       "      <th>1</th>\n",
       "      <td>1171.222222</td>\n",
       "      <td>1.000000</td>\n",
       "      <td>2.455444</td>\n",
       "    </tr>\n",
       "    <tr>\n",
       "      <th>2</th>\n",
       "      <td>1220.493550</td>\n",
       "      <td>1.333707</td>\n",
       "      <td>312.802482</td>\n",
       "    </tr>\n",
       "    <tr>\n",
       "      <th>3</th>\n",
       "      <td>903.719292</td>\n",
       "      <td>1.741793</td>\n",
       "      <td>414.483190</td>\n",
       "    </tr>\n",
       "    <tr>\n",
       "      <th>4</th>\n",
       "      <td>571.145880</td>\n",
       "      <td>2.022272</td>\n",
       "      <td>482.052017</td>\n",
       "    </tr>\n",
       "    <tr>\n",
       "      <th>5</th>\n",
       "      <td>269.875000</td>\n",
       "      <td>2.308639</td>\n",
       "      <td>558.948469</td>\n",
       "    </tr>\n",
       "    <tr>\n",
       "      <th>6</th>\n",
       "      <td>229.625896</td>\n",
       "      <td>4.285657</td>\n",
       "      <td>1081.682107</td>\n",
       "    </tr>\n",
       "    <tr>\n",
       "      <th>7</th>\n",
       "      <td>144.022857</td>\n",
       "      <td>6.513016</td>\n",
       "      <td>1691.572752</td>\n",
       "    </tr>\n",
       "    <tr>\n",
       "      <th>8</th>\n",
       "      <td>101.599548</td>\n",
       "      <td>10.945701</td>\n",
       "      <td>2651.192590</td>\n",
       "    </tr>\n",
       "  </tbody>\n",
       "</table>\n",
       "</div>"
      ],
      "text/plain": [
       "                  Recency  Frequency     Monetary\n",
       "OverallScore                                     \n",
       "0             1371.000000   1.000000     0.852000\n",
       "1             1171.222222   1.000000     2.455444\n",
       "2             1220.493550   1.333707   312.802482\n",
       "3              903.719292   1.741793   414.483190\n",
       "4              571.145880   2.022272   482.052017\n",
       "5              269.875000   2.308639   558.948469\n",
       "6              229.625896   4.285657  1081.682107\n",
       "7              144.022857   6.513016  1691.572752\n",
       "8              101.599548  10.945701  2651.192590"
      ]
     },
     "execution_count": 95,
     "metadata": {},
     "output_type": "execute_result"
    }
   ],
   "source": [
    "rfm_clustering.groupby([\"OverallScore\"])[[\"Recency\",\"Frequency\", \"Monetary\"]].mean()"
   ]
  },
  {
   "cell_type": "code",
   "execution_count": 96,
   "metadata": {
    "colab": {
     "base_uri": "https://localhost:8080/"
    },
    "id": "CaQNrChRMK2S",
    "outputId": "b7bff350-58e4-465f-b303-0bc739b45454"
   },
   "outputs": [
    {
     "data": {
      "text/plain": [
       "OverallScore\n",
       "0       1\n",
       "1       9\n",
       "2    1783\n",
       "3    2711\n",
       "4    3592\n",
       "5    4792\n",
       "6    2510\n",
       "7    1575\n",
       "8     442\n",
       "Name: Customer ID, dtype: int64"
      ]
     },
     "execution_count": 96,
     "metadata": {},
     "output_type": "execute_result"
    }
   ],
   "source": [
    "rfm_clustering.groupby('OverallScore')['Customer ID'].count()"
   ]
  },
  {
   "cell_type": "code",
   "execution_count": 97,
   "metadata": {
    "colab": {
     "base_uri": "https://localhost:8080/",
     "height": 670
    },
    "id": "Mat2BAdwMK2T",
    "outputId": "54ef9cd3-a83f-40c8-d57b-5b4eb441117a"
   },
   "outputs": [
    {
     "data": {
      "text/html": [
       "<div>\n",
       "<style scoped>\n",
       "    .dataframe tbody tr th:only-of-type {\n",
       "        vertical-align: middle;\n",
       "    }\n",
       "\n",
       "    .dataframe tbody tr th {\n",
       "        vertical-align: top;\n",
       "    }\n",
       "\n",
       "    .dataframe thead th {\n",
       "        text-align: right;\n",
       "    }\n",
       "</style>\n",
       "<table border=\"1\" class=\"dataframe\">\n",
       "  <thead>\n",
       "    <tr style=\"text-align: right;\">\n",
       "      <th></th>\n",
       "      <th>Customer ID</th>\n",
       "      <th>Recency</th>\n",
       "      <th>Frequency</th>\n",
       "      <th>Monetary</th>\n",
       "      <th>Recency_norm</th>\n",
       "      <th>Frequency_norm</th>\n",
       "      <th>Monetary_norm</th>\n",
       "      <th>RecencyCluster</th>\n",
       "      <th>FrequencyCluster</th>\n",
       "      <th>MonetaryCluster</th>\n",
       "      <th>OverallScore</th>\n",
       "    </tr>\n",
       "  </thead>\n",
       "  <tbody>\n",
       "    <tr>\n",
       "      <th>0</th>\n",
       "      <td>AA-10315102</td>\n",
       "      <td>358</td>\n",
       "      <td>6</td>\n",
       "      <td>544.656</td>\n",
       "      <td>-0.096183</td>\n",
       "      <td>1.333333</td>\n",
       "      <td>0.267231</td>\n",
       "      <td>2</td>\n",
       "      <td>2</td>\n",
       "      <td>2</td>\n",
       "      <td>6</td>\n",
       "    </tr>\n",
       "    <tr>\n",
       "      <th>1</th>\n",
       "      <td>AA-1037564</td>\n",
       "      <td>366</td>\n",
       "      <td>6</td>\n",
       "      <td>469.602</td>\n",
       "      <td>-0.083969</td>\n",
       "      <td>1.333333</td>\n",
       "      <td>0.175085</td>\n",
       "      <td>2</td>\n",
       "      <td>2</td>\n",
       "      <td>2</td>\n",
       "      <td>6</td>\n",
       "    </tr>\n",
       "    <tr>\n",
       "      <th>2</th>\n",
       "      <td>AA-1064564</td>\n",
       "      <td>355</td>\n",
       "      <td>5</td>\n",
       "      <td>439.500</td>\n",
       "      <td>-0.100763</td>\n",
       "      <td>1.000000</td>\n",
       "      <td>0.138127</td>\n",
       "      <td>2</td>\n",
       "      <td>2</td>\n",
       "      <td>2</td>\n",
       "      <td>6</td>\n",
       "    </tr>\n",
       "    <tr>\n",
       "      <th>3</th>\n",
       "      <td>AB-1001545</td>\n",
       "      <td>322</td>\n",
       "      <td>5</td>\n",
       "      <td>2822.727</td>\n",
       "      <td>-0.151145</td>\n",
       "      <td>1.000000</td>\n",
       "      <td>3.064095</td>\n",
       "      <td>2</td>\n",
       "      <td>2</td>\n",
       "      <td>2</td>\n",
       "      <td>6</td>\n",
       "    </tr>\n",
       "    <tr>\n",
       "      <th>4</th>\n",
       "      <td>AB-1001548</td>\n",
       "      <td>295</td>\n",
       "      <td>6</td>\n",
       "      <td>733.176</td>\n",
       "      <td>-0.192366</td>\n",
       "      <td>1.333333</td>\n",
       "      <td>0.498683</td>\n",
       "      <td>2</td>\n",
       "      <td>2</td>\n",
       "      <td>2</td>\n",
       "      <td>6</td>\n",
       "    </tr>\n",
       "    <tr>\n",
       "      <th>...</th>\n",
       "      <td>...</td>\n",
       "      <td>...</td>\n",
       "      <td>...</td>\n",
       "      <td>...</td>\n",
       "      <td>...</td>\n",
       "      <td>...</td>\n",
       "      <td>...</td>\n",
       "      <td>...</td>\n",
       "      <td>...</td>\n",
       "      <td>...</td>\n",
       "      <td>...</td>\n",
       "    </tr>\n",
       "    <tr>\n",
       "      <th>17410</th>\n",
       "      <td>PF-9165134</td>\n",
       "      <td>1295</td>\n",
       "      <td>1</td>\n",
       "      <td>2.652</td>\n",
       "      <td>1.334351</td>\n",
       "      <td>-0.333333</td>\n",
       "      <td>-0.398206</td>\n",
       "      <td>0</td>\n",
       "      <td>0</td>\n",
       "      <td>1</td>\n",
       "      <td>1</td>\n",
       "    </tr>\n",
       "    <tr>\n",
       "      <th>17411</th>\n",
       "      <td>TS-1137095</td>\n",
       "      <td>1182</td>\n",
       "      <td>1</td>\n",
       "      <td>2.286</td>\n",
       "      <td>1.161832</td>\n",
       "      <td>-0.333333</td>\n",
       "      <td>-0.398655</td>\n",
       "      <td>0</td>\n",
       "      <td>0</td>\n",
       "      <td>1</td>\n",
       "      <td>1</td>\n",
       "    </tr>\n",
       "    <tr>\n",
       "      <th>17412</th>\n",
       "      <td>TS-213401402</td>\n",
       "      <td>1026</td>\n",
       "      <td>1</td>\n",
       "      <td>1.112</td>\n",
       "      <td>0.923664</td>\n",
       "      <td>-0.333333</td>\n",
       "      <td>-0.400096</td>\n",
       "      <td>0</td>\n",
       "      <td>0</td>\n",
       "      <td>1</td>\n",
       "      <td>1</td>\n",
       "    </tr>\n",
       "    <tr>\n",
       "      <th>17413</th>\n",
       "      <td>RS-197651402</td>\n",
       "      <td>303</td>\n",
       "      <td>1</td>\n",
       "      <td>0.556</td>\n",
       "      <td>-0.180153</td>\n",
       "      <td>-0.333333</td>\n",
       "      <td>-0.400779</td>\n",
       "      <td>2</td>\n",
       "      <td>0</td>\n",
       "      <td>0</td>\n",
       "      <td>2</td>\n",
       "    </tr>\n",
       "    <tr>\n",
       "      <th>17414</th>\n",
       "      <td>JO-152801406</td>\n",
       "      <td>1371</td>\n",
       "      <td>1</td>\n",
       "      <td>0.852</td>\n",
       "      <td>1.450382</td>\n",
       "      <td>-0.333333</td>\n",
       "      <td>-0.400415</td>\n",
       "      <td>0</td>\n",
       "      <td>0</td>\n",
       "      <td>0</td>\n",
       "      <td>0</td>\n",
       "    </tr>\n",
       "  </tbody>\n",
       "</table>\n",
       "<p>17415 rows × 11 columns</p>\n",
       "</div>"
      ],
      "text/plain": [
       "        Customer ID  Recency  Frequency  Monetary  Recency_norm  \\\n",
       "0       AA-10315102      358          6   544.656     -0.096183   \n",
       "1        AA-1037564      366          6   469.602     -0.083969   \n",
       "2        AA-1064564      355          5   439.500     -0.100763   \n",
       "3        AB-1001545      322          5  2822.727     -0.151145   \n",
       "4        AB-1001548      295          6   733.176     -0.192366   \n",
       "...             ...      ...        ...       ...           ...   \n",
       "17410    PF-9165134     1295          1     2.652      1.334351   \n",
       "17411    TS-1137095     1182          1     2.286      1.161832   \n",
       "17412  TS-213401402     1026          1     1.112      0.923664   \n",
       "17413  RS-197651402      303          1     0.556     -0.180153   \n",
       "17414  JO-152801406     1371          1     0.852      1.450382   \n",
       "\n",
       "       Frequency_norm  Monetary_norm  RecencyCluster  FrequencyCluster  \\\n",
       "0            1.333333       0.267231               2                 2   \n",
       "1            1.333333       0.175085               2                 2   \n",
       "2            1.000000       0.138127               2                 2   \n",
       "3            1.000000       3.064095               2                 2   \n",
       "4            1.333333       0.498683               2                 2   \n",
       "...               ...            ...             ...               ...   \n",
       "17410       -0.333333      -0.398206               0                 0   \n",
       "17411       -0.333333      -0.398655               0                 0   \n",
       "17412       -0.333333      -0.400096               0                 0   \n",
       "17413       -0.333333      -0.400779               2                 0   \n",
       "17414       -0.333333      -0.400415               0                 0   \n",
       "\n",
       "       MonetaryCluster  OverallScore  \n",
       "0                    2             6  \n",
       "1                    2             6  \n",
       "2                    2             6  \n",
       "3                    2             6  \n",
       "4                    2             6  \n",
       "...                ...           ...  \n",
       "17410                1             1  \n",
       "17411                1             1  \n",
       "17412                1             1  \n",
       "17413                0             2  \n",
       "17414                0             0  \n",
       "\n",
       "[17415 rows x 11 columns]"
      ]
     },
     "execution_count": 97,
     "metadata": {},
     "output_type": "execute_result"
    }
   ],
   "source": [
    "rfm_clustering"
   ]
  },
  {
   "cell_type": "code",
   "execution_count": null,
   "metadata": {
    "id": "Cm8KqB3iMK2T"
   },
   "outputs": [],
   "source": []
  },
  {
   "cell_type": "code",
   "execution_count": 98,
   "metadata": {
    "id": "lKFh6hRbMK2T"
   },
   "outputs": [],
   "source": [
    "rfm_clustering['Segment'] = 'Lost Customer'\n",
    "rfm_clustering.loc[rfm_clustering['OverallScore']>2,'Segment'] = 'Low-Value' \n",
    "rfm_clustering.loc[rfm_clustering['OverallScore']>3,'Segment'] = 'Mid-Value'\n",
    "rfm_clustering.loc[rfm_clustering['OverallScore']>5,'Segment'] = 'High-Value'\n",
    "rfm_clustering.loc[rfm_clustering['OverallScore']>7,'Segment'] = 'Top Customer'"
   ]
  },
  {
   "cell_type": "code",
   "execution_count": 99,
   "metadata": {
    "colab": {
     "base_uri": "https://localhost:8080/",
     "height": 295
    },
    "id": "h98jLsVLMK2T",
    "outputId": "23ac7c2e-b090-47fc-ced5-776b82280078"
   },
   "outputs": [
    {
     "data": {
      "image/png": "[encoded data removed]",
      "text/plain": [
       "<Figure size 432x288 with 1 Axes>"
      ]
     },
     "metadata": {
      "needs_background": "light"
     },
     "output_type": "display_data"
    }
   ],
   "source": [
    "sns.countplot(x=rfm_clustering[\"Segment\"],order= ['Lost Customer','Low-Value' ,'Mid-Value','High-Value','Top Customer'])\n",
    "plt.title(\"RFM segmentation of super-store data\")\n",
    "plt.show()"
   ]
  },
  {
   "cell_type": "markdown",
   "metadata": {
    "id": "GdmmvksT-xDN"
   },
   "source": [
    "Here, Top customers are the ones with low recency, high frequency and high monetary values; whereas lost customers are the ones who have high recency, low frequency and low monetary value"
   ]
  },
  {
   "cell_type": "code",
   "execution_count": 100,
   "metadata": {
    "colab": {
     "base_uri": "https://localhost:8080/"
    },
    "id": "xQUzlY4VMK2T",
    "outputId": "51f569a8-0f06-4016-b324-7ee545810a92",
    "scrolled": true
   },
   "outputs": [
    {
     "data": {
      "text/plain": [
       "Mid-Value        8384\n",
       "High-Value       4085\n",
       "Low-Value        2711\n",
       "Lost Customer    1793\n",
       "Top Customer      442\n",
       "Name: Segment, dtype: int64"
      ]
     },
     "execution_count": 100,
     "metadata": {},
     "output_type": "execute_result"
    }
   ],
   "source": [
    "rfm_clustering['Segment'].value_counts()"
   ]
  },
  {
   "cell_type": "code",
   "execution_count": 101,
   "metadata": {
    "colab": {
     "base_uri": "https://localhost:8080/",
     "height": 670
    },
    "id": "7jhiAbSgVhzH",
    "outputId": "381d61dc-ff8e-40e0-96a3-9ceaf2e75b9c"
   },
   "outputs": [
    {
     "data": {
      "text/html": [
       "<div>\n",
       "<style scoped>\n",
       "    .dataframe tbody tr th:only-of-type {\n",
       "        vertical-align: middle;\n",
       "    }\n",
       "\n",
       "    .dataframe tbody tr th {\n",
       "        vertical-align: top;\n",
       "    }\n",
       "\n",
       "    .dataframe thead th {\n",
       "        text-align: right;\n",
       "    }\n",
       "</style>\n",
       "<table border=\"1\" class=\"dataframe\">\n",
       "  <thead>\n",
       "    <tr style=\"text-align: right;\">\n",
       "      <th></th>\n",
       "      <th>Customer ID</th>\n",
       "      <th>Recency</th>\n",
       "      <th>Frequency</th>\n",
       "      <th>Monetary</th>\n",
       "      <th>Recency_norm</th>\n",
       "      <th>Frequency_norm</th>\n",
       "      <th>Monetary_norm</th>\n",
       "      <th>RecencyCluster</th>\n",
       "      <th>FrequencyCluster</th>\n",
       "      <th>MonetaryCluster</th>\n",
       "      <th>OverallScore</th>\n",
       "      <th>Segment</th>\n",
       "    </tr>\n",
       "  </thead>\n",
       "  <tbody>\n",
       "    <tr>\n",
       "      <th>16901</th>\n",
       "      <td>AA-10315139</td>\n",
       "      <td>149</td>\n",
       "      <td>13</td>\n",
       "      <td>2955.7980</td>\n",
       "      <td>-0.415267</td>\n",
       "      <td>3.666667</td>\n",
       "      <td>3.227471</td>\n",
       "      <td>3</td>\n",
       "      <td>3</td>\n",
       "      <td>2</td>\n",
       "      <td>8</td>\n",
       "      <td>Top Customer</td>\n",
       "    </tr>\n",
       "    <tr>\n",
       "      <th>16902</th>\n",
       "      <td>AA-1064559</td>\n",
       "      <td>28</td>\n",
       "      <td>12</td>\n",
       "      <td>1873.2195</td>\n",
       "      <td>-0.600000</td>\n",
       "      <td>3.333333</td>\n",
       "      <td>1.898353</td>\n",
       "      <td>3</td>\n",
       "      <td>3</td>\n",
       "      <td>2</td>\n",
       "      <td>8</td>\n",
       "      <td>Top Customer</td>\n",
       "    </tr>\n",
       "    <tr>\n",
       "      <th>16903</th>\n",
       "      <td>AA-64595</td>\n",
       "      <td>60</td>\n",
       "      <td>11</td>\n",
       "      <td>555.0840</td>\n",
       "      <td>-0.551145</td>\n",
       "      <td>3.000000</td>\n",
       "      <td>0.280034</td>\n",
       "      <td>3</td>\n",
       "      <td>3</td>\n",
       "      <td>2</td>\n",
       "      <td>8</td>\n",
       "      <td>Top Customer</td>\n",
       "    </tr>\n",
       "    <tr>\n",
       "      <th>16904</th>\n",
       "      <td>AB-101051402</td>\n",
       "      <td>149</td>\n",
       "      <td>11</td>\n",
       "      <td>12181.5940</td>\n",
       "      <td>-0.415267</td>\n",
       "      <td>3.000000</td>\n",
       "      <td>14.554290</td>\n",
       "      <td>3</td>\n",
       "      <td>3</td>\n",
       "      <td>2</td>\n",
       "      <td>8</td>\n",
       "      <td>Top Customer</td>\n",
       "    </tr>\n",
       "    <tr>\n",
       "      <th>16905</th>\n",
       "      <td>AB-101057</td>\n",
       "      <td>216</td>\n",
       "      <td>10</td>\n",
       "      <td>2960.5770</td>\n",
       "      <td>-0.312977</td>\n",
       "      <td>2.666667</td>\n",
       "      <td>3.233338</td>\n",
       "      <td>3</td>\n",
       "      <td>3</td>\n",
       "      <td>2</td>\n",
       "      <td>8</td>\n",
       "      <td>Top Customer</td>\n",
       "    </tr>\n",
       "    <tr>\n",
       "      <th>...</th>\n",
       "      <td>...</td>\n",
       "      <td>...</td>\n",
       "      <td>...</td>\n",
       "      <td>...</td>\n",
       "      <td>...</td>\n",
       "      <td>...</td>\n",
       "      <td>...</td>\n",
       "      <td>...</td>\n",
       "      <td>...</td>\n",
       "      <td>...</td>\n",
       "      <td>...</td>\n",
       "      <td>...</td>\n",
       "    </tr>\n",
       "    <tr>\n",
       "      <th>17338</th>\n",
       "      <td>XP-218651404</td>\n",
       "      <td>82</td>\n",
       "      <td>12</td>\n",
       "      <td>660.1900</td>\n",
       "      <td>-0.517557</td>\n",
       "      <td>3.333333</td>\n",
       "      <td>0.409076</td>\n",
       "      <td>3</td>\n",
       "      <td>3</td>\n",
       "      <td>2</td>\n",
       "      <td>8</td>\n",
       "      <td>Top Customer</td>\n",
       "    </tr>\n",
       "    <tr>\n",
       "      <th>17339</th>\n",
       "      <td>YC-2189545</td>\n",
       "      <td>43</td>\n",
       "      <td>18</td>\n",
       "      <td>4160.7435</td>\n",
       "      <td>-0.577099</td>\n",
       "      <td>5.333333</td>\n",
       "      <td>4.706823</td>\n",
       "      <td>3</td>\n",
       "      <td>3</td>\n",
       "      <td>2</td>\n",
       "      <td>8</td>\n",
       "      <td>Top Customer</td>\n",
       "    </tr>\n",
       "    <tr>\n",
       "      <th>17340</th>\n",
       "      <td>YS-2188031</td>\n",
       "      <td>125</td>\n",
       "      <td>9</td>\n",
       "      <td>1842.4000</td>\n",
       "      <td>-0.451908</td>\n",
       "      <td>2.333333</td>\n",
       "      <td>1.860515</td>\n",
       "      <td>3</td>\n",
       "      <td>3</td>\n",
       "      <td>2</td>\n",
       "      <td>8</td>\n",
       "      <td>Top Customer</td>\n",
       "    </tr>\n",
       "    <tr>\n",
       "      <th>17341</th>\n",
       "      <td>ZC-219101402</td>\n",
       "      <td>194</td>\n",
       "      <td>11</td>\n",
       "      <td>3869.8060</td>\n",
       "      <td>-0.346565</td>\n",
       "      <td>3.000000</td>\n",
       "      <td>4.349629</td>\n",
       "      <td>3</td>\n",
       "      <td>3</td>\n",
       "      <td>2</td>\n",
       "      <td>8</td>\n",
       "      <td>Top Customer</td>\n",
       "    </tr>\n",
       "    <tr>\n",
       "      <th>17342</th>\n",
       "      <td>ZC-219101404</td>\n",
       "      <td>54</td>\n",
       "      <td>16</td>\n",
       "      <td>2641.0890</td>\n",
       "      <td>-0.560305</td>\n",
       "      <td>4.666667</td>\n",
       "      <td>2.841092</td>\n",
       "      <td>3</td>\n",
       "      <td>3</td>\n",
       "      <td>2</td>\n",
       "      <td>8</td>\n",
       "      <td>Top Customer</td>\n",
       "    </tr>\n",
       "  </tbody>\n",
       "</table>\n",
       "<p>442 rows × 12 columns</p>\n",
       "</div>"
      ],
      "text/plain": [
       "        Customer ID  Recency  Frequency    Monetary  Recency_norm  \\\n",
       "16901   AA-10315139      149         13   2955.7980     -0.415267   \n",
       "16902    AA-1064559       28         12   1873.2195     -0.600000   \n",
       "16903      AA-64595       60         11    555.0840     -0.551145   \n",
       "16904  AB-101051402      149         11  12181.5940     -0.415267   \n",
       "16905     AB-101057      216         10   2960.5770     -0.312977   \n",
       "...             ...      ...        ...         ...           ...   \n",
       "17338  XP-218651404       82         12    660.1900     -0.517557   \n",
       "17339    YC-2189545       43         18   4160.7435     -0.577099   \n",
       "17340    YS-2188031      125          9   1842.4000     -0.451908   \n",
       "17341  ZC-219101402      194         11   3869.8060     -0.346565   \n",
       "17342  ZC-219101404       54         16   2641.0890     -0.560305   \n",
       "\n",
       "       Frequency_norm  Monetary_norm  RecencyCluster  FrequencyCluster  \\\n",
       "16901        3.666667       3.227471               3                 3   \n",
       "16902        3.333333       1.898353               3                 3   \n",
       "16903        3.000000       0.280034               3                 3   \n",
       "16904        3.000000      14.554290               3                 3   \n",
       "16905        2.666667       3.233338               3                 3   \n",
       "...               ...            ...             ...               ...   \n",
       "17338        3.333333       0.409076               3                 3   \n",
       "17339        5.333333       4.706823               3                 3   \n",
       "17340        2.333333       1.860515               3                 3   \n",
       "17341        3.000000       4.349629               3                 3   \n",
       "17342        4.666667       2.841092               3                 3   \n",
       "\n",
       "       MonetaryCluster  OverallScore       Segment  \n",
       "16901                2             8  Top Customer  \n",
       "16902                2             8  Top Customer  \n",
       "16903                2             8  Top Customer  \n",
       "16904                2             8  Top Customer  \n",
       "16905                2             8  Top Customer  \n",
       "...                ...           ...           ...  \n",
       "17338                2             8  Top Customer  \n",
       "17339                2             8  Top Customer  \n",
       "17340                2             8  Top Customer  \n",
       "17341                2             8  Top Customer  \n",
       "17342                2             8  Top Customer  \n",
       "\n",
       "[442 rows x 12 columns]"
      ]
     },
     "execution_count": 101,
     "metadata": {},
     "output_type": "execute_result"
    }
   ],
   "source": [
    "rfm_clustering[rfm_clustering[\"Segment\"]=='Top Customer']"
   ]
  },
  {
   "cell_type": "code",
   "execution_count": 102,
   "metadata": {
    "id": "fKSQQrzwVYXL"
   },
   "outputs": [],
   "source": [
    "rfm_clustering[[\"Customer ID\", 'Monetary', 'Frequency','Recency', 'RecencyCluster', 'FrequencyCluster',\n",
    "       'MonetaryCluster', 'OverallScore', 'Segment']].to_csv(\"RFM_segmentation.csv\")"
   ]
  }
 ],
 "metadata": {
  "colab": {
   "collapsed_sections": [],
   "name": "Superstore_V2.ipynb",
   "provenance": []
  },
  "kernelspec": {
   "display_name": "Python 3",
   "language": "python",
   "name": "python3"
  },
  "language_info": {
   "codemirror_mode": {
    "name": "ipython",
    "version": 3
   },
   "file_extension": ".py",
   "mimetype": "text/x-python",
   "name": "python",
   "nbconvert_exporter": "python",
   "pygments_lexer": "ipython3",
   "version": "3.8.8"
  }
 },
 "nbformat": 4,
 "nbformat_minor": 1
}
