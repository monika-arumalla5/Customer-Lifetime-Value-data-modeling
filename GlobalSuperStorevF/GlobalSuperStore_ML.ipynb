{
 "cells": [
  {
   "cell_type": "markdown",
   "id": "cf09105d",
   "metadata": {
    "id": "ra00_TjQMK14"
   },
   "source": [
    "## Importing the necessary libraries"
   ]
  },
  {
   "cell_type": "code",
   "execution_count": 1,
   "id": "3b602e52",
   "metadata": {
    "id": "sb0mM7LJMK16"
   },
   "outputs": [],
   "source": [
    "import warnings\n",
    "warnings.filterwarnings('ignore')\n",
    "import pandas as pd\n",
    "\n",
    "import numpy as np\n",
    "import matplotlib.pyplot as plt\n",
    "import datetime as dt\n",
    "import seaborn as sns\n",
    "from sklearn.preprocessing import StandardScaler\n",
    "from sklearn.preprocessing import RobustScaler\n",
    "from sklearn.cluster import KMeans\n",
    "\n",
    "# machine learning\n",
    "from xgboost import XGBClassifier, XGBRegressor\n",
    "from sklearn.model_selection import cross_val_score, GridSearchCV\n",
    "from sklearn.linear_model import LinearRegression\n",
    "from sklearn.preprocessing import StandardScaler\n",
    "from sklearn.ensemble import RandomForestRegressor\n",
    "from sklearn.linear_model import LogisticRegression\n",
    "from sklearn.ensemble import RandomForestClassifier\n",
    "from sklearn.metrics import mean_absolute_error"
   ]
  },
  {
   "cell_type": "markdown",
   "id": "a0d42e79",
   "metadata": {
    "id": "FjSlSP7xMK17"
   },
   "source": [
    "## Loading the SuperStore data"
   ]
  },
  {
   "cell_type": "code",
   "execution_count": 2,
   "id": "0d855ac1",
   "metadata": {
    "id": "yGXSuKGMMK17"
   },
   "outputs": [],
   "source": [
    "# Laoding the data into a dataframe.\n",
    "super_store_data = pd.read_excel(\"Data/Global_superstore_2016.xlsx\")"
   ]
  },
  {
   "cell_type": "code",
   "execution_count": 3,
   "id": "6f9547ee",
   "metadata": {
    "colab": {
     "base_uri": "https://localhost:8080/"
    },
    "id": "xOCoHbNqMK17",
    "outputId": "f5230408-18dd-4369-ddb0-1e331a97af50"
   },
   "outputs": [
    {
     "data": {
      "text/plain": [
       "(51290, 24)"
      ]
     },
     "execution_count": 3,
     "metadata": {},
     "output_type": "execute_result"
    }
   ],
   "source": [
    "super_store_data.shape"
   ]
  },
  {
   "cell_type": "code",
   "execution_count": 4,
   "id": "3054b54d",
   "metadata": {
    "colab": {
     "base_uri": "https://localhost:8080/"
    },
    "id": "ELZtgF5EMK18",
    "outputId": "e92458be-7b16-45fd-cebd-fde8452b9e0a"
   },
   "outputs": [
    {
     "name": "stdout",
     "output_type": "stream",
     "text": [
      "<class 'pandas.core.frame.DataFrame'>\n",
      "RangeIndex: 51290 entries, 0 to 51289\n",
      "Data columns (total 24 columns):\n",
      " #   Column          Non-Null Count  Dtype         \n",
      "---  ------          --------------  -----         \n",
      " 0   Row ID          51290 non-null  int64         \n",
      " 1   Order ID        51290 non-null  object        \n",
      " 2   Order Date      51290 non-null  datetime64[ns]\n",
      " 3   Ship Date       51290 non-null  datetime64[ns]\n",
      " 4   Ship Mode       51290 non-null  object        \n",
      " 5   Customer ID     51290 non-null  object        \n",
      " 6   Customer Name   51290 non-null  object        \n",
      " 7   Segment         51290 non-null  object        \n",
      " 8   Postal Code     9994 non-null   float64       \n",
      " 9   City            51290 non-null  object        \n",
      " 10  State           51290 non-null  object        \n",
      " 11  Country         51290 non-null  object        \n",
      " 12  Region          51290 non-null  object        \n",
      " 13  Market          51290 non-null  object        \n",
      " 14  Product ID      51290 non-null  object        \n",
      " 15  Category        51290 non-null  object        \n",
      " 16  Sub-Category    51290 non-null  object        \n",
      " 17  Product Name    51290 non-null  object        \n",
      " 18  Sales           51290 non-null  float64       \n",
      " 19  Quantity        51290 non-null  int64         \n",
      " 20  Discount        51290 non-null  float64       \n",
      " 21  Profit          51290 non-null  float64       \n",
      " 22  Shipping Cost   51290 non-null  float64       \n",
      " 23  Order Priority  51290 non-null  object        \n",
      "dtypes: datetime64[ns](2), float64(5), int64(2), object(15)\n",
      "memory usage: 9.4+ MB\n"
     ]
    }
   ],
   "source": [
    "super_store_data.info() \n",
    "# info() gives us the number of non null values and the data type of each column."
   ]
  },
  {
   "cell_type": "markdown",
   "id": "5fe06608",
   "metadata": {
    "id": "9T9f8W7-MK18"
   },
   "source": [
    "Dropping the Customer Name column, as it contains personally identifiable information."
   ]
  },
  {
   "cell_type": "code",
   "execution_count": 5,
   "id": "a07cb5de",
   "metadata": {
    "colab": {
     "base_uri": "https://localhost:8080/",
     "height": 574
    },
    "id": "1LexTgirMK18",
    "outputId": "16550ae2-2397-47c3-a3c8-3d50a111d054"
   },
   "outputs": [
    {
     "data": {
      "text/html": [
       "<div>\n",
       "<style scoped>\n",
       "    .dataframe tbody tr th:only-of-type {\n",
       "        vertical-align: middle;\n",
       "    }\n",
       "\n",
       "    .dataframe tbody tr th {\n",
       "        vertical-align: top;\n",
       "    }\n",
       "\n",
       "    .dataframe thead th {\n",
       "        text-align: right;\n",
       "    }\n",
       "</style>\n",
       "<table border=\"1\" class=\"dataframe\">\n",
       "  <thead>\n",
       "    <tr style=\"text-align: right;\">\n",
       "      <th></th>\n",
       "      <th>Row ID</th>\n",
       "      <th>Order ID</th>\n",
       "      <th>Order Date</th>\n",
       "      <th>Ship Date</th>\n",
       "      <th>Ship Mode</th>\n",
       "      <th>Customer ID</th>\n",
       "      <th>Segment</th>\n",
       "      <th>Postal Code</th>\n",
       "      <th>City</th>\n",
       "      <th>State</th>\n",
       "      <th>...</th>\n",
       "      <th>Product ID</th>\n",
       "      <th>Category</th>\n",
       "      <th>Sub-Category</th>\n",
       "      <th>Product Name</th>\n",
       "      <th>Sales</th>\n",
       "      <th>Quantity</th>\n",
       "      <th>Discount</th>\n",
       "      <th>Profit</th>\n",
       "      <th>Shipping Cost</th>\n",
       "      <th>Order Priority</th>\n",
       "    </tr>\n",
       "  </thead>\n",
       "  <tbody>\n",
       "    <tr>\n",
       "      <th>0</th>\n",
       "      <td>40098</td>\n",
       "      <td>CA-2014-AB10015140-41954</td>\n",
       "      <td>2014-11-11</td>\n",
       "      <td>2014-11-13</td>\n",
       "      <td>First Class</td>\n",
       "      <td>AB-100151402</td>\n",
       "      <td>Consumer</td>\n",
       "      <td>73120.0</td>\n",
       "      <td>Oklahoma City</td>\n",
       "      <td>Oklahoma</td>\n",
       "      <td>...</td>\n",
       "      <td>TEC-PH-5816</td>\n",
       "      <td>Technology</td>\n",
       "      <td>Phones</td>\n",
       "      <td>Samsung Convoy 3</td>\n",
       "      <td>221.980</td>\n",
       "      <td>2</td>\n",
       "      <td>0.0</td>\n",
       "      <td>62.1544</td>\n",
       "      <td>40.77</td>\n",
       "      <td>High</td>\n",
       "    </tr>\n",
       "    <tr>\n",
       "      <th>1</th>\n",
       "      <td>26341</td>\n",
       "      <td>IN-2014-JR162107-41675</td>\n",
       "      <td>2014-02-05</td>\n",
       "      <td>2014-02-07</td>\n",
       "      <td>Second Class</td>\n",
       "      <td>JR-162107</td>\n",
       "      <td>Corporate</td>\n",
       "      <td>NaN</td>\n",
       "      <td>Wollongong</td>\n",
       "      <td>New South Wales</td>\n",
       "      <td>...</td>\n",
       "      <td>FUR-CH-5379</td>\n",
       "      <td>Furniture</td>\n",
       "      <td>Chairs</td>\n",
       "      <td>Novimex Executive Leather Armchair, Black</td>\n",
       "      <td>3709.395</td>\n",
       "      <td>9</td>\n",
       "      <td>0.1</td>\n",
       "      <td>-288.7650</td>\n",
       "      <td>923.63</td>\n",
       "      <td>Critical</td>\n",
       "    </tr>\n",
       "    <tr>\n",
       "      <th>2</th>\n",
       "      <td>25330</td>\n",
       "      <td>IN-2014-CR127307-41929</td>\n",
       "      <td>2014-10-17</td>\n",
       "      <td>2014-10-18</td>\n",
       "      <td>First Class</td>\n",
       "      <td>CR-127307</td>\n",
       "      <td>Consumer</td>\n",
       "      <td>NaN</td>\n",
       "      <td>Brisbane</td>\n",
       "      <td>Queensland</td>\n",
       "      <td>...</td>\n",
       "      <td>TEC-PH-5356</td>\n",
       "      <td>Technology</td>\n",
       "      <td>Phones</td>\n",
       "      <td>Nokia Smart Phone, with Caller ID</td>\n",
       "      <td>5175.171</td>\n",
       "      <td>9</td>\n",
       "      <td>0.1</td>\n",
       "      <td>919.9710</td>\n",
       "      <td>915.49</td>\n",
       "      <td>Medium</td>\n",
       "    </tr>\n",
       "    <tr>\n",
       "      <th>3</th>\n",
       "      <td>13524</td>\n",
       "      <td>ES-2014-KM1637548-41667</td>\n",
       "      <td>2014-01-28</td>\n",
       "      <td>2014-01-30</td>\n",
       "      <td>First Class</td>\n",
       "      <td>KM-1637548</td>\n",
       "      <td>Home Office</td>\n",
       "      <td>NaN</td>\n",
       "      <td>Berlin</td>\n",
       "      <td>Berlin</td>\n",
       "      <td>...</td>\n",
       "      <td>TEC-PH-5267</td>\n",
       "      <td>Technology</td>\n",
       "      <td>Phones</td>\n",
       "      <td>Motorola Smart Phone, Cordless</td>\n",
       "      <td>2892.510</td>\n",
       "      <td>5</td>\n",
       "      <td>0.1</td>\n",
       "      <td>-96.5400</td>\n",
       "      <td>910.16</td>\n",
       "      <td>Medium</td>\n",
       "    </tr>\n",
       "    <tr>\n",
       "      <th>4</th>\n",
       "      <td>47221</td>\n",
       "      <td>SG-2014-RH9495111-41948</td>\n",
       "      <td>2014-11-05</td>\n",
       "      <td>2014-11-06</td>\n",
       "      <td>Same Day</td>\n",
       "      <td>RH-9495111</td>\n",
       "      <td>Consumer</td>\n",
       "      <td>NaN</td>\n",
       "      <td>Dakar</td>\n",
       "      <td>Dakar</td>\n",
       "      <td>...</td>\n",
       "      <td>TEC-CO-6011</td>\n",
       "      <td>Technology</td>\n",
       "      <td>Copiers</td>\n",
       "      <td>Sharp Wireless Fax, High-Speed</td>\n",
       "      <td>2832.960</td>\n",
       "      <td>8</td>\n",
       "      <td>0.0</td>\n",
       "      <td>311.5200</td>\n",
       "      <td>903.04</td>\n",
       "      <td>Critical</td>\n",
       "    </tr>\n",
       "  </tbody>\n",
       "</table>\n",
       "<p>5 rows × 23 columns</p>\n",
       "</div>"
      ],
      "text/plain": [
       "   Row ID                  Order ID Order Date  Ship Date     Ship Mode  \\\n",
       "0   40098  CA-2014-AB10015140-41954 2014-11-11 2014-11-13   First Class   \n",
       "1   26341    IN-2014-JR162107-41675 2014-02-05 2014-02-07  Second Class   \n",
       "2   25330    IN-2014-CR127307-41929 2014-10-17 2014-10-18   First Class   \n",
       "3   13524   ES-2014-KM1637548-41667 2014-01-28 2014-01-30   First Class   \n",
       "4   47221   SG-2014-RH9495111-41948 2014-11-05 2014-11-06      Same Day   \n",
       "\n",
       "    Customer ID      Segment  Postal Code           City            State  \\\n",
       "0  AB-100151402     Consumer      73120.0  Oklahoma City         Oklahoma   \n",
       "1     JR-162107    Corporate          NaN     Wollongong  New South Wales   \n",
       "2     CR-127307     Consumer          NaN       Brisbane       Queensland   \n",
       "3    KM-1637548  Home Office          NaN         Berlin           Berlin   \n",
       "4    RH-9495111     Consumer          NaN          Dakar            Dakar   \n",
       "\n",
       "   ...   Product ID    Category Sub-Category  \\\n",
       "0  ...  TEC-PH-5816  Technology       Phones   \n",
       "1  ...  FUR-CH-5379   Furniture       Chairs   \n",
       "2  ...  TEC-PH-5356  Technology       Phones   \n",
       "3  ...  TEC-PH-5267  Technology       Phones   \n",
       "4  ...  TEC-CO-6011  Technology      Copiers   \n",
       "\n",
       "                                Product Name     Sales Quantity Discount  \\\n",
       "0                           Samsung Convoy 3   221.980        2      0.0   \n",
       "1  Novimex Executive Leather Armchair, Black  3709.395        9      0.1   \n",
       "2          Nokia Smart Phone, with Caller ID  5175.171        9      0.1   \n",
       "3             Motorola Smart Phone, Cordless  2892.510        5      0.1   \n",
       "4             Sharp Wireless Fax, High-Speed  2832.960        8      0.0   \n",
       "\n",
       "     Profit  Shipping Cost  Order Priority  \n",
       "0   62.1544          40.77            High  \n",
       "1 -288.7650         923.63        Critical  \n",
       "2  919.9710         915.49          Medium  \n",
       "3  -96.5400         910.16          Medium  \n",
       "4  311.5200         903.04        Critical  \n",
       "\n",
       "[5 rows x 23 columns]"
      ]
     },
     "execution_count": 5,
     "metadata": {},
     "output_type": "execute_result"
    }
   ],
   "source": [
    "super_store_data = super_store_data.drop(\"Customer Name\",axis=1)\n",
    "# Looking at the top 5 rows of the dataframe.\n",
    "super_store_data.head()"
   ]
  },
  {
   "cell_type": "markdown",
   "id": "f51ab977",
   "metadata": {
    "id": "1IdA1BtVNG9h"
   },
   "source": [
    "## Machine Learning Modelling\n",
    "### Time Split"
   ]
  },
  {
   "cell_type": "markdown",
   "id": "f0f79c3d",
   "metadata": {
    "id": "mgGHkmDUCCFe"
   },
   "source": [
    "Performing time split, to split the data into train and test wherein test data, indicates if the customer purchased in the following 90 days and if yes, what's the sale amount"
   ]
  },
  {
   "cell_type": "code",
   "execution_count": 6,
   "id": "298756f6",
   "metadata": {
    "id": "Y2OOmqHPNJLa"
   },
   "outputs": [],
   "source": [
    "n_days = 90   \n",
    "max_date = super_store_data['Order Date'].max()\n",
    "cutoff = max_date - pd.to_timedelta(n_days, unit = 'd')"
   ]
  },
  {
   "cell_type": "code",
   "execution_count": 7,
   "id": "37191a59",
   "metadata": {
    "id": "gdXH8QA7NJA_"
   },
   "outputs": [],
   "source": [
    "temporal_in_df = super_store_data[super_store_data['Order Date']<= cutoff][['Order Date', \n",
    "       'Customer ID', 'Sales']]\n",
    "temporal_out_df = super_store_data[super_store_data['Order Date']> cutoff][['Order Date', \n",
    "       'Customer ID', 'Sales']]"
   ]
  },
  {
   "cell_type": "markdown",
   "id": "92258f34",
   "metadata": {
    "id": "Ry0gb7bXM8p0"
   },
   "source": [
    "## Feature Engineering"
   ]
  },
  {
   "cell_type": "code",
   "execution_count": 8,
   "id": "752f21dc",
   "metadata": {
    "colab": {
     "base_uri": "https://localhost:8080/",
     "height": 450
    },
    "id": "fRCoPUYNMK2U",
    "outputId": "e1265bfb-f9be-48a8-b415-5b8d402eab44"
   },
   "outputs": [
    {
     "data": {
      "text/html": [
       "<div>\n",
       "<style scoped>\n",
       "    .dataframe tbody tr th:only-of-type {\n",
       "        vertical-align: middle;\n",
       "    }\n",
       "\n",
       "    .dataframe tbody tr th {\n",
       "        vertical-align: top;\n",
       "    }\n",
       "\n",
       "    .dataframe thead th {\n",
       "        text-align: right;\n",
       "    }\n",
       "</style>\n",
       "<table border=\"1\" class=\"dataframe\">\n",
       "  <thead>\n",
       "    <tr style=\"text-align: right;\">\n",
       "      <th></th>\n",
       "      <th>spend_90_total</th>\n",
       "      <th>spend_90_flag</th>\n",
       "    </tr>\n",
       "    <tr>\n",
       "      <th>Customer ID</th>\n",
       "      <th></th>\n",
       "      <th></th>\n",
       "    </tr>\n",
       "  </thead>\n",
       "  <tbody>\n",
       "    <tr>\n",
       "      <th>AA-1031545</th>\n",
       "      <td>368.2710</td>\n",
       "      <td>1</td>\n",
       "    </tr>\n",
       "    <tr>\n",
       "      <th>AA-1031558</th>\n",
       "      <td>45.9900</td>\n",
       "      <td>1</td>\n",
       "    </tr>\n",
       "    <tr>\n",
       "      <th>AA-103751406</th>\n",
       "      <td>149.8720</td>\n",
       "      <td>1</td>\n",
       "    </tr>\n",
       "    <tr>\n",
       "      <th>AA-103757</th>\n",
       "      <td>444.4200</td>\n",
       "      <td>1</td>\n",
       "    </tr>\n",
       "    <tr>\n",
       "      <th>AA-1037582</th>\n",
       "      <td>79.9000</td>\n",
       "      <td>1</td>\n",
       "    </tr>\n",
       "    <tr>\n",
       "      <th>...</th>\n",
       "      <td>...</td>\n",
       "      <td>...</td>\n",
       "    </tr>\n",
       "    <tr>\n",
       "      <th>ZC-219107</th>\n",
       "      <td>2254.2840</td>\n",
       "      <td>1</td>\n",
       "    </tr>\n",
       "    <tr>\n",
       "      <th>ZC-2191082</th>\n",
       "      <td>102.7400</td>\n",
       "      <td>1</td>\n",
       "    </tr>\n",
       "    <tr>\n",
       "      <th>ZD-1192538</th>\n",
       "      <td>140.5800</td>\n",
       "      <td>1</td>\n",
       "    </tr>\n",
       "    <tr>\n",
       "      <th>ZD-2192527</th>\n",
       "      <td>445.3260</td>\n",
       "      <td>1</td>\n",
       "    </tr>\n",
       "    <tr>\n",
       "      <th>ZD-2192545</th>\n",
       "      <td>933.0555</td>\n",
       "      <td>1</td>\n",
       "    </tr>\n",
       "  </tbody>\n",
       "</table>\n",
       "<p>2784 rows × 2 columns</p>\n",
       "</div>"
      ],
      "text/plain": [
       "              spend_90_total  spend_90_flag\n",
       "Customer ID                                \n",
       "AA-1031545          368.2710              1\n",
       "AA-1031558           45.9900              1\n",
       "AA-103751406        149.8720              1\n",
       "AA-103757           444.4200              1\n",
       "AA-1037582           79.9000              1\n",
       "...                      ...            ...\n",
       "ZC-219107          2254.2840              1\n",
       "ZC-2191082          102.7400              1\n",
       "ZD-1192538          140.5800              1\n",
       "ZD-2192527          445.3260              1\n",
       "ZD-2192545          933.0555              1\n",
       "\n",
       "[2784 rows x 2 columns]"
      ]
     },
     "execution_count": 8,
     "metadata": {},
     "output_type": "execute_result"
    }
   ],
   "source": [
    "#make targets from out data\n",
    "targets_df = temporal_out_df.groupby('Customer ID').sum().rename({'Sales':'spend_90_total'}, axis = 1).assign(spend_90_flag = 1)\n",
    "targets_df"
   ]
  },
  {
   "cell_type": "code",
   "execution_count": 9,
   "id": "bf978ceb",
   "metadata": {
    "colab": {
     "base_uri": "https://localhost:8080/"
    },
    "id": "AL4eajn_UhdJ",
    "outputId": "cd7d740f-ebd3-486d-d299-63b5ca84d80a"
   },
   "outputs": [
    {
     "data": {
      "text/plain": [
       "Customer ID\n",
       "PC-187451404        1.188\n",
       "CC-123701402        1.248\n",
       "DK-133751402        1.392\n",
       "ND-846095           1.935\n",
       "AH-12068            2.052\n",
       "                  ...    \n",
       "DL-133158        7383.810\n",
       "GT-146351408     8167.420\n",
       "BF-1100558       9286.830\n",
       "HL-150401406    10522.550\n",
       "TA-213851406    13716.458\n",
       "Name: spend_90_total, Length: 2784, dtype: float64"
      ]
     },
     "execution_count": 9,
     "metadata": {},
     "output_type": "execute_result"
    }
   ],
   "source": [
    "targets_df[\"spend_90_total\"].sort_values()"
   ]
  },
  {
   "cell_type": "code",
   "execution_count": 10,
   "id": "885a9a16",
   "metadata": {
    "id": "-YDKMo35MK2U"
   },
   "outputs": [],
   "source": [
    "# make recency (date) features from in data\n",
    "max_date = temporal_in_df['Order Date'].max()"
   ]
  },
  {
   "cell_type": "code",
   "execution_count": 11,
   "id": "cf90e52c",
   "metadata": {
    "id": "Q-EVq39mMK2U"
   },
   "outputs": [],
   "source": [
    "recency_features_df = temporal_in_df[['Customer ID', 'Order Date']].groupby('Customer ID').apply(lambda x: (x['Order Date'].max() - max_date)/ pd.to_timedelta(1, 'day')).to_frame().set_axis(['recency'], axis = 1)"
   ]
  },
  {
   "cell_type": "code",
   "execution_count": 12,
   "id": "a9e88950",
   "metadata": {
    "colab": {
     "base_uri": "https://localhost:8080/",
     "height": 235
    },
    "id": "km353uimMK2U",
    "outputId": "12b50c8e-4ee5-4d8b-da89-62edee1f83f2"
   },
   "outputs": [
    {
     "data": {
      "text/html": [
       "<div>\n",
       "<style scoped>\n",
       "    .dataframe tbody tr th:only-of-type {\n",
       "        vertical-align: middle;\n",
       "    }\n",
       "\n",
       "    .dataframe tbody tr th {\n",
       "        vertical-align: top;\n",
       "    }\n",
       "\n",
       "    .dataframe thead th {\n",
       "        text-align: right;\n",
       "    }\n",
       "</style>\n",
       "<table border=\"1\" class=\"dataframe\">\n",
       "  <thead>\n",
       "    <tr style=\"text-align: right;\">\n",
       "      <th></th>\n",
       "      <th>recency</th>\n",
       "    </tr>\n",
       "    <tr>\n",
       "      <th>Customer ID</th>\n",
       "      <th></th>\n",
       "    </tr>\n",
       "  </thead>\n",
       "  <tbody>\n",
       "    <tr>\n",
       "      <th>AA-10315102</th>\n",
       "      <td>-268.0</td>\n",
       "    </tr>\n",
       "    <tr>\n",
       "      <th>AA-10315120</th>\n",
       "      <td>-869.0</td>\n",
       "    </tr>\n",
       "    <tr>\n",
       "      <th>AA-10315139</th>\n",
       "      <td>-59.0</td>\n",
       "    </tr>\n",
       "    <tr>\n",
       "      <th>AA-103151402</th>\n",
       "      <td>-94.0</td>\n",
       "    </tr>\n",
       "    <tr>\n",
       "      <th>AA-103151404</th>\n",
       "      <td>-728.0</td>\n",
       "    </tr>\n",
       "  </tbody>\n",
       "</table>\n",
       "</div>"
      ],
      "text/plain": [
       "              recency\n",
       "Customer ID          \n",
       "AA-10315102    -268.0\n",
       "AA-10315120    -869.0\n",
       "AA-10315139     -59.0\n",
       "AA-103151402    -94.0\n",
       "AA-103151404   -728.0"
      ]
     },
     "execution_count": 12,
     "metadata": {},
     "output_type": "execute_result"
    }
   ],
   "source": [
    "recency_features_df.head()"
   ]
  },
  {
   "cell_type": "code",
   "execution_count": 13,
   "id": "dbac0248",
   "metadata": {
    "colab": {
     "base_uri": "https://localhost:8080/",
     "height": 235
    },
    "id": "ZqxFXUdBMK2V",
    "outputId": "7648fad4-8807-4772-95a5-a7aa504bb771"
   },
   "outputs": [
    {
     "data": {
      "text/html": [
       "<div>\n",
       "<style scoped>\n",
       "    .dataframe tbody tr th:only-of-type {\n",
       "        vertical-align: middle;\n",
       "    }\n",
       "\n",
       "    .dataframe tbody tr th {\n",
       "        vertical-align: top;\n",
       "    }\n",
       "\n",
       "    .dataframe thead th {\n",
       "        text-align: right;\n",
       "    }\n",
       "</style>\n",
       "<table border=\"1\" class=\"dataframe\">\n",
       "  <thead>\n",
       "    <tr style=\"text-align: right;\">\n",
       "      <th></th>\n",
       "      <th>frequency</th>\n",
       "    </tr>\n",
       "    <tr>\n",
       "      <th>Customer ID</th>\n",
       "      <th></th>\n",
       "    </tr>\n",
       "  </thead>\n",
       "  <tbody>\n",
       "    <tr>\n",
       "      <th>AA-10315102</th>\n",
       "      <td>6</td>\n",
       "    </tr>\n",
       "    <tr>\n",
       "      <th>AA-10315120</th>\n",
       "      <td>1</td>\n",
       "    </tr>\n",
       "    <tr>\n",
       "      <th>AA-10315139</th>\n",
       "      <td>13</td>\n",
       "    </tr>\n",
       "    <tr>\n",
       "      <th>AA-103151402</th>\n",
       "      <td>6</td>\n",
       "    </tr>\n",
       "    <tr>\n",
       "      <th>AA-103151404</th>\n",
       "      <td>3</td>\n",
       "    </tr>\n",
       "  </tbody>\n",
       "</table>\n",
       "</div>"
      ],
      "text/plain": [
       "              frequency\n",
       "Customer ID            \n",
       "AA-10315102           6\n",
       "AA-10315120           1\n",
       "AA-10315139          13\n",
       "AA-103151402          6\n",
       "AA-103151404          3"
      ]
     },
     "execution_count": 13,
     "metadata": {},
     "output_type": "execute_result"
    }
   ],
   "source": [
    "# make frequency (count features from in data)\n",
    "frequency_features_df = temporal_in_df[['Customer ID', 'Order Date']].groupby('Customer ID').count().set_axis(['frequency'], axis = 1)\n",
    "frequency_features_df.head()"
   ]
  },
  {
   "cell_type": "code",
   "execution_count": 14,
   "id": "7fe93432",
   "metadata": {
    "colab": {
     "base_uri": "https://localhost:8080/",
     "height": 235
    },
    "id": "-OMFau_6O0vz",
    "outputId": "8b4c24c4-e218-4ae5-cb24-fafbbaf2b294"
   },
   "outputs": [
    {
     "data": {
      "text/html": [
       "<div>\n",
       "<style scoped>\n",
       "    .dataframe tbody tr th:only-of-type {\n",
       "        vertical-align: middle;\n",
       "    }\n",
       "\n",
       "    .dataframe tbody tr th {\n",
       "        vertical-align: top;\n",
       "    }\n",
       "\n",
       "    .dataframe thead th {\n",
       "        text-align: right;\n",
       "    }\n",
       "</style>\n",
       "<table border=\"1\" class=\"dataframe\">\n",
       "  <thead>\n",
       "    <tr style=\"text-align: right;\">\n",
       "      <th></th>\n",
       "      <th>price_sum</th>\n",
       "      <th>price_mean</th>\n",
       "    </tr>\n",
       "    <tr>\n",
       "      <th>Customer ID</th>\n",
       "      <th></th>\n",
       "      <th></th>\n",
       "    </tr>\n",
       "  </thead>\n",
       "  <tbody>\n",
       "    <tr>\n",
       "      <th>AA-10315102</th>\n",
       "      <td>544.656</td>\n",
       "      <td>90.776000</td>\n",
       "    </tr>\n",
       "    <tr>\n",
       "      <th>AA-10315120</th>\n",
       "      <td>2713.410</td>\n",
       "      <td>2713.410000</td>\n",
       "    </tr>\n",
       "    <tr>\n",
       "      <th>AA-10315139</th>\n",
       "      <td>2955.798</td>\n",
       "      <td>227.369077</td>\n",
       "    </tr>\n",
       "    <tr>\n",
       "      <th>AA-103151402</th>\n",
       "      <td>4780.552</td>\n",
       "      <td>796.758667</td>\n",
       "    </tr>\n",
       "    <tr>\n",
       "      <th>AA-103151404</th>\n",
       "      <td>753.508</td>\n",
       "      <td>251.169333</td>\n",
       "    </tr>\n",
       "  </tbody>\n",
       "</table>\n",
       "</div>"
      ],
      "text/plain": [
       "              price_sum   price_mean\n",
       "Customer ID                         \n",
       "AA-10315102     544.656    90.776000\n",
       "AA-10315120    2713.410  2713.410000\n",
       "AA-10315139    2955.798   227.369077\n",
       "AA-103151402   4780.552   796.758667\n",
       "AA-103151404    753.508   251.169333"
      ]
     },
     "execution_count": 14,
     "metadata": {},
     "output_type": "execute_result"
    }
   ],
   "source": [
    "# make price (monitery features from in data)\n",
    "price_features_df = temporal_in_df.groupby('Customer ID').aggregate({'Sales':['sum', 'mean']}).set_axis(['price_sum', 'price_mean'], axis = 1)\n",
    "price_features_df.head()"
   ]
  },
  {
   "cell_type": "code",
   "execution_count": 15,
   "id": "e675bb9e",
   "metadata": {
    "colab": {
     "base_uri": "https://localhost:8080/",
     "height": 450
    },
    "id": "u6ya4jxtPB4S",
    "outputId": "2f73b8c9-82f4-4bf3-eb41-c86b024120c3"
   },
   "outputs": [
    {
     "data": {
      "text/html": [
       "<div>\n",
       "<style scoped>\n",
       "    .dataframe tbody tr th:only-of-type {\n",
       "        vertical-align: middle;\n",
       "    }\n",
       "\n",
       "    .dataframe tbody tr th {\n",
       "        vertical-align: top;\n",
       "    }\n",
       "\n",
       "    .dataframe thead th {\n",
       "        text-align: right;\n",
       "    }\n",
       "</style>\n",
       "<table border=\"1\" class=\"dataframe\">\n",
       "  <thead>\n",
       "    <tr style=\"text-align: right;\">\n",
       "      <th></th>\n",
       "      <th>recency</th>\n",
       "      <th>frequency</th>\n",
       "      <th>price_sum</th>\n",
       "      <th>price_mean</th>\n",
       "      <th>spend_90_total</th>\n",
       "      <th>spend_90_flag</th>\n",
       "    </tr>\n",
       "    <tr>\n",
       "      <th>Customer ID</th>\n",
       "      <th></th>\n",
       "      <th></th>\n",
       "      <th></th>\n",
       "      <th></th>\n",
       "      <th></th>\n",
       "      <th></th>\n",
       "    </tr>\n",
       "  </thead>\n",
       "  <tbody>\n",
       "    <tr>\n",
       "      <th>AA-10315102</th>\n",
       "      <td>-268.0</td>\n",
       "      <td>6</td>\n",
       "      <td>544.6560</td>\n",
       "      <td>90.776000</td>\n",
       "      <td>0.0</td>\n",
       "      <td>0.0</td>\n",
       "    </tr>\n",
       "    <tr>\n",
       "      <th>AA-10315120</th>\n",
       "      <td>-869.0</td>\n",
       "      <td>1</td>\n",
       "      <td>2713.4100</td>\n",
       "      <td>2713.410000</td>\n",
       "      <td>0.0</td>\n",
       "      <td>0.0</td>\n",
       "    </tr>\n",
       "    <tr>\n",
       "      <th>AA-10315139</th>\n",
       "      <td>-59.0</td>\n",
       "      <td>13</td>\n",
       "      <td>2955.7980</td>\n",
       "      <td>227.369077</td>\n",
       "      <td>0.0</td>\n",
       "      <td>0.0</td>\n",
       "    </tr>\n",
       "    <tr>\n",
       "      <th>AA-103151402</th>\n",
       "      <td>-94.0</td>\n",
       "      <td>6</td>\n",
       "      <td>4780.5520</td>\n",
       "      <td>796.758667</td>\n",
       "      <td>0.0</td>\n",
       "      <td>0.0</td>\n",
       "    </tr>\n",
       "    <tr>\n",
       "      <th>AA-103151404</th>\n",
       "      <td>-728.0</td>\n",
       "      <td>3</td>\n",
       "      <td>753.5080</td>\n",
       "      <td>251.169333</td>\n",
       "      <td>0.0</td>\n",
       "      <td>0.0</td>\n",
       "    </tr>\n",
       "    <tr>\n",
       "      <th>...</th>\n",
       "      <td>...</td>\n",
       "      <td>...</td>\n",
       "      <td>...</td>\n",
       "      <td>...</td>\n",
       "      <td>...</td>\n",
       "      <td>...</td>\n",
       "    </tr>\n",
       "    <tr>\n",
       "      <th>ZD-2192548</th>\n",
       "      <td>-660.0</td>\n",
       "      <td>4</td>\n",
       "      <td>1302.1680</td>\n",
       "      <td>325.542000</td>\n",
       "      <td>0.0</td>\n",
       "      <td>0.0</td>\n",
       "    </tr>\n",
       "    <tr>\n",
       "      <th>ZD-2192564</th>\n",
       "      <td>-1319.0</td>\n",
       "      <td>4</td>\n",
       "      <td>1225.3920</td>\n",
       "      <td>306.348000</td>\n",
       "      <td>0.0</td>\n",
       "      <td>0.0</td>\n",
       "    </tr>\n",
       "    <tr>\n",
       "      <th>ZD-219257</th>\n",
       "      <td>-1108.0</td>\n",
       "      <td>1</td>\n",
       "      <td>59.9400</td>\n",
       "      <td>59.940000</td>\n",
       "      <td>0.0</td>\n",
       "      <td>0.0</td>\n",
       "    </tr>\n",
       "    <tr>\n",
       "      <th>ZD-2192582</th>\n",
       "      <td>-106.0</td>\n",
       "      <td>2</td>\n",
       "      <td>678.1014</td>\n",
       "      <td>339.050700</td>\n",
       "      <td>0.0</td>\n",
       "      <td>0.0</td>\n",
       "    </tr>\n",
       "    <tr>\n",
       "      <th>ZD-2192596</th>\n",
       "      <td>-659.0</td>\n",
       "      <td>2</td>\n",
       "      <td>269.3100</td>\n",
       "      <td>134.655000</td>\n",
       "      <td>0.0</td>\n",
       "      <td>0.0</td>\n",
       "    </tr>\n",
       "  </tbody>\n",
       "</table>\n",
       "<p>16002 rows × 6 columns</p>\n",
       "</div>"
      ],
      "text/plain": [
       "              recency  frequency  price_sum   price_mean  spend_90_total  \\\n",
       "Customer ID                                                                \n",
       "AA-10315102    -268.0          6   544.6560    90.776000             0.0   \n",
       "AA-10315120    -869.0          1  2713.4100  2713.410000             0.0   \n",
       "AA-10315139     -59.0         13  2955.7980   227.369077             0.0   \n",
       "AA-103151402    -94.0          6  4780.5520   796.758667             0.0   \n",
       "AA-103151404   -728.0          3   753.5080   251.169333             0.0   \n",
       "...               ...        ...        ...          ...             ...   \n",
       "ZD-2192548     -660.0          4  1302.1680   325.542000             0.0   \n",
       "ZD-2192564    -1319.0          4  1225.3920   306.348000             0.0   \n",
       "ZD-219257     -1108.0          1    59.9400    59.940000             0.0   \n",
       "ZD-2192582     -106.0          2   678.1014   339.050700             0.0   \n",
       "ZD-2192596     -659.0          2   269.3100   134.655000             0.0   \n",
       "\n",
       "              spend_90_flag  \n",
       "Customer ID                  \n",
       "AA-10315102             0.0  \n",
       "AA-10315120             0.0  \n",
       "AA-10315139             0.0  \n",
       "AA-103151402            0.0  \n",
       "AA-103151404            0.0  \n",
       "...                     ...  \n",
       "ZD-2192548              0.0  \n",
       "ZD-2192564              0.0  \n",
       "ZD-219257               0.0  \n",
       "ZD-2192582              0.0  \n",
       "ZD-2192596              0.0  \n",
       "\n",
       "[16002 rows x 6 columns]"
      ]
     },
     "execution_count": 15,
     "metadata": {},
     "output_type": "execute_result"
    }
   ],
   "source": [
    "# combine features\n",
    "features_df = pd.concat([recency_features_df, frequency_features_df, price_features_df], axis = 1).merge(targets_df, left_index = True, right_index = True, how = 'left').fillna(0)\n",
    "features_df"
   ]
  },
  {
   "cell_type": "markdown",
   "id": "234239bb",
   "metadata": {
    "id": "i2rQbLSXCWu8"
   },
   "source": [
    "## Perfroming various predictive modelling techniques:"
   ]
  },
  {
   "cell_type": "markdown",
   "id": "a6ece4a9",
   "metadata": {
    "id": "sjfmf5Csix6N"
   },
   "source": [
    "### Predictve modelling for next 90 days behaviour:\n",
    "\n",
    "#### How much will the customers spend in the next 90 days?"
   ]
  },
  {
   "cell_type": "code",
   "execution_count": 16,
   "id": "17ac2373",
   "metadata": {
    "id": "8lwkAIL9PFBn"
   },
   "outputs": [],
   "source": [
    "# machine laerning\n",
    "\n",
    "from xgboost import XGBClassifier, XGBRegressor\n",
    "from sklearn.model_selection import cross_val_score, GridSearchCV"
   ]
  },
  {
   "cell_type": "code",
   "execution_count": 17,
   "id": "b0d3e41c",
   "metadata": {
    "colab": {
     "base_uri": "https://localhost:8080/"
    },
    "id": "KPprEhvnYfEU",
    "outputId": "c60b05a2-5de2-4526-de8e-2d01ba51ecdf"
   },
   "outputs": [
    {
     "data": {
      "text/plain": [
       "recency            -59.000000\n",
       "frequency           13.000000\n",
       "price_sum         2955.798000\n",
       "price_mean         227.369077\n",
       "spend_90_total       0.000000\n",
       "spend_90_flag        0.000000\n",
       "Name: AA-10315139, dtype: float64"
      ]
     },
     "execution_count": 17,
     "metadata": {},
     "output_type": "execute_result"
    }
   ],
   "source": [
    "features_df.loc['AA-10315139',:]"
   ]
  },
  {
   "cell_type": "code",
   "execution_count": 18,
   "id": "6907e9df",
   "metadata": {
    "id": "17KSgfFIPHs7"
   },
   "outputs": [],
   "source": [
    "X = features_df[['recency', 'frequency', 'price_sum', 'price_mean']]"
   ]
  },
  {
   "cell_type": "code",
   "execution_count": 19,
   "id": "5346234f",
   "metadata": {
    "id": "Vhm5xpbzPJuD"
   },
   "outputs": [],
   "source": [
    "# next 90 days spend prediction\n",
    "y_spend = features_df['spend_90_total']"
   ]
  },
  {
   "cell_type": "code",
   "execution_count": 20,
   "id": "8a041ab3",
   "metadata": {
    "colab": {
     "base_uri": "https://localhost:8080/"
    },
    "id": "MB_3s4EgUu1K",
    "outputId": "7d0b55d4-9b29-4328-e715-d479005e0d6f"
   },
   "outputs": [
    {
     "data": {
      "text/plain": [
       "(16002, 4)"
      ]
     },
     "execution_count": 20,
     "metadata": {},
     "output_type": "execute_result"
    }
   ],
   "source": [
    "X.shape"
   ]
  },
  {
   "cell_type": "code",
   "execution_count": 21,
   "id": "f32eae81",
   "metadata": {
    "colab": {
     "base_uri": "https://localhost:8080/"
    },
    "id": "xU9JQB2KUulV",
    "outputId": "5dbf7276-9e37-4ca0-991a-f8db1a3ac056"
   },
   "outputs": [
    {
     "data": {
      "text/plain": [
       "(16002,)"
      ]
     },
     "execution_count": 21,
     "metadata": {},
     "output_type": "execute_result"
    }
   ],
   "source": [
    "y_spend.shape"
   ]
  },
  {
   "cell_type": "markdown",
   "id": "1dc09ed5",
   "metadata": {
    "id": "jJEOjhFUkSKX"
   },
   "source": [
    "##### XGBoost"
   ]
  },
  {
   "cell_type": "code",
   "execution_count": 22,
   "id": "0ba6f716",
   "metadata": {
    "id": "jZC__8uUPLW3"
   },
   "outputs": [],
   "source": [
    "xgb_reg_spec = XGBRegressor(objective='reg:squarederror', random_state=123)"
   ]
  },
  {
   "cell_type": "code",
   "execution_count": 23,
   "id": "51280990",
   "metadata": {
    "id": "79XRzKpePoDN"
   },
   "outputs": [],
   "source": [
    "# Creating a GridSearchCV to tune the hyperparameters\n",
    "xgb_reg_model =GridSearchCV(estimator=xgb_reg_spec, param_grid = dict(learning_rate = [0.01, 0.1, 0.3, 0.5]), scoring='neg_mean_absolute_error', refit= True, cv = 5) "
   ]
  },
  {
   "cell_type": "code",
   "execution_count": 24,
   "id": "fdadba4b",
   "metadata": {
    "colab": {
     "base_uri": "https://localhost:8080/"
    },
    "id": "t32o2_N_Pqil",
    "outputId": "ddfe7a90-2961-46b8-ebbf-9a3a2f69b2f0"
   },
   "outputs": [
    {
     "data": {
      "text/plain": [
       "GridSearchCV(cv=5,\n",
       "             estimator=XGBRegressor(base_score=None, booster=None,\n",
       "                                    colsample_bylevel=None,\n",
       "                                    colsample_bynode=None,\n",
       "                                    colsample_bytree=None,\n",
       "                                    enable_categorical=False, gamma=None,\n",
       "                                    gpu_id=None, importance_type=None,\n",
       "                                    interaction_constraints=None,\n",
       "                                    learning_rate=None, max_delta_step=None,\n",
       "                                    max_depth=None, min_child_weight=None,\n",
       "                                    missing=nan, monotone_constraints=None,\n",
       "                                    n_estimators=100, n_jobs=None,\n",
       "                                    num_parallel_tree=None, predictor=None,\n",
       "                                    random_state=123, reg_alpha=None,\n",
       "                                    reg_lambda=None, scale_pos_weight=None,\n",
       "                                    subsample=None, tree_method=None,\n",
       "                                    validate_parameters=None, verbosity=None),\n",
       "             param_grid={'learning_rate': [0.01, 0.1, 0.3, 0.5]},\n",
       "             scoring='neg_mean_absolute_error')"
      ]
     },
     "execution_count": 24,
     "metadata": {},
     "output_type": "execute_result"
    }
   ],
   "source": [
    "# Fitting the Model\n",
    "xgb_reg_model.fit(X, y_spend)"
   ]
  },
  {
   "cell_type": "code",
   "execution_count": 25,
   "id": "d520f583",
   "metadata": {
    "colab": {
     "base_uri": "https://localhost:8080/"
    },
    "id": "X7PJLutqPsFR",
    "outputId": "831825fd-8500-4097-c985-b4cd78c8244c"
   },
   "outputs": [
    {
     "data": {
      "text/plain": [
       "-70.10027364523182"
      ]
     },
     "execution_count": 25,
     "metadata": {},
     "output_type": "execute_result"
    }
   ],
   "source": [
    "xgb_reg_model.best_score_ # NAME of the best parameters model."
   ]
  },
  {
   "cell_type": "code",
   "execution_count": 26,
   "id": "ec68187c",
   "metadata": {
    "colab": {
     "base_uri": "https://localhost:8080/"
    },
    "id": "GbAZJYx-PwAL",
    "outputId": "63b49f08-bc55-498a-fcc0-e3e53e3d9967"
   },
   "outputs": [
    {
     "data": {
      "text/plain": [
       "{'learning_rate': 0.01}"
      ]
     },
     "execution_count": 26,
     "metadata": {},
     "output_type": "execute_result"
    }
   ],
   "source": [
    "xgb_reg_model.best_params_ # best Hyperparameter value"
   ]
  },
  {
   "cell_type": "code",
   "execution_count": 27,
   "id": "7ce4c7a7",
   "metadata": {
    "colab": {
     "base_uri": "https://localhost:8080/"
    },
    "id": "u4lZ04hFPydi",
    "outputId": "a18c1b09-f033-4cde-fb70-a7448460515c"
   },
   "outputs": [
    {
     "data": {
      "text/plain": [
       "XGBRegressor(base_score=0.5, booster='gbtree', colsample_bylevel=1,\n",
       "             colsample_bynode=1, colsample_bytree=1, enable_categorical=False,\n",
       "             gamma=0, gpu_id=-1, importance_type=None,\n",
       "             interaction_constraints='', learning_rate=0.01, max_delta_step=0,\n",
       "             max_depth=6, min_child_weight=1, missing=nan,\n",
       "             monotone_constraints='()', n_estimators=100, n_jobs=8,\n",
       "             num_parallel_tree=1, predictor='auto', random_state=123,\n",
       "             reg_alpha=0, reg_lambda=1, scale_pos_weight=1, subsample=1,\n",
       "             tree_method='exact', validate_parameters=1, verbosity=None)"
      ]
     },
     "execution_count": 27,
     "metadata": {},
     "output_type": "execute_result"
    }
   ],
   "source": [
    "xgb_reg_model.best_estimator_"
   ]
  },
  {
   "cell_type": "code",
   "execution_count": 28,
   "id": "ad7022d9",
   "metadata": {
    "id": "d6187ZzdP0-S"
   },
   "outputs": [],
   "source": [
    "# Merging the predictions to the data.\n",
    "predictions_xgb_reg_model = xgb_reg_model.predict(X)\n"
   ]
  },
  {
   "cell_type": "code",
   "execution_count": 29,
   "id": "f40f4dd6",
   "metadata": {
    "colab": {
     "base_uri": "https://localhost:8080/"
    },
    "id": "8yCCWi5hGzch",
    "outputId": "955f5cbb-3f9e-4dea-a522-2c619dd24b7d"
   },
   "outputs": [
    {
     "data": {
      "text/plain": [
       "array([38.020813, 33.49133 , 42.762573, ...,  9.285524, 22.59381 ,\n",
       "       22.341291], dtype=float32)"
      ]
     },
     "execution_count": 29,
     "metadata": {},
     "output_type": "execute_result"
    }
   ],
   "source": [
    "predictions_xgb_reg_model"
   ]
  },
  {
   "cell_type": "code",
   "execution_count": 30,
   "id": "36f5ce06",
   "metadata": {
    "colab": {
     "base_uri": "https://localhost:8080/",
     "height": 419
    },
    "id": "uQiMCd_iFaoM",
    "outputId": "f4000c1f-cc1d-4c85-dcba-b7eb8c672a77"
   },
   "outputs": [
    {
     "data": {
      "text/html": [
       "<div>\n",
       "<style scoped>\n",
       "    .dataframe tbody tr th:only-of-type {\n",
       "        vertical-align: middle;\n",
       "    }\n",
       "\n",
       "    .dataframe tbody tr th {\n",
       "        vertical-align: top;\n",
       "    }\n",
       "\n",
       "    .dataframe thead th {\n",
       "        text-align: right;\n",
       "    }\n",
       "</style>\n",
       "<table border=\"1\" class=\"dataframe\">\n",
       "  <thead>\n",
       "    <tr style=\"text-align: right;\">\n",
       "      <th></th>\n",
       "      <th>prediction_xgb</th>\n",
       "      <th>Customer ID</th>\n",
       "      <th>recency</th>\n",
       "      <th>frequency</th>\n",
       "      <th>price_sum</th>\n",
       "      <th>price_mean</th>\n",
       "    </tr>\n",
       "  </thead>\n",
       "  <tbody>\n",
       "    <tr>\n",
       "      <th>0</th>\n",
       "      <td>38.020813</td>\n",
       "      <td>AA-10315102</td>\n",
       "      <td>-268.0</td>\n",
       "      <td>6</td>\n",
       "      <td>544.6560</td>\n",
       "      <td>90.776000</td>\n",
       "    </tr>\n",
       "    <tr>\n",
       "      <th>1</th>\n",
       "      <td>33.491329</td>\n",
       "      <td>AA-10315120</td>\n",
       "      <td>-869.0</td>\n",
       "      <td>1</td>\n",
       "      <td>2713.4100</td>\n",
       "      <td>2713.410000</td>\n",
       "    </tr>\n",
       "    <tr>\n",
       "      <th>2</th>\n",
       "      <td>42.762573</td>\n",
       "      <td>AA-10315139</td>\n",
       "      <td>-59.0</td>\n",
       "      <td>13</td>\n",
       "      <td>2955.7980</td>\n",
       "      <td>227.369077</td>\n",
       "    </tr>\n",
       "    <tr>\n",
       "      <th>3</th>\n",
       "      <td>37.836720</td>\n",
       "      <td>AA-103151402</td>\n",
       "      <td>-94.0</td>\n",
       "      <td>6</td>\n",
       "      <td>4780.5520</td>\n",
       "      <td>796.758667</td>\n",
       "    </tr>\n",
       "    <tr>\n",
       "      <th>4</th>\n",
       "      <td>31.978191</td>\n",
       "      <td>AA-103151404</td>\n",
       "      <td>-728.0</td>\n",
       "      <td>3</td>\n",
       "      <td>753.5080</td>\n",
       "      <td>251.169333</td>\n",
       "    </tr>\n",
       "    <tr>\n",
       "      <th>...</th>\n",
       "      <td>...</td>\n",
       "      <td>...</td>\n",
       "      <td>...</td>\n",
       "      <td>...</td>\n",
       "      <td>...</td>\n",
       "      <td>...</td>\n",
       "    </tr>\n",
       "    <tr>\n",
       "      <th>15997</th>\n",
       "      <td>32.042683</td>\n",
       "      <td>ZD-2192548</td>\n",
       "      <td>-660.0</td>\n",
       "      <td>4</td>\n",
       "      <td>1302.1680</td>\n",
       "      <td>325.542000</td>\n",
       "    </tr>\n",
       "    <tr>\n",
       "      <th>15998</th>\n",
       "      <td>11.804090</td>\n",
       "      <td>ZD-2192564</td>\n",
       "      <td>-1319.0</td>\n",
       "      <td>4</td>\n",
       "      <td>1225.3920</td>\n",
       "      <td>306.348000</td>\n",
       "    </tr>\n",
       "    <tr>\n",
       "      <th>15999</th>\n",
       "      <td>9.285524</td>\n",
       "      <td>ZD-219257</td>\n",
       "      <td>-1108.0</td>\n",
       "      <td>1</td>\n",
       "      <td>59.9400</td>\n",
       "      <td>59.940000</td>\n",
       "    </tr>\n",
       "    <tr>\n",
       "      <th>16000</th>\n",
       "      <td>22.593809</td>\n",
       "      <td>ZD-2192582</td>\n",
       "      <td>-106.0</td>\n",
       "      <td>2</td>\n",
       "      <td>678.1014</td>\n",
       "      <td>339.050700</td>\n",
       "    </tr>\n",
       "    <tr>\n",
       "      <th>16001</th>\n",
       "      <td>22.341291</td>\n",
       "      <td>ZD-2192596</td>\n",
       "      <td>-659.0</td>\n",
       "      <td>2</td>\n",
       "      <td>269.3100</td>\n",
       "      <td>134.655000</td>\n",
       "    </tr>\n",
       "  </tbody>\n",
       "</table>\n",
       "<p>16002 rows × 6 columns</p>\n",
       "</div>"
      ],
      "text/plain": [
       "       prediction_xgb   Customer ID  recency  frequency  price_sum  \\\n",
       "0           38.020813   AA-10315102   -268.0          6   544.6560   \n",
       "1           33.491329   AA-10315120   -869.0          1  2713.4100   \n",
       "2           42.762573   AA-10315139    -59.0         13  2955.7980   \n",
       "3           37.836720  AA-103151402    -94.0          6  4780.5520   \n",
       "4           31.978191  AA-103151404   -728.0          3   753.5080   \n",
       "...               ...           ...      ...        ...        ...   \n",
       "15997       32.042683    ZD-2192548   -660.0          4  1302.1680   \n",
       "15998       11.804090    ZD-2192564  -1319.0          4  1225.3920   \n",
       "15999        9.285524     ZD-219257  -1108.0          1    59.9400   \n",
       "16000       22.593809    ZD-2192582   -106.0          2   678.1014   \n",
       "16001       22.341291    ZD-2192596   -659.0          2   269.3100   \n",
       "\n",
       "        price_mean  \n",
       "0        90.776000  \n",
       "1      2713.410000  \n",
       "2       227.369077  \n",
       "3       796.758667  \n",
       "4       251.169333  \n",
       "...            ...  \n",
       "15997   325.542000  \n",
       "15998   306.348000  \n",
       "15999    59.940000  \n",
       "16000   339.050700  \n",
       "16001   134.655000  \n",
       "\n",
       "[16002 rows x 6 columns]"
      ]
     },
     "execution_count": 30,
     "metadata": {},
     "output_type": "execute_result"
    }
   ],
   "source": [
    "pd.DataFrame({\"prediction_xgb\" : predictions_xgb_reg_model.tolist()}).merge(X.reset_index(),left_index=True, right_index=True)"
   ]
  },
  {
   "cell_type": "code",
   "execution_count": 31,
   "id": "514f4c91",
   "metadata": {
    "id": "9tdLSKPvF0gT"
   },
   "outputs": [],
   "source": [
    "pd.DataFrame({\"prediction_xgb\" : predictions_xgb_reg_model.tolist()}).merge(X.reset_index(),left_index=True, right_index=True).to_csv(\"XGB_reg_prediction.csv\")"
   ]
  },
  {
   "cell_type": "markdown",
   "id": "f538cb45",
   "metadata": {
    "id": "ipX6j97EkVpS"
   },
   "source": [
    "##### Linear Regression"
   ]
  },
  {
   "cell_type": "code",
   "execution_count": 32,
   "id": "b248e4dd",
   "metadata": {
    "id": "ZJexFvJJgNb_"
   },
   "outputs": [],
   "source": [
    "from sklearn.linear_model import LinearRegression\n",
    "from sklearn.preprocessing import StandardScaler"
   ]
  },
  {
   "cell_type": "code",
   "execution_count": 33,
   "id": "5308a630",
   "metadata": {
    "id": "7XoxyIKGgNK5"
   },
   "outputs": [],
   "source": [
    "\n",
    "lr = LinearRegression()\n"
   ]
  },
  {
   "cell_type": "code",
   "execution_count": 34,
   "id": "2cdc1a98",
   "metadata": {
    "colab": {
     "base_uri": "https://localhost:8080/"
    },
    "id": "XtQtFe8OhGZn",
    "outputId": "0953c379-a069-45dc-b386-a9c7275c21b0"
   },
   "outputs": [
    {
     "data": {
      "text/plain": [
       "GridSearchCV(cv=5, estimator=LinearRegression(),\n",
       "             param_grid={'copy_X': [True, False],\n",
       "                         'fit_intercept': [True, False]},\n",
       "             scoring='neg_mean_absolute_error')"
      ]
     },
     "execution_count": 34,
     "metadata": {},
     "output_type": "execute_result"
    }
   ],
   "source": [
    "parameters = {'fit_intercept':[True,False],  'copy_X':[True, False]}\n",
    "lr_reg_model = GridSearchCV(lr,parameters, cv=5, scoring='neg_mean_absolute_error')\n",
    "lr_reg_model.fit(X, y_spend)"
   ]
  },
  {
   "cell_type": "code",
   "execution_count": 35,
   "id": "65a0fb2f",
   "metadata": {
    "colab": {
     "base_uri": "https://localhost:8080/"
    },
    "id": "Cd3_nGVthGMg",
    "outputId": "b4d6af4f-b5e6-4e24-dbe0-d0be1e45d1de"
   },
   "outputs": [
    {
     "data": {
      "text/plain": [
       "-79.33522829273292"
      ]
     },
     "execution_count": 35,
     "metadata": {},
     "output_type": "execute_result"
    }
   ],
   "source": [
    "lr_reg_model.best_score_"
   ]
  },
  {
   "cell_type": "code",
   "execution_count": 36,
   "id": "0a324b2e",
   "metadata": {
    "colab": {
     "base_uri": "https://localhost:8080/"
    },
    "id": "PRfcmN0SiIxl",
    "outputId": "4b3c4588-5bc6-4c4e-adb7-460418badc94"
   },
   "outputs": [
    {
     "data": {
      "text/plain": [
       "{'copy_X': True, 'fit_intercept': False}"
      ]
     },
     "execution_count": 36,
     "metadata": {},
     "output_type": "execute_result"
    }
   ],
   "source": [
    "lr_reg_model.best_params_"
   ]
  },
  {
   "cell_type": "code",
   "execution_count": 37,
   "id": "c59b16d5",
   "metadata": {
    "id": "9cnhFMWWiIkT"
   },
   "outputs": [],
   "source": [
    "predictions_lr_reg_model = lr_reg_model.predict(X)"
   ]
  },
  {
   "cell_type": "code",
   "execution_count": 38,
   "id": "ff826047",
   "metadata": {
    "colab": {
     "base_uri": "https://localhost:8080/",
     "height": 419
    },
    "id": "_mFhrI51hpY3",
    "outputId": "c9dbab95-42bf-4edd-d390-70bab82d725f"
   },
   "outputs": [
    {
     "data": {
      "text/html": [
       "<div>\n",
       "<style scoped>\n",
       "    .dataframe tbody tr th:only-of-type {\n",
       "        vertical-align: middle;\n",
       "    }\n",
       "\n",
       "    .dataframe tbody tr th {\n",
       "        vertical-align: top;\n",
       "    }\n",
       "\n",
       "    .dataframe thead th {\n",
       "        text-align: right;\n",
       "    }\n",
       "</style>\n",
       "<table border=\"1\" class=\"dataframe\">\n",
       "  <thead>\n",
       "    <tr style=\"text-align: right;\">\n",
       "      <th></th>\n",
       "      <th>prediction_lr</th>\n",
       "      <th>Customer ID</th>\n",
       "      <th>recency</th>\n",
       "      <th>frequency</th>\n",
       "      <th>price_sum</th>\n",
       "      <th>price_mean</th>\n",
       "    </tr>\n",
       "  </thead>\n",
       "  <tbody>\n",
       "    <tr>\n",
       "      <th>0</th>\n",
       "      <td>63.835429</td>\n",
       "      <td>AA-10315102</td>\n",
       "      <td>-268.0</td>\n",
       "      <td>6</td>\n",
       "      <td>544.6560</td>\n",
       "      <td>90.776000</td>\n",
       "    </tr>\n",
       "    <tr>\n",
       "      <th>1</th>\n",
       "      <td>92.272541</td>\n",
       "      <td>AA-10315120</td>\n",
       "      <td>-869.0</td>\n",
       "      <td>1</td>\n",
       "      <td>2713.4100</td>\n",
       "      <td>2713.410000</td>\n",
       "    </tr>\n",
       "    <tr>\n",
       "      <th>2</th>\n",
       "      <td>117.169248</td>\n",
       "      <td>AA-10315139</td>\n",
       "      <td>-59.0</td>\n",
       "      <td>13</td>\n",
       "      <td>2955.7980</td>\n",
       "      <td>227.369077</td>\n",
       "    </tr>\n",
       "    <tr>\n",
       "      <th>3</th>\n",
       "      <td>52.441168</td>\n",
       "      <td>AA-103151402</td>\n",
       "      <td>-94.0</td>\n",
       "      <td>6</td>\n",
       "      <td>4780.5520</td>\n",
       "      <td>796.758667</td>\n",
       "    </tr>\n",
       "    <tr>\n",
       "      <th>4</th>\n",
       "      <td>45.418695</td>\n",
       "      <td>AA-103151404</td>\n",
       "      <td>-728.0</td>\n",
       "      <td>3</td>\n",
       "      <td>753.5080</td>\n",
       "      <td>251.169333</td>\n",
       "    </tr>\n",
       "    <tr>\n",
       "      <th>...</th>\n",
       "      <td>...</td>\n",
       "      <td>...</td>\n",
       "      <td>...</td>\n",
       "      <td>...</td>\n",
       "      <td>...</td>\n",
       "      <td>...</td>\n",
       "    </tr>\n",
       "    <tr>\n",
       "      <th>15997</th>\n",
       "      <td>52.631985</td>\n",
       "      <td>ZD-2192548</td>\n",
       "      <td>-660.0</td>\n",
       "      <td>4</td>\n",
       "      <td>1302.1680</td>\n",
       "      <td>325.542000</td>\n",
       "    </tr>\n",
       "    <tr>\n",
       "      <th>15998</th>\n",
       "      <td>64.151615</td>\n",
       "      <td>ZD-2192564</td>\n",
       "      <td>-1319.0</td>\n",
       "      <td>4</td>\n",
       "      <td>1225.3920</td>\n",
       "      <td>306.348000</td>\n",
       "    </tr>\n",
       "    <tr>\n",
       "      <th>15999</th>\n",
       "      <td>30.971375</td>\n",
       "      <td>ZD-219257</td>\n",
       "      <td>-1108.0</td>\n",
       "      <td>1</td>\n",
       "      <td>59.9400</td>\n",
       "      <td>59.940000</td>\n",
       "    </tr>\n",
       "    <tr>\n",
       "      <th>16000</th>\n",
       "      <td>27.822957</td>\n",
       "      <td>ZD-2192582</td>\n",
       "      <td>-106.0</td>\n",
       "      <td>2</td>\n",
       "      <td>678.1014</td>\n",
       "      <td>339.050700</td>\n",
       "    </tr>\n",
       "    <tr>\n",
       "      <th>16001</th>\n",
       "      <td>33.981127</td>\n",
       "      <td>ZD-2192596</td>\n",
       "      <td>-659.0</td>\n",
       "      <td>2</td>\n",
       "      <td>269.3100</td>\n",
       "      <td>134.655000</td>\n",
       "    </tr>\n",
       "  </tbody>\n",
       "</table>\n",
       "<p>16002 rows × 6 columns</p>\n",
       "</div>"
      ],
      "text/plain": [
       "       prediction_lr   Customer ID  recency  frequency  price_sum   price_mean\n",
       "0          63.835429   AA-10315102   -268.0          6   544.6560    90.776000\n",
       "1          92.272541   AA-10315120   -869.0          1  2713.4100  2713.410000\n",
       "2         117.169248   AA-10315139    -59.0         13  2955.7980   227.369077\n",
       "3          52.441168  AA-103151402    -94.0          6  4780.5520   796.758667\n",
       "4          45.418695  AA-103151404   -728.0          3   753.5080   251.169333\n",
       "...              ...           ...      ...        ...        ...          ...\n",
       "15997      52.631985    ZD-2192548   -660.0          4  1302.1680   325.542000\n",
       "15998      64.151615    ZD-2192564  -1319.0          4  1225.3920   306.348000\n",
       "15999      30.971375     ZD-219257  -1108.0          1    59.9400    59.940000\n",
       "16000      27.822957    ZD-2192582   -106.0          2   678.1014   339.050700\n",
       "16001      33.981127    ZD-2192596   -659.0          2   269.3100   134.655000\n",
       "\n",
       "[16002 rows x 6 columns]"
      ]
     },
     "execution_count": 38,
     "metadata": {},
     "output_type": "execute_result"
    }
   ],
   "source": [
    "pd.DataFrame({\"prediction_lr\" : predictions_lr_reg_model.tolist()}).merge(X.reset_index(),left_index=True, right_index=True)"
   ]
  },
  {
   "cell_type": "code",
   "execution_count": 39,
   "id": "bccea160",
   "metadata": {
    "id": "AvWoP00RGojv"
   },
   "outputs": [],
   "source": [
    "pd.DataFrame({\"prediction_lr\" : predictions_lr_reg_model.tolist()}).merge(X.reset_index(),left_index=True, right_index=True).to_csv(\"lr_reg_prediction.csv\")"
   ]
  },
  {
   "cell_type": "markdown",
   "id": "7c480302",
   "metadata": {
    "id": "hSwz0WiHkaO3"
   },
   "source": [
    "##### Random Forest Regressor"
   ]
  },
  {
   "cell_type": "code",
   "execution_count": 40,
   "id": "476f2862",
   "metadata": {
    "id": "K29bEn_jgMkr"
   },
   "outputs": [],
   "source": [
    "from sklearn.ensemble import RandomForestRegressor"
   ]
  },
  {
   "cell_type": "code",
   "execution_count": 41,
   "id": "187d7caa",
   "metadata": {
    "id": "CRN2scyVjd1i"
   },
   "outputs": [],
   "source": [
    "param_grid = dict(n_estimators = [10, 20, 50, 100, 500, 1000], max_depth = [2, 5], max_features = ['auto', 'sqrt', 'log2'])"
   ]
  },
  {
   "cell_type": "code",
   "execution_count": 42,
   "id": "c0383036",
   "metadata": {
    "id": "tgAV5YTfjdmm"
   },
   "outputs": [],
   "source": [
    "rf = RandomForestRegressor()\n",
    "rf_regressor =GridSearchCV(estimator=rf, param_grid = param_grid, scoring='neg_mean_absolute_error', refit= True, cv = 5) "
   ]
  },
  {
   "cell_type": "code",
   "execution_count": 43,
   "id": "d4de20b2",
   "metadata": {
    "colab": {
     "base_uri": "https://localhost:8080/"
    },
    "id": "2e43kr-FkluJ",
    "outputId": "15633994-1626-498a-f430-b4fa19fec0e5"
   },
   "outputs": [
    {
     "data": {
      "text/plain": [
       "GridSearchCV(cv=5, estimator=RandomForestRegressor(),\n",
       "             param_grid={'max_depth': [2, 5],\n",
       "                         'max_features': ['auto', 'sqrt', 'log2'],\n",
       "                         'n_estimators': [10, 20, 50, 100, 500, 1000]},\n",
       "             scoring='neg_mean_absolute_error')"
      ]
     },
     "execution_count": 43,
     "metadata": {},
     "output_type": "execute_result"
    }
   ],
   "source": [
    "rf_regressor.fit(X, y_spend)"
   ]
  },
  {
   "cell_type": "code",
   "execution_count": 44,
   "id": "e2c48972",
   "metadata": {
    "colab": {
     "base_uri": "https://localhost:8080/"
    },
    "id": "oz-Lkb7vklel",
    "outputId": "49f4b5af-ff06-47ac-c0d7-a704ea34ae4f"
   },
   "outputs": [
    {
     "data": {
      "text/plain": [
       "-83.76601308685126"
      ]
     },
     "execution_count": 44,
     "metadata": {},
     "output_type": "execute_result"
    }
   ],
   "source": [
    "rf_regressor.best_score_"
   ]
  },
  {
   "cell_type": "code",
   "execution_count": 45,
   "id": "812cb6c7",
   "metadata": {
    "id": "zF8wR-z1I4lz"
   },
   "outputs": [],
   "source": [
    "predictions_rf_reg_model = rf_regressor.predict(X)"
   ]
  },
  {
   "cell_type": "code",
   "execution_count": 46,
   "id": "5031947d",
   "metadata": {
    "colab": {
     "base_uri": "https://localhost:8080/",
     "height": 419
    },
    "id": "dWkIxiDijdZM",
    "outputId": "3173fb59-47dc-4c01-e605-7e7dc571f707"
   },
   "outputs": [
    {
     "data": {
      "text/html": [
       "<div>\n",
       "<style scoped>\n",
       "    .dataframe tbody tr th:only-of-type {\n",
       "        vertical-align: middle;\n",
       "    }\n",
       "\n",
       "    .dataframe tbody tr th {\n",
       "        vertical-align: top;\n",
       "    }\n",
       "\n",
       "    .dataframe thead th {\n",
       "        text-align: right;\n",
       "    }\n",
       "</style>\n",
       "<table border=\"1\" class=\"dataframe\">\n",
       "  <thead>\n",
       "    <tr style=\"text-align: right;\">\n",
       "      <th></th>\n",
       "      <th>prediction_rf</th>\n",
       "      <th>Customer ID</th>\n",
       "      <th>recency</th>\n",
       "      <th>frequency</th>\n",
       "      <th>price_sum</th>\n",
       "      <th>price_mean</th>\n",
       "    </tr>\n",
       "  </thead>\n",
       "  <tbody>\n",
       "    <tr>\n",
       "      <th>0</th>\n",
       "      <td>61.006709</td>\n",
       "      <td>AA-10315102</td>\n",
       "      <td>-268.0</td>\n",
       "      <td>6</td>\n",
       "      <td>544.6560</td>\n",
       "      <td>90.776000</td>\n",
       "    </tr>\n",
       "    <tr>\n",
       "      <th>1</th>\n",
       "      <td>57.549318</td>\n",
       "      <td>AA-10315120</td>\n",
       "      <td>-869.0</td>\n",
       "      <td>1</td>\n",
       "      <td>2713.4100</td>\n",
       "      <td>2713.410000</td>\n",
       "    </tr>\n",
       "    <tr>\n",
       "      <th>2</th>\n",
       "      <td>79.859482</td>\n",
       "      <td>AA-10315139</td>\n",
       "      <td>-59.0</td>\n",
       "      <td>13</td>\n",
       "      <td>2955.7980</td>\n",
       "      <td>227.369077</td>\n",
       "    </tr>\n",
       "    <tr>\n",
       "      <th>3</th>\n",
       "      <td>62.933810</td>\n",
       "      <td>AA-103151402</td>\n",
       "      <td>-94.0</td>\n",
       "      <td>6</td>\n",
       "      <td>4780.5520</td>\n",
       "      <td>796.758667</td>\n",
       "    </tr>\n",
       "    <tr>\n",
       "      <th>4</th>\n",
       "      <td>52.643518</td>\n",
       "      <td>AA-103151404</td>\n",
       "      <td>-728.0</td>\n",
       "      <td>3</td>\n",
       "      <td>753.5080</td>\n",
       "      <td>251.169333</td>\n",
       "    </tr>\n",
       "    <tr>\n",
       "      <th>...</th>\n",
       "      <td>...</td>\n",
       "      <td>...</td>\n",
       "      <td>...</td>\n",
       "      <td>...</td>\n",
       "      <td>...</td>\n",
       "      <td>...</td>\n",
       "    </tr>\n",
       "    <tr>\n",
       "      <th>15997</th>\n",
       "      <td>50.982748</td>\n",
       "      <td>ZD-2192548</td>\n",
       "      <td>-660.0</td>\n",
       "      <td>4</td>\n",
       "      <td>1302.1680</td>\n",
       "      <td>325.542000</td>\n",
       "    </tr>\n",
       "    <tr>\n",
       "      <th>15998</th>\n",
       "      <td>35.693631</td>\n",
       "      <td>ZD-2192564</td>\n",
       "      <td>-1319.0</td>\n",
       "      <td>4</td>\n",
       "      <td>1225.3920</td>\n",
       "      <td>306.348000</td>\n",
       "    </tr>\n",
       "    <tr>\n",
       "      <th>15999</th>\n",
       "      <td>20.432058</td>\n",
       "      <td>ZD-219257</td>\n",
       "      <td>-1108.0</td>\n",
       "      <td>1</td>\n",
       "      <td>59.9400</td>\n",
       "      <td>59.940000</td>\n",
       "    </tr>\n",
       "    <tr>\n",
       "      <th>16000</th>\n",
       "      <td>37.853365</td>\n",
       "      <td>ZD-2192582</td>\n",
       "      <td>-106.0</td>\n",
       "      <td>2</td>\n",
       "      <td>678.1014</td>\n",
       "      <td>339.050700</td>\n",
       "    </tr>\n",
       "    <tr>\n",
       "      <th>16001</th>\n",
       "      <td>36.709623</td>\n",
       "      <td>ZD-2192596</td>\n",
       "      <td>-659.0</td>\n",
       "      <td>2</td>\n",
       "      <td>269.3100</td>\n",
       "      <td>134.655000</td>\n",
       "    </tr>\n",
       "  </tbody>\n",
       "</table>\n",
       "<p>16002 rows × 6 columns</p>\n",
       "</div>"
      ],
      "text/plain": [
       "       prediction_rf   Customer ID  recency  frequency  price_sum   price_mean\n",
       "0          61.006709   AA-10315102   -268.0          6   544.6560    90.776000\n",
       "1          57.549318   AA-10315120   -869.0          1  2713.4100  2713.410000\n",
       "2          79.859482   AA-10315139    -59.0         13  2955.7980   227.369077\n",
       "3          62.933810  AA-103151402    -94.0          6  4780.5520   796.758667\n",
       "4          52.643518  AA-103151404   -728.0          3   753.5080   251.169333\n",
       "...              ...           ...      ...        ...        ...          ...\n",
       "15997      50.982748    ZD-2192548   -660.0          4  1302.1680   325.542000\n",
       "15998      35.693631    ZD-2192564  -1319.0          4  1225.3920   306.348000\n",
       "15999      20.432058     ZD-219257  -1108.0          1    59.9400    59.940000\n",
       "16000      37.853365    ZD-2192582   -106.0          2   678.1014   339.050700\n",
       "16001      36.709623    ZD-2192596   -659.0          2   269.3100   134.655000\n",
       "\n",
       "[16002 rows x 6 columns]"
      ]
     },
     "execution_count": 46,
     "metadata": {},
     "output_type": "execute_result"
    }
   ],
   "source": [
    "pd.DataFrame({\"prediction_rf\" : predictions_rf_reg_model.tolist()}).merge(X.reset_index(),left_index=True, right_index=True)"
   ]
  },
  {
   "cell_type": "code",
   "execution_count": 47,
   "id": "0cc42b2a",
   "metadata": {
    "id": "uN2_wUj6HSWp"
   },
   "outputs": [],
   "source": [
    "pd.DataFrame({\"prediction_rf\" : predictions_rf_reg_model.tolist()}).merge(X.reset_index(),left_index=True, right_index=True).to_csv(\"rf_reg_prediction.csv\")"
   ]
  },
  {
   "cell_type": "markdown",
   "id": "e744ddc1",
   "metadata": {
    "id": "fYUdsRYrkk26"
   },
   "source": [
    "#### Will a customer make a purchase in next 90 days"
   ]
  },
  {
   "cell_type": "code",
   "execution_count": 48,
   "id": "2c6c5fb5",
   "metadata": {
    "id": "7_5zBBM8P3xK"
   },
   "outputs": [],
   "source": [
    "# Next 90 days spend probability\n",
    "y_prob = features_df['spend_90_flag']"
   ]
  },
  {
   "cell_type": "code",
   "execution_count": 49,
   "id": "c67f5673",
   "metadata": {
    "id": "hki4bTnGP7lm"
   },
   "outputs": [],
   "source": [
    "xgb_clf_spec = XGBClassifier(objective='binary:logistic', random_state= 123)"
   ]
  },
  {
   "cell_type": "markdown",
   "id": "d52e23e4",
   "metadata": {
    "id": "2TCm8SxDlObR"
   },
   "source": [
    "##### XGBoost"
   ]
  },
  {
   "cell_type": "code",
   "execution_count": 50,
   "id": "09c72159",
   "metadata": {
    "id": "HYujiSQPP9TE"
   },
   "outputs": [],
   "source": [
    "xgb_clf_model =GridSearchCV(estimator=xgb_clf_spec, param_grid = dict(learning_rate = [0.01, 0.1, 0.3, 0.5]), scoring='roc_auc', refit= True, cv = 5) "
   ]
  },
  {
   "cell_type": "code",
   "execution_count": 51,
   "id": "8343552b",
   "metadata": {
    "colab": {
     "base_uri": "https://localhost:8080/"
    },
    "id": "0D1CUVyLP_AC",
    "outputId": "65c7c25b-ef37-49c7-c399-58fa07f3b83f"
   },
   "outputs": [
    {
     "name": "stdout",
     "output_type": "stream",
     "text": [
      "[12:57:05] WARNING: C:/Users/Administrator/workspace/xgboost-win64_release_1.5.1/src/learner.cc:1115: Starting in XGBoost 1.3.0, the default evaluation metric used with the objective 'binary:logistic' was changed from 'error' to 'logloss'. Explicitly set eval_metric if you'd like to restore the old behavior.\n",
      "[12:57:06] WARNING: C:/Users/Administrator/workspace/xgboost-win64_release_1.5.1/src/learner.cc:1115: Starting in XGBoost 1.3.0, the default evaluation metric used with the objective 'binary:logistic' was changed from 'error' to 'logloss'. Explicitly set eval_metric if you'd like to restore the old behavior.\n",
      "[12:57:08] WARNING: C:/Users/Administrator/workspace/xgboost-win64_release_1.5.1/src/learner.cc:1115: Starting in XGBoost 1.3.0, the default evaluation metric used with the objective 'binary:logistic' was changed from 'error' to 'logloss'. Explicitly set eval_metric if you'd like to restore the old behavior.\n",
      "[12:57:09] WARNING: C:/Users/Administrator/workspace/xgboost-win64_release_1.5.1/src/learner.cc:1115: Starting in XGBoost 1.3.0, the default evaluation metric used with the objective 'binary:logistic' was changed from 'error' to 'logloss'. Explicitly set eval_metric if you'd like to restore the old behavior.\n",
      "[12:57:10] WARNING: C:/Users/Administrator/workspace/xgboost-win64_release_1.5.1/src/learner.cc:1115: Starting in XGBoost 1.3.0, the default evaluation metric used with the objective 'binary:logistic' was changed from 'error' to 'logloss'. Explicitly set eval_metric if you'd like to restore the old behavior.\n",
      "[12:57:12] WARNING: C:/Users/Administrator/workspace/xgboost-win64_release_1.5.1/src/learner.cc:1115: Starting in XGBoost 1.3.0, the default evaluation metric used with the objective 'binary:logistic' was changed from 'error' to 'logloss'. Explicitly set eval_metric if you'd like to restore the old behavior.\n",
      "[12:57:13] WARNING: C:/Users/Administrator/workspace/xgboost-win64_release_1.5.1/src/learner.cc:1115: Starting in XGBoost 1.3.0, the default evaluation metric used with the objective 'binary:logistic' was changed from 'error' to 'logloss'. Explicitly set eval_metric if you'd like to restore the old behavior.\n",
      "[12:57:15] WARNING: C:/Users/Administrator/workspace/xgboost-win64_release_1.5.1/src/learner.cc:1115: Starting in XGBoost 1.3.0, the default evaluation metric used with the objective 'binary:logistic' was changed from 'error' to 'logloss'. Explicitly set eval_metric if you'd like to restore the old behavior.\n",
      "[12:57:16] WARNING: C:/Users/Administrator/workspace/xgboost-win64_release_1.5.1/src/learner.cc:1115: Starting in XGBoost 1.3.0, the default evaluation metric used with the objective 'binary:logistic' was changed from 'error' to 'logloss'. Explicitly set eval_metric if you'd like to restore the old behavior.\n",
      "[12:57:18] WARNING: C:/Users/Administrator/workspace/xgboost-win64_release_1.5.1/src/learner.cc:1115: Starting in XGBoost 1.3.0, the default evaluation metric used with the objective 'binary:logistic' was changed from 'error' to 'logloss'. Explicitly set eval_metric if you'd like to restore the old behavior.\n",
      "[12:57:20] WARNING: C:/Users/Administrator/workspace/xgboost-win64_release_1.5.1/src/learner.cc:1115: Starting in XGBoost 1.3.0, the default evaluation metric used with the objective 'binary:logistic' was changed from 'error' to 'logloss'. Explicitly set eval_metric if you'd like to restore the old behavior.\n",
      "[12:57:21] WARNING: C:/Users/Administrator/workspace/xgboost-win64_release_1.5.1/src/learner.cc:1115: Starting in XGBoost 1.3.0, the default evaluation metric used with the objective 'binary:logistic' was changed from 'error' to 'logloss'. Explicitly set eval_metric if you'd like to restore the old behavior.\n",
      "[12:57:23] WARNING: C:/Users/Administrator/workspace/xgboost-win64_release_1.5.1/src/learner.cc:1115: Starting in XGBoost 1.3.0, the default evaluation metric used with the objective 'binary:logistic' was changed from 'error' to 'logloss'. Explicitly set eval_metric if you'd like to restore the old behavior.\n",
      "[12:57:24] WARNING: C:/Users/Administrator/workspace/xgboost-win64_release_1.5.1/src/learner.cc:1115: Starting in XGBoost 1.3.0, the default evaluation metric used with the objective 'binary:logistic' was changed from 'error' to 'logloss'. Explicitly set eval_metric if you'd like to restore the old behavior.\n",
      "[12:57:26] WARNING: C:/Users/Administrator/workspace/xgboost-win64_release_1.5.1/src/learner.cc:1115: Starting in XGBoost 1.3.0, the default evaluation metric used with the objective 'binary:logistic' was changed from 'error' to 'logloss'. Explicitly set eval_metric if you'd like to restore the old behavior.\n",
      "[12:57:27] WARNING: C:/Users/Administrator/workspace/xgboost-win64_release_1.5.1/src/learner.cc:1115: Starting in XGBoost 1.3.0, the default evaluation metric used with the objective 'binary:logistic' was changed from 'error' to 'logloss'. Explicitly set eval_metric if you'd like to restore the old behavior.\n",
      "[12:57:29] WARNING: C:/Users/Administrator/workspace/xgboost-win64_release_1.5.1/src/learner.cc:1115: Starting in XGBoost 1.3.0, the default evaluation metric used with the objective 'binary:logistic' was changed from 'error' to 'logloss'. Explicitly set eval_metric if you'd like to restore the old behavior.\n",
      "[12:57:30] WARNING: C:/Users/Administrator/workspace/xgboost-win64_release_1.5.1/src/learner.cc:1115: Starting in XGBoost 1.3.0, the default evaluation metric used with the objective 'binary:logistic' was changed from 'error' to 'logloss'. Explicitly set eval_metric if you'd like to restore the old behavior.\n",
      "[12:57:32] WARNING: C:/Users/Administrator/workspace/xgboost-win64_release_1.5.1/src/learner.cc:1115: Starting in XGBoost 1.3.0, the default evaluation metric used with the objective 'binary:logistic' was changed from 'error' to 'logloss'. Explicitly set eval_metric if you'd like to restore the old behavior.\n",
      "[12:57:33] WARNING: C:/Users/Administrator/workspace/xgboost-win64_release_1.5.1/src/learner.cc:1115: Starting in XGBoost 1.3.0, the default evaluation metric used with the objective 'binary:logistic' was changed from 'error' to 'logloss'. Explicitly set eval_metric if you'd like to restore the old behavior.\n",
      "[12:57:35] WARNING: C:/Users/Administrator/workspace/xgboost-win64_release_1.5.1/src/learner.cc:1115: Starting in XGBoost 1.3.0, the default evaluation metric used with the objective 'binary:logistic' was changed from 'error' to 'logloss'. Explicitly set eval_metric if you'd like to restore the old behavior.\n"
     ]
    },
    {
     "data": {
      "text/plain": [
       "GridSearchCV(cv=5,\n",
       "             estimator=XGBClassifier(base_score=None, booster=None,\n",
       "                                     colsample_bylevel=None,\n",
       "                                     colsample_bynode=None,\n",
       "                                     colsample_bytree=None,\n",
       "                                     enable_categorical=False, gamma=None,\n",
       "                                     gpu_id=None, importance_type=None,\n",
       "                                     interaction_constraints=None,\n",
       "                                     learning_rate=None, max_delta_step=None,\n",
       "                                     max_depth=None, min_child_weight=None,\n",
       "                                     missing=nan, monotone_constraints=None,\n",
       "                                     n_estimators=100, n_jobs=None,\n",
       "                                     num_parallel_tree=None, predictor=None,\n",
       "                                     random_state=123, reg_alpha=None,\n",
       "                                     reg_lambda=None, scale_pos_weight=None,\n",
       "                                     subsample=None, tree_method=None,\n",
       "                                     validate_parameters=None, verbosity=None),\n",
       "             param_grid={'learning_rate': [0.01, 0.1, 0.3, 0.5]},\n",
       "             scoring='roc_auc')"
      ]
     },
     "execution_count": 51,
     "metadata": {},
     "output_type": "execute_result"
    }
   ],
   "source": [
    "xgb_clf_model.fit(X, y_prob)"
   ]
  },
  {
   "cell_type": "code",
   "execution_count": 52,
   "id": "97f175e2",
   "metadata": {
    "colab": {
     "base_uri": "https://localhost:8080/"
    },
    "id": "KakboEtSQAn0",
    "outputId": "b0f641ec-0ce0-4998-84a7-12ba8ce29534"
   },
   "outputs": [
    {
     "data": {
      "text/plain": [
       "0.572016125072192"
      ]
     },
     "execution_count": 52,
     "metadata": {},
     "output_type": "execute_result"
    }
   ],
   "source": [
    "xgb_clf_model.best_score_"
   ]
  },
  {
   "cell_type": "code",
   "execution_count": 53,
   "id": "58d9f68b",
   "metadata": {
    "colab": {
     "base_uri": "https://localhost:8080/"
    },
    "id": "mHj3gz3NQDEq",
    "outputId": "04b473be-7b82-44d5-9d11-090669d2a380"
   },
   "outputs": [
    {
     "data": {
      "text/plain": [
       "{'learning_rate': 0.01}"
      ]
     },
     "execution_count": 53,
     "metadata": {},
     "output_type": "execute_result"
    }
   ],
   "source": [
    "xgb_clf_model.best_params_"
   ]
  },
  {
   "cell_type": "code",
   "execution_count": 54,
   "id": "f94f2d3c",
   "metadata": {
    "colab": {
     "base_uri": "https://localhost:8080/"
    },
    "id": "mLrdLbcUQF7e",
    "outputId": "522afe3d-6e36-43bf-b69b-3c1b5c566286"
   },
   "outputs": [
    {
     "data": {
      "text/plain": [
       "XGBClassifier(base_score=0.5, booster='gbtree', colsample_bylevel=1,\n",
       "              colsample_bynode=1, colsample_bytree=1, enable_categorical=False,\n",
       "              gamma=0, gpu_id=-1, importance_type=None,\n",
       "              interaction_constraints='', learning_rate=0.01, max_delta_step=0,\n",
       "              max_depth=6, min_child_weight=1, missing=nan,\n",
       "              monotone_constraints='()', n_estimators=100, n_jobs=8,\n",
       "              num_parallel_tree=1, predictor='auto', random_state=123,\n",
       "              reg_alpha=0, reg_lambda=1, scale_pos_weight=1, subsample=1,\n",
       "              tree_method='exact', validate_parameters=1, verbosity=None)"
      ]
     },
     "execution_count": 54,
     "metadata": {},
     "output_type": "execute_result"
    }
   ],
   "source": [
    "xgb_clf_model.best_estimator_"
   ]
  },
  {
   "cell_type": "code",
   "execution_count": 55,
   "id": "c59df8f0",
   "metadata": {
    "id": "OWpmCxmrJUcx"
   },
   "outputs": [],
   "source": [
    "predictions_xgb_clf_model = xgb_clf_model.predict(X)"
   ]
  },
  {
   "cell_type": "code",
   "execution_count": 56,
   "id": "e1ba0cad",
   "metadata": {
    "colab": {
     "base_uri": "https://localhost:8080/"
    },
    "id": "xwNN3k4UflYn",
    "outputId": "b243e1c6-c480-4a42-e9aa-ec0a6eb7c7cf"
   },
   "outputs": [
    {
     "data": {
      "text/plain": [
       "0.0    15998\n",
       "1.0        4\n",
       "dtype: int64"
      ]
     },
     "execution_count": 56,
     "metadata": {},
     "output_type": "execute_result"
    }
   ],
   "source": [
    "pd.DataFrame(xgb_clf_model.predict(X)).value_counts()"
   ]
  },
  {
   "cell_type": "code",
   "execution_count": 57,
   "id": "a19277d3",
   "metadata": {
    "colab": {
     "base_uri": "https://localhost:8080/",
     "height": 419
    },
    "id": "kYjR5odPasGS",
    "outputId": "03a020bf-b9b8-40ca-d178-dbcef5c80015"
   },
   "outputs": [
    {
     "data": {
      "text/html": [
       "<div>\n",
       "<style scoped>\n",
       "    .dataframe tbody tr th:only-of-type {\n",
       "        vertical-align: middle;\n",
       "    }\n",
       "\n",
       "    .dataframe tbody tr th {\n",
       "        vertical-align: top;\n",
       "    }\n",
       "\n",
       "    .dataframe thead th {\n",
       "        text-align: right;\n",
       "    }\n",
       "</style>\n",
       "<table border=\"1\" class=\"dataframe\">\n",
       "  <thead>\n",
       "    <tr style=\"text-align: right;\">\n",
       "      <th></th>\n",
       "      <th>prediction_xgb_clf_0</th>\n",
       "      <th>prediction_xgb_clf_1</th>\n",
       "    </tr>\n",
       "  </thead>\n",
       "  <tbody>\n",
       "    <tr>\n",
       "      <th>0</th>\n",
       "      <td>0.747942</td>\n",
       "      <td>0.252058</td>\n",
       "    </tr>\n",
       "    <tr>\n",
       "      <th>1</th>\n",
       "      <td>0.777251</td>\n",
       "      <td>0.222749</td>\n",
       "    </tr>\n",
       "    <tr>\n",
       "      <th>2</th>\n",
       "      <td>0.750724</td>\n",
       "      <td>0.249276</td>\n",
       "    </tr>\n",
       "    <tr>\n",
       "      <th>3</th>\n",
       "      <td>0.748390</td>\n",
       "      <td>0.251610</td>\n",
       "    </tr>\n",
       "    <tr>\n",
       "      <th>4</th>\n",
       "      <td>0.763143</td>\n",
       "      <td>0.236857</td>\n",
       "    </tr>\n",
       "    <tr>\n",
       "      <th>...</th>\n",
       "      <td>...</td>\n",
       "      <td>...</td>\n",
       "    </tr>\n",
       "    <tr>\n",
       "      <th>15997</th>\n",
       "      <td>0.761432</td>\n",
       "      <td>0.238568</td>\n",
       "    </tr>\n",
       "    <tr>\n",
       "      <th>15998</th>\n",
       "      <td>0.770570</td>\n",
       "      <td>0.229430</td>\n",
       "    </tr>\n",
       "    <tr>\n",
       "      <th>15999</th>\n",
       "      <td>0.783490</td>\n",
       "      <td>0.216510</td>\n",
       "    </tr>\n",
       "    <tr>\n",
       "      <th>16000</th>\n",
       "      <td>0.763946</td>\n",
       "      <td>0.236054</td>\n",
       "    </tr>\n",
       "    <tr>\n",
       "      <th>16001</th>\n",
       "      <td>0.762270</td>\n",
       "      <td>0.237730</td>\n",
       "    </tr>\n",
       "  </tbody>\n",
       "</table>\n",
       "<p>16002 rows × 2 columns</p>\n",
       "</div>"
      ],
      "text/plain": [
       "       prediction_xgb_clf_0  prediction_xgb_clf_1\n",
       "0                  0.747942              0.252058\n",
       "1                  0.777251              0.222749\n",
       "2                  0.750724              0.249276\n",
       "3                  0.748390              0.251610\n",
       "4                  0.763143              0.236857\n",
       "...                     ...                   ...\n",
       "15997              0.761432              0.238568\n",
       "15998              0.770570              0.229430\n",
       "15999              0.783490              0.216510\n",
       "16000              0.763946              0.236054\n",
       "16001              0.762270              0.237730\n",
       "\n",
       "[16002 rows x 2 columns]"
      ]
     },
     "execution_count": 57,
     "metadata": {},
     "output_type": "execute_result"
    }
   ],
   "source": [
    "#pd.DataFrame({\"prediction_xgb_clf\" : predictions_xgb_clf_model.tolist()}).merge(X.reset_index(),left_index=True, right_index=True)\n",
    "pd.DataFrame(xgb_clf_model.predict_proba(X),columns=['prediction_xgb_clf_0','prediction_xgb_clf_1'])"
   ]
  },
  {
   "cell_type": "code",
   "execution_count": 58,
   "id": "c02145fd",
   "metadata": {
    "colab": {
     "base_uri": "https://localhost:8080/",
     "height": 653
    },
    "id": "KojSxCV7JUpn",
    "outputId": "c2c6156a-9e4b-4922-810c-3574de979eb3"
   },
   "outputs": [
    {
     "data": {
      "text/html": [
       "<div>\n",
       "<style scoped>\n",
       "    .dataframe tbody tr th:only-of-type {\n",
       "        vertical-align: middle;\n",
       "    }\n",
       "\n",
       "    .dataframe tbody tr th {\n",
       "        vertical-align: top;\n",
       "    }\n",
       "\n",
       "    .dataframe thead th {\n",
       "        text-align: right;\n",
       "    }\n",
       "</style>\n",
       "<table border=\"1\" class=\"dataframe\">\n",
       "  <thead>\n",
       "    <tr style=\"text-align: right;\">\n",
       "      <th></th>\n",
       "      <th>prediction_xgb_clf_0</th>\n",
       "      <th>prediction_xgb_clf_1</th>\n",
       "      <th>Customer ID</th>\n",
       "      <th>recency</th>\n",
       "      <th>frequency</th>\n",
       "      <th>price_sum</th>\n",
       "      <th>price_mean</th>\n",
       "    </tr>\n",
       "  </thead>\n",
       "  <tbody>\n",
       "    <tr>\n",
       "      <th>0</th>\n",
       "      <td>0.747942</td>\n",
       "      <td>0.252058</td>\n",
       "      <td>AA-10315102</td>\n",
       "      <td>-268.0</td>\n",
       "      <td>6</td>\n",
       "      <td>544.6560</td>\n",
       "      <td>90.776000</td>\n",
       "    </tr>\n",
       "    <tr>\n",
       "      <th>1</th>\n",
       "      <td>0.777251</td>\n",
       "      <td>0.222749</td>\n",
       "      <td>AA-10315120</td>\n",
       "      <td>-869.0</td>\n",
       "      <td>1</td>\n",
       "      <td>2713.4100</td>\n",
       "      <td>2713.410000</td>\n",
       "    </tr>\n",
       "    <tr>\n",
       "      <th>2</th>\n",
       "      <td>0.750724</td>\n",
       "      <td>0.249276</td>\n",
       "      <td>AA-10315139</td>\n",
       "      <td>-59.0</td>\n",
       "      <td>13</td>\n",
       "      <td>2955.7980</td>\n",
       "      <td>227.369077</td>\n",
       "    </tr>\n",
       "    <tr>\n",
       "      <th>3</th>\n",
       "      <td>0.748390</td>\n",
       "      <td>0.251610</td>\n",
       "      <td>AA-103151402</td>\n",
       "      <td>-94.0</td>\n",
       "      <td>6</td>\n",
       "      <td>4780.5520</td>\n",
       "      <td>796.758667</td>\n",
       "    </tr>\n",
       "    <tr>\n",
       "      <th>4</th>\n",
       "      <td>0.763143</td>\n",
       "      <td>0.236857</td>\n",
       "      <td>AA-103151404</td>\n",
       "      <td>-728.0</td>\n",
       "      <td>3</td>\n",
       "      <td>753.5080</td>\n",
       "      <td>251.169333</td>\n",
       "    </tr>\n",
       "    <tr>\n",
       "      <th>...</th>\n",
       "      <td>...</td>\n",
       "      <td>...</td>\n",
       "      <td>...</td>\n",
       "      <td>...</td>\n",
       "      <td>...</td>\n",
       "      <td>...</td>\n",
       "      <td>...</td>\n",
       "    </tr>\n",
       "    <tr>\n",
       "      <th>15997</th>\n",
       "      <td>0.761432</td>\n",
       "      <td>0.238568</td>\n",
       "      <td>ZD-2192548</td>\n",
       "      <td>-660.0</td>\n",
       "      <td>4</td>\n",
       "      <td>1302.1680</td>\n",
       "      <td>325.542000</td>\n",
       "    </tr>\n",
       "    <tr>\n",
       "      <th>15998</th>\n",
       "      <td>0.770570</td>\n",
       "      <td>0.229430</td>\n",
       "      <td>ZD-2192564</td>\n",
       "      <td>-1319.0</td>\n",
       "      <td>4</td>\n",
       "      <td>1225.3920</td>\n",
       "      <td>306.348000</td>\n",
       "    </tr>\n",
       "    <tr>\n",
       "      <th>15999</th>\n",
       "      <td>0.783490</td>\n",
       "      <td>0.216510</td>\n",
       "      <td>ZD-219257</td>\n",
       "      <td>-1108.0</td>\n",
       "      <td>1</td>\n",
       "      <td>59.9400</td>\n",
       "      <td>59.940000</td>\n",
       "    </tr>\n",
       "    <tr>\n",
       "      <th>16000</th>\n",
       "      <td>0.763946</td>\n",
       "      <td>0.236054</td>\n",
       "      <td>ZD-2192582</td>\n",
       "      <td>-106.0</td>\n",
       "      <td>2</td>\n",
       "      <td>678.1014</td>\n",
       "      <td>339.050700</td>\n",
       "    </tr>\n",
       "    <tr>\n",
       "      <th>16001</th>\n",
       "      <td>0.762270</td>\n",
       "      <td>0.237730</td>\n",
       "      <td>ZD-2192596</td>\n",
       "      <td>-659.0</td>\n",
       "      <td>2</td>\n",
       "      <td>269.3100</td>\n",
       "      <td>134.655000</td>\n",
       "    </tr>\n",
       "  </tbody>\n",
       "</table>\n",
       "<p>16002 rows × 7 columns</p>\n",
       "</div>"
      ],
      "text/plain": [
       "       prediction_xgb_clf_0  prediction_xgb_clf_1   Customer ID  recency  \\\n",
       "0                  0.747942              0.252058   AA-10315102   -268.0   \n",
       "1                  0.777251              0.222749   AA-10315120   -869.0   \n",
       "2                  0.750724              0.249276   AA-10315139    -59.0   \n",
       "3                  0.748390              0.251610  AA-103151402    -94.0   \n",
       "4                  0.763143              0.236857  AA-103151404   -728.0   \n",
       "...                     ...                   ...           ...      ...   \n",
       "15997              0.761432              0.238568    ZD-2192548   -660.0   \n",
       "15998              0.770570              0.229430    ZD-2192564  -1319.0   \n",
       "15999              0.783490              0.216510     ZD-219257  -1108.0   \n",
       "16000              0.763946              0.236054    ZD-2192582   -106.0   \n",
       "16001              0.762270              0.237730    ZD-2192596   -659.0   \n",
       "\n",
       "       frequency  price_sum   price_mean  \n",
       "0              6   544.6560    90.776000  \n",
       "1              1  2713.4100  2713.410000  \n",
       "2             13  2955.7980   227.369077  \n",
       "3              6  4780.5520   796.758667  \n",
       "4              3   753.5080   251.169333  \n",
       "...          ...        ...          ...  \n",
       "15997          4  1302.1680   325.542000  \n",
       "15998          4  1225.3920   306.348000  \n",
       "15999          1    59.9400    59.940000  \n",
       "16000          2   678.1014   339.050700  \n",
       "16001          2   269.3100   134.655000  \n",
       "\n",
       "[16002 rows x 7 columns]"
      ]
     },
     "execution_count": 58,
     "metadata": {},
     "output_type": "execute_result"
    }
   ],
   "source": [
    "pd.DataFrame(xgb_clf_model.predict_proba(X),columns=['prediction_xgb_clf_0','prediction_xgb_clf_1']).merge(X.reset_index(),left_index=True, right_index=True)"
   ]
  },
  {
   "cell_type": "code",
   "execution_count": 59,
   "id": "8bc6e525",
   "metadata": {
    "id": "K7ckPku8JUzw"
   },
   "outputs": [],
   "source": [
    "pd.DataFrame(xgb_clf_model.predict_proba(X),columns=['prediction_xgb_clf_0','prediction_xgb_clf_1']).merge(X.reset_index(),left_index=True, right_index=True).to_csv(\"xgb_clf_prediction.csv\")"
   ]
  },
  {
   "cell_type": "markdown",
   "id": "752c09b4",
   "metadata": {
    "id": "J8nRUPX5sZKZ"
   },
   "source": [
    "##### Logistic regression"
   ]
  },
  {
   "cell_type": "code",
   "execution_count": 60,
   "id": "37495183",
   "metadata": {
    "id": "m7eod26clTBg"
   },
   "outputs": [],
   "source": [
    "from sklearn.linear_model import LogisticRegression"
   ]
  },
  {
   "cell_type": "code",
   "execution_count": 61,
   "id": "0ca1a146",
   "metadata": {
    "colab": {
     "base_uri": "https://localhost:8080/"
    },
    "id": "YhwdN5aylS4Z",
    "outputId": "a3c0294d-6a49-4d63-f198-2f339e1840ac"
   },
   "outputs": [
    {
     "data": {
      "text/plain": [
       "GridSearchCV(cv=5, estimator=LogisticRegression(),\n",
       "             param_grid={'penalty': ['l1', 'l2'],\n",
       "                         'solver': ['liblinear', 'saga']},\n",
       "             scoring='roc_auc')"
      ]
     },
     "execution_count": 61,
     "metadata": {},
     "output_type": "execute_result"
    }
   ],
   "source": [
    "parameters = {'penalty': [\"l1\", \"l2\"], 'solver': [\"liblinear\",\"saga\"]}\n",
    "\n",
    "logr = LogisticRegression()\n",
    "logr_clf_model = GridSearchCV(logr,parameters, cv=5, scoring='roc_auc')\n",
    "logr_clf_model.fit(X, y_prob)"
   ]
  },
  {
   "cell_type": "code",
   "execution_count": 62,
   "id": "95ad5822",
   "metadata": {
    "colab": {
     "base_uri": "https://localhost:8080/"
    },
    "id": "fr_Tx6qPlStR",
    "outputId": "032d8301-6dba-4e5f-f348-fce66ce28e26"
   },
   "outputs": [
    {
     "data": {
      "text/plain": [
       "{'penalty': 'l1', 'solver': 'liblinear'}"
      ]
     },
     "execution_count": 62,
     "metadata": {},
     "output_type": "execute_result"
    }
   ],
   "source": [
    "logr_clf_model.best_params_"
   ]
  },
  {
   "cell_type": "code",
   "execution_count": 63,
   "id": "065494ec",
   "metadata": {
    "colab": {
     "base_uri": "https://localhost:8080/"
    },
    "id": "iRUQkcrZlSnQ",
    "outputId": "9511978b-e027-4fd4-e350-e3f763465067"
   },
   "outputs": [
    {
     "data": {
      "text/plain": [
       "0.5812937963512682"
      ]
     },
     "execution_count": 63,
     "metadata": {},
     "output_type": "execute_result"
    }
   ],
   "source": [
    "logr_clf_model.best_score_"
   ]
  },
  {
   "cell_type": "code",
   "execution_count": 64,
   "id": "4c7fb8e4",
   "metadata": {
    "colab": {
     "base_uri": "https://localhost:8080/",
     "height": 653
    },
    "id": "pOjFnbBUJ4rS",
    "outputId": "adf60e17-f4c0-4ed3-e0a8-5c85167b35b1"
   },
   "outputs": [
    {
     "data": {
      "text/html": [
       "<div>\n",
       "<style scoped>\n",
       "    .dataframe tbody tr th:only-of-type {\n",
       "        vertical-align: middle;\n",
       "    }\n",
       "\n",
       "    .dataframe tbody tr th {\n",
       "        vertical-align: top;\n",
       "    }\n",
       "\n",
       "    .dataframe thead th {\n",
       "        text-align: right;\n",
       "    }\n",
       "</style>\n",
       "<table border=\"1\" class=\"dataframe\">\n",
       "  <thead>\n",
       "    <tr style=\"text-align: right;\">\n",
       "      <th></th>\n",
       "      <th>prediction_log_clf_0</th>\n",
       "      <th>prediction_log_clf_1</th>\n",
       "      <th>Customer ID</th>\n",
       "      <th>recency</th>\n",
       "      <th>frequency</th>\n",
       "      <th>price_sum</th>\n",
       "      <th>price_mean</th>\n",
       "    </tr>\n",
       "  </thead>\n",
       "  <tbody>\n",
       "    <tr>\n",
       "      <th>0</th>\n",
       "      <td>0.885545</td>\n",
       "      <td>0.114455</td>\n",
       "      <td>AA-10315102</td>\n",
       "      <td>-268.0</td>\n",
       "      <td>6</td>\n",
       "      <td>544.6560</td>\n",
       "      <td>90.776000</td>\n",
       "    </tr>\n",
       "    <tr>\n",
       "      <th>1</th>\n",
       "      <td>0.930931</td>\n",
       "      <td>0.069069</td>\n",
       "      <td>AA-10315120</td>\n",
       "      <td>-869.0</td>\n",
       "      <td>1</td>\n",
       "      <td>2713.4100</td>\n",
       "      <td>2713.410000</td>\n",
       "    </tr>\n",
       "    <tr>\n",
       "      <th>2</th>\n",
       "      <td>0.785903</td>\n",
       "      <td>0.214097</td>\n",
       "      <td>AA-10315139</td>\n",
       "      <td>-59.0</td>\n",
       "      <td>13</td>\n",
       "      <td>2955.7980</td>\n",
       "      <td>227.369077</td>\n",
       "    </tr>\n",
       "    <tr>\n",
       "      <th>3</th>\n",
       "      <td>0.875815</td>\n",
       "      <td>0.124185</td>\n",
       "      <td>AA-103151402</td>\n",
       "      <td>-94.0</td>\n",
       "      <td>6</td>\n",
       "      <td>4780.5520</td>\n",
       "      <td>796.758667</td>\n",
       "    </tr>\n",
       "    <tr>\n",
       "      <th>4</th>\n",
       "      <td>0.918944</td>\n",
       "      <td>0.081056</td>\n",
       "      <td>AA-103151404</td>\n",
       "      <td>-728.0</td>\n",
       "      <td>3</td>\n",
       "      <td>753.5080</td>\n",
       "      <td>251.169333</td>\n",
       "    </tr>\n",
       "    <tr>\n",
       "      <th>...</th>\n",
       "      <td>...</td>\n",
       "      <td>...</td>\n",
       "      <td>...</td>\n",
       "      <td>...</td>\n",
       "      <td>...</td>\n",
       "      <td>...</td>\n",
       "      <td>...</td>\n",
       "    </tr>\n",
       "    <tr>\n",
       "      <th>15997</th>\n",
       "      <td>0.909745</td>\n",
       "      <td>0.090255</td>\n",
       "      <td>ZD-2192548</td>\n",
       "      <td>-660.0</td>\n",
       "      <td>4</td>\n",
       "      <td>1302.1680</td>\n",
       "      <td>325.542000</td>\n",
       "    </tr>\n",
       "    <tr>\n",
       "      <th>15998</th>\n",
       "      <td>0.920710</td>\n",
       "      <td>0.079290</td>\n",
       "      <td>ZD-2192564</td>\n",
       "      <td>-1319.0</td>\n",
       "      <td>4</td>\n",
       "      <td>1225.3920</td>\n",
       "      <td>306.348000</td>\n",
       "    </tr>\n",
       "    <tr>\n",
       "      <th>15999</th>\n",
       "      <td>0.937678</td>\n",
       "      <td>0.062322</td>\n",
       "      <td>ZD-219257</td>\n",
       "      <td>-1108.0</td>\n",
       "      <td>1</td>\n",
       "      <td>59.9400</td>\n",
       "      <td>59.940000</td>\n",
       "    </tr>\n",
       "    <tr>\n",
       "      <th>16000</th>\n",
       "      <td>0.916176</td>\n",
       "      <td>0.083824</td>\n",
       "      <td>ZD-2192582</td>\n",
       "      <td>-106.0</td>\n",
       "      <td>2</td>\n",
       "      <td>678.1014</td>\n",
       "      <td>339.050700</td>\n",
       "    </tr>\n",
       "    <tr>\n",
       "      <th>16001</th>\n",
       "      <td>0.925268</td>\n",
       "      <td>0.074732</td>\n",
       "      <td>ZD-2192596</td>\n",
       "      <td>-659.0</td>\n",
       "      <td>2</td>\n",
       "      <td>269.3100</td>\n",
       "      <td>134.655000</td>\n",
       "    </tr>\n",
       "  </tbody>\n",
       "</table>\n",
       "<p>16002 rows × 7 columns</p>\n",
       "</div>"
      ],
      "text/plain": [
       "       prediction_log_clf_0  prediction_log_clf_1   Customer ID  recency  \\\n",
       "0                  0.885545              0.114455   AA-10315102   -268.0   \n",
       "1                  0.930931              0.069069   AA-10315120   -869.0   \n",
       "2                  0.785903              0.214097   AA-10315139    -59.0   \n",
       "3                  0.875815              0.124185  AA-103151402    -94.0   \n",
       "4                  0.918944              0.081056  AA-103151404   -728.0   \n",
       "...                     ...                   ...           ...      ...   \n",
       "15997              0.909745              0.090255    ZD-2192548   -660.0   \n",
       "15998              0.920710              0.079290    ZD-2192564  -1319.0   \n",
       "15999              0.937678              0.062322     ZD-219257  -1108.0   \n",
       "16000              0.916176              0.083824    ZD-2192582   -106.0   \n",
       "16001              0.925268              0.074732    ZD-2192596   -659.0   \n",
       "\n",
       "       frequency  price_sum   price_mean  \n",
       "0              6   544.6560    90.776000  \n",
       "1              1  2713.4100  2713.410000  \n",
       "2             13  2955.7980   227.369077  \n",
       "3              6  4780.5520   796.758667  \n",
       "4              3   753.5080   251.169333  \n",
       "...          ...        ...          ...  \n",
       "15997          4  1302.1680   325.542000  \n",
       "15998          4  1225.3920   306.348000  \n",
       "15999          1    59.9400    59.940000  \n",
       "16000          2   678.1014   339.050700  \n",
       "16001          2   269.3100   134.655000  \n",
       "\n",
       "[16002 rows x 7 columns]"
      ]
     },
     "execution_count": 64,
     "metadata": {},
     "output_type": "execute_result"
    }
   ],
   "source": [
    "\n",
    "pd.DataFrame(logr_clf_model.predict_proba(X),columns=['prediction_log_clf_0','prediction_log_clf_1']).merge(X.reset_index(),left_index=True, right_index=True)"
   ]
  },
  {
   "cell_type": "code",
   "execution_count": 65,
   "id": "daa38478",
   "metadata": {
    "id": "hhwAQkcTJ4yi"
   },
   "outputs": [],
   "source": [
    "\n",
    "pd.DataFrame(logr_clf_model.predict_proba(X),columns=['prediction_log_clf_0','prediction_log_clf_1']).merge(X.reset_index(),left_index=True, right_index=True).to_csv(\"log_clf_prediction.csv\")"
   ]
  },
  {
   "cell_type": "markdown",
   "id": "6be08f33",
   "metadata": {
    "id": "Rd8lYqXMsh3w"
   },
   "source": [
    "##### Random Forest Classifier"
   ]
  },
  {
   "cell_type": "code",
   "execution_count": 66,
   "id": "6174b770",
   "metadata": {
    "id": "7OP6BtwmlSiQ"
   },
   "outputs": [],
   "source": [
    "from sklearn.ensemble import RandomForestClassifier"
   ]
  },
  {
   "cell_type": "code",
   "execution_count": 67,
   "id": "fe1d8099",
   "metadata": {
    "colab": {
     "base_uri": "https://localhost:8080/"
    },
    "id": "5whu5AZzmyDF",
    "outputId": "6560bbf9-bca9-44ed-9cca-c5806bc5767c"
   },
   "outputs": [
    {
     "data": {
      "text/plain": [
       "GridSearchCV(cv=5, estimator=RandomForestClassifier(),\n",
       "             param_grid={'max_depth': [2, 5],\n",
       "                         'max_features': ['auto', 'sqrt', 'log2'],\n",
       "                         'n_estimators': [10, 20, 50, 100, 500, 1000]},\n",
       "             scoring='roc_auc')"
      ]
     },
     "execution_count": 67,
     "metadata": {},
     "output_type": "execute_result"
    }
   ],
   "source": [
    "parameters = { 'max_depth' : [2, 5], 'n_estimators' : [10, 20, 50, 100, 500, 1000],'max_features' : ['auto', 'sqrt', 'log2']}\n",
    "\n",
    "rfc = RandomForestClassifier()\n",
    "rfc_clf_model = GridSearchCV(rfc,parameters, cv=5, scoring='roc_auc')\n",
    "rfc_clf_model.fit(X, y_prob)"
   ]
  },
  {
   "cell_type": "code",
   "execution_count": 68,
   "id": "e3a52641",
   "metadata": {
    "colab": {
     "base_uri": "https://localhost:8080/"
    },
    "id": "lx0sUAkomx5Z",
    "outputId": "2b1dd79a-bba5-41fc-a51c-9cca2352b8b6"
   },
   "outputs": [
    {
     "data": {
      "text/plain": [
       "{'max_depth': 2, 'max_features': 'sqrt', 'n_estimators': 1000}"
      ]
     },
     "execution_count": 68,
     "metadata": {},
     "output_type": "execute_result"
    }
   ],
   "source": [
    "rfc_clf_model.best_params_"
   ]
  },
  {
   "cell_type": "code",
   "execution_count": 69,
   "id": "2284441d",
   "metadata": {
    "colab": {
     "base_uri": "https://localhost:8080/"
    },
    "id": "5k6IcJFPrcpG",
    "outputId": "f9c21434-9e9e-4b19-c0b7-f3b238c2d2e8"
   },
   "outputs": [
    {
     "data": {
      "text/plain": [
       "0.5807649782944608"
      ]
     },
     "execution_count": 69,
     "metadata": {},
     "output_type": "execute_result"
    }
   ],
   "source": [
    "rfc_clf_model.best_score_"
   ]
  },
  {
   "cell_type": "code",
   "execution_count": 70,
   "id": "201d771c",
   "metadata": {
    "colab": {
     "base_uri": "https://localhost:8080/",
     "height": 653
    },
    "id": "mPsh-rrYlSYa",
    "outputId": "ff4991df-20c6-448d-b510-ba563eccb49e"
   },
   "outputs": [
    {
     "data": {
      "text/html": [
       "<div>\n",
       "<style scoped>\n",
       "    .dataframe tbody tr th:only-of-type {\n",
       "        vertical-align: middle;\n",
       "    }\n",
       "\n",
       "    .dataframe tbody tr th {\n",
       "        vertical-align: top;\n",
       "    }\n",
       "\n",
       "    .dataframe thead th {\n",
       "        text-align: right;\n",
       "    }\n",
       "</style>\n",
       "<table border=\"1\" class=\"dataframe\">\n",
       "  <thead>\n",
       "    <tr style=\"text-align: right;\">\n",
       "      <th></th>\n",
       "      <th>prediction_rf_clf_0</th>\n",
       "      <th>prediction_rf_clf_1</th>\n",
       "      <th>Customer ID</th>\n",
       "      <th>recency</th>\n",
       "      <th>frequency</th>\n",
       "      <th>price_sum</th>\n",
       "      <th>price_mean</th>\n",
       "    </tr>\n",
       "  </thead>\n",
       "  <tbody>\n",
       "    <tr>\n",
       "      <th>0</th>\n",
       "      <td>0.894220</td>\n",
       "      <td>0.105780</td>\n",
       "      <td>AA-10315102</td>\n",
       "      <td>-268.0</td>\n",
       "      <td>6</td>\n",
       "      <td>544.6560</td>\n",
       "      <td>90.776000</td>\n",
       "    </tr>\n",
       "    <tr>\n",
       "      <th>1</th>\n",
       "      <td>0.919165</td>\n",
       "      <td>0.080835</td>\n",
       "      <td>AA-10315120</td>\n",
       "      <td>-869.0</td>\n",
       "      <td>1</td>\n",
       "      <td>2713.4100</td>\n",
       "      <td>2713.410000</td>\n",
       "    </tr>\n",
       "    <tr>\n",
       "      <th>2</th>\n",
       "      <td>0.871365</td>\n",
       "      <td>0.128635</td>\n",
       "      <td>AA-10315139</td>\n",
       "      <td>-59.0</td>\n",
       "      <td>13</td>\n",
       "      <td>2955.7980</td>\n",
       "      <td>227.369077</td>\n",
       "    </tr>\n",
       "    <tr>\n",
       "      <th>3</th>\n",
       "      <td>0.887578</td>\n",
       "      <td>0.112422</td>\n",
       "      <td>AA-103151402</td>\n",
       "      <td>-94.0</td>\n",
       "      <td>6</td>\n",
       "      <td>4780.5520</td>\n",
       "      <td>796.758667</td>\n",
       "    </tr>\n",
       "    <tr>\n",
       "      <th>4</th>\n",
       "      <td>0.911923</td>\n",
       "      <td>0.088077</td>\n",
       "      <td>AA-103151404</td>\n",
       "      <td>-728.0</td>\n",
       "      <td>3</td>\n",
       "      <td>753.5080</td>\n",
       "      <td>251.169333</td>\n",
       "    </tr>\n",
       "    <tr>\n",
       "      <th>...</th>\n",
       "      <td>...</td>\n",
       "      <td>...</td>\n",
       "      <td>...</td>\n",
       "      <td>...</td>\n",
       "      <td>...</td>\n",
       "      <td>...</td>\n",
       "      <td>...</td>\n",
       "    </tr>\n",
       "    <tr>\n",
       "      <th>15997</th>\n",
       "      <td>0.900445</td>\n",
       "      <td>0.099555</td>\n",
       "      <td>ZD-2192548</td>\n",
       "      <td>-660.0</td>\n",
       "      <td>4</td>\n",
       "      <td>1302.1680</td>\n",
       "      <td>325.542000</td>\n",
       "    </tr>\n",
       "    <tr>\n",
       "      <th>15998</th>\n",
       "      <td>0.905648</td>\n",
       "      <td>0.094352</td>\n",
       "      <td>ZD-2192564</td>\n",
       "      <td>-1319.0</td>\n",
       "      <td>4</td>\n",
       "      <td>1225.3920</td>\n",
       "      <td>306.348000</td>\n",
       "    </tr>\n",
       "    <tr>\n",
       "      <th>15999</th>\n",
       "      <td>0.938171</td>\n",
       "      <td>0.061829</td>\n",
       "      <td>ZD-219257</td>\n",
       "      <td>-1108.0</td>\n",
       "      <td>1</td>\n",
       "      <td>59.9400</td>\n",
       "      <td>59.940000</td>\n",
       "    </tr>\n",
       "    <tr>\n",
       "      <th>16000</th>\n",
       "      <td>0.912604</td>\n",
       "      <td>0.087396</td>\n",
       "      <td>ZD-2192582</td>\n",
       "      <td>-106.0</td>\n",
       "      <td>2</td>\n",
       "      <td>678.1014</td>\n",
       "      <td>339.050700</td>\n",
       "    </tr>\n",
       "    <tr>\n",
       "      <th>16001</th>\n",
       "      <td>0.915949</td>\n",
       "      <td>0.084051</td>\n",
       "      <td>ZD-2192596</td>\n",
       "      <td>-659.0</td>\n",
       "      <td>2</td>\n",
       "      <td>269.3100</td>\n",
       "      <td>134.655000</td>\n",
       "    </tr>\n",
       "  </tbody>\n",
       "</table>\n",
       "<p>16002 rows × 7 columns</p>\n",
       "</div>"
      ],
      "text/plain": [
       "       prediction_rf_clf_0  prediction_rf_clf_1   Customer ID  recency  \\\n",
       "0                 0.894220             0.105780   AA-10315102   -268.0   \n",
       "1                 0.919165             0.080835   AA-10315120   -869.0   \n",
       "2                 0.871365             0.128635   AA-10315139    -59.0   \n",
       "3                 0.887578             0.112422  AA-103151402    -94.0   \n",
       "4                 0.911923             0.088077  AA-103151404   -728.0   \n",
       "...                    ...                  ...           ...      ...   \n",
       "15997             0.900445             0.099555    ZD-2192548   -660.0   \n",
       "15998             0.905648             0.094352    ZD-2192564  -1319.0   \n",
       "15999             0.938171             0.061829     ZD-219257  -1108.0   \n",
       "16000             0.912604             0.087396    ZD-2192582   -106.0   \n",
       "16001             0.915949             0.084051    ZD-2192596   -659.0   \n",
       "\n",
       "       frequency  price_sum   price_mean  \n",
       "0              6   544.6560    90.776000  \n",
       "1              1  2713.4100  2713.410000  \n",
       "2             13  2955.7980   227.369077  \n",
       "3              6  4780.5520   796.758667  \n",
       "4              3   753.5080   251.169333  \n",
       "...          ...        ...          ...  \n",
       "15997          4  1302.1680   325.542000  \n",
       "15998          4  1225.3920   306.348000  \n",
       "15999          1    59.9400    59.940000  \n",
       "16000          2   678.1014   339.050700  \n",
       "16001          2   269.3100   134.655000  \n",
       "\n",
       "[16002 rows x 7 columns]"
      ]
     },
     "execution_count": 70,
     "metadata": {},
     "output_type": "execute_result"
    }
   ],
   "source": [
    "\n",
    "pd.DataFrame(rfc_clf_model.predict_proba(X),columns=['prediction_rf_clf_0','prediction_rf_clf_1']).merge(X.reset_index(),left_index=True, right_index=True)"
   ]
  },
  {
   "cell_type": "code",
   "execution_count": 71,
   "id": "994919d0",
   "metadata": {
    "id": "JJs_781_KNaS"
   },
   "outputs": [],
   "source": [
    "\n",
    "pd.DataFrame(rfc_clf_model.predict_proba(X),columns=['prediction_rf_clf_0','prediction_rf_clf_1']).merge(X.reset_index(),left_index=True, right_index=True).to_csv(\"rf_clf_prediction.csv\")"
   ]
  },
  {
   "cell_type": "code",
   "execution_count": 72,
   "id": "362c720c",
   "metadata": {
    "colab": {
     "base_uri": "https://localhost:8080/"
    },
    "id": "2EtUgoteQfd5",
    "outputId": "076b2cd6-2e2c-42c0-bffb-185f033e5038"
   },
   "outputs": [
    {
     "name": "stdout",
     "output_type": "stream",
     "text": [
      "Requirement already satisfied: plydata in c:\\users\\nabhi\\anaconda3\\lib\\site-packages (0.4.3)\n",
      "Requirement already satisfied: pandas>=1.1.5 in c:\\users\\nabhi\\anaconda3\\lib\\site-packages (from plydata) (1.2.4)\n",
      "Requirement already satisfied: python-dateutil>=2.7.3 in c:\\users\\nabhi\\anaconda3\\lib\\site-packages (from pandas>=1.1.5->plydata) (2.8.1)\n",
      "Requirement already satisfied: pytz>=2017.3 in c:\\users\\nabhi\\anaconda3\\lib\\site-packages (from pandas>=1.1.5->plydata) (2021.1)\n",
      "Requirement already satisfied: numpy>=1.16.5 in c:\\users\\nabhi\\anaconda3\\lib\\site-packages (from pandas>=1.1.5->plydata) (1.20.1)\n",
      "Requirement already satisfied: six>=1.5 in c:\\users\\nabhi\\anaconda3\\lib\\site-packages (from python-dateutil>=2.7.3->pandas>=1.1.5->plydata) (1.15.0)\n"
     ]
    }
   ],
   "source": [
    "!pip install plydata"
   ]
  },
  {
   "cell_type": "code",
   "execution_count": 73,
   "id": "9b798131",
   "metadata": {
    "id": "P5X2ee5uQg8Y"
   },
   "outputs": [],
   "source": [
    "import joblib\n",
    "\n",
    "import plydata.cat_tools as cat"
   ]
  },
  {
   "cell_type": "markdown",
   "id": "25d934f5",
   "metadata": {
    "id": "wcX-PneelTeu"
   },
   "source": [
    "As XGBoostRegressor performed relatively better, considering it for further analysis:"
   ]
  },
  {
   "cell_type": "markdown",
   "id": "a4f767f8",
   "metadata": {
    "id": "04ZQdN_5ssgO"
   },
   "source": [
    "#### Feature Importance"
   ]
  },
  {
   "cell_type": "code",
   "execution_count": 74,
   "id": "f4c50844",
   "metadata": {
    "id": "javcCO_NQJmU"
   },
   "outputs": [],
   "source": [
    "# Feature importance (global)\n",
    "#importance | spend amount model\n",
    "\n",
    "imp_spend_amount_dict = xgb_reg_model.best_estimator_.get_booster().get_score(importance_type = 'gain')"
   ]
  },
  {
   "cell_type": "code",
   "execution_count": 75,
   "id": "9092564e",
   "metadata": {
    "id": "kt3QfbvOQMAw"
   },
   "outputs": [],
   "source": [
    "imp_spend_amount_df = pd.DataFrame(data = {'feature': list(imp_spend_amount_dict.keys()), \n",
    "                                   'value': list(imp_spend_amount_dict.values())}).assign(feature = lambda x : cat.cat_reorder(x['feature'], x['value']))"
   ]
  },
  {
   "cell_type": "code",
   "execution_count": 76,
   "id": "800e1988",
   "metadata": {
    "colab": {
     "base_uri": "https://localhost:8080/",
     "height": 173
    },
    "id": "2GKbBXv3QOKX",
    "outputId": "6d131285-554c-49e0-843d-5eea675eddbd"
   },
   "outputs": [
    {
     "data": {
      "text/html": [
       "<div>\n",
       "<style scoped>\n",
       "    .dataframe tbody tr th:only-of-type {\n",
       "        vertical-align: middle;\n",
       "    }\n",
       "\n",
       "    .dataframe tbody tr th {\n",
       "        vertical-align: top;\n",
       "    }\n",
       "\n",
       "    .dataframe thead th {\n",
       "        text-align: right;\n",
       "    }\n",
       "</style>\n",
       "<table border=\"1\" class=\"dataframe\">\n",
       "  <thead>\n",
       "    <tr style=\"text-align: right;\">\n",
       "      <th></th>\n",
       "      <th>feature</th>\n",
       "      <th>value</th>\n",
       "    </tr>\n",
       "  </thead>\n",
       "  <tbody>\n",
       "    <tr>\n",
       "      <th>0</th>\n",
       "      <td>recency</td>\n",
       "      <td>8.387816e+05</td>\n",
       "    </tr>\n",
       "    <tr>\n",
       "      <th>1</th>\n",
       "      <td>frequency</td>\n",
       "      <td>1.925278e+06</td>\n",
       "    </tr>\n",
       "    <tr>\n",
       "      <th>2</th>\n",
       "      <td>price_sum</td>\n",
       "      <td>4.369830e+06</td>\n",
       "    </tr>\n",
       "    <tr>\n",
       "      <th>3</th>\n",
       "      <td>price_mean</td>\n",
       "      <td>9.476169e+05</td>\n",
       "    </tr>\n",
       "  </tbody>\n",
       "</table>\n",
       "</div>"
      ],
      "text/plain": [
       "      feature         value\n",
       "0     recency  8.387816e+05\n",
       "1   frequency  1.925278e+06\n",
       "2   price_sum  4.369830e+06\n",
       "3  price_mean  9.476169e+05"
      ]
     },
     "execution_count": 76,
     "metadata": {},
     "output_type": "execute_result"
    }
   ],
   "source": [
    "imp_spend_amount_df"
   ]
  },
  {
   "cell_type": "code",
   "execution_count": 77,
   "id": "c1585d63",
   "metadata": {
    "id": "ta_t22HYQkqI"
   },
   "outputs": [],
   "source": [
    "# Importance | Spend probability model\n",
    "imp_spend_prob_dict = xgb_clf_model.best_estimator_.get_booster().get_score(importance_type = 'gain')"
   ]
  },
  {
   "cell_type": "code",
   "execution_count": 78,
   "id": "a0b4a5b0",
   "metadata": {
    "id": "-fLcG9QcQvLu"
   },
   "outputs": [],
   "source": [
    "imp_spend_prob_df = pd.DataFrame(data = {'feature': list(imp_spend_prob_dict.keys()), \n",
    "                                   'value': list(imp_spend_prob_dict.values())}).assign(feature = lambda x : cat.cat_reorder(x['feature'], x['value']))"
   ]
  },
  {
   "cell_type": "code",
   "execution_count": 79,
   "id": "7c652d48",
   "metadata": {
    "colab": {
     "base_uri": "https://localhost:8080/",
     "height": 173
    },
    "id": "DkhmKt3RQxAc",
    "outputId": "90c6b34e-8238-4cdb-d30f-01e2aafb7671"
   },
   "outputs": [
    {
     "data": {
      "text/html": [
       "<div>\n",
       "<style scoped>\n",
       "    .dataframe tbody tr th:only-of-type {\n",
       "        vertical-align: middle;\n",
       "    }\n",
       "\n",
       "    .dataframe tbody tr th {\n",
       "        vertical-align: top;\n",
       "    }\n",
       "\n",
       "    .dataframe thead th {\n",
       "        text-align: right;\n",
       "    }\n",
       "</style>\n",
       "<table border=\"1\" class=\"dataframe\">\n",
       "  <thead>\n",
       "    <tr style=\"text-align: right;\">\n",
       "      <th></th>\n",
       "      <th>feature</th>\n",
       "      <th>value</th>\n",
       "    </tr>\n",
       "  </thead>\n",
       "  <tbody>\n",
       "    <tr>\n",
       "      <th>0</th>\n",
       "      <td>recency</td>\n",
       "      <td>1.518297</td>\n",
       "    </tr>\n",
       "    <tr>\n",
       "      <th>1</th>\n",
       "      <td>frequency</td>\n",
       "      <td>5.831520</td>\n",
       "    </tr>\n",
       "    <tr>\n",
       "      <th>2</th>\n",
       "      <td>price_sum</td>\n",
       "      <td>1.389463</td>\n",
       "    </tr>\n",
       "    <tr>\n",
       "      <th>3</th>\n",
       "      <td>price_mean</td>\n",
       "      <td>1.922718</td>\n",
       "    </tr>\n",
       "  </tbody>\n",
       "</table>\n",
       "</div>"
      ],
      "text/plain": [
       "      feature     value\n",
       "0     recency  1.518297\n",
       "1   frequency  5.831520\n",
       "2   price_sum  1.389463\n",
       "3  price_mean  1.922718"
      ]
     },
     "execution_count": 79,
     "metadata": {},
     "output_type": "execute_result"
    }
   ],
   "source": [
    "imp_spend_prob_df"
   ]
  },
  {
   "cell_type": "code",
   "execution_count": 80,
   "id": "fa31a115",
   "metadata": {
    "id": "6u08g317Qz0u"
   },
   "outputs": [],
   "source": [
    "# save predictions\n",
    "#predictions_df = pd.concat([pd.DataFrame(predictions_reg).set_axis(['pred_spend'], axis = 1), pd.DataFrame(predictions_clf)[[1]].set_axis(['pred_prob'], axis = 1), features_df.reset_index()], axis =1)"
   ]
  },
  {
   "cell_type": "code",
   "execution_count": 81,
   "id": "820c46ca",
   "metadata": {
    "colab": {
     "base_uri": "https://localhost:8080/",
     "height": 419
    },
    "id": "eNKlLM_wQ4xW",
    "outputId": "1cfca217-91ff-42b6-da25-f988df6bde75"
   },
   "outputs": [
    {
     "data": {
      "text/html": [
       "<div>\n",
       "<style scoped>\n",
       "    .dataframe tbody tr th:only-of-type {\n",
       "        vertical-align: middle;\n",
       "    }\n",
       "\n",
       "    .dataframe tbody tr th {\n",
       "        vertical-align: top;\n",
       "    }\n",
       "\n",
       "    .dataframe thead th {\n",
       "        text-align: right;\n",
       "    }\n",
       "</style>\n",
       "<table border=\"1\" class=\"dataframe\">\n",
       "  <thead>\n",
       "    <tr style=\"text-align: right;\">\n",
       "      <th></th>\n",
       "      <th>spend_90_total</th>\n",
       "      <th>Customer ID</th>\n",
       "      <th>recency</th>\n",
       "      <th>frequency</th>\n",
       "      <th>price_sum</th>\n",
       "      <th>price_mean</th>\n",
       "    </tr>\n",
       "  </thead>\n",
       "  <tbody>\n",
       "    <tr>\n",
       "      <th>0</th>\n",
       "      <td>38.020813</td>\n",
       "      <td>AA-10315102</td>\n",
       "      <td>-268.0</td>\n",
       "      <td>6</td>\n",
       "      <td>544.6560</td>\n",
       "      <td>90.776000</td>\n",
       "    </tr>\n",
       "    <tr>\n",
       "      <th>1</th>\n",
       "      <td>33.491329</td>\n",
       "      <td>AA-10315120</td>\n",
       "      <td>-869.0</td>\n",
       "      <td>1</td>\n",
       "      <td>2713.4100</td>\n",
       "      <td>2713.410000</td>\n",
       "    </tr>\n",
       "    <tr>\n",
       "      <th>2</th>\n",
       "      <td>42.762573</td>\n",
       "      <td>AA-10315139</td>\n",
       "      <td>-59.0</td>\n",
       "      <td>13</td>\n",
       "      <td>2955.7980</td>\n",
       "      <td>227.369077</td>\n",
       "    </tr>\n",
       "    <tr>\n",
       "      <th>3</th>\n",
       "      <td>37.836720</td>\n",
       "      <td>AA-103151402</td>\n",
       "      <td>-94.0</td>\n",
       "      <td>6</td>\n",
       "      <td>4780.5520</td>\n",
       "      <td>796.758667</td>\n",
       "    </tr>\n",
       "    <tr>\n",
       "      <th>4</th>\n",
       "      <td>31.978191</td>\n",
       "      <td>AA-103151404</td>\n",
       "      <td>-728.0</td>\n",
       "      <td>3</td>\n",
       "      <td>753.5080</td>\n",
       "      <td>251.169333</td>\n",
       "    </tr>\n",
       "    <tr>\n",
       "      <th>...</th>\n",
       "      <td>...</td>\n",
       "      <td>...</td>\n",
       "      <td>...</td>\n",
       "      <td>...</td>\n",
       "      <td>...</td>\n",
       "      <td>...</td>\n",
       "    </tr>\n",
       "    <tr>\n",
       "      <th>15997</th>\n",
       "      <td>32.042683</td>\n",
       "      <td>ZD-2192548</td>\n",
       "      <td>-660.0</td>\n",
       "      <td>4</td>\n",
       "      <td>1302.1680</td>\n",
       "      <td>325.542000</td>\n",
       "    </tr>\n",
       "    <tr>\n",
       "      <th>15998</th>\n",
       "      <td>11.804090</td>\n",
       "      <td>ZD-2192564</td>\n",
       "      <td>-1319.0</td>\n",
       "      <td>4</td>\n",
       "      <td>1225.3920</td>\n",
       "      <td>306.348000</td>\n",
       "    </tr>\n",
       "    <tr>\n",
       "      <th>15999</th>\n",
       "      <td>9.285524</td>\n",
       "      <td>ZD-219257</td>\n",
       "      <td>-1108.0</td>\n",
       "      <td>1</td>\n",
       "      <td>59.9400</td>\n",
       "      <td>59.940000</td>\n",
       "    </tr>\n",
       "    <tr>\n",
       "      <th>16000</th>\n",
       "      <td>22.593809</td>\n",
       "      <td>ZD-2192582</td>\n",
       "      <td>-106.0</td>\n",
       "      <td>2</td>\n",
       "      <td>678.1014</td>\n",
       "      <td>339.050700</td>\n",
       "    </tr>\n",
       "    <tr>\n",
       "      <th>16001</th>\n",
       "      <td>22.341291</td>\n",
       "      <td>ZD-2192596</td>\n",
       "      <td>-659.0</td>\n",
       "      <td>2</td>\n",
       "      <td>269.3100</td>\n",
       "      <td>134.655000</td>\n",
       "    </tr>\n",
       "  </tbody>\n",
       "</table>\n",
       "<p>16002 rows × 6 columns</p>\n",
       "</div>"
      ],
      "text/plain": [
       "       spend_90_total   Customer ID  recency  frequency  price_sum  \\\n",
       "0           38.020813   AA-10315102   -268.0          6   544.6560   \n",
       "1           33.491329   AA-10315120   -869.0          1  2713.4100   \n",
       "2           42.762573   AA-10315139    -59.0         13  2955.7980   \n",
       "3           37.836720  AA-103151402    -94.0          6  4780.5520   \n",
       "4           31.978191  AA-103151404   -728.0          3   753.5080   \n",
       "...               ...           ...      ...        ...        ...   \n",
       "15997       32.042683    ZD-2192548   -660.0          4  1302.1680   \n",
       "15998       11.804090    ZD-2192564  -1319.0          4  1225.3920   \n",
       "15999        9.285524     ZD-219257  -1108.0          1    59.9400   \n",
       "16000       22.593809    ZD-2192582   -106.0          2   678.1014   \n",
       "16001       22.341291    ZD-2192596   -659.0          2   269.3100   \n",
       "\n",
       "        price_mean  \n",
       "0        90.776000  \n",
       "1      2713.410000  \n",
       "2       227.369077  \n",
       "3       796.758667  \n",
       "4       251.169333  \n",
       "...            ...  \n",
       "15997   325.542000  \n",
       "15998   306.348000  \n",
       "15999    59.940000  \n",
       "16000   339.050700  \n",
       "16001   134.655000  \n",
       "\n",
       "[16002 rows x 6 columns]"
      ]
     },
     "execution_count": 81,
     "metadata": {},
     "output_type": "execute_result"
    }
   ],
   "source": [
    "predictions_df = pd.DataFrame({\"prediction_xgb\" : predictions_xgb_reg_model.tolist()}).merge(X.reset_index(),left_index=True, right_index=True)\n",
    "predictions_df.columns = ['spend_90_total', 'Customer ID', 'recency', 'frequency', 'price_sum','price_mean']\n",
    "predictions_df"
   ]
  },
  {
   "cell_type": "code",
   "execution_count": 82,
   "id": "fb6b7b73",
   "metadata": {
    "colab": {
     "base_uri": "https://localhost:8080/",
     "height": 653
    },
    "id": "TPMttK_imPCT",
    "outputId": "6c9cc0c5-2d76-4ec1-da40-8403bc63dcf6"
   },
   "outputs": [
    {
     "data": {
      "text/html": [
       "<div>\n",
       "<style scoped>\n",
       "    .dataframe tbody tr th:only-of-type {\n",
       "        vertical-align: middle;\n",
       "    }\n",
       "\n",
       "    .dataframe tbody tr th {\n",
       "        vertical-align: top;\n",
       "    }\n",
       "\n",
       "    .dataframe thead th {\n",
       "        text-align: right;\n",
       "    }\n",
       "</style>\n",
       "<table border=\"1\" class=\"dataframe\">\n",
       "  <thead>\n",
       "    <tr style=\"text-align: right;\">\n",
       "      <th></th>\n",
       "      <th>spend_90_total</th>\n",
       "      <th>Customer ID</th>\n",
       "      <th>recency</th>\n",
       "      <th>frequency</th>\n",
       "      <th>price_sum</th>\n",
       "      <th>price_mean</th>\n",
       "      <th>prediction_xgb_clf_0</th>\n",
       "      <th>prediction_xgb_clf_1</th>\n",
       "    </tr>\n",
       "  </thead>\n",
       "  <tbody>\n",
       "    <tr>\n",
       "      <th>0</th>\n",
       "      <td>38.020813</td>\n",
       "      <td>AA-10315102</td>\n",
       "      <td>-268.0</td>\n",
       "      <td>6</td>\n",
       "      <td>544.6560</td>\n",
       "      <td>90.776000</td>\n",
       "      <td>0.747942</td>\n",
       "      <td>0.252058</td>\n",
       "    </tr>\n",
       "    <tr>\n",
       "      <th>1</th>\n",
       "      <td>33.491329</td>\n",
       "      <td>AA-10315120</td>\n",
       "      <td>-869.0</td>\n",
       "      <td>1</td>\n",
       "      <td>2713.4100</td>\n",
       "      <td>2713.410000</td>\n",
       "      <td>0.777251</td>\n",
       "      <td>0.222749</td>\n",
       "    </tr>\n",
       "    <tr>\n",
       "      <th>2</th>\n",
       "      <td>42.762573</td>\n",
       "      <td>AA-10315139</td>\n",
       "      <td>-59.0</td>\n",
       "      <td>13</td>\n",
       "      <td>2955.7980</td>\n",
       "      <td>227.369077</td>\n",
       "      <td>0.750724</td>\n",
       "      <td>0.249276</td>\n",
       "    </tr>\n",
       "    <tr>\n",
       "      <th>3</th>\n",
       "      <td>37.836720</td>\n",
       "      <td>AA-103151402</td>\n",
       "      <td>-94.0</td>\n",
       "      <td>6</td>\n",
       "      <td>4780.5520</td>\n",
       "      <td>796.758667</td>\n",
       "      <td>0.748390</td>\n",
       "      <td>0.251610</td>\n",
       "    </tr>\n",
       "    <tr>\n",
       "      <th>4</th>\n",
       "      <td>31.978191</td>\n",
       "      <td>AA-103151404</td>\n",
       "      <td>-728.0</td>\n",
       "      <td>3</td>\n",
       "      <td>753.5080</td>\n",
       "      <td>251.169333</td>\n",
       "      <td>0.763143</td>\n",
       "      <td>0.236857</td>\n",
       "    </tr>\n",
       "    <tr>\n",
       "      <th>...</th>\n",
       "      <td>...</td>\n",
       "      <td>...</td>\n",
       "      <td>...</td>\n",
       "      <td>...</td>\n",
       "      <td>...</td>\n",
       "      <td>...</td>\n",
       "      <td>...</td>\n",
       "      <td>...</td>\n",
       "    </tr>\n",
       "    <tr>\n",
       "      <th>15997</th>\n",
       "      <td>32.042683</td>\n",
       "      <td>ZD-2192548</td>\n",
       "      <td>-660.0</td>\n",
       "      <td>4</td>\n",
       "      <td>1302.1680</td>\n",
       "      <td>325.542000</td>\n",
       "      <td>0.761432</td>\n",
       "      <td>0.238568</td>\n",
       "    </tr>\n",
       "    <tr>\n",
       "      <th>15998</th>\n",
       "      <td>11.804090</td>\n",
       "      <td>ZD-2192564</td>\n",
       "      <td>-1319.0</td>\n",
       "      <td>4</td>\n",
       "      <td>1225.3920</td>\n",
       "      <td>306.348000</td>\n",
       "      <td>0.770570</td>\n",
       "      <td>0.229430</td>\n",
       "    </tr>\n",
       "    <tr>\n",
       "      <th>15999</th>\n",
       "      <td>9.285524</td>\n",
       "      <td>ZD-219257</td>\n",
       "      <td>-1108.0</td>\n",
       "      <td>1</td>\n",
       "      <td>59.9400</td>\n",
       "      <td>59.940000</td>\n",
       "      <td>0.783490</td>\n",
       "      <td>0.216510</td>\n",
       "    </tr>\n",
       "    <tr>\n",
       "      <th>16000</th>\n",
       "      <td>22.593809</td>\n",
       "      <td>ZD-2192582</td>\n",
       "      <td>-106.0</td>\n",
       "      <td>2</td>\n",
       "      <td>678.1014</td>\n",
       "      <td>339.050700</td>\n",
       "      <td>0.763946</td>\n",
       "      <td>0.236054</td>\n",
       "    </tr>\n",
       "    <tr>\n",
       "      <th>16001</th>\n",
       "      <td>22.341291</td>\n",
       "      <td>ZD-2192596</td>\n",
       "      <td>-659.0</td>\n",
       "      <td>2</td>\n",
       "      <td>269.3100</td>\n",
       "      <td>134.655000</td>\n",
       "      <td>0.762270</td>\n",
       "      <td>0.237730</td>\n",
       "    </tr>\n",
       "  </tbody>\n",
       "</table>\n",
       "<p>16002 rows × 8 columns</p>\n",
       "</div>"
      ],
      "text/plain": [
       "       spend_90_total   Customer ID  recency  frequency  price_sum  \\\n",
       "0           38.020813   AA-10315102   -268.0          6   544.6560   \n",
       "1           33.491329   AA-10315120   -869.0          1  2713.4100   \n",
       "2           42.762573   AA-10315139    -59.0         13  2955.7980   \n",
       "3           37.836720  AA-103151402    -94.0          6  4780.5520   \n",
       "4           31.978191  AA-103151404   -728.0          3   753.5080   \n",
       "...               ...           ...      ...        ...        ...   \n",
       "15997       32.042683    ZD-2192548   -660.0          4  1302.1680   \n",
       "15998       11.804090    ZD-2192564  -1319.0          4  1225.3920   \n",
       "15999        9.285524     ZD-219257  -1108.0          1    59.9400   \n",
       "16000       22.593809    ZD-2192582   -106.0          2   678.1014   \n",
       "16001       22.341291    ZD-2192596   -659.0          2   269.3100   \n",
       "\n",
       "        price_mean  prediction_xgb_clf_0  prediction_xgb_clf_1  \n",
       "0        90.776000              0.747942              0.252058  \n",
       "1      2713.410000              0.777251              0.222749  \n",
       "2       227.369077              0.750724              0.249276  \n",
       "3       796.758667              0.748390              0.251610  \n",
       "4       251.169333              0.763143              0.236857  \n",
       "...            ...                   ...                   ...  \n",
       "15997   325.542000              0.761432              0.238568  \n",
       "15998   306.348000              0.770570              0.229430  \n",
       "15999    59.940000              0.783490              0.216510  \n",
       "16000   339.050700              0.763946              0.236054  \n",
       "16001   134.655000              0.762270              0.237730  \n",
       "\n",
       "[16002 rows x 8 columns]"
      ]
     },
     "execution_count": 82,
     "metadata": {},
     "output_type": "execute_result"
    }
   ],
   "source": [
    "predictions_df = predictions_df.merge((pd.DataFrame(xgb_clf_model.predict_proba(X),columns=['prediction_xgb_clf_0','prediction_xgb_clf_1']).merge(X.reset_index()[\"Customer ID\"],left_index=True, right_index=True)), on=\"Customer ID\")\n",
    "predictions_df"
   ]
  },
  {
   "cell_type": "code",
   "execution_count": 83,
   "id": "0256a5f2",
   "metadata": {
    "colab": {
     "base_uri": "https://localhost:8080/"
    },
    "id": "kBlXoQp5Rcz4",
    "outputId": "13b28ea2-9bb1-4eb4-a722-af867eae4519"
   },
   "outputs": [
    {
     "data": {
      "text/plain": [
       "16002"
      ]
     },
     "execution_count": 83,
     "metadata": {},
     "output_type": "execute_result"
    }
   ],
   "source": [
    "predictions_df[predictions_df[\"spend_90_total\"]>0][\"Customer ID\"].count()"
   ]
  },
  {
   "cell_type": "code",
   "execution_count": 84,
   "id": "35165cdf",
   "metadata": {
    "colab": {
     "base_uri": "https://localhost:8080/",
     "height": 670
    },
    "id": "ndYIIIkhQ6yv",
    "outputId": "8e4ee8df-ef61-44f1-db4e-bc96b4d7dc22"
   },
   "outputs": [
    {
     "data": {
      "text/html": [
       "<div>\n",
       "<style scoped>\n",
       "    .dataframe tbody tr th:only-of-type {\n",
       "        vertical-align: middle;\n",
       "    }\n",
       "\n",
       "    .dataframe tbody tr th {\n",
       "        vertical-align: top;\n",
       "    }\n",
       "\n",
       "    .dataframe thead th {\n",
       "        text-align: right;\n",
       "    }\n",
       "</style>\n",
       "<table border=\"1\" class=\"dataframe\">\n",
       "  <thead>\n",
       "    <tr style=\"text-align: right;\">\n",
       "      <th></th>\n",
       "      <th>spend_90_total</th>\n",
       "      <th>Customer ID</th>\n",
       "      <th>recency</th>\n",
       "      <th>frequency</th>\n",
       "      <th>price_sum</th>\n",
       "      <th>price_mean</th>\n",
       "      <th>prediction_xgb_clf_0</th>\n",
       "      <th>prediction_xgb_clf_1</th>\n",
       "    </tr>\n",
       "  </thead>\n",
       "  <tbody>\n",
       "    <tr>\n",
       "      <th>1847</th>\n",
       "      <td>55.309856</td>\n",
       "      <td>BM-116501402</td>\n",
       "      <td>-141.0</td>\n",
       "      <td>14</td>\n",
       "      <td>3059.0830</td>\n",
       "      <td>218.505929</td>\n",
       "      <td>0.488360</td>\n",
       "      <td>0.511640</td>\n",
       "    </tr>\n",
       "    <tr>\n",
       "      <th>9069</th>\n",
       "      <td>55.309856</td>\n",
       "      <td>LC-168851404</td>\n",
       "      <td>-353.0</td>\n",
       "      <td>13</td>\n",
       "      <td>2864.0820</td>\n",
       "      <td>220.314000</td>\n",
       "      <td>0.488360</td>\n",
       "      <td>0.511640</td>\n",
       "    </tr>\n",
       "    <tr>\n",
       "      <th>7646</th>\n",
       "      <td>55.309856</td>\n",
       "      <td>JK-1609027</td>\n",
       "      <td>-272.0</td>\n",
       "      <td>14</td>\n",
       "      <td>3061.0200</td>\n",
       "      <td>218.644286</td>\n",
       "      <td>0.488360</td>\n",
       "      <td>0.511640</td>\n",
       "    </tr>\n",
       "    <tr>\n",
       "      <th>11220</th>\n",
       "      <td>37.836720</td>\n",
       "      <td>NC-185351404</td>\n",
       "      <td>-183.0</td>\n",
       "      <td>6</td>\n",
       "      <td>6275.4760</td>\n",
       "      <td>1045.912667</td>\n",
       "      <td>0.497004</td>\n",
       "      <td>0.502996</td>\n",
       "    </tr>\n",
       "    <tr>\n",
       "      <th>8739</th>\n",
       "      <td>35.619984</td>\n",
       "      <td>KL-166451404</td>\n",
       "      <td>-276.0</td>\n",
       "      <td>6</td>\n",
       "      <td>8450.3940</td>\n",
       "      <td>1408.399000</td>\n",
       "      <td>0.509092</td>\n",
       "      <td>0.490908</td>\n",
       "    </tr>\n",
       "    <tr>\n",
       "      <th>...</th>\n",
       "      <td>...</td>\n",
       "      <td>...</td>\n",
       "      <td>...</td>\n",
       "      <td>...</td>\n",
       "      <td>...</td>\n",
       "      <td>...</td>\n",
       "      <td>...</td>\n",
       "      <td>...</td>\n",
       "    </tr>\n",
       "    <tr>\n",
       "      <th>1714</th>\n",
       "      <td>16.037533</td>\n",
       "      <td>BF-975134</td>\n",
       "      <td>-1107.0</td>\n",
       "      <td>1</td>\n",
       "      <td>20.8800</td>\n",
       "      <td>20.880000</td>\n",
       "      <td>0.783490</td>\n",
       "      <td>0.216510</td>\n",
       "    </tr>\n",
       "    <tr>\n",
       "      <th>8443</th>\n",
       "      <td>13.142667</td>\n",
       "      <td>KC-1625597</td>\n",
       "      <td>-1038.0</td>\n",
       "      <td>1</td>\n",
       "      <td>10.2900</td>\n",
       "      <td>10.290000</td>\n",
       "      <td>0.783490</td>\n",
       "      <td>0.216510</td>\n",
       "    </tr>\n",
       "    <tr>\n",
       "      <th>8438</th>\n",
       "      <td>16.790062</td>\n",
       "      <td>KC-1625559</td>\n",
       "      <td>-1143.0</td>\n",
       "      <td>1</td>\n",
       "      <td>32.3883</td>\n",
       "      <td>32.388300</td>\n",
       "      <td>0.783490</td>\n",
       "      <td>0.216510</td>\n",
       "    </tr>\n",
       "    <tr>\n",
       "      <th>3762</th>\n",
       "      <td>15.770855</td>\n",
       "      <td>DA-1345039</td>\n",
       "      <td>-1105.0</td>\n",
       "      <td>1</td>\n",
       "      <td>16.7600</td>\n",
       "      <td>16.760000</td>\n",
       "      <td>0.783490</td>\n",
       "      <td>0.216510</td>\n",
       "    </tr>\n",
       "    <tr>\n",
       "      <th>11849</th>\n",
       "      <td>16.790062</td>\n",
       "      <td>PF-19120124</td>\n",
       "      <td>-1242.0</td>\n",
       "      <td>1</td>\n",
       "      <td>25.8300</td>\n",
       "      <td>25.830000</td>\n",
       "      <td>0.783490</td>\n",
       "      <td>0.216510</td>\n",
       "    </tr>\n",
       "  </tbody>\n",
       "</table>\n",
       "<p>16002 rows × 8 columns</p>\n",
       "</div>"
      ],
      "text/plain": [
       "       spend_90_total   Customer ID  recency  frequency  price_sum  \\\n",
       "1847        55.309856  BM-116501402   -141.0         14  3059.0830   \n",
       "9069        55.309856  LC-168851404   -353.0         13  2864.0820   \n",
       "7646        55.309856    JK-1609027   -272.0         14  3061.0200   \n",
       "11220       37.836720  NC-185351404   -183.0          6  6275.4760   \n",
       "8739        35.619984  KL-166451404   -276.0          6  8450.3940   \n",
       "...               ...           ...      ...        ...        ...   \n",
       "1714        16.037533     BF-975134  -1107.0          1    20.8800   \n",
       "8443        13.142667    KC-1625597  -1038.0          1    10.2900   \n",
       "8438        16.790062    KC-1625559  -1143.0          1    32.3883   \n",
       "3762        15.770855    DA-1345039  -1105.0          1    16.7600   \n",
       "11849       16.790062   PF-19120124  -1242.0          1    25.8300   \n",
       "\n",
       "        price_mean  prediction_xgb_clf_0  prediction_xgb_clf_1  \n",
       "1847    218.505929              0.488360              0.511640  \n",
       "9069    220.314000              0.488360              0.511640  \n",
       "7646    218.644286              0.488360              0.511640  \n",
       "11220  1045.912667              0.497004              0.502996  \n",
       "8739   1408.399000              0.509092              0.490908  \n",
       "...            ...                   ...                   ...  \n",
       "1714     20.880000              0.783490              0.216510  \n",
       "8443     10.290000              0.783490              0.216510  \n",
       "8438     32.388300              0.783490              0.216510  \n",
       "3762     16.760000              0.783490              0.216510  \n",
       "11849    25.830000              0.783490              0.216510  \n",
       "\n",
       "[16002 rows x 8 columns]"
      ]
     },
     "execution_count": 84,
     "metadata": {},
     "output_type": "execute_result"
    }
   ],
   "source": [
    "## Which customers have the highest spend probability in the next 90 days\n",
    "  ##Target for new products similar to what they have purchased in the past\n",
    "predictions_df.sort_values('prediction_xgb_clf_1', ascending = False)"
   ]
  },
  {
   "cell_type": "markdown",
   "id": "5603d968",
   "metadata": {
    "id": "oRoQ23bwRK8n"
   },
   "source": [
    "##Which customers have recently purchased but are unlikely to buy\n",
    "- Provide discounts, incentives to increase probability\n",
    "- encourage referring a friend"
   ]
  },
  {
   "cell_type": "code",
   "execution_count": 85,
   "id": "98fd195d",
   "metadata": {
    "colab": {
     "base_uri": "https://localhost:8080/",
     "height": 636
    },
    "id": "pQMJbhRmQ_jx",
    "outputId": "98e07286-3b00-4916-91fa-8f774e410372"
   },
   "outputs": [
    {
     "data": {
      "text/html": [
       "<div>\n",
       "<style scoped>\n",
       "    .dataframe tbody tr th:only-of-type {\n",
       "        vertical-align: middle;\n",
       "    }\n",
       "\n",
       "    .dataframe tbody tr th {\n",
       "        vertical-align: top;\n",
       "    }\n",
       "\n",
       "    .dataframe thead th {\n",
       "        text-align: right;\n",
       "    }\n",
       "</style>\n",
       "<table border=\"1\" class=\"dataframe\">\n",
       "  <thead>\n",
       "    <tr style=\"text-align: right;\">\n",
       "      <th></th>\n",
       "      <th>spend_90_total</th>\n",
       "      <th>Customer ID</th>\n",
       "      <th>recency</th>\n",
       "      <th>frequency</th>\n",
       "      <th>price_sum</th>\n",
       "      <th>price_mean</th>\n",
       "      <th>prediction_xgb_clf_0</th>\n",
       "      <th>prediction_xgb_clf_1</th>\n",
       "    </tr>\n",
       "  </thead>\n",
       "  <tbody>\n",
       "    <tr>\n",
       "      <th>7385</th>\n",
       "      <td>31.013855</td>\n",
       "      <td>JG-516095</td>\n",
       "      <td>-44.0</td>\n",
       "      <td>6</td>\n",
       "      <td>97.3170</td>\n",
       "      <td>16.219500</td>\n",
       "      <td>0.700815</td>\n",
       "      <td>0.299185</td>\n",
       "    </tr>\n",
       "    <tr>\n",
       "      <th>15466</th>\n",
       "      <td>31.013855</td>\n",
       "      <td>TS-21430102</td>\n",
       "      <td>-5.0</td>\n",
       "      <td>6</td>\n",
       "      <td>223.9065</td>\n",
       "      <td>37.317750</td>\n",
       "      <td>0.702967</td>\n",
       "      <td>0.297033</td>\n",
       "    </tr>\n",
       "    <tr>\n",
       "      <th>15349</th>\n",
       "      <td>33.497589</td>\n",
       "      <td>TS-1116030</td>\n",
       "      <td>-15.0</td>\n",
       "      <td>4</td>\n",
       "      <td>92.9700</td>\n",
       "      <td>23.242500</td>\n",
       "      <td>0.703969</td>\n",
       "      <td>0.296031</td>\n",
       "    </tr>\n",
       "    <tr>\n",
       "      <th>3352</th>\n",
       "      <td>37.815552</td>\n",
       "      <td>CR-125807</td>\n",
       "      <td>-42.0</td>\n",
       "      <td>7</td>\n",
       "      <td>888.7950</td>\n",
       "      <td>126.970714</td>\n",
       "      <td>0.705040</td>\n",
       "      <td>0.294960</td>\n",
       "    </tr>\n",
       "    <tr>\n",
       "      <th>8780</th>\n",
       "      <td>37.815552</td>\n",
       "      <td>KM-1637591</td>\n",
       "      <td>-43.0</td>\n",
       "      <td>7</td>\n",
       "      <td>894.9540</td>\n",
       "      <td>127.850571</td>\n",
       "      <td>0.705040</td>\n",
       "      <td>0.294960</td>\n",
       "    </tr>\n",
       "    <tr>\n",
       "      <th>...</th>\n",
       "      <td>...</td>\n",
       "      <td>...</td>\n",
       "      <td>...</td>\n",
       "      <td>...</td>\n",
       "      <td>...</td>\n",
       "      <td>...</td>\n",
       "      <td>...</td>\n",
       "      <td>...</td>\n",
       "    </tr>\n",
       "    <tr>\n",
       "      <th>9830</th>\n",
       "      <td>22.239960</td>\n",
       "      <td>MC-1759031</td>\n",
       "      <td>-40.0</td>\n",
       "      <td>1</td>\n",
       "      <td>24.4800</td>\n",
       "      <td>24.480000</td>\n",
       "      <td>0.782569</td>\n",
       "      <td>0.217431</td>\n",
       "    </tr>\n",
       "    <tr>\n",
       "      <th>3638</th>\n",
       "      <td>16.450476</td>\n",
       "      <td>CS-250560</td>\n",
       "      <td>-30.0</td>\n",
       "      <td>1</td>\n",
       "      <td>12.3600</td>\n",
       "      <td>12.360000</td>\n",
       "      <td>0.782569</td>\n",
       "      <td>0.217431</td>\n",
       "    </tr>\n",
       "    <tr>\n",
       "      <th>3634</th>\n",
       "      <td>21.693832</td>\n",
       "      <td>CS-2490117</td>\n",
       "      <td>-79.0</td>\n",
       "      <td>1</td>\n",
       "      <td>14.4300</td>\n",
       "      <td>14.430000</td>\n",
       "      <td>0.782569</td>\n",
       "      <td>0.217431</td>\n",
       "    </tr>\n",
       "    <tr>\n",
       "      <th>13688</th>\n",
       "      <td>13.675350</td>\n",
       "      <td>SC-2072527</td>\n",
       "      <td>-9.0</td>\n",
       "      <td>1</td>\n",
       "      <td>44.2800</td>\n",
       "      <td>44.280000</td>\n",
       "      <td>0.782569</td>\n",
       "      <td>0.217431</td>\n",
       "    </tr>\n",
       "    <tr>\n",
       "      <th>3115</th>\n",
       "      <td>29.034264</td>\n",
       "      <td>CM-1193536</td>\n",
       "      <td>-28.0</td>\n",
       "      <td>1</td>\n",
       "      <td>87.4560</td>\n",
       "      <td>87.456000</td>\n",
       "      <td>0.782569</td>\n",
       "      <td>0.217431</td>\n",
       "    </tr>\n",
       "  </tbody>\n",
       "</table>\n",
       "<p>2212 rows × 8 columns</p>\n",
       "</div>"
      ],
      "text/plain": [
       "       spend_90_total  Customer ID  recency  frequency  price_sum  price_mean  \\\n",
       "7385        31.013855    JG-516095    -44.0          6    97.3170   16.219500   \n",
       "15466       31.013855  TS-21430102     -5.0          6   223.9065   37.317750   \n",
       "15349       33.497589   TS-1116030    -15.0          4    92.9700   23.242500   \n",
       "3352        37.815552    CR-125807    -42.0          7   888.7950  126.970714   \n",
       "8780        37.815552   KM-1637591    -43.0          7   894.9540  127.850571   \n",
       "...               ...          ...      ...        ...        ...         ...   \n",
       "9830        22.239960   MC-1759031    -40.0          1    24.4800   24.480000   \n",
       "3638        16.450476    CS-250560    -30.0          1    12.3600   12.360000   \n",
       "3634        21.693832   CS-2490117    -79.0          1    14.4300   14.430000   \n",
       "13688       13.675350   SC-2072527     -9.0          1    44.2800   44.280000   \n",
       "3115        29.034264   CM-1193536    -28.0          1    87.4560   87.456000   \n",
       "\n",
       "       prediction_xgb_clf_0  prediction_xgb_clf_1  \n",
       "7385               0.700815              0.299185  \n",
       "15466              0.702967              0.297033  \n",
       "15349              0.703969              0.296031  \n",
       "3352               0.705040              0.294960  \n",
       "8780               0.705040              0.294960  \n",
       "...                     ...                   ...  \n",
       "9830               0.782569              0.217431  \n",
       "3638               0.782569              0.217431  \n",
       "3634               0.782569              0.217431  \n",
       "13688              0.782569              0.217431  \n",
       "3115               0.782569              0.217431  \n",
       "\n",
       "[2212 rows x 8 columns]"
      ]
     },
     "execution_count": 85,
     "metadata": {},
     "output_type": "execute_result"
    }
   ],
   "source": [
    "predictions_df[predictions_df['recency']>-90][predictions_df['prediction_xgb_clf_1']<0.3].sort_values('prediction_xgb_clf_1', ascending = False)"
   ]
  },
  {
   "cell_type": "code",
   "execution_count": 86,
   "id": "0c5ba76a",
   "metadata": {
    "colab": {
     "base_uri": "https://localhost:8080/",
     "height": 130
    },
    "id": "FahH3cDfRJ_Y",
    "outputId": "dc2ae9ca-ec6a-4500-ece9-b4527370bb7e"
   },
   "outputs": [
    {
     "data": {
      "text/html": [
       "<div>\n",
       "<style scoped>\n",
       "    .dataframe tbody tr th:only-of-type {\n",
       "        vertical-align: middle;\n",
       "    }\n",
       "\n",
       "    .dataframe tbody tr th {\n",
       "        vertical-align: top;\n",
       "    }\n",
       "\n",
       "    .dataframe thead th {\n",
       "        text-align: right;\n",
       "    }\n",
       "</style>\n",
       "<table border=\"1\" class=\"dataframe\">\n",
       "  <thead>\n",
       "    <tr style=\"text-align: right;\">\n",
       "      <th></th>\n",
       "      <th>spend_90_total</th>\n",
       "      <th>Customer ID</th>\n",
       "      <th>recency</th>\n",
       "      <th>frequency</th>\n",
       "      <th>price_sum</th>\n",
       "      <th>price_mean</th>\n",
       "      <th>prediction_xgb_clf_0</th>\n",
       "      <th>prediction_xgb_clf_1</th>\n",
       "    </tr>\n",
       "  </thead>\n",
       "  <tbody>\n",
       "  </tbody>\n",
       "</table>\n",
       "</div>"
      ],
      "text/plain": [
       "Empty DataFrame\n",
       "Columns: [spend_90_total, Customer ID, recency, frequency, price_sum, price_mean, prediction_xgb_clf_0, prediction_xgb_clf_1]\n",
       "Index: []"
      ]
     },
     "execution_count": 86,
     "metadata": {},
     "output_type": "execute_result"
    }
   ],
   "source": [
    "## Missed opportunities- Big spenders that could be unlocked\n",
    "  ## send bundle offers encouraging volume purchases\n",
    "  ## focus on missed opportunities\n",
    "predictions_df[predictions_df['spend_90_total'] == 0.0].sort_values('prediction_xgb_clf_1', ascending = False)"
   ]
  },
  {
   "cell_type": "markdown",
   "id": "d2e56fc4",
   "metadata": {
    "id": "4l5Qn3SK_Gbj"
   },
   "source": [
    "## CLV prediction via probabilistic methods - Lifetimes package:"
   ]
  },
  {
   "cell_type": "code",
   "execution_count": 87,
   "id": "10098c0e",
   "metadata": {
    "colab": {
     "base_uri": "https://localhost:8080/"
    },
    "id": "Ly-kV6HQ_LNf",
    "outputId": "8db8238d-f285-4c74-bd9a-abf5fa46895c"
   },
   "outputs": [
    {
     "name": "stdout",
     "output_type": "stream",
     "text": [
      "Requirement already satisfied: lifetimes in c:\\users\\nabhi\\anaconda3\\lib\\site-packages (0.11.3)\n",
      "Requirement already satisfied: autograd>=1.2.0 in c:\\users\\nabhi\\anaconda3\\lib\\site-packages (from lifetimes) (1.3)\n",
      "Requirement already satisfied: numpy>=1.10.0 in c:\\users\\nabhi\\anaconda3\\lib\\site-packages (from lifetimes) (1.20.1)\n",
      "Requirement already satisfied: scipy>=1.0.0 in c:\\users\\nabhi\\anaconda3\\lib\\site-packages (from lifetimes) (1.6.2)\n",
      "Requirement already satisfied: pandas>=0.24.0 in c:\\users\\nabhi\\anaconda3\\lib\\site-packages (from lifetimes) (1.2.4)\n",
      "Requirement already satisfied: dill>=0.2.6 in c:\\users\\nabhi\\anaconda3\\lib\\site-packages (from lifetimes) (0.3.4)\n",
      "Requirement already satisfied: future>=0.15.2 in c:\\users\\nabhi\\anaconda3\\lib\\site-packages (from autograd>=1.2.0->lifetimes) (0.18.2)\n",
      "Requirement already satisfied: pytz>=2017.3 in c:\\users\\nabhi\\anaconda3\\lib\\site-packages (from pandas>=0.24.0->lifetimes) (2021.1)\n",
      "Requirement already satisfied: python-dateutil>=2.7.3 in c:\\users\\nabhi\\anaconda3\\lib\\site-packages (from pandas>=0.24.0->lifetimes) (2.8.1)\n",
      "Requirement already satisfied: six>=1.5 in c:\\users\\nabhi\\anaconda3\\lib\\site-packages (from python-dateutil>=2.7.3->pandas>=0.24.0->lifetimes) (1.15.0)\n",
      "Note: you may need to restart the kernel to use updated packages.\n"
     ]
    }
   ],
   "source": [
    "pip install lifetimes"
   ]
  },
  {
   "cell_type": "code",
   "execution_count": 88,
   "id": "a2279035",
   "metadata": {
    "id": "QfxXGxcL_L7N"
   },
   "outputs": [],
   "source": [
    "import lifetimes"
   ]
  },
  {
   "cell_type": "code",
   "execution_count": 97,
   "id": "ee32cc74",
   "metadata": {},
   "outputs": [],
   "source": [
    "super_store_data = super_store_data[super_store_data['Sales']>0]"
   ]
  },
  {
   "cell_type": "code",
   "execution_count": 98,
   "id": "155ec29c",
   "metadata": {
    "colab": {
     "base_uri": "https://localhost:8080/",
     "height": 204
    },
    "id": "-cdy5S3B_SoI",
    "outputId": "0d013368-4495-4259-cfaa-c4a206bba453"
   },
   "outputs": [
    {
     "data": {
      "text/html": [
       "<div>\n",
       "<style scoped>\n",
       "    .dataframe tbody tr th:only-of-type {\n",
       "        vertical-align: middle;\n",
       "    }\n",
       "\n",
       "    .dataframe tbody tr th {\n",
       "        vertical-align: top;\n",
       "    }\n",
       "\n",
       "    .dataframe thead th {\n",
       "        text-align: right;\n",
       "    }\n",
       "</style>\n",
       "<table border=\"1\" class=\"dataframe\">\n",
       "  <thead>\n",
       "    <tr style=\"text-align: right;\">\n",
       "      <th></th>\n",
       "      <th>Customer ID</th>\n",
       "      <th>frequency</th>\n",
       "      <th>recency</th>\n",
       "      <th>T</th>\n",
       "      <th>monetary_value</th>\n",
       "    </tr>\n",
       "  </thead>\n",
       "  <tbody>\n",
       "    <tr>\n",
       "      <th>0</th>\n",
       "      <td>AA-10315102</td>\n",
       "      <td>1.0</td>\n",
       "      <td>918.0</td>\n",
       "      <td>1276.0</td>\n",
       "      <td>139.9275</td>\n",
       "    </tr>\n",
       "    <tr>\n",
       "      <th>1</th>\n",
       "      <td>AA-10315120</td>\n",
       "      <td>0.0</td>\n",
       "      <td>0.0</td>\n",
       "      <td>959.0</td>\n",
       "      <td>0.0000</td>\n",
       "    </tr>\n",
       "    <tr>\n",
       "      <th>2</th>\n",
       "      <td>AA-10315139</td>\n",
       "      <td>3.0</td>\n",
       "      <td>319.0</td>\n",
       "      <td>468.0</td>\n",
       "      <td>923.3060</td>\n",
       "    </tr>\n",
       "    <tr>\n",
       "      <th>3</th>\n",
       "      <td>AA-103151402</td>\n",
       "      <td>1.0</td>\n",
       "      <td>483.0</td>\n",
       "      <td>667.0</td>\n",
       "      <td>374.4800</td>\n",
       "    </tr>\n",
       "    <tr>\n",
       "      <th>4</th>\n",
       "      <td>AA-103151404</td>\n",
       "      <td>1.0</td>\n",
       "      <td>553.0</td>\n",
       "      <td>1371.0</td>\n",
       "      <td>26.9600</td>\n",
       "    </tr>\n",
       "  </tbody>\n",
       "</table>\n",
       "</div>"
      ],
      "text/plain": [
       "    Customer ID  frequency  recency       T  monetary_value\n",
       "0   AA-10315102        1.0    918.0  1276.0        139.9275\n",
       "1   AA-10315120        0.0      0.0   959.0          0.0000\n",
       "2   AA-10315139        3.0    319.0   468.0        923.3060\n",
       "3  AA-103151402        1.0    483.0   667.0        374.4800\n",
       "4  AA-103151404        1.0    553.0  1371.0         26.9600"
      ]
     },
     "execution_count": 98,
     "metadata": {},
     "output_type": "execute_result"
    }
   ],
   "source": [
    "# Creating the summary data using summary_data_from_transaction_data function\n",
    "summary = lifetimes.utils.summary_data_from_transaction_data(super_store_data, 'Customer ID', 'Order Date', 'Sales' )\n",
    "summary = summary.reset_index()\n",
    "summary.head()"
   ]
  },
  {
   "cell_type": "code",
   "execution_count": 99,
   "id": "5355038d",
   "metadata": {
    "colab": {
     "base_uri": "https://localhost:8080/",
     "height": 282
    },
    "id": "zU4NtX83_q6W",
    "outputId": "03b32f0a-2a7e-4345-ed7f-68c15ffb4bee"
   },
   "outputs": [
    {
     "data": {
      "text/plain": [
       "<AxesSubplot:ylabel='Frequency'>"
      ]
     },
     "execution_count": 99,
     "metadata": {},
     "output_type": "execute_result"
    },
    {
     "data": {
      "image/png": "[encoded data removed]",
      "text/plain": [
       "<Figure size 432x288 with 1 Axes>"
      ]
     },
     "metadata": {
      "needs_background": "light"
     },
     "output_type": "display_data"
    }
   ],
   "source": [
    "# Create a distribution of frequency to understand the customer frequence level\n",
    "summary['frequency'].plot(kind='hist', bins=50)\n",
    "\n"
   ]
  },
  {
   "cell_type": "code",
   "execution_count": 100,
   "id": "05a2b7b6",
   "metadata": {
    "colab": {
     "base_uri": "https://localhost:8080/"
    },
    "id": "4zmhSZQf_1RG",
    "outputId": "b8eb643e-8089-442c-b09f-ca0b105a4e5a"
   },
   "outputs": [
    {
     "name": "stdout",
     "output_type": "stream",
     "text": [
      "Percentage of customers purchase the item only once: 68.82 %\n"
     ]
    }
   ],
   "source": [
    "\n",
    "one_time_buyers = round(sum(summary['frequency'] == 0)/float(len(summary))*(100),2)\n",
    "print(\"Percentage of customers purchase the item only once:\", one_time_buyers ,\"%\")"
   ]
  },
  {
   "cell_type": "code",
   "execution_count": 101,
   "id": "57001903",
   "metadata": {
    "colab": {
     "base_uri": "https://localhost:8080/"
    },
    "id": "6JFeGNEs9khC",
    "outputId": "f45f196a-540b-434f-8d6d-4e9f3420d4b7"
   },
   "outputs": [
    {
     "data": {
      "text/plain": [
       "(49137, 23)"
      ]
     },
     "execution_count": 101,
     "metadata": {},
     "output_type": "execute_result"
    }
   ],
   "source": [
    "import datetime as dt\n",
    "TRAIN = super_store_data[super_store_data[\"Order Date\"] < super_store_data[\"Order Date\"].max() - dt.timedelta(days = 30)]\n",
    "TRAIN.shape"
   ]
  },
  {
   "cell_type": "code",
   "execution_count": 102,
   "id": "e2eb0861",
   "metadata": {
    "colab": {
     "base_uri": "https://localhost:8080/"
    },
    "id": "XWzHXaF99kOC",
    "outputId": "62a9c3b0-d6ea-4574-8cbc-6f367c98a5d7"
   },
   "outputs": [
    {
     "data": {
      "text/plain": [
       "(2153, 23)"
      ]
     },
     "execution_count": 102,
     "metadata": {},
     "output_type": "execute_result"
    }
   ],
   "source": [
    "TEST =  super_store_data[super_store_data[\"Order Date\"] >= super_store_data[\"Order Date\"].max() - dt.timedelta(days = 30)]\n",
    "TEST.shape"
   ]
  },
  {
   "cell_type": "code",
   "execution_count": 103,
   "id": "dc64e8fd",
   "metadata": {
    "colab": {
     "base_uri": "https://localhost:8080/",
     "height": 235
    },
    "id": "h0kaFJjI_B37",
    "outputId": "aff11742-b950-43f0-9933-c176bcf1d3cb"
   },
   "outputs": [
    {
     "data": {
      "text/html": [
       "<div>\n",
       "<style scoped>\n",
       "    .dataframe tbody tr th:only-of-type {\n",
       "        vertical-align: middle;\n",
       "    }\n",
       "\n",
       "    .dataframe tbody tr th {\n",
       "        vertical-align: top;\n",
       "    }\n",
       "\n",
       "    .dataframe thead th {\n",
       "        text-align: right;\n",
       "    }\n",
       "</style>\n",
       "<table border=\"1\" class=\"dataframe\">\n",
       "  <thead>\n",
       "    <tr style=\"text-align: right;\">\n",
       "      <th></th>\n",
       "      <th>frequency</th>\n",
       "      <th>recency</th>\n",
       "      <th>T</th>\n",
       "      <th>monetary_value</th>\n",
       "    </tr>\n",
       "    <tr>\n",
       "      <th>Customer ID</th>\n",
       "      <th></th>\n",
       "      <th></th>\n",
       "      <th></th>\n",
       "      <th></th>\n",
       "    </tr>\n",
       "  </thead>\n",
       "  <tbody>\n",
       "    <tr>\n",
       "      <th>AA-10315102</th>\n",
       "      <td>1.0</td>\n",
       "      <td>918.0</td>\n",
       "      <td>1245.0</td>\n",
       "      <td>139.9275</td>\n",
       "    </tr>\n",
       "    <tr>\n",
       "      <th>AA-10315120</th>\n",
       "      <td>0.0</td>\n",
       "      <td>0.0</td>\n",
       "      <td>928.0</td>\n",
       "      <td>0.0000</td>\n",
       "    </tr>\n",
       "    <tr>\n",
       "      <th>AA-10315139</th>\n",
       "      <td>3.0</td>\n",
       "      <td>319.0</td>\n",
       "      <td>437.0</td>\n",
       "      <td>923.3060</td>\n",
       "    </tr>\n",
       "    <tr>\n",
       "      <th>AA-103151402</th>\n",
       "      <td>1.0</td>\n",
       "      <td>483.0</td>\n",
       "      <td>636.0</td>\n",
       "      <td>374.4800</td>\n",
       "    </tr>\n",
       "    <tr>\n",
       "      <th>AA-103151404</th>\n",
       "      <td>1.0</td>\n",
       "      <td>553.0</td>\n",
       "      <td>1340.0</td>\n",
       "      <td>26.9600</td>\n",
       "    </tr>\n",
       "  </tbody>\n",
       "</table>\n",
       "</div>"
      ],
      "text/plain": [
       "              frequency  recency       T  monetary_value\n",
       "Customer ID                                             \n",
       "AA-10315102         1.0    918.0  1245.0        139.9275\n",
       "AA-10315120         0.0      0.0   928.0          0.0000\n",
       "AA-10315139         3.0    319.0   437.0        923.3060\n",
       "AA-103151402        1.0    483.0   636.0        374.4800\n",
       "AA-103151404        1.0    553.0  1340.0         26.9600"
      ]
     },
     "execution_count": 103,
     "metadata": {},
     "output_type": "execute_result"
    }
   ],
   "source": [
    "GD_data_LT = lifetimes.utils.summary_data_from_transaction_data(TRAIN, 'Customer ID', 'Order Date', 'Sales' )\n",
    "GD_data_LT.head()\n",
    "\n",
    "# frequency: total number of repeat purchases\n",
    "# recency: the difference between the customer's last purchase and his first purchase\n",
    "# T: the age of the client in the company\n",
    "# monetary_value: average earnings per purchase"
   ]
  },
  {
   "cell_type": "code",
   "execution_count": 104,
   "id": "966f8d60",
   "metadata": {
    "colab": {
     "base_uri": "https://localhost:8080/",
     "height": 452
    },
    "id": "6XcB7gwA_Bxw",
    "outputId": "22469853-cb5f-4c61-fa31-69d12d9162c0"
   },
   "outputs": [
    {
     "name": "stdout",
     "output_type": "stream",
     "text": [
      "count    16891.000000\n",
      "mean         0.457522\n",
      "std          0.825521\n",
      "min          0.000000\n",
      "25%          0.000000\n",
      "50%          0.000000\n",
      "75%          1.000000\n",
      "max          8.000000\n",
      "Name: frequency, dtype: float64\n",
      "---------------------------------------\n",
      "Percentage of customers that purchased the item only once: 69.55 %\n"
     ]
    },
    {
     "data": {
      "image/png": "[encoded data removed]",
      "text/plain": [
       "<Figure size 432x288 with 1 Axes>"
      ]
     },
     "metadata": {
      "needs_background": "light"
     },
     "output_type": "display_data"
    }
   ],
   "source": [
    "# Create a distribution of frequency to understand the customer frequency level\n",
    "GD_data_LT['frequency'].plot(kind='hist', bins=50)\n",
    "print(GD_data_LT['frequency'].describe())\n",
    "print(\"---------------------------------------\")\n",
    "one_time_buyers = round(sum(GD_data_LT['frequency'] == 0)/float(len(GD_data_LT))*(100),2)\n",
    "print(\"Percentage of customers that purchased the item only once:\", one_time_buyers ,\"%\")"
   ]
  },
  {
   "cell_type": "code",
   "execution_count": 130,
   "id": "60e9099e",
   "metadata": {
    "colab": {
     "base_uri": "https://localhost:8080/",
     "height": 173
    },
    "id": "_SiHEPIh_BqE",
    "outputId": "87f9845b-5659-47ef-b70b-9c499f3a55f3"
   },
   "outputs": [
    {
     "data": {
      "text/html": [
       "<div>\n",
       "<style scoped>\n",
       "    .dataframe tbody tr th:only-of-type {\n",
       "        vertical-align: middle;\n",
       "    }\n",
       "\n",
       "    .dataframe tbody tr th {\n",
       "        vertical-align: top;\n",
       "    }\n",
       "\n",
       "    .dataframe thead th {\n",
       "        text-align: right;\n",
       "    }\n",
       "</style>\n",
       "<table border=\"1\" class=\"dataframe\">\n",
       "  <thead>\n",
       "    <tr style=\"text-align: right;\">\n",
       "      <th></th>\n",
       "      <th>coef</th>\n",
       "      <th>se(coef)</th>\n",
       "      <th>lower 95% bound</th>\n",
       "      <th>upper 95% bound</th>\n",
       "    </tr>\n",
       "  </thead>\n",
       "  <tbody>\n",
       "    <tr>\n",
       "      <th>r</th>\n",
       "      <td>0.388892</td>\n",
       "      <td>0.007437</td>\n",
       "      <td>0.374315</td>\n",
       "      <td>0.403469</td>\n",
       "    </tr>\n",
       "    <tr>\n",
       "      <th>alpha</th>\n",
       "      <td>470.401318</td>\n",
       "      <td>11.792686</td>\n",
       "      <td>447.287653</td>\n",
       "      <td>493.514983</td>\n",
       "    </tr>\n",
       "    <tr>\n",
       "      <th>a</th>\n",
       "      <td>0.006205</td>\n",
       "      <td>0.003296</td>\n",
       "      <td>-0.000255</td>\n",
       "      <td>0.012664</td>\n",
       "    </tr>\n",
       "    <tr>\n",
       "      <th>b</th>\n",
       "      <td>0.033203</td>\n",
       "      <td>0.016448</td>\n",
       "      <td>0.000966</td>\n",
       "      <td>0.065441</td>\n",
       "    </tr>\n",
       "  </tbody>\n",
       "</table>\n",
       "</div>"
      ],
      "text/plain": [
       "             coef   se(coef)  lower 95% bound  upper 95% bound\n",
       "r        0.388892   0.007437         0.374315         0.403469\n",
       "alpha  470.401318  11.792686       447.287653       493.514983\n",
       "a        0.006205   0.003296        -0.000255         0.012664\n",
       "b        0.033203   0.016448         0.000966         0.065441"
      ]
     },
     "execution_count": 130,
     "metadata": {},
     "output_type": "execute_result"
    }
   ],
   "source": [
    "# Fitting the BG/NBD model\n",
    "bgf = lifetimes.BetaGeoFitter(penalizer_coef=0.1)\n",
    "bgf.fit(GD_data_LT['frequency'], GD_data_LT['recency'], GD_data_LT['T'])\n",
    "# Model summary\n",
    "bgf.summary"
   ]
  },
  {
   "cell_type": "code",
   "execution_count": 107,
   "id": "431e5eae",
   "metadata": {
    "colab": {
     "base_uri": "https://localhost:8080/",
     "height": 390
    },
    "id": "OlqEbsd2_Y55",
    "outputId": "d62f16f2-1de2-48a0-c8f9-c71e369d20b8"
   },
   "outputs": [
    {
     "data": {
      "text/html": [
       "<div>\n",
       "<style scoped>\n",
       "    .dataframe tbody tr th:only-of-type {\n",
       "        vertical-align: middle;\n",
       "    }\n",
       "\n",
       "    .dataframe tbody tr th {\n",
       "        vertical-align: top;\n",
       "    }\n",
       "\n",
       "    .dataframe thead th {\n",
       "        text-align: right;\n",
       "    }\n",
       "</style>\n",
       "<table border=\"1\" class=\"dataframe\">\n",
       "  <thead>\n",
       "    <tr style=\"text-align: right;\">\n",
       "      <th></th>\n",
       "      <th>frequency</th>\n",
       "      <th>recency</th>\n",
       "      <th>T</th>\n",
       "      <th>monetary_value</th>\n",
       "      <th>probability_alive</th>\n",
       "    </tr>\n",
       "    <tr>\n",
       "      <th>Customer ID</th>\n",
       "      <th></th>\n",
       "      <th></th>\n",
       "      <th></th>\n",
       "      <th></th>\n",
       "      <th></th>\n",
       "    </tr>\n",
       "  </thead>\n",
       "  <tbody>\n",
       "    <tr>\n",
       "      <th>AA-10315102</th>\n",
       "      <td>1.0</td>\n",
       "      <td>918.0</td>\n",
       "      <td>1245.0</td>\n",
       "      <td>139.9275</td>\n",
       "      <td>0.799568</td>\n",
       "    </tr>\n",
       "    <tr>\n",
       "      <th>AA-10315120</th>\n",
       "      <td>0.0</td>\n",
       "      <td>0.0</td>\n",
       "      <td>928.0</td>\n",
       "      <td>0.0000</td>\n",
       "      <td>1.000000</td>\n",
       "    </tr>\n",
       "    <tr>\n",
       "      <th>AA-10315139</th>\n",
       "      <td>3.0</td>\n",
       "      <td>319.0</td>\n",
       "      <td>437.0</td>\n",
       "      <td>923.3060</td>\n",
       "      <td>0.995131</td>\n",
       "    </tr>\n",
       "    <tr>\n",
       "      <th>AA-103151402</th>\n",
       "      <td>1.0</td>\n",
       "      <td>483.0</td>\n",
       "      <td>636.0</td>\n",
       "      <td>374.4800</td>\n",
       "      <td>0.813153</td>\n",
       "    </tr>\n",
       "    <tr>\n",
       "      <th>AA-103151404</th>\n",
       "      <td>1.0</td>\n",
       "      <td>553.0</td>\n",
       "      <td>1340.0</td>\n",
       "      <td>26.9600</td>\n",
       "      <td>0.707876</td>\n",
       "    </tr>\n",
       "    <tr>\n",
       "      <th>AA-103151406</th>\n",
       "      <td>0.0</td>\n",
       "      <td>0.0</td>\n",
       "      <td>1172.0</td>\n",
       "      <td>0.0000</td>\n",
       "      <td>1.000000</td>\n",
       "    </tr>\n",
       "    <tr>\n",
       "      <th>AA-1031548</th>\n",
       "      <td>0.0</td>\n",
       "      <td>0.0</td>\n",
       "      <td>480.0</td>\n",
       "      <td>0.0000</td>\n",
       "      <td>1.000000</td>\n",
       "    </tr>\n",
       "    <tr>\n",
       "      <th>AA-1031558</th>\n",
       "      <td>0.0</td>\n",
       "      <td>0.0</td>\n",
       "      <td>334.0</td>\n",
       "      <td>0.0000</td>\n",
       "      <td>1.000000</td>\n",
       "    </tr>\n",
       "    <tr>\n",
       "      <th>AA-103157</th>\n",
       "      <td>0.0</td>\n",
       "      <td>0.0</td>\n",
       "      <td>97.0</td>\n",
       "      <td>0.0000</td>\n",
       "      <td>1.000000</td>\n",
       "    </tr>\n",
       "    <tr>\n",
       "      <th>AA-1031582</th>\n",
       "      <td>1.0</td>\n",
       "      <td>439.0</td>\n",
       "      <td>1102.0</td>\n",
       "      <td>61.3000</td>\n",
       "      <td>0.714393</td>\n",
       "    </tr>\n",
       "  </tbody>\n",
       "</table>\n",
       "</div>"
      ],
      "text/plain": [
       "              frequency  recency       T  monetary_value  probability_alive\n",
       "Customer ID                                                                \n",
       "AA-10315102         1.0    918.0  1245.0        139.9275           0.799568\n",
       "AA-10315120         0.0      0.0   928.0          0.0000           1.000000\n",
       "AA-10315139         3.0    319.0   437.0        923.3060           0.995131\n",
       "AA-103151402        1.0    483.0   636.0        374.4800           0.813153\n",
       "AA-103151404        1.0    553.0  1340.0         26.9600           0.707876\n",
       "AA-103151406        0.0      0.0  1172.0          0.0000           1.000000\n",
       "AA-1031548          0.0      0.0   480.0          0.0000           1.000000\n",
       "AA-1031558          0.0      0.0   334.0          0.0000           1.000000\n",
       "AA-103157           0.0      0.0    97.0          0.0000           1.000000\n",
       "AA-1031582          1.0    439.0  1102.0         61.3000           0.714393"
      ]
     },
     "execution_count": 107,
     "metadata": {},
     "output_type": "execute_result"
    }
   ],
   "source": [
    "# Compute the customer alive probability\n",
    "GD_data_LT['probability_alive'] = bgf.conditional_probability_alive(GD_data_LT['frequency'], GD_data_LT['recency'], GD_data_LT['T'])\n",
    "GD_data_LT.head(10)"
   ]
  },
  {
   "cell_type": "code",
   "execution_count": 240,
   "id": "015d8358",
   "metadata": {
    "colab": {
     "base_uri": "https://localhost:8080/",
     "height": 528
    },
    "id": "93GWNgwo_YeH",
    "outputId": "b05fd3f2-e84b-4616-a24e-ac56a3320197",
    "scrolled": true
   },
   "outputs": [
    {
     "data": {
      "image/png": "[encoded data removed]",
      "text/plain": [
       "<Figure size 864x576 with 2 Axes>"
      ]
     },
     "metadata": {
      "needs_background": "light"
     },
     "output_type": "display_data"
    }
   ],
   "source": [
    "# Visual representation of relationship between recency and frequency\n",
    "import matplotlib.pyplot as plt\n",
    "from lifetimes.plotting import plot_probability_alive_matrix\n",
    "\n",
    "fig = plt.figure(figsize=(12,8))\n",
    "plot_probability_alive_matrix(bgf)\n",
    "plt.show()"
   ]
  },
  {
   "cell_type": "code",
   "execution_count": 109,
   "id": "c46465f3",
   "metadata": {
    "colab": {
     "base_uri": "https://localhost:8080/",
     "height": 403
    },
    "id": "m4O5FdQ4_Bjp",
    "outputId": "d3f82f57-a352-49a6-b037-73b4260456ec",
    "scrolled": true
   },
   "outputs": [
    {
     "data": {
      "text/html": [
       "<div>\n",
       "<style scoped>\n",
       "    .dataframe tbody tr th:only-of-type {\n",
       "        vertical-align: middle;\n",
       "    }\n",
       "\n",
       "    .dataframe tbody tr th {\n",
       "        vertical-align: top;\n",
       "    }\n",
       "\n",
       "    .dataframe thead th {\n",
       "        text-align: right;\n",
       "    }\n",
       "</style>\n",
       "<table border=\"1\" class=\"dataframe\">\n",
       "  <thead>\n",
       "    <tr style=\"text-align: right;\">\n",
       "      <th></th>\n",
       "      <th>Customer ID</th>\n",
       "      <th>frequency</th>\n",
       "      <th>recency</th>\n",
       "      <th>T</th>\n",
       "      <th>monetary_value</th>\n",
       "      <th>probability_alive</th>\n",
       "      <th>pred_num_txn</th>\n",
       "    </tr>\n",
       "  </thead>\n",
       "  <tbody>\n",
       "    <tr>\n",
       "      <th>0</th>\n",
       "      <td>BD-113201404</td>\n",
       "      <td>6.0</td>\n",
       "      <td>591.0</td>\n",
       "      <td>593.0</td>\n",
       "      <td>184.984667</td>\n",
       "      <td>0.998754</td>\n",
       "      <td>0.18</td>\n",
       "    </tr>\n",
       "    <tr>\n",
       "      <th>1</th>\n",
       "      <td>BW-1111045</td>\n",
       "      <td>4.0</td>\n",
       "      <td>354.0</td>\n",
       "      <td>377.0</td>\n",
       "      <td>316.623375</td>\n",
       "      <td>0.997697</td>\n",
       "      <td>0.15</td>\n",
       "    </tr>\n",
       "    <tr>\n",
       "      <th>2</th>\n",
       "      <td>EP-139151402</td>\n",
       "      <td>4.0</td>\n",
       "      <td>396.0</td>\n",
       "      <td>414.0</td>\n",
       "      <td>628.335200</td>\n",
       "      <td>0.997766</td>\n",
       "      <td>0.15</td>\n",
       "    </tr>\n",
       "    <tr>\n",
       "      <th>3</th>\n",
       "      <td>MP-1796545</td>\n",
       "      <td>4.0</td>\n",
       "      <td>356.0</td>\n",
       "      <td>381.0</td>\n",
       "      <td>933.333000</td>\n",
       "      <td>0.997674</td>\n",
       "      <td>0.15</td>\n",
       "    </tr>\n",
       "    <tr>\n",
       "      <th>4</th>\n",
       "      <td>GT-147101402</td>\n",
       "      <td>3.0</td>\n",
       "      <td>194.0</td>\n",
       "      <td>199.0</td>\n",
       "      <td>39.471333</td>\n",
       "      <td>0.996880</td>\n",
       "      <td>0.15</td>\n",
       "    </tr>\n",
       "    <tr>\n",
       "      <th>5</th>\n",
       "      <td>SF-202001404</td>\n",
       "      <td>4.0</td>\n",
       "      <td>415.0</td>\n",
       "      <td>443.0</td>\n",
       "      <td>729.513500</td>\n",
       "      <td>0.997660</td>\n",
       "      <td>0.14</td>\n",
       "    </tr>\n",
       "    <tr>\n",
       "      <th>6</th>\n",
       "      <td>MR-175457</td>\n",
       "      <td>3.0</td>\n",
       "      <td>189.0</td>\n",
       "      <td>264.0</td>\n",
       "      <td>875.077000</td>\n",
       "      <td>0.995623</td>\n",
       "      <td>0.14</td>\n",
       "    </tr>\n",
       "    <tr>\n",
       "      <th>7</th>\n",
       "      <td>CS-121757</td>\n",
       "      <td>8.0</td>\n",
       "      <td>1012.0</td>\n",
       "      <td>1311.0</td>\n",
       "      <td>680.714250</td>\n",
       "      <td>0.995896</td>\n",
       "      <td>0.14</td>\n",
       "    </tr>\n",
       "    <tr>\n",
       "      <th>8</th>\n",
       "      <td>AR-1082545</td>\n",
       "      <td>6.0</td>\n",
       "      <td>861.0</td>\n",
       "      <td>909.0</td>\n",
       "      <td>555.065000</td>\n",
       "      <td>0.998457</td>\n",
       "      <td>0.14</td>\n",
       "    </tr>\n",
       "    <tr>\n",
       "      <th>9</th>\n",
       "      <td>MH-181151406</td>\n",
       "      <td>3.0</td>\n",
       "      <td>251.0</td>\n",
       "      <td>264.0</td>\n",
       "      <td>560.188000</td>\n",
       "      <td>0.996768</td>\n",
       "      <td>0.14</td>\n",
       "    </tr>\n",
       "  </tbody>\n",
       "</table>\n",
       "</div>"
      ],
      "text/plain": [
       "    Customer ID  frequency  recency       T  monetary_value  \\\n",
       "0  BD-113201404        6.0    591.0   593.0      184.984667   \n",
       "1    BW-1111045        4.0    354.0   377.0      316.623375   \n",
       "2  EP-139151402        4.0    396.0   414.0      628.335200   \n",
       "3    MP-1796545        4.0    356.0   381.0      933.333000   \n",
       "4  GT-147101402        3.0    194.0   199.0       39.471333   \n",
       "5  SF-202001404        4.0    415.0   443.0      729.513500   \n",
       "6     MR-175457        3.0    189.0   264.0      875.077000   \n",
       "7     CS-121757        8.0   1012.0  1311.0      680.714250   \n",
       "8    AR-1082545        6.0    861.0   909.0      555.065000   \n",
       "9  MH-181151406        3.0    251.0   264.0      560.188000   \n",
       "\n",
       "   probability_alive  pred_num_txn  \n",
       "0           0.998754          0.18  \n",
       "1           0.997697          0.15  \n",
       "2           0.997766          0.15  \n",
       "3           0.997674          0.15  \n",
       "4           0.996880          0.15  \n",
       "5           0.997660          0.14  \n",
       "6           0.995623          0.14  \n",
       "7           0.995896          0.14  \n",
       "8           0.998457          0.14  \n",
       "9           0.996768          0.14  "
      ]
     },
     "execution_count": 109,
     "metadata": {},
     "output_type": "execute_result"
    }
   ],
   "source": [
    "#Predict future transaction for the next 30 days based on historical dataa\n",
    "t = 30\n",
    "GD_data_LT['pred_num_txn'] = round(bgf.conditional_expected_number_of_purchases_up_to_time(t, GD_data_LT['frequency'], GD_data_LT['recency'], GD_data_LT['T']),2)\n",
    "GD_data_LT.sort_values(by='pred_num_txn', ascending=False).head(10).reset_index()"
   ]
  },
  {
   "cell_type": "code",
   "execution_count": 110,
   "id": "a166183b",
   "metadata": {
    "colab": {
     "base_uri": "https://localhost:8080/",
     "height": 252
    },
    "id": "CFISzp1o_7L9",
    "outputId": "1ea5751a-7b63-43f1-decc-3b3b28ccfd47"
   },
   "outputs": [
    {
     "name": "stdout",
     "output_type": "stream",
     "text": [
      "(5143, 6)\n"
     ]
    },
    {
     "data": {
      "text/html": [
       "<div>\n",
       "<style scoped>\n",
       "    .dataframe tbody tr th:only-of-type {\n",
       "        vertical-align: middle;\n",
       "    }\n",
       "\n",
       "    .dataframe tbody tr th {\n",
       "        vertical-align: top;\n",
       "    }\n",
       "\n",
       "    .dataframe thead th {\n",
       "        text-align: right;\n",
       "    }\n",
       "</style>\n",
       "<table border=\"1\" class=\"dataframe\">\n",
       "  <thead>\n",
       "    <tr style=\"text-align: right;\">\n",
       "      <th></th>\n",
       "      <th>frequency</th>\n",
       "      <th>recency</th>\n",
       "      <th>T</th>\n",
       "      <th>monetary_value</th>\n",
       "      <th>probability_alive</th>\n",
       "      <th>pred_num_txn</th>\n",
       "    </tr>\n",
       "    <tr>\n",
       "      <th>Customer ID</th>\n",
       "      <th></th>\n",
       "      <th></th>\n",
       "      <th></th>\n",
       "      <th></th>\n",
       "      <th></th>\n",
       "      <th></th>\n",
       "    </tr>\n",
       "  </thead>\n",
       "  <tbody>\n",
       "    <tr>\n",
       "      <th>AA-10315102</th>\n",
       "      <td>1.0</td>\n",
       "      <td>918.0</td>\n",
       "      <td>1245.0</td>\n",
       "      <td>139.9275</td>\n",
       "      <td>0.799568</td>\n",
       "      <td>0.02</td>\n",
       "    </tr>\n",
       "    <tr>\n",
       "      <th>AA-10315139</th>\n",
       "      <td>3.0</td>\n",
       "      <td>319.0</td>\n",
       "      <td>437.0</td>\n",
       "      <td>923.3060</td>\n",
       "      <td>0.995131</td>\n",
       "      <td>0.11</td>\n",
       "    </tr>\n",
       "    <tr>\n",
       "      <th>AA-103151402</th>\n",
       "      <td>1.0</td>\n",
       "      <td>483.0</td>\n",
       "      <td>636.0</td>\n",
       "      <td>374.4800</td>\n",
       "      <td>0.813153</td>\n",
       "      <td>0.03</td>\n",
       "    </tr>\n",
       "    <tr>\n",
       "      <th>AA-103151404</th>\n",
       "      <td>1.0</td>\n",
       "      <td>553.0</td>\n",
       "      <td>1340.0</td>\n",
       "      <td>26.9600</td>\n",
       "      <td>0.707876</td>\n",
       "      <td>0.02</td>\n",
       "    </tr>\n",
       "    <tr>\n",
       "      <th>AA-1031582</th>\n",
       "      <td>1.0</td>\n",
       "      <td>439.0</td>\n",
       "      <td>1102.0</td>\n",
       "      <td>61.3000</td>\n",
       "      <td>0.714393</td>\n",
       "      <td>0.02</td>\n",
       "    </tr>\n",
       "  </tbody>\n",
       "</table>\n",
       "</div>"
      ],
      "text/plain": [
       "              frequency  recency       T  monetary_value  probability_alive  \\\n",
       "Customer ID                                                                   \n",
       "AA-10315102         1.0    918.0  1245.0        139.9275           0.799568   \n",
       "AA-10315139         3.0    319.0   437.0        923.3060           0.995131   \n",
       "AA-103151402        1.0    483.0   636.0        374.4800           0.813153   \n",
       "AA-103151404        1.0    553.0  1340.0         26.9600           0.707876   \n",
       "AA-1031582          1.0    439.0  1102.0         61.3000           0.714393   \n",
       "\n",
       "              pred_num_txn  \n",
       "Customer ID                 \n",
       "AA-10315102           0.02  \n",
       "AA-10315139           0.11  \n",
       "AA-103151402          0.03  \n",
       "AA-103151404          0.02  \n",
       "AA-1031582            0.02  "
      ]
     },
     "execution_count": 110,
     "metadata": {},
     "output_type": "execute_result"
    }
   ],
   "source": [
    "# Checking the relationship between frequency and monetary_value\n",
    "GD_return_customers_summary = GD_data_LT[GD_data_LT['frequency']>0]\n",
    "print(GD_return_customers_summary.shape)\n",
    "GD_return_customers_summary.head()"
   ]
  },
  {
   "cell_type": "code",
   "execution_count": 111,
   "id": "5fbb9cbc",
   "metadata": {
    "colab": {
     "base_uri": "https://localhost:8080/",
     "height": 111
    },
    "id": "qLBMZEbl_7F7",
    "outputId": "d5bf2ea0-c9e0-4530-e055-f15f65ccdaf1"
   },
   "outputs": [
    {
     "data": {
      "text/html": [
       "<div>\n",
       "<style scoped>\n",
       "    .dataframe tbody tr th:only-of-type {\n",
       "        vertical-align: middle;\n",
       "    }\n",
       "\n",
       "    .dataframe tbody tr th {\n",
       "        vertical-align: top;\n",
       "    }\n",
       "\n",
       "    .dataframe thead th {\n",
       "        text-align: right;\n",
       "    }\n",
       "</style>\n",
       "<table border=\"1\" class=\"dataframe\">\n",
       "  <thead>\n",
       "    <tr style=\"text-align: right;\">\n",
       "      <th></th>\n",
       "      <th>frequency</th>\n",
       "      <th>monetary_value</th>\n",
       "    </tr>\n",
       "  </thead>\n",
       "  <tbody>\n",
       "    <tr>\n",
       "      <th>frequency</th>\n",
       "      <td>1.000000</td>\n",
       "      <td>0.001725</td>\n",
       "    </tr>\n",
       "    <tr>\n",
       "      <th>monetary_value</th>\n",
       "      <td>0.001725</td>\n",
       "      <td>1.000000</td>\n",
       "    </tr>\n",
       "  </tbody>\n",
       "</table>\n",
       "</div>"
      ],
      "text/plain": [
       "                frequency  monetary_value\n",
       "frequency        1.000000        0.001725\n",
       "monetary_value   0.001725        1.000000"
      ]
     },
     "execution_count": 111,
     "metadata": {},
     "output_type": "execute_result"
    }
   ],
   "source": [
    "# Checking the relationship between frequency and monetary_value\n",
    "GD_return_customers_summary[['frequency', 'monetary_value']].corr()"
   ]
  },
  {
   "cell_type": "code",
   "execution_count": 112,
   "id": "c7aa853e",
   "metadata": {
    "colab": {
     "base_uri": "https://localhost:8080/",
     "height": 142
    },
    "id": "t-_CaOn9_6-G",
    "outputId": "07cd1203-63bd-4711-f5fb-8c18a6a6f714"
   },
   "outputs": [
    {
     "data": {
      "text/html": [
       "<div>\n",
       "<style scoped>\n",
       "    .dataframe tbody tr th:only-of-type {\n",
       "        vertical-align: middle;\n",
       "    }\n",
       "\n",
       "    .dataframe tbody tr th {\n",
       "        vertical-align: top;\n",
       "    }\n",
       "\n",
       "    .dataframe thead th {\n",
       "        text-align: right;\n",
       "    }\n",
       "</style>\n",
       "<table border=\"1\" class=\"dataframe\">\n",
       "  <thead>\n",
       "    <tr style=\"text-align: right;\">\n",
       "      <th></th>\n",
       "      <th>coef</th>\n",
       "      <th>se(coef)</th>\n",
       "      <th>lower 95% bound</th>\n",
       "      <th>upper 95% bound</th>\n",
       "    </tr>\n",
       "  </thead>\n",
       "  <tbody>\n",
       "    <tr>\n",
       "      <th>p</th>\n",
       "      <td>3.373907</td>\n",
       "      <td>0.066093</td>\n",
       "      <td>3.244365</td>\n",
       "      <td>3.503450</td>\n",
       "    </tr>\n",
       "    <tr>\n",
       "      <th>q</th>\n",
       "      <td>0.335324</td>\n",
       "      <td>0.005328</td>\n",
       "      <td>0.324881</td>\n",
       "      <td>0.345768</td>\n",
       "    </tr>\n",
       "    <tr>\n",
       "      <th>v</th>\n",
       "      <td>3.170847</td>\n",
       "      <td>0.068221</td>\n",
       "      <td>3.037135</td>\n",
       "      <td>3.304560</td>\n",
       "    </tr>\n",
       "  </tbody>\n",
       "</table>\n",
       "</div>"
      ],
      "text/plain": [
       "       coef  se(coef)  lower 95% bound  upper 95% bound\n",
       "p  3.373907  0.066093         3.244365         3.503450\n",
       "q  0.335324  0.005328         0.324881         0.345768\n",
       "v  3.170847  0.068221         3.037135         3.304560"
      ]
     },
     "execution_count": 112,
     "metadata": {},
     "output_type": "execute_result"
    }
   ],
   "source": [
    "# Modeling the monetary value using Gamma-Gamma Model\n",
    "ggf = lifetimes.GammaGammaFitter(penalizer_coef=0.01)\n",
    "ggf.fit(GD_return_customers_summary['frequency'], GD_return_customers_summary['monetary_value'])\n",
    "# Summary of the fitted parameters\n",
    "ggf.summary"
   ]
  },
  {
   "cell_type": "code",
   "execution_count": 113,
   "id": "1bd2e423",
   "metadata": {
    "colab": {
     "base_uri": "https://localhost:8080/",
     "height": 401
    },
    "id": "1g1jUoI-_6uO",
    "outputId": "7391d150-a133-4c57-9d08-3938da7c3269"
   },
   "outputs": [
    {
     "data": {
      "text/html": [
       "<div>\n",
       "<style scoped>\n",
       "    .dataframe tbody tr th:only-of-type {\n",
       "        vertical-align: middle;\n",
       "    }\n",
       "\n",
       "    .dataframe tbody tr th {\n",
       "        vertical-align: top;\n",
       "    }\n",
       "\n",
       "    .dataframe thead th {\n",
       "        text-align: right;\n",
       "    }\n",
       "</style>\n",
       "<table border=\"1\" class=\"dataframe\">\n",
       "  <thead>\n",
       "    <tr style=\"text-align: right;\">\n",
       "      <th></th>\n",
       "      <th>frequency</th>\n",
       "      <th>recency</th>\n",
       "      <th>T</th>\n",
       "      <th>monetary_value</th>\n",
       "      <th>probability_alive</th>\n",
       "      <th>pred_num_txn</th>\n",
       "      <th>exp_avg_sales</th>\n",
       "    </tr>\n",
       "    <tr>\n",
       "      <th>Customer ID</th>\n",
       "      <th></th>\n",
       "      <th></th>\n",
       "      <th></th>\n",
       "      <th></th>\n",
       "      <th></th>\n",
       "      <th></th>\n",
       "      <th></th>\n",
       "    </tr>\n",
       "  </thead>\n",
       "  <tbody>\n",
       "    <tr>\n",
       "      <th>AA-10315102</th>\n",
       "      <td>1.0</td>\n",
       "      <td>918.0</td>\n",
       "      <td>1245.0</td>\n",
       "      <td>139.9275</td>\n",
       "      <td>0.799568</td>\n",
       "      <td>0.02</td>\n",
       "      <td>178.205709</td>\n",
       "    </tr>\n",
       "    <tr>\n",
       "      <th>AA-10315139</th>\n",
       "      <td>3.0</td>\n",
       "      <td>319.0</td>\n",
       "      <td>437.0</td>\n",
       "      <td>923.3060</td>\n",
       "      <td>0.995131</td>\n",
       "      <td>0.11</td>\n",
       "      <td>989.330536</td>\n",
       "    </tr>\n",
       "    <tr>\n",
       "      <th>AA-103151402</th>\n",
       "      <td>1.0</td>\n",
       "      <td>483.0</td>\n",
       "      <td>636.0</td>\n",
       "      <td>374.4800</td>\n",
       "      <td>0.813153</td>\n",
       "      <td>0.03</td>\n",
       "      <td>470.302684</td>\n",
       "    </tr>\n",
       "    <tr>\n",
       "      <th>AA-103151404</th>\n",
       "      <td>1.0</td>\n",
       "      <td>553.0</td>\n",
       "      <td>1340.0</td>\n",
       "      <td>26.9600</td>\n",
       "      <td>0.707876</td>\n",
       "      <td>0.02</td>\n",
       "      <td>37.523068</td>\n",
       "    </tr>\n",
       "    <tr>\n",
       "      <th>AA-1031582</th>\n",
       "      <td>1.0</td>\n",
       "      <td>439.0</td>\n",
       "      <td>1102.0</td>\n",
       "      <td>61.3000</td>\n",
       "      <td>0.714393</td>\n",
       "      <td>0.02</td>\n",
       "      <td>80.287951</td>\n",
       "    </tr>\n",
       "  </tbody>\n",
       "</table>\n",
       "</div>"
      ],
      "text/plain": [
       "              frequency  recency       T  monetary_value  probability_alive  \\\n",
       "Customer ID                                                                   \n",
       "AA-10315102         1.0    918.0  1245.0        139.9275           0.799568   \n",
       "AA-10315139         3.0    319.0   437.0        923.3060           0.995131   \n",
       "AA-103151402        1.0    483.0   636.0        374.4800           0.813153   \n",
       "AA-103151404        1.0    553.0  1340.0         26.9600           0.707876   \n",
       "AA-1031582          1.0    439.0  1102.0         61.3000           0.714393   \n",
       "\n",
       "              pred_num_txn  exp_avg_sales  \n",
       "Customer ID                                \n",
       "AA-10315102           0.02     178.205709  \n",
       "AA-10315139           0.11     989.330536  \n",
       "AA-103151402          0.03     470.302684  \n",
       "AA-103151404          0.02      37.523068  \n",
       "AA-1031582            0.02      80.287951  "
      ]
     },
     "execution_count": 113,
     "metadata": {},
     "output_type": "execute_result"
    }
   ],
   "source": [
    "# Calculating the conditional expected average profit for each customer per transaction\n",
    "GD_data_LT_vF = GD_data_LT[GD_data_LT['monetary_value'] >0]\n",
    "GD_data_LT_vF['exp_avg_sales'] = ggf.conditional_expected_average_profit(GD_data_LT_vF['frequency'],\n",
    "                                       GD_data_LT_vF['monetary_value'])\n",
    "GD_data_LT_vF.head()"
   ]
  },
  {
   "cell_type": "code",
   "execution_count": 114,
   "id": "7f197a91",
   "metadata": {
    "colab": {
     "base_uri": "https://localhost:8080/"
    },
    "id": "uhx3YiFrAZBc",
    "outputId": "f178088b-38be-452a-9be5-97fbedea95cc"
   },
   "outputs": [
    {
     "name": "stdout",
     "output_type": "stream",
     "text": [
      "Expected Average Sales: 613.0187971889736\n",
      "Actual Average Sales: 511.3382036724357\n"
     ]
    }
   ],
   "source": [
    "# Checking the expected average value and the actual average value in the data to make sure the values are good\n",
    "print(f\"Expected Average Sales: {GD_data_LT_vF['exp_avg_sales'].mean()}\")\n",
    "print(f\"Actual Average Sales: {GD_data_LT_vF['monetary_value'].mean()}\")"
   ]
  },
  {
   "cell_type": "code",
   "execution_count": 115,
   "id": "fed314a0",
   "metadata": {
    "colab": {
     "base_uri": "https://localhost:8080/",
     "height": 401
    },
    "id": "puh3f5QaAYuY",
    "outputId": "90e4dc72-128e-494e-9d71-3cdeb608f378"
   },
   "outputs": [
    {
     "data": {
      "text/html": [
       "<div>\n",
       "<style scoped>\n",
       "    .dataframe tbody tr th:only-of-type {\n",
       "        vertical-align: middle;\n",
       "    }\n",
       "\n",
       "    .dataframe tbody tr th {\n",
       "        vertical-align: top;\n",
       "    }\n",
       "\n",
       "    .dataframe thead th {\n",
       "        text-align: right;\n",
       "    }\n",
       "</style>\n",
       "<table border=\"1\" class=\"dataframe\">\n",
       "  <thead>\n",
       "    <tr style=\"text-align: right;\">\n",
       "      <th></th>\n",
       "      <th>frequency</th>\n",
       "      <th>recency</th>\n",
       "      <th>T</th>\n",
       "      <th>monetary_value</th>\n",
       "      <th>probability_alive</th>\n",
       "      <th>pred_num_txn</th>\n",
       "      <th>exp_avg_sales</th>\n",
       "      <th>predicted_clv</th>\n",
       "    </tr>\n",
       "    <tr>\n",
       "      <th>Customer ID</th>\n",
       "      <th></th>\n",
       "      <th></th>\n",
       "      <th></th>\n",
       "      <th></th>\n",
       "      <th></th>\n",
       "      <th></th>\n",
       "      <th></th>\n",
       "      <th></th>\n",
       "    </tr>\n",
       "  </thead>\n",
       "  <tbody>\n",
       "    <tr>\n",
       "      <th>AA-10315102</th>\n",
       "      <td>1.0</td>\n",
       "      <td>918.0</td>\n",
       "      <td>1245.0</td>\n",
       "      <td>139.9275</td>\n",
       "      <td>0.799568</td>\n",
       "      <td>0.02</td>\n",
       "      <td>178.205709</td>\n",
       "      <td>3.426305</td>\n",
       "    </tr>\n",
       "    <tr>\n",
       "      <th>AA-10315139</th>\n",
       "      <td>3.0</td>\n",
       "      <td>319.0</td>\n",
       "      <td>437.0</td>\n",
       "      <td>923.3060</td>\n",
       "      <td>0.995131</td>\n",
       "      <td>0.11</td>\n",
       "      <td>989.330536</td>\n",
       "      <td>109.198437</td>\n",
       "    </tr>\n",
       "    <tr>\n",
       "      <th>AA-103151402</th>\n",
       "      <td>1.0</td>\n",
       "      <td>483.0</td>\n",
       "      <td>636.0</td>\n",
       "      <td>374.4800</td>\n",
       "      <td>0.813153</td>\n",
       "      <td>0.03</td>\n",
       "      <td>470.302684</td>\n",
       "      <td>14.256816</td>\n",
       "    </tr>\n",
       "    <tr>\n",
       "      <th>AA-103151404</th>\n",
       "      <td>1.0</td>\n",
       "      <td>553.0</td>\n",
       "      <td>1340.0</td>\n",
       "      <td>26.9600</td>\n",
       "      <td>0.707876</td>\n",
       "      <td>0.02</td>\n",
       "      <td>37.523068</td>\n",
       "      <td>0.605199</td>\n",
       "    </tr>\n",
       "    <tr>\n",
       "      <th>AA-1031582</th>\n",
       "      <td>1.0</td>\n",
       "      <td>439.0</td>\n",
       "      <td>1102.0</td>\n",
       "      <td>61.3000</td>\n",
       "      <td>0.714393</td>\n",
       "      <td>0.02</td>\n",
       "      <td>80.287951</td>\n",
       "      <td>1.504646</td>\n",
       "    </tr>\n",
       "  </tbody>\n",
       "</table>\n",
       "</div>"
      ],
      "text/plain": [
       "              frequency  recency       T  monetary_value  probability_alive  \\\n",
       "Customer ID                                                                   \n",
       "AA-10315102         1.0    918.0  1245.0        139.9275           0.799568   \n",
       "AA-10315139         3.0    319.0   437.0        923.3060           0.995131   \n",
       "AA-103151402        1.0    483.0   636.0        374.4800           0.813153   \n",
       "AA-103151404        1.0    553.0  1340.0         26.9600           0.707876   \n",
       "AA-1031582          1.0    439.0  1102.0         61.3000           0.714393   \n",
       "\n",
       "              pred_num_txn  exp_avg_sales  predicted_clv  \n",
       "Customer ID                                               \n",
       "AA-10315102           0.02     178.205709       3.426305  \n",
       "AA-10315139           0.11     989.330536     109.198437  \n",
       "AA-103151402          0.03     470.302684      14.256816  \n",
       "AA-103151404          0.02      37.523068       0.605199  \n",
       "AA-1031582            0.02      80.287951       1.504646  "
      ]
     },
     "execution_count": 115,
     "metadata": {},
     "output_type": "execute_result"
    }
   ],
   "source": [
    "# Predicting Customer Lifetime Value for the next 30 days\n",
    "GD_data_LT_vF['predicted_clv'] =      ggf.customer_lifetime_value(bgf,\n",
    "                                                               GD_data_LT_vF['frequency'],\n",
    "                                                               GD_data_LT_vF['recency'],\n",
    "                                                               GD_data_LT_vF['T'],\n",
    "                                                               GD_data_LT_vF['monetary_value'],\n",
    "                                                               time=1,     # lifetime in months\n",
    "                                                               freq='D',   # frequency in which the data is present(T)      \n",
    "                                                               discount_rate=0.01) # discount rate\n",
    "GD_data_LT_vF.head()"
   ]
  },
  {
   "cell_type": "code",
   "execution_count": 116,
   "id": "7d99cbed",
   "metadata": {
    "colab": {
     "base_uri": "https://localhost:8080/",
     "height": 401
    },
    "id": "50k9gcEt_BSA",
    "outputId": "066015e2-81f6-48e3-bebe-bfbf743621fb"
   },
   "outputs": [
    {
     "data": {
      "text/html": [
       "<div>\n",
       "<style scoped>\n",
       "    .dataframe tbody tr th:only-of-type {\n",
       "        vertical-align: middle;\n",
       "    }\n",
       "\n",
       "    .dataframe tbody tr th {\n",
       "        vertical-align: top;\n",
       "    }\n",
       "\n",
       "    .dataframe thead th {\n",
       "        text-align: right;\n",
       "    }\n",
       "</style>\n",
       "<table border=\"1\" class=\"dataframe\">\n",
       "  <thead>\n",
       "    <tr style=\"text-align: right;\">\n",
       "      <th></th>\n",
       "      <th>frequency</th>\n",
       "      <th>recency</th>\n",
       "      <th>T</th>\n",
       "      <th>monetary_value</th>\n",
       "      <th>probability_alive</th>\n",
       "      <th>pred_num_txn</th>\n",
       "      <th>exp_avg_sales</th>\n",
       "      <th>predicted_clv</th>\n",
       "      <th>manual_predicted_clv</th>\n",
       "    </tr>\n",
       "    <tr>\n",
       "      <th>Customer ID</th>\n",
       "      <th></th>\n",
       "      <th></th>\n",
       "      <th></th>\n",
       "      <th></th>\n",
       "      <th></th>\n",
       "      <th></th>\n",
       "      <th></th>\n",
       "      <th></th>\n",
       "      <th></th>\n",
       "    </tr>\n",
       "  </thead>\n",
       "  <tbody>\n",
       "    <tr>\n",
       "      <th>AA-10315102</th>\n",
       "      <td>1.0</td>\n",
       "      <td>918.0</td>\n",
       "      <td>1245.0</td>\n",
       "      <td>139.9275</td>\n",
       "      <td>0.799568</td>\n",
       "      <td>0.02</td>\n",
       "      <td>178.205709</td>\n",
       "      <td>3.426305</td>\n",
       "      <td>3.564114</td>\n",
       "    </tr>\n",
       "    <tr>\n",
       "      <th>AA-10315139</th>\n",
       "      <td>3.0</td>\n",
       "      <td>319.0</td>\n",
       "      <td>437.0</td>\n",
       "      <td>923.3060</td>\n",
       "      <td>0.995131</td>\n",
       "      <td>0.11</td>\n",
       "      <td>989.330536</td>\n",
       "      <td>109.198437</td>\n",
       "      <td>108.826359</td>\n",
       "    </tr>\n",
       "    <tr>\n",
       "      <th>AA-103151402</th>\n",
       "      <td>1.0</td>\n",
       "      <td>483.0</td>\n",
       "      <td>636.0</td>\n",
       "      <td>374.4800</td>\n",
       "      <td>0.813153</td>\n",
       "      <td>0.03</td>\n",
       "      <td>470.302684</td>\n",
       "      <td>14.256816</td>\n",
       "      <td>14.109081</td>\n",
       "    </tr>\n",
       "    <tr>\n",
       "      <th>AA-103151404</th>\n",
       "      <td>1.0</td>\n",
       "      <td>553.0</td>\n",
       "      <td>1340.0</td>\n",
       "      <td>26.9600</td>\n",
       "      <td>0.707876</td>\n",
       "      <td>0.02</td>\n",
       "      <td>37.523068</td>\n",
       "      <td>0.605199</td>\n",
       "      <td>0.750461</td>\n",
       "    </tr>\n",
       "    <tr>\n",
       "      <th>AA-1031582</th>\n",
       "      <td>1.0</td>\n",
       "      <td>439.0</td>\n",
       "      <td>1102.0</td>\n",
       "      <td>61.3000</td>\n",
       "      <td>0.714393</td>\n",
       "      <td>0.02</td>\n",
       "      <td>80.287951</td>\n",
       "      <td>1.504646</td>\n",
       "      <td>1.605759</td>\n",
       "    </tr>\n",
       "  </tbody>\n",
       "</table>\n",
       "</div>"
      ],
      "text/plain": [
       "              frequency  recency       T  monetary_value  probability_alive  \\\n",
       "Customer ID                                                                   \n",
       "AA-10315102         1.0    918.0  1245.0        139.9275           0.799568   \n",
       "AA-10315139         3.0    319.0   437.0        923.3060           0.995131   \n",
       "AA-103151402        1.0    483.0   636.0        374.4800           0.813153   \n",
       "AA-103151404        1.0    553.0  1340.0         26.9600           0.707876   \n",
       "AA-1031582          1.0    439.0  1102.0         61.3000           0.714393   \n",
       "\n",
       "              pred_num_txn  exp_avg_sales  predicted_clv  manual_predicted_clv  \n",
       "Customer ID                                                                     \n",
       "AA-10315102           0.02     178.205709       3.426305              3.564114  \n",
       "AA-10315139           0.11     989.330536     109.198437            108.826359  \n",
       "AA-103151402          0.03     470.302684      14.256816             14.109081  \n",
       "AA-103151404          0.02      37.523068       0.605199              0.750461  \n",
       "AA-1031582            0.02      80.287951       1.504646              1.605759  "
      ]
     },
     "execution_count": 116,
     "metadata": {},
     "output_type": "execute_result"
    }
   ],
   "source": [
    "GD_data_LT_vF['manual_predicted_clv'] = GD_data_LT_vF['pred_num_txn'] * GD_data_LT_vF['exp_avg_sales']\n",
    "GD_data_LT_vF.head()"
   ]
  },
  {
   "cell_type": "markdown",
   "id": "dfddcef1",
   "metadata": {
    "id": "fFIXhjBXAy5G"
   },
   "source": [
    "#### Test"
   ]
  },
  {
   "cell_type": "code",
   "execution_count": 117,
   "id": "3cc94400",
   "metadata": {
    "colab": {
     "base_uri": "https://localhost:8080/",
     "height": 557
    },
    "id": "3tGvmhDkAvoP",
    "outputId": "a8b26e60-4f14-49b7-a224-4f65f229fe61"
   },
   "outputs": [
    {
     "data": {
      "text/html": [
       "<div>\n",
       "<style scoped>\n",
       "    .dataframe tbody tr th:only-of-type {\n",
       "        vertical-align: middle;\n",
       "    }\n",
       "\n",
       "    .dataframe tbody tr th {\n",
       "        vertical-align: top;\n",
       "    }\n",
       "\n",
       "    .dataframe thead th {\n",
       "        text-align: right;\n",
       "    }\n",
       "</style>\n",
       "<table border=\"1\" class=\"dataframe\">\n",
       "  <thead>\n",
       "    <tr style=\"text-align: right;\">\n",
       "      <th></th>\n",
       "      <th>Row ID</th>\n",
       "      <th>Order ID</th>\n",
       "      <th>Order Date</th>\n",
       "      <th>Ship Date</th>\n",
       "      <th>Ship Mode</th>\n",
       "      <th>Customer ID</th>\n",
       "      <th>Segment</th>\n",
       "      <th>Postal Code</th>\n",
       "      <th>City</th>\n",
       "      <th>State</th>\n",
       "      <th>...</th>\n",
       "      <th>Product ID</th>\n",
       "      <th>Category</th>\n",
       "      <th>Sub-Category</th>\n",
       "      <th>Product Name</th>\n",
       "      <th>Sales</th>\n",
       "      <th>Quantity</th>\n",
       "      <th>Discount</th>\n",
       "      <th>Profit</th>\n",
       "      <th>Shipping Cost</th>\n",
       "      <th>Order Priority</th>\n",
       "    </tr>\n",
       "  </thead>\n",
       "  <tbody>\n",
       "    <tr>\n",
       "      <th>19</th>\n",
       "      <td>49463</td>\n",
       "      <td>TZ-2015-RH9555129-42343</td>\n",
       "      <td>2015-12-05</td>\n",
       "      <td>2015-12-07</td>\n",
       "      <td>Second Class</td>\n",
       "      <td>RH-9555129</td>\n",
       "      <td>Consumer</td>\n",
       "      <td>NaN</td>\n",
       "      <td>Uvinza</td>\n",
       "      <td>Kigoma</td>\n",
       "      <td>...</td>\n",
       "      <td>OFF-AP-4967</td>\n",
       "      <td>Office Supplies</td>\n",
       "      <td>Appliances</td>\n",
       "      <td>KitchenAid Stove, White</td>\n",
       "      <td>3409.740</td>\n",
       "      <td>6</td>\n",
       "      <td>0.0</td>\n",
       "      <td>818.280</td>\n",
       "      <td>763.380</td>\n",
       "      <td>High</td>\n",
       "    </tr>\n",
       "    <tr>\n",
       "      <th>49</th>\n",
       "      <td>6550</td>\n",
       "      <td>MX-2015-JH15820141-42356</td>\n",
       "      <td>2015-12-18</td>\n",
       "      <td>2015-12-20</td>\n",
       "      <td>Second Class</td>\n",
       "      <td>JH-15820141</td>\n",
       "      <td>Consumer</td>\n",
       "      <td>NaN</td>\n",
       "      <td>Paysandú</td>\n",
       "      <td>Paysandú</td>\n",
       "      <td>...</td>\n",
       "      <td>FUR-CH-4531</td>\n",
       "      <td>Furniture</td>\n",
       "      <td>Chairs</td>\n",
       "      <td>Harbour Creations Executive Leather Armchair, ...</td>\n",
       "      <td>3473.140</td>\n",
       "      <td>11</td>\n",
       "      <td>0.0</td>\n",
       "      <td>868.120</td>\n",
       "      <td>634.529</td>\n",
       "      <td>High</td>\n",
       "    </tr>\n",
       "    <tr>\n",
       "      <th>61</th>\n",
       "      <td>34496</td>\n",
       "      <td>CA-2015-AH10030140-42357</td>\n",
       "      <td>2015-12-19</td>\n",
       "      <td>2015-12-23</td>\n",
       "      <td>Standard Class</td>\n",
       "      <td>AH-100301406</td>\n",
       "      <td>Corporate</td>\n",
       "      <td>19134.0</td>\n",
       "      <td>Philadelphia</td>\n",
       "      <td>Pennsylvania</td>\n",
       "      <td>...</td>\n",
       "      <td>OFF-AR-3276</td>\n",
       "      <td>Office Supplies</td>\n",
       "      <td>Art</td>\n",
       "      <td>Avery Fluorescent Highlighter Four-Color Set</td>\n",
       "      <td>18.704</td>\n",
       "      <td>7</td>\n",
       "      <td>0.2</td>\n",
       "      <td>2.338</td>\n",
       "      <td>1.130</td>\n",
       "      <td>Medium</td>\n",
       "    </tr>\n",
       "    <tr>\n",
       "      <th>66</th>\n",
       "      <td>16653</td>\n",
       "      <td>IT-2015-DK13090120-42345</td>\n",
       "      <td>2015-12-07</td>\n",
       "      <td>2015-12-08</td>\n",
       "      <td>First Class</td>\n",
       "      <td>DK-13090120</td>\n",
       "      <td>Consumer</td>\n",
       "      <td>NaN</td>\n",
       "      <td>Seville</td>\n",
       "      <td>Andalusía</td>\n",
       "      <td>...</td>\n",
       "      <td>FUR-BO-5760</td>\n",
       "      <td>Furniture</td>\n",
       "      <td>Bookcases</td>\n",
       "      <td>Safco Classic Bookcase, Metal</td>\n",
       "      <td>2188.050</td>\n",
       "      <td>5</td>\n",
       "      <td>0.0</td>\n",
       "      <td>1050.150</td>\n",
       "      <td>593.910</td>\n",
       "      <td>High</td>\n",
       "    </tr>\n",
       "    <tr>\n",
       "      <th>67</th>\n",
       "      <td>28932</td>\n",
       "      <td>IN-2015-CS1184558-42354</td>\n",
       "      <td>2015-12-16</td>\n",
       "      <td>2015-12-19</td>\n",
       "      <td>First Class</td>\n",
       "      <td>CS-1184558</td>\n",
       "      <td>Corporate</td>\n",
       "      <td>NaN</td>\n",
       "      <td>Raipur</td>\n",
       "      <td>Uttarakhand</td>\n",
       "      <td>...</td>\n",
       "      <td>FUR-TA-3779</td>\n",
       "      <td>Furniture</td>\n",
       "      <td>Tables</td>\n",
       "      <td>Chromcraft Wood Table, Rectangular</td>\n",
       "      <td>1920.360</td>\n",
       "      <td>4</td>\n",
       "      <td>0.0</td>\n",
       "      <td>652.920</td>\n",
       "      <td>592.770</td>\n",
       "      <td>Critical</td>\n",
       "    </tr>\n",
       "  </tbody>\n",
       "</table>\n",
       "<p>5 rows × 23 columns</p>\n",
       "</div>"
      ],
      "text/plain": [
       "    Row ID                  Order ID Order Date  Ship Date       Ship Mode  \\\n",
       "19   49463   TZ-2015-RH9555129-42343 2015-12-05 2015-12-07    Second Class   \n",
       "49    6550  MX-2015-JH15820141-42356 2015-12-18 2015-12-20    Second Class   \n",
       "61   34496  CA-2015-AH10030140-42357 2015-12-19 2015-12-23  Standard Class   \n",
       "66   16653  IT-2015-DK13090120-42345 2015-12-07 2015-12-08     First Class   \n",
       "67   28932   IN-2015-CS1184558-42354 2015-12-16 2015-12-19     First Class   \n",
       "\n",
       "     Customer ID    Segment  Postal Code          City         State  ...  \\\n",
       "19    RH-9555129   Consumer          NaN        Uvinza        Kigoma  ...   \n",
       "49   JH-15820141   Consumer          NaN      Paysandú      Paysandú  ...   \n",
       "61  AH-100301406  Corporate      19134.0  Philadelphia  Pennsylvania  ...   \n",
       "66   DK-13090120   Consumer          NaN       Seville     Andalusía  ...   \n",
       "67    CS-1184558  Corporate          NaN        Raipur   Uttarakhand  ...   \n",
       "\n",
       "     Product ID         Category Sub-Category  \\\n",
       "19  OFF-AP-4967  Office Supplies   Appliances   \n",
       "49  FUR-CH-4531        Furniture       Chairs   \n",
       "61  OFF-AR-3276  Office Supplies          Art   \n",
       "66  FUR-BO-5760        Furniture    Bookcases   \n",
       "67  FUR-TA-3779        Furniture       Tables   \n",
       "\n",
       "                                         Product Name     Sales Quantity  \\\n",
       "19                            KitchenAid Stove, White  3409.740        6   \n",
       "49  Harbour Creations Executive Leather Armchair, ...  3473.140       11   \n",
       "61       Avery Fluorescent Highlighter Four-Color Set    18.704        7   \n",
       "66                      Safco Classic Bookcase, Metal  2188.050        5   \n",
       "67                 Chromcraft Wood Table, Rectangular  1920.360        4   \n",
       "\n",
       "   Discount    Profit  Shipping Cost  Order Priority  \n",
       "19      0.0   818.280        763.380            High  \n",
       "49      0.0   868.120        634.529            High  \n",
       "61      0.2     2.338          1.130          Medium  \n",
       "66      0.0  1050.150        593.910            High  \n",
       "67      0.0   652.920        592.770        Critical  \n",
       "\n",
       "[5 rows x 23 columns]"
      ]
     },
     "execution_count": 117,
     "metadata": {},
     "output_type": "execute_result"
    }
   ],
   "source": [
    "TEST.head()"
   ]
  },
  {
   "cell_type": "code",
   "execution_count": 118,
   "id": "6bdc69ad",
   "metadata": {
    "id": "B_8dZ9rDAvfC"
   },
   "outputs": [],
   "source": [
    "ACTUAL = TEST.groupby(\"Customer ID\")[\"Sales\"].sum().reset_index()"
   ]
  },
  {
   "cell_type": "code",
   "execution_count": 119,
   "id": "0b530bff",
   "metadata": {
    "id": "3yWY6acVAvW5"
   },
   "outputs": [],
   "source": [
    "ACTUAL.rename(columns ={\"Sales\":\"actual_amount_spent_in_next_30_days\"}, inplace = True)"
   ]
  },
  {
   "cell_type": "code",
   "execution_count": 120,
   "id": "39c3cff9",
   "metadata": {
    "id": "p7kEDusCAvIb"
   },
   "outputs": [],
   "source": [
    "Pred_vs_Actual = GD_data_LT_vF.merge(ACTUAL, on = \"Customer ID\", how = \"left\")\n",
    "Pred_vs_Actual.fillna(0, inplace = True)"
   ]
  },
  {
   "cell_type": "code",
   "execution_count": 121,
   "id": "2a80152a",
   "metadata": {
    "colab": {
     "base_uri": "https://localhost:8080/",
     "height": 370
    },
    "id": "k3nzH0I7BCxN",
    "outputId": "28341452-a0d3-47b7-ca22-8b8c5e9f9075"
   },
   "outputs": [
    {
     "data": {
      "text/html": [
       "<div>\n",
       "<style scoped>\n",
       "    .dataframe tbody tr th:only-of-type {\n",
       "        vertical-align: middle;\n",
       "    }\n",
       "\n",
       "    .dataframe tbody tr th {\n",
       "        vertical-align: top;\n",
       "    }\n",
       "\n",
       "    .dataframe thead th {\n",
       "        text-align: right;\n",
       "    }\n",
       "</style>\n",
       "<table border=\"1\" class=\"dataframe\">\n",
       "  <thead>\n",
       "    <tr style=\"text-align: right;\">\n",
       "      <th></th>\n",
       "      <th>Customer ID</th>\n",
       "      <th>frequency</th>\n",
       "      <th>recency</th>\n",
       "      <th>T</th>\n",
       "      <th>monetary_value</th>\n",
       "      <th>probability_alive</th>\n",
       "      <th>pred_num_txn</th>\n",
       "      <th>exp_avg_sales</th>\n",
       "      <th>predicted_clv</th>\n",
       "      <th>manual_predicted_clv</th>\n",
       "      <th>actual_amount_spent_in_next_30_days</th>\n",
       "    </tr>\n",
       "  </thead>\n",
       "  <tbody>\n",
       "    <tr>\n",
       "      <th>0</th>\n",
       "      <td>AA-10315102</td>\n",
       "      <td>1.0</td>\n",
       "      <td>918.0</td>\n",
       "      <td>1245.0</td>\n",
       "      <td>139.9275</td>\n",
       "      <td>0.799568</td>\n",
       "      <td>0.02</td>\n",
       "      <td>178.205709</td>\n",
       "      <td>3.426305</td>\n",
       "      <td>3.564114</td>\n",
       "      <td>0.0</td>\n",
       "    </tr>\n",
       "    <tr>\n",
       "      <th>1</th>\n",
       "      <td>AA-10315139</td>\n",
       "      <td>3.0</td>\n",
       "      <td>319.0</td>\n",
       "      <td>437.0</td>\n",
       "      <td>923.3060</td>\n",
       "      <td>0.995131</td>\n",
       "      <td>0.11</td>\n",
       "      <td>989.330536</td>\n",
       "      <td>109.198437</td>\n",
       "      <td>108.826359</td>\n",
       "      <td>0.0</td>\n",
       "    </tr>\n",
       "    <tr>\n",
       "      <th>2</th>\n",
       "      <td>AA-103151402</td>\n",
       "      <td>1.0</td>\n",
       "      <td>483.0</td>\n",
       "      <td>636.0</td>\n",
       "      <td>374.4800</td>\n",
       "      <td>0.813153</td>\n",
       "      <td>0.03</td>\n",
       "      <td>470.302684</td>\n",
       "      <td>14.256816</td>\n",
       "      <td>14.109081</td>\n",
       "      <td>0.0</td>\n",
       "    </tr>\n",
       "    <tr>\n",
       "      <th>3</th>\n",
       "      <td>AA-103151404</td>\n",
       "      <td>1.0</td>\n",
       "      <td>553.0</td>\n",
       "      <td>1340.0</td>\n",
       "      <td>26.9600</td>\n",
       "      <td>0.707876</td>\n",
       "      <td>0.02</td>\n",
       "      <td>37.523068</td>\n",
       "      <td>0.605199</td>\n",
       "      <td>0.750461</td>\n",
       "      <td>0.0</td>\n",
       "    </tr>\n",
       "    <tr>\n",
       "      <th>4</th>\n",
       "      <td>AA-1031582</td>\n",
       "      <td>1.0</td>\n",
       "      <td>439.0</td>\n",
       "      <td>1102.0</td>\n",
       "      <td>61.3000</td>\n",
       "      <td>0.714393</td>\n",
       "      <td>0.02</td>\n",
       "      <td>80.287951</td>\n",
       "      <td>1.504646</td>\n",
       "      <td>1.605759</td>\n",
       "      <td>0.0</td>\n",
       "    </tr>\n",
       "  </tbody>\n",
       "</table>\n",
       "</div>"
      ],
      "text/plain": [
       "    Customer ID  frequency  recency       T  monetary_value  \\\n",
       "0   AA-10315102        1.0    918.0  1245.0        139.9275   \n",
       "1   AA-10315139        3.0    319.0   437.0        923.3060   \n",
       "2  AA-103151402        1.0    483.0   636.0        374.4800   \n",
       "3  AA-103151404        1.0    553.0  1340.0         26.9600   \n",
       "4    AA-1031582        1.0    439.0  1102.0         61.3000   \n",
       "\n",
       "   probability_alive  pred_num_txn  exp_avg_sales  predicted_clv  \\\n",
       "0           0.799568          0.02     178.205709       3.426305   \n",
       "1           0.995131          0.11     989.330536     109.198437   \n",
       "2           0.813153          0.03     470.302684      14.256816   \n",
       "3           0.707876          0.02      37.523068       0.605199   \n",
       "4           0.714393          0.02      80.287951       1.504646   \n",
       "\n",
       "   manual_predicted_clv  actual_amount_spent_in_next_30_days  \n",
       "0              3.564114                                  0.0  \n",
       "1            108.826359                                  0.0  \n",
       "2             14.109081                                  0.0  \n",
       "3              0.750461                                  0.0  \n",
       "4              1.605759                                  0.0  "
      ]
     },
     "execution_count": 121,
     "metadata": {},
     "output_type": "execute_result"
    }
   ],
   "source": [
    "Pred_vs_Actual.head()"
   ]
  },
  {
   "cell_type": "code",
   "execution_count": 122,
   "id": "91649932",
   "metadata": {
    "id": "pdNu3bMWBCp7"
   },
   "outputs": [],
   "source": [
    "Pred_vs_Actual[\"difference\"] = Pred_vs_Actual[\"manual_predicted_clv\"] - Pred_vs_Actual[\"actual_amount_spent_in_next_30_days\"]"
   ]
  },
  {
   "cell_type": "code",
   "execution_count": 123,
   "id": "1bd85e04",
   "metadata": {
    "colab": {
     "base_uri": "https://localhost:8080/",
     "height": 370
    },
    "id": "svJRTG3JBCiW",
    "outputId": "a132d6d8-fdee-4797-d46d-dda0a5902bba"
   },
   "outputs": [
    {
     "data": {
      "text/html": [
       "<div>\n",
       "<style scoped>\n",
       "    .dataframe tbody tr th:only-of-type {\n",
       "        vertical-align: middle;\n",
       "    }\n",
       "\n",
       "    .dataframe tbody tr th {\n",
       "        vertical-align: top;\n",
       "    }\n",
       "\n",
       "    .dataframe thead th {\n",
       "        text-align: right;\n",
       "    }\n",
       "</style>\n",
       "<table border=\"1\" class=\"dataframe\">\n",
       "  <thead>\n",
       "    <tr style=\"text-align: right;\">\n",
       "      <th></th>\n",
       "      <th>Customer ID</th>\n",
       "      <th>frequency</th>\n",
       "      <th>recency</th>\n",
       "      <th>T</th>\n",
       "      <th>monetary_value</th>\n",
       "      <th>probability_alive</th>\n",
       "      <th>pred_num_txn</th>\n",
       "      <th>exp_avg_sales</th>\n",
       "      <th>predicted_clv</th>\n",
       "      <th>manual_predicted_clv</th>\n",
       "      <th>actual_amount_spent_in_next_30_days</th>\n",
       "      <th>difference</th>\n",
       "    </tr>\n",
       "  </thead>\n",
       "  <tbody>\n",
       "    <tr>\n",
       "      <th>0</th>\n",
       "      <td>AA-10315102</td>\n",
       "      <td>1.0</td>\n",
       "      <td>918.0</td>\n",
       "      <td>1245.0</td>\n",
       "      <td>139.9275</td>\n",
       "      <td>0.799568</td>\n",
       "      <td>0.02</td>\n",
       "      <td>178.205709</td>\n",
       "      <td>3.426305</td>\n",
       "      <td>3.564114</td>\n",
       "      <td>0.0</td>\n",
       "      <td>3.564114</td>\n",
       "    </tr>\n",
       "    <tr>\n",
       "      <th>1</th>\n",
       "      <td>AA-10315139</td>\n",
       "      <td>3.0</td>\n",
       "      <td>319.0</td>\n",
       "      <td>437.0</td>\n",
       "      <td>923.3060</td>\n",
       "      <td>0.995131</td>\n",
       "      <td>0.11</td>\n",
       "      <td>989.330536</td>\n",
       "      <td>109.198437</td>\n",
       "      <td>108.826359</td>\n",
       "      <td>0.0</td>\n",
       "      <td>108.826359</td>\n",
       "    </tr>\n",
       "    <tr>\n",
       "      <th>2</th>\n",
       "      <td>AA-103151402</td>\n",
       "      <td>1.0</td>\n",
       "      <td>483.0</td>\n",
       "      <td>636.0</td>\n",
       "      <td>374.4800</td>\n",
       "      <td>0.813153</td>\n",
       "      <td>0.03</td>\n",
       "      <td>470.302684</td>\n",
       "      <td>14.256816</td>\n",
       "      <td>14.109081</td>\n",
       "      <td>0.0</td>\n",
       "      <td>14.109081</td>\n",
       "    </tr>\n",
       "    <tr>\n",
       "      <th>3</th>\n",
       "      <td>AA-103151404</td>\n",
       "      <td>1.0</td>\n",
       "      <td>553.0</td>\n",
       "      <td>1340.0</td>\n",
       "      <td>26.9600</td>\n",
       "      <td>0.707876</td>\n",
       "      <td>0.02</td>\n",
       "      <td>37.523068</td>\n",
       "      <td>0.605199</td>\n",
       "      <td>0.750461</td>\n",
       "      <td>0.0</td>\n",
       "      <td>0.750461</td>\n",
       "    </tr>\n",
       "    <tr>\n",
       "      <th>4</th>\n",
       "      <td>AA-1031582</td>\n",
       "      <td>1.0</td>\n",
       "      <td>439.0</td>\n",
       "      <td>1102.0</td>\n",
       "      <td>61.3000</td>\n",
       "      <td>0.714393</td>\n",
       "      <td>0.02</td>\n",
       "      <td>80.287951</td>\n",
       "      <td>1.504646</td>\n",
       "      <td>1.605759</td>\n",
       "      <td>0.0</td>\n",
       "      <td>1.605759</td>\n",
       "    </tr>\n",
       "  </tbody>\n",
       "</table>\n",
       "</div>"
      ],
      "text/plain": [
       "    Customer ID  frequency  recency       T  monetary_value  \\\n",
       "0   AA-10315102        1.0    918.0  1245.0        139.9275   \n",
       "1   AA-10315139        3.0    319.0   437.0        923.3060   \n",
       "2  AA-103151402        1.0    483.0   636.0        374.4800   \n",
       "3  AA-103151404        1.0    553.0  1340.0         26.9600   \n",
       "4    AA-1031582        1.0    439.0  1102.0         61.3000   \n",
       "\n",
       "   probability_alive  pred_num_txn  exp_avg_sales  predicted_clv  \\\n",
       "0           0.799568          0.02     178.205709       3.426305   \n",
       "1           0.995131          0.11     989.330536     109.198437   \n",
       "2           0.813153          0.03     470.302684      14.256816   \n",
       "3           0.707876          0.02      37.523068       0.605199   \n",
       "4           0.714393          0.02      80.287951       1.504646   \n",
       "\n",
       "   manual_predicted_clv  actual_amount_spent_in_next_30_days  difference  \n",
       "0              3.564114                                  0.0    3.564114  \n",
       "1            108.826359                                  0.0  108.826359  \n",
       "2             14.109081                                  0.0   14.109081  \n",
       "3              0.750461                                  0.0    0.750461  \n",
       "4              1.605759                                  0.0    1.605759  "
      ]
     },
     "execution_count": 123,
     "metadata": {},
     "output_type": "execute_result"
    }
   ],
   "source": [
    "Pred_vs_Actual.head()"
   ]
  },
  {
   "cell_type": "code",
   "execution_count": 124,
   "id": "34ec24f5",
   "metadata": {
    "colab": {
     "base_uri": "https://localhost:8080/",
     "height": 282
    },
    "id": "wC7ZXgFdBCVU",
    "outputId": "079a8c16-a8bd-4883-8809-8a4674d77530"
   },
   "outputs": [
    {
     "data": {
      "text/plain": [
       "<AxesSubplot:>"
      ]
     },
     "execution_count": 124,
     "metadata": {},
     "output_type": "execute_result"
    },
    {
     "data": {
      "image/png": "[encoded data removed]",
      "text/plain": [
       "<Figure size 432x288 with 1 Axes>"
      ]
     },
     "metadata": {
      "needs_background": "light"
     },
     "output_type": "display_data"
    }
   ],
   "source": [
    "Pred_vs_Actual[\"difference\"].hist()"
   ]
  },
  {
   "cell_type": "code",
   "execution_count": 125,
   "id": "aef60cfc",
   "metadata": {
    "colab": {
     "base_uri": "https://localhost:8080/"
    },
    "id": "MQ_HwwjOBNu8",
    "outputId": "a1902ec3-c42f-4812-9dd0-da375327a58d"
   },
   "outputs": [
    {
     "data": {
      "text/plain": [
       "count    5143.000000\n",
       "mean       -1.913735\n",
       "std       209.413131\n",
       "min     -4853.738348\n",
       "25%         2.621446\n",
       "50%         9.403200\n",
       "75%        27.639735\n",
       "max       915.596709\n",
       "Name: difference, dtype: float64"
      ]
     },
     "execution_count": 125,
     "metadata": {},
     "output_type": "execute_result"
    }
   ],
   "source": [
    "Pred_vs_Actual[\"difference\"].describe()"
   ]
  },
  {
   "cell_type": "code",
   "execution_count": 126,
   "id": "61208669",
   "metadata": {
    "colab": {
     "base_uri": "https://localhost:8080/",
     "height": 653
    },
    "id": "KeuabGNgBNfk",
    "outputId": "e6d663b0-4a22-48f7-afa0-d0d99a8045ed"
   },
   "outputs": [
    {
     "data": {
      "text/html": [
       "<div>\n",
       "<style scoped>\n",
       "    .dataframe tbody tr th:only-of-type {\n",
       "        vertical-align: middle;\n",
       "    }\n",
       "\n",
       "    .dataframe tbody tr th {\n",
       "        vertical-align: top;\n",
       "    }\n",
       "\n",
       "    .dataframe thead th {\n",
       "        text-align: right;\n",
       "    }\n",
       "</style>\n",
       "<table border=\"1\" class=\"dataframe\">\n",
       "  <thead>\n",
       "    <tr style=\"text-align: right;\">\n",
       "      <th></th>\n",
       "      <th>Customer ID</th>\n",
       "      <th>frequency</th>\n",
       "      <th>recency</th>\n",
       "      <th>T</th>\n",
       "      <th>monetary_value</th>\n",
       "      <th>probability_alive</th>\n",
       "      <th>pred_num_txn</th>\n",
       "      <th>exp_avg_sales</th>\n",
       "      <th>predicted_clv</th>\n",
       "      <th>manual_predicted_clv</th>\n",
       "      <th>actual_amount_spent_in_next_30_days</th>\n",
       "      <th>difference</th>\n",
       "    </tr>\n",
       "  </thead>\n",
       "  <tbody>\n",
       "    <tr>\n",
       "      <th>4736</th>\n",
       "      <td>TA-213857</td>\n",
       "      <td>1.0</td>\n",
       "      <td>165.0</td>\n",
       "      <td>1101.0</td>\n",
       "      <td>421.6800</td>\n",
       "      <td>0.603422</td>\n",
       "      <td>0.02</td>\n",
       "      <td>529.082604</td>\n",
       "      <td>8.380450</td>\n",
       "      <td>10.581652</td>\n",
       "      <td>4864.3200</td>\n",
       "      <td>-4853.738348</td>\n",
       "    </tr>\n",
       "    <tr>\n",
       "      <th>908</th>\n",
       "      <td>CD-1192045</td>\n",
       "      <td>2.0</td>\n",
       "      <td>646.0</td>\n",
       "      <td>729.0</td>\n",
       "      <td>57.1455</td>\n",
       "      <td>0.992923</td>\n",
       "      <td>0.06</td>\n",
       "      <td>65.148172</td>\n",
       "      <td>3.826435</td>\n",
       "      <td>3.908890</td>\n",
       "      <td>4046.6790</td>\n",
       "      <td>-4042.770110</td>\n",
       "    </tr>\n",
       "    <tr>\n",
       "      <th>2777</th>\n",
       "      <td>KH-165101404</td>\n",
       "      <td>2.0</td>\n",
       "      <td>405.0</td>\n",
       "      <td>1152.0</td>\n",
       "      <td>377.1070</td>\n",
       "      <td>0.974449</td>\n",
       "      <td>0.04</td>\n",
       "      <td>420.070338</td>\n",
       "      <td>17.901043</td>\n",
       "      <td>16.802814</td>\n",
       "      <td>3955.5070</td>\n",
       "      <td>-3938.704186</td>\n",
       "    </tr>\n",
       "    <tr>\n",
       "      <th>345</th>\n",
       "      <td>AS-1004545</td>\n",
       "      <td>2.0</td>\n",
       "      <td>645.0</td>\n",
       "      <td>1252.0</td>\n",
       "      <td>171.3600</td>\n",
       "      <td>0.983326</td>\n",
       "      <td>0.04</td>\n",
       "      <td>191.842345</td>\n",
       "      <td>7.770798</td>\n",
       "      <td>7.673694</td>\n",
       "      <td>3788.3310</td>\n",
       "      <td>-3780.657306</td>\n",
       "    </tr>\n",
       "    <tr>\n",
       "      <th>3150</th>\n",
       "      <td>MC-1742559</td>\n",
       "      <td>1.0</td>\n",
       "      <td>82.0</td>\n",
       "      <td>529.0</td>\n",
       "      <td>101.7174</td>\n",
       "      <td>0.701382</td>\n",
       "      <td>0.03</td>\n",
       "      <td>130.621246</td>\n",
       "      <td>3.780992</td>\n",
       "      <td>3.918637</td>\n",
       "      <td>3696.0315</td>\n",
       "      <td>-3692.112863</td>\n",
       "    </tr>\n",
       "    <tr>\n",
       "      <th>...</th>\n",
       "      <td>...</td>\n",
       "      <td>...</td>\n",
       "      <td>...</td>\n",
       "      <td>...</td>\n",
       "      <td>...</td>\n",
       "      <td>...</td>\n",
       "      <td>...</td>\n",
       "      <td>...</td>\n",
       "      <td>...</td>\n",
       "      <td>...</td>\n",
       "      <td>...</td>\n",
       "      <td>...</td>\n",
       "    </tr>\n",
       "    <tr>\n",
       "      <th>1771</th>\n",
       "      <td>ES-14080139</td>\n",
       "      <td>1.0</td>\n",
       "      <td>205.0</td>\n",
       "      <td>950.0</td>\n",
       "      <td>14.9700</td>\n",
       "      <td>0.655850</td>\n",
       "      <td>0.02</td>\n",
       "      <td>22.591474</td>\n",
       "      <td>0.430271</td>\n",
       "      <td>0.451829</td>\n",
       "      <td>0.0000</td>\n",
       "      <td>0.451829</td>\n",
       "    </tr>\n",
       "    <tr>\n",
       "      <th>1770</th>\n",
       "      <td>ES-1402059</td>\n",
       "      <td>1.0</td>\n",
       "      <td>652.0</td>\n",
       "      <td>818.0</td>\n",
       "      <td>32.8332</td>\n",
       "      <td>0.815442</td>\n",
       "      <td>0.03</td>\n",
       "      <td>44.837183</td>\n",
       "      <td>1.170516</td>\n",
       "      <td>1.345115</td>\n",
       "      <td>0.0000</td>\n",
       "      <td>1.345115</td>\n",
       "    </tr>\n",
       "    <tr>\n",
       "      <th>1767</th>\n",
       "      <td>ES-1402028</td>\n",
       "      <td>1.0</td>\n",
       "      <td>61.0</td>\n",
       "      <td>233.0</td>\n",
       "      <td>86.9600</td>\n",
       "      <td>0.783788</td>\n",
       "      <td>0.05</td>\n",
       "      <td>112.243306</td>\n",
       "      <td>5.158165</td>\n",
       "      <td>5.612165</td>\n",
       "      <td>0.0000</td>\n",
       "      <td>5.612165</td>\n",
       "    </tr>\n",
       "    <tr>\n",
       "      <th>1766</th>\n",
       "      <td>ES-1402027</td>\n",
       "      <td>4.0</td>\n",
       "      <td>638.0</td>\n",
       "      <td>912.0</td>\n",
       "      <td>285.4875</td>\n",
       "      <td>0.994635</td>\n",
       "      <td>0.09</td>\n",
       "      <td>301.110245</td>\n",
       "      <td>28.240437</td>\n",
       "      <td>27.099922</td>\n",
       "      <td>0.0000</td>\n",
       "      <td>27.099922</td>\n",
       "    </tr>\n",
       "    <tr>\n",
       "      <th>5142</th>\n",
       "      <td>ZD-2192582</td>\n",
       "      <td>1.0</td>\n",
       "      <td>569.0</td>\n",
       "      <td>734.0</td>\n",
       "      <td>590.1174</td>\n",
       "      <td>0.813468</td>\n",
       "      <td>0.03</td>\n",
       "      <td>738.843980</td>\n",
       "      <td>20.583262</td>\n",
       "      <td>22.165319</td>\n",
       "      <td>0.0000</td>\n",
       "      <td>22.165319</td>\n",
       "    </tr>\n",
       "  </tbody>\n",
       "</table>\n",
       "<p>5143 rows × 12 columns</p>\n",
       "</div>"
      ],
      "text/plain": [
       "       Customer ID  frequency  recency       T  monetary_value  \\\n",
       "4736     TA-213857        1.0    165.0  1101.0        421.6800   \n",
       "908     CD-1192045        2.0    646.0   729.0         57.1455   \n",
       "2777  KH-165101404        2.0    405.0  1152.0        377.1070   \n",
       "345     AS-1004545        2.0    645.0  1252.0        171.3600   \n",
       "3150    MC-1742559        1.0     82.0   529.0        101.7174   \n",
       "...            ...        ...      ...     ...             ...   \n",
       "1771   ES-14080139        1.0    205.0   950.0         14.9700   \n",
       "1770    ES-1402059        1.0    652.0   818.0         32.8332   \n",
       "1767    ES-1402028        1.0     61.0   233.0         86.9600   \n",
       "1766    ES-1402027        4.0    638.0   912.0        285.4875   \n",
       "5142    ZD-2192582        1.0    569.0   734.0        590.1174   \n",
       "\n",
       "      probability_alive  pred_num_txn  exp_avg_sales  predicted_clv  \\\n",
       "4736           0.603422          0.02     529.082604       8.380450   \n",
       "908            0.992923          0.06      65.148172       3.826435   \n",
       "2777           0.974449          0.04     420.070338      17.901043   \n",
       "345            0.983326          0.04     191.842345       7.770798   \n",
       "3150           0.701382          0.03     130.621246       3.780992   \n",
       "...                 ...           ...            ...            ...   \n",
       "1771           0.655850          0.02      22.591474       0.430271   \n",
       "1770           0.815442          0.03      44.837183       1.170516   \n",
       "1767           0.783788          0.05     112.243306       5.158165   \n",
       "1766           0.994635          0.09     301.110245      28.240437   \n",
       "5142           0.813468          0.03     738.843980      20.583262   \n",
       "\n",
       "      manual_predicted_clv  actual_amount_spent_in_next_30_days   difference  \n",
       "4736             10.581652                            4864.3200 -4853.738348  \n",
       "908               3.908890                            4046.6790 -4042.770110  \n",
       "2777             16.802814                            3955.5070 -3938.704186  \n",
       "345               7.673694                            3788.3310 -3780.657306  \n",
       "3150              3.918637                            3696.0315 -3692.112863  \n",
       "...                    ...                                  ...          ...  \n",
       "1771              0.451829                               0.0000     0.451829  \n",
       "1770              1.345115                               0.0000     1.345115  \n",
       "1767              5.612165                               0.0000     5.612165  \n",
       "1766             27.099922                               0.0000    27.099922  \n",
       "5142             22.165319                               0.0000    22.165319  \n",
       "\n",
       "[5143 rows x 12 columns]"
      ]
     },
     "execution_count": 126,
     "metadata": {},
     "output_type": "execute_result"
    }
   ],
   "source": [
    "Pred_vs_Actual.sort_values('actual_amount_spent_in_next_30_days', ascending = False)"
   ]
  },
  {
   "cell_type": "code",
   "execution_count": 127,
   "id": "25995044",
   "metadata": {
    "colab": {
     "base_uri": "https://localhost:8080/"
    },
    "id": "Zx-M7qSKBNU8",
    "outputId": "90a528ae-2687-4e99-d20b-0c554cc57c8f"
   },
   "outputs": [
    {
     "data": {
      "text/plain": [
       "46.5068970000619"
      ]
     },
     "execution_count": 127,
     "metadata": {},
     "output_type": "execute_result"
    }
   ],
   "source": [
    "# MAE of the Lifetimes based prediction\n",
    "mean_absolute_error(Pred_vs_Actual[\"actual_amount_spent_in_next_30_days\"],Pred_vs_Actual[\"manual_predicted_clv\"])"
   ]
  },
  {
   "cell_type": "code",
   "execution_count": 128,
   "id": "c41aebed",
   "metadata": {
    "id": "uQQ0az_hEKjZ"
   },
   "outputs": [],
   "source": [
    "Pred_vs_Actual.to_csv(\"lifetimes_based_global_datastore.csv\")"
   ]
  },
  {
   "cell_type": "code",
   "execution_count": null,
   "id": "67803c37",
   "metadata": {
    "id": "HG5zlamiDVPr"
   },
   "outputs": [],
   "source": []
  },
  {
   "cell_type": "code",
   "execution_count": null,
   "id": "68404bf5",
   "metadata": {},
   "outputs": [],
   "source": []
  }
 ],
 "metadata": {
  "kernelspec": {
   "display_name": "Python 3",
   "language": "python",
   "name": "python3"
  },
  "language_info": {
   "codemirror_mode": {
    "name": "ipython",
    "version": 3
   },
   "file_extension": ".py",
   "mimetype": "text/x-python",
   "name": "python",
   "nbconvert_exporter": "python",
   "pygments_lexer": "ipython3",
   "version": "3.8.8"
  }
 },
 "nbformat": 4,
 "nbformat_minor": 5
}
